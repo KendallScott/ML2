{
  "nbformat": 4,
  "nbformat_minor": 0,
  "metadata": {
    "colab": {
      "provenance": []
    },
    "kernelspec": {
      "name": "python3",
      "display_name": "Python 3"
    },
    "language_info": {
      "name": "python"
    }
  },
  "cells": [
    {
      "cell_type": "code",
      "source": [
        "import numpy as np"
      ],
      "metadata": {
        "id": "qmtfiiELj0_W"
      },
      "execution_count": 1,
      "outputs": []
    },
    {
      "cell_type": "code",
      "execution_count": 2,
      "metadata": {
        "id": "NyQYMgctjd5v"
      },
      "outputs": [],
      "source": [
        "list1 = [1,2,3]\n",
        "list2 = [4,5,6]\n",
        "list3 = list1.extend(list2)\n",
        "#list3 is now [1,2,3,4,5,6]\n"
      ]
    },
    {
      "cell_type": "code",
      "source": [
        "list1 = [1,2,3]\n",
        "list1"
      ],
      "metadata": {
        "colab": {
          "base_uri": "https://localhost:8080/"
        },
        "id": "IMU0cym4mlwf",
        "outputId": "839af6cf-e32c-4703-c899-015dde461025"
      },
      "execution_count": 3,
      "outputs": [
        {
          "output_type": "execute_result",
          "data": {
            "text/plain": [
              "[1, 2, 3]"
            ]
          },
          "metadata": {},
          "execution_count": 3
        }
      ]
    },
    {
      "cell_type": "code",
      "source": [
        "list2 = [4,5,6]\n",
        "list2"
      ],
      "metadata": {
        "colab": {
          "base_uri": "https://localhost:8080/"
        },
        "id": "rYmstvfimoI6",
        "outputId": "f9df56e1-2116-4d29-893b-378090158c9e"
      },
      "execution_count": 4,
      "outputs": [
        {
          "output_type": "execute_result",
          "data": {
            "text/plain": [
              "[4, 5, 6]"
            ]
          },
          "metadata": {},
          "execution_count": 4
        }
      ]
    },
    {
      "cell_type": "code",
      "source": [
        "list3 = list1.extend(list2)"
      ],
      "metadata": {
        "id": "ApR4jN3lj6VP"
      },
      "execution_count": 5,
      "outputs": []
    },
    {
      "cell_type": "code",
      "source": [
        "print(list3)"
      ],
      "metadata": {
        "colab": {
          "base_uri": "https://localhost:8080/"
        },
        "id": "rFfv3NBujvEF",
        "outputId": "b9457b84-9c19-473f-894e-2d0b74b47aac"
      },
      "execution_count": 6,
      "outputs": [
        {
          "output_type": "stream",
          "name": "stdout",
          "text": [
            "None\n"
          ]
        }
      ]
    },
    {
      "cell_type": "code",
      "source": [
        "#index() - Returns the index of a specific element in the list\n",
        "list1 = ['peanut','butter','jelly']\n",
        "butternum=list1.index('butter')\n"
      ],
      "metadata": {
        "id": "EIxCyEtHkRIi"
      },
      "execution_count": 7,
      "outputs": []
    },
    {
      "cell_type": "code",
      "source": [
        "butternum"
      ],
      "metadata": {
        "colab": {
          "base_uri": "https://localhost:8080/"
        },
        "id": "OiwHjTeykdw9",
        "outputId": "fddf5734-dd40-467b-e974-3c8dda4ef270"
      },
      "execution_count": 8,
      "outputs": [
        {
          "output_type": "execute_result",
          "data": {
            "text/plain": [
              "1"
            ]
          },
          "metadata": {},
          "execution_count": 8
        }
      ]
    },
    {
      "cell_type": "code",
      "source": [
        "list1=[1,3,5,7,9]\n",
        "list1.insert(1,2)  # list1 is now [1,2,3,5,7,9]\n",
        "list1"
      ],
      "metadata": {
        "colab": {
          "base_uri": "https://localhost:8080/"
        },
        "id": "wpAYoidgmHNA",
        "outputId": "56d6b251-7571-48c0-e1e6-7bc38cc67b11"
      },
      "execution_count": 9,
      "outputs": [
        {
          "output_type": "execute_result",
          "data": {
            "text/plain": [
              "[1, 2, 3, 5, 7, 9]"
            ]
          },
          "metadata": {},
          "execution_count": 9
        }
      ]
    },
    {
      "cell_type": "code",
      "source": [
        "print(list1)"
      ],
      "metadata": {
        "colab": {
          "base_uri": "https://localhost:8080/"
        },
        "id": "7hxA8i1umO8K",
        "outputId": "75e280de-431b-4f65-a6e8-2185a02cef9e"
      },
      "execution_count": 10,
      "outputs": [
        {
          "output_type": "stream",
          "name": "stdout",
          "text": [
            "[1, 2, 3, 5, 7, 9]\n"
          ]
        }
      ]
    },
    {
      "cell_type": "code",
      "source": [
        "list1=[1,2,3,4,5,6,7]\n",
        "list1\n"
      ],
      "metadata": {
        "colab": {
          "base_uri": "https://localhost:8080/"
        },
        "id": "Dkj1u5aZm-8Y",
        "outputId": "9cb4f52d-5c0c-48e1-e5e7-d8a59d89f423"
      },
      "execution_count": 11,
      "outputs": [
        {
          "output_type": "execute_result",
          "data": {
            "text/plain": [
              "[1, 2, 3, 4, 5, 6, 7]"
            ]
          },
          "metadata": {},
          "execution_count": 11
        }
      ]
    },
    {
      "cell_type": "code",
      "source": [
        "list2=list1.remove(3) #list 2 is now [1,2,4,5,6,7]\n",
        "list2"
      ],
      "metadata": {
        "id": "Td8n_ev1nCLN"
      },
      "execution_count": 12,
      "outputs": []
    },
    {
      "cell_type": "code",
      "source": [
        "print(list1)"
      ],
      "metadata": {
        "colab": {
          "base_uri": "https://localhost:8080/"
        },
        "id": "4lqwya0RnHW-",
        "outputId": "9434fdc3-781b-498e-ad01-5203a6c64fed"
      },
      "execution_count": 13,
      "outputs": [
        {
          "output_type": "stream",
          "name": "stdout",
          "text": [
            "[1, 2, 4, 5, 6, 7]\n"
          ]
        }
      ]
    },
    {
      "cell_type": "code",
      "source": [
        "list1=[1,3,2,4,3,5,4,6,5,7]\n",
        "print(\"Count:\", list1.count(4))\n",
        "\n"
      ],
      "metadata": {
        "colab": {
          "base_uri": "https://localhost:8080/"
        },
        "id": "y6AVqTmqoGww",
        "outputId": "066b8119-4e0d-44a7-d9d3-4dc2a800ad8e"
      },
      "execution_count": 14,
      "outputs": [
        {
          "output_type": "stream",
          "name": "stdout",
          "text": [
            "Count: 2\n"
          ]
        }
      ]
    },
    {
      "cell_type": "code",
      "source": [
        "list1=[1,2,3,4,5,6,7]\n",
        "pop3 = list1.pop(2)\n",
        "list1"
      ],
      "metadata": {
        "colab": {
          "base_uri": "https://localhost:8080/"
        },
        "id": "f9y21uTSntY6",
        "outputId": "a4580086-bf2f-4e0d-c295-fea0bf866ec7"
      },
      "execution_count": 15,
      "outputs": [
        {
          "output_type": "execute_result",
          "data": {
            "text/plain": [
              "[1, 2, 4, 5, 6, 7]"
            ]
          },
          "metadata": {},
          "execution_count": 15
        }
      ]
    },
    {
      "cell_type": "code",
      "source": [
        "list1=[1,2,3,4]\n",
        "list2=list1.reverse()\n"
      ],
      "metadata": {
        "id": "c0DDi1pUofRr"
      },
      "execution_count": 16,
      "outputs": []
    },
    {
      "cell_type": "code",
      "source": [
        "list1.reverse()"
      ],
      "metadata": {
        "id": "UmEtUiNIolTP"
      },
      "execution_count": 17,
      "outputs": []
    },
    {
      "cell_type": "code",
      "source": [
        "list1"
      ],
      "metadata": {
        "colab": {
          "base_uri": "https://localhost:8080/"
        },
        "id": "wDb5ssChoiYz",
        "outputId": "cf777e50-b850-4052-a4b7-5023aa76890e"
      },
      "execution_count": 18,
      "outputs": [
        {
          "output_type": "execute_result",
          "data": {
            "text/plain": [
              "[1, 2, 3, 4]"
            ]
          },
          "metadata": {},
          "execution_count": 18
        }
      ]
    },
    {
      "cell_type": "code",
      "source": [
        "list2"
      ],
      "metadata": {
        "id": "SX67_xJwoqQl"
      },
      "execution_count": 19,
      "outputs": []
    },
    {
      "cell_type": "code",
      "source": [
        "list1=[1,3,2,4,7,5,6]\n",
        "list2=list1.sort()\n",
        "list2\n"
      ],
      "metadata": {
        "id": "mtDBV_sto7xL"
      },
      "execution_count": 20,
      "outputs": []
    },
    {
      "cell_type": "code",
      "source": [
        "list1.sort()"
      ],
      "metadata": {
        "id": "lDZC8mrLpBbU"
      },
      "execution_count": 21,
      "outputs": []
    },
    {
      "cell_type": "code",
      "source": [
        "[x for x in [2,3]]"
      ],
      "metadata": {
        "colab": {
          "base_uri": "https://localhost:8080/"
        },
        "id": "U_BHrJAopCbU",
        "outputId": "209fe4ba-760b-4fdb-a6ed-43a3476da9ec"
      },
      "execution_count": 22,
      "outputs": [
        {
          "output_type": "execute_result",
          "data": {
            "text/plain": [
              "[2, 3]"
            ]
          },
          "metadata": {},
          "execution_count": 22
        }
      ]
    },
    {
      "cell_type": "code",
      "source": [
        "[x for x in [1,2] if x ==1]"
      ],
      "metadata": {
        "colab": {
          "base_uri": "https://localhost:8080/"
        },
        "id": "HZfR0787ppmT",
        "outputId": "1b5200ff-01f7-4400-e839-8a75688d5032"
      },
      "execution_count": 23,
      "outputs": [
        {
          "output_type": "execute_result",
          "data": {
            "text/plain": [
              "[1]"
            ]
          },
          "metadata": {},
          "execution_count": 23
        }
      ]
    },
    {
      "cell_type": "code",
      "source": [
        "[y*2 for x in [[1,2],[3,4]] for y in x]"
      ],
      "metadata": {
        "colab": {
          "base_uri": "https://localhost:8080/"
        },
        "id": "GqjPU2OgpvBo",
        "outputId": "59276103-b247-487d-b2eb-4344809f2b52"
      },
      "execution_count": 24,
      "outputs": [
        {
          "output_type": "execute_result",
          "data": {
            "text/plain": [
              "[2, 4, 6, 8]"
            ]
          },
          "metadata": {},
          "execution_count": 24
        }
      ]
    },
    {
      "cell_type": "code",
      "source": [
        "starting_tup = (\"Apple\",\"Ball\",\"Cat\")\n",
        "tup_dict=dict((x,y) for (x,y) in enumerate(starting_tup))"
      ],
      "metadata": {
        "id": "C_ws1D_arEZ6"
      },
      "execution_count": 25,
      "outputs": []
    },
    {
      "cell_type": "code",
      "source": [
        "\n",
        "starting_tup = (\"Apple\",\"Ball\",\"Cat\")\n",
        "[x for x in starting_tup]"
      ],
      "metadata": {
        "colab": {
          "base_uri": "https://localhost:8080/"
        },
        "id": "5cQG9JShro_-",
        "outputId": "e17a35dc-03c7-4122-b2b5-3d2cec1d886a"
      },
      "execution_count": 26,
      "outputs": [
        {
          "output_type": "execute_result",
          "data": {
            "text/plain": [
              "['Apple', 'Ball', 'Cat']"
            ]
          },
          "metadata": {},
          "execution_count": 26
        }
      ]
    },
    {
      "cell_type": "code",
      "source": [
        "a_dict = {'I hate':'you', 'You should':'leave'}\n",
        "a_dict"
      ],
      "metadata": {
        "colab": {
          "base_uri": "https://localhost:8080/"
        },
        "id": "oNseTmdesDHR",
        "outputId": "98b58103-4491-4bc1-c187-431ef7fd021d"
      },
      "execution_count": 27,
      "outputs": [
        {
          "output_type": "execute_result",
          "data": {
            "text/plain": [
              "{'I hate': 'you', 'You should': 'leave'}"
            ]
          },
          "metadata": {},
          "execution_count": 27
        }
      ]
    },
    {
      "cell_type": "code",
      "source": [
        "a_dict = {'I hate':'you', 'You should':'leave'}\n",
        "a_dict.keys()"
      ],
      "metadata": {
        "colab": {
          "base_uri": "https://localhost:8080/"
        },
        "id": "pli8fPfAsPaj",
        "outputId": "8bb546cf-67c1-4abe-d207-a80c05de9beb"
      },
      "execution_count": 28,
      "outputs": [
        {
          "output_type": "execute_result",
          "data": {
            "text/plain": [
              "dict_keys(['I hate', 'You should'])"
            ]
          },
          "metadata": {},
          "execution_count": 28
        }
      ]
    },
    {
      "cell_type": "code",
      "source": [
        "a_dict.clear()"
      ],
      "metadata": {
        "id": "_HmwrirotNJH"
      },
      "execution_count": 29,
      "outputs": []
    },
    {
      "cell_type": "code",
      "source": [
        "Set1 = {1,2,3,4,5}\n",
        "Set1.discard(5)"
      ],
      "metadata": {
        "id": "Mz8bh0BXtObp"
      },
      "execution_count": 30,
      "outputs": []
    },
    {
      "cell_type": "code",
      "source": [
        "Set1.intersection()\n",
        "Set1 = {1,2,3,4,5}\n",
        "Set2 = {1,0,3,0,5}"
      ],
      "metadata": {
        "id": "e0OufSiTtZU_"
      },
      "execution_count": 31,
      "outputs": []
    },
    {
      "cell_type": "code",
      "source": [
        "Set1.intersection(Set2)"
      ],
      "metadata": {
        "colab": {
          "base_uri": "https://localhost:8080/"
        },
        "id": "IK1wpoWnthNp",
        "outputId": "3a3b9621-8a4b-490f-8505-620901a23bed"
      },
      "execution_count": 32,
      "outputs": [
        {
          "output_type": "execute_result",
          "data": {
            "text/plain": [
              "{1, 3, 5}"
            ]
          },
          "metadata": {},
          "execution_count": 32
        }
      ]
    },
    {
      "cell_type": "code",
      "source": [
        "str1=\"Test String\"\n",
        "print(str1.partition(\"Str\"))"
      ],
      "metadata": {
        "colab": {
          "base_uri": "https://localhost:8080/"
        },
        "id": "ZZUM30_Z0awp",
        "outputId": "c85d5ec0-7072-46a3-b107-3b571e8e106c"
      },
      "execution_count": 33,
      "outputs": [
        {
          "output_type": "stream",
          "name": "stdout",
          "text": [
            "('Test ', 'Str', 'ing')\n"
          ]
        }
      ]
    },
    {
      "cell_type": "code",
      "source": [
        "dir()\n"
      ],
      "metadata": {
        "colab": {
          "base_uri": "https://localhost:8080/"
        },
        "id": "c0vM_R0Q2OW8",
        "outputId": "abd46d40-39c6-4318-c7d9-61841be4310c"
      },
      "execution_count": 34,
      "outputs": [
        {
          "output_type": "execute_result",
          "data": {
            "text/plain": [
              "['In',\n",
              " 'Out',\n",
              " 'Set1',\n",
              " 'Set2',\n",
              " '_',\n",
              " '_11',\n",
              " '_15',\n",
              " '_18',\n",
              " '_22',\n",
              " '_23',\n",
              " '_24',\n",
              " '_26',\n",
              " '_27',\n",
              " '_28',\n",
              " '_3',\n",
              " '_32',\n",
              " '_4',\n",
              " '_8',\n",
              " '_9',\n",
              " '__',\n",
              " '___',\n",
              " '__builtin__',\n",
              " '__builtins__',\n",
              " '__doc__',\n",
              " '__loader__',\n",
              " '__name__',\n",
              " '__package__',\n",
              " '__spec__',\n",
              " '_dh',\n",
              " '_i',\n",
              " '_i1',\n",
              " '_i10',\n",
              " '_i11',\n",
              " '_i12',\n",
              " '_i13',\n",
              " '_i14',\n",
              " '_i15',\n",
              " '_i16',\n",
              " '_i17',\n",
              " '_i18',\n",
              " '_i19',\n",
              " '_i2',\n",
              " '_i20',\n",
              " '_i21',\n",
              " '_i22',\n",
              " '_i23',\n",
              " '_i24',\n",
              " '_i25',\n",
              " '_i26',\n",
              " '_i27',\n",
              " '_i28',\n",
              " '_i29',\n",
              " '_i3',\n",
              " '_i30',\n",
              " '_i31',\n",
              " '_i32',\n",
              " '_i33',\n",
              " '_i34',\n",
              " '_i4',\n",
              " '_i5',\n",
              " '_i6',\n",
              " '_i7',\n",
              " '_i8',\n",
              " '_i9',\n",
              " '_ih',\n",
              " '_ii',\n",
              " '_iii',\n",
              " '_oh',\n",
              " 'a_dict',\n",
              " 'butternum',\n",
              " 'exit',\n",
              " 'get_ipython',\n",
              " 'list1',\n",
              " 'list2',\n",
              " 'list3',\n",
              " 'np',\n",
              " 'pop3',\n",
              " 'quit',\n",
              " 'starting_tup',\n",
              " 'str1',\n",
              " 'tup_dict']"
            ]
          },
          "metadata": {},
          "execution_count": 34
        }
      ]
    },
    {
      "cell_type": "code",
      "source": [
        "from collections import Counter"
      ],
      "metadata": {
        "id": "D4GQsyHJ22CQ"
      },
      "execution_count": 35,
      "outputs": []
    },
    {
      "cell_type": "code",
      "source": [
        "from itertools import *"
      ],
      "metadata": {
        "id": "1xx8vWU53BLi"
      },
      "execution_count": 36,
      "outputs": []
    },
    {
      "cell_type": "markdown",
      "source": [
        "1. Build your own counter object, then use the built-in Counter() and confirm they have the same values.\n",
        "2. Count how many objects have color W in them.\n",
        "3. Make histogram of colors\n",
        "# Hint from JohnP - Itertools has a permutation function that might help with these next two.\n",
        "4. Rank the pairs of colors in each order regardless of how many colors are in an order.\n",
        "5. Rank the triplets of colors in each order regardless of how many colors are in an order.\n",
        "6. Make a dictionary with key=”color” and values = “what other colors it is ordered with”.\n",
        "7. Make a graph showing the probability of having an edge between two colors based on how often they co-occur.  (a numpy square matrix)\n",
        "8. Make 10 business questions related to the questions we asked above.\n"
      ],
      "metadata": {
        "id": "_FCY5fwj3sY1"
      }
    },
    {
      "cell_type": "code",
      "source": [
        "flower_orders=['W/R/B',\n",
        "'W/R/B',\n",
        "'W/R/B',\n",
        "'W/R/B',\n",
        "'W/R/B',\n",
        "'W/R/B',\n",
        "'W/R/B',\n",
        "'W/R/B',\n",
        "'W/R/B',\n",
        "'W/R/B',\n",
        "'W/R/B',\n",
        "'W/R/B',\n",
        "'W/R/B',\n",
        "'W/R/B',\n",
        "'W/R/B',\n",
        "'W/R/B',\n",
        "'W/R/B',\n",
        "'W/R/B',\n",
        "'W/R/B',\n",
        "'W/R/B',\n",
        "'W/R/B',\n",
        "'W/R/B',\n",
        "'W/R/B',\n",
        "'W/R/B',\n",
        "'W/R/B',\n",
        "'W/R/B',\n",
        "'W/R/B',\n",
        "'W/R/B',\n",
        "'W/R/B',\n",
        "'W/R/B',\n",
        "'W/R',\n",
        "'W/R',\n",
        "'W/R',\n",
        "'W/R',\n",
        "'W/R',\n",
        "'W/R',\n",
        "'W/R',\n",
        "'W/R',\n",
        "'W/R',\n",
        "'W/R',\n",
        "'W/R',\n",
        "'W/R',\n",
        "'W/R',\n",
        "'W/R',\n",
        "'W/R',\n",
        "'W/R',\n",
        "'R/V/Y',\n",
        "'R/V/Y',\n",
        "'R/V/Y',\n",
        "'R/V/Y',\n",
        "'R/V/Y',\n",
        "'R/V/Y',\n",
        "'R/V/Y',\n",
        "'R/V/Y',\n",
        "'R/V/Y',\n",
        "'R/V/Y',\n",
        "'W/R/V',\n",
        "'W/R/V',\n",
        "'W/R/V',\n",
        "'W/R/V',\n",
        "'W/R/V',\n",
        "'W/R/V',\n",
        "'W/R/V',\n",
        "'W/R/V',\n",
        "'W/R/V',\n",
        "'W/R/V',\n",
        "'W/N/R/V',\n",
        "'W/N/R/V',\n",
        "'W/N/R/V',\n",
        "'W/N/R/V',\n",
        "'W/N/R/V',\n",
        "'W/N/R/V',\n",
        "'W/N/R/V',\n",
        "'W/N/R/V',\n",
        "'W/R/B/Y',\n",
        "'W/R/B/Y',\n",
        "'W/R/B/Y',\n",
        "'W/R/B/Y',\n",
        "'W/R/B/Y',\n",
        "'W/R/B/Y',\n",
        "'B/Y',\n",
        "'B/Y',\n",
        "'B/Y',\n",
        "'B/Y',\n",
        "'B/Y',\n",
        "'R/B/Y',\n",
        "'R/B/Y',\n",
        "'R/B/Y',\n",
        "'R/B/Y',\n",
        "'R/B/Y',\n",
        "'W/N/R/B/V/Y',\n",
        "'W/N/R/B/V/Y',\n",
        "'W/N/R/B/V/Y',\n",
        "'W/N/R/B/V/Y',\n",
        "'W/N/R/B/V/Y',\n",
        "'W/G',\n",
        "'W/G',\n",
        "'W/G',\n",
        "'W/G',\n",
        "'R/Y',\n",
        "'R/Y',\n",
        "'R/Y',\n",
        "'R/Y',\n",
        "'N/R/V/Y',\n",
        "'N/R/V/Y',\n",
        "'N/R/V/Y',\n",
        "'N/R/V/Y',\n",
        "'W/R/B/V',\n",
        "'W/R/B/V',\n",
        "'W/R/B/V',\n",
        "'W/R/B/V',\n",
        "'W/N/R/V/Y',\n",
        "'W/N/R/V/Y',\n",
        "'W/N/R/V/Y',\n",
        "'W/N/R/V/Y',\n",
        "'N/R/Y',\n",
        "'N/R/Y',\n",
        "'N/R/Y',\n",
        "'W/V/O',\n",
        "'W/V/O',\n",
        "'W/V/O',\n",
        "'W/N/R/Y',\n",
        "'W/N/R/Y',\n",
        "'W/N/R/Y',\n",
        "'R/B/V/Y',\n",
        "'R/B/V/Y',\n",
        "'R/B/V/Y',\n",
        "'W/R/V/Y',\n",
        "'W/R/V/Y',\n",
        "'W/R/V/Y',\n",
        "'W/R/B/V/Y',\n",
        "'W/R/B/V/Y',\n",
        "'W/R/B/V/Y',\n",
        "'W/N/R/B/Y',\n",
        "'W/N/R/B/Y',\n",
        "'W/N/R/B/Y',\n",
        "'R/G',\n",
        "'R/G',\n",
        "'B/V/Y',\n",
        "'B/V/Y',\n",
        "'N/B/Y',\n",
        "'N/B/Y',\n",
        "'W/B/Y',\n",
        "'W/B/Y',\n",
        "'W/N/B',\n",
        "'W/N/B',\n",
        "'W/N/R',\n",
        "'W/N/R',\n",
        "'W/N/B/Y',\n",
        "'W/N/B/Y',\n",
        "'W/B/V/Y',\n",
        "'W/B/V/Y',\n",
        "'W/N/R/B/V/Y/G/M',\n",
        "'W/N/R/B/V/Y/G/M',\n",
        "'B/R',\n",
        "'N/R',\n",
        "'V/Y',\n",
        "'V',\n",
        "'N/R/V',\n",
        "'N/V/Y',\n",
        "'R/B/O',\n",
        "'W/B/V',\n",
        "'W/V/Y',\n",
        "'W/N/R/B',\n",
        "'W/N/R/O',\n",
        "'W/N/R/G',\n",
        "'W/N/V/Y',\n",
        "'W/N/Y/M',\n",
        "'N/R/B/Y',\n",
        "'N/B/V/Y',\n",
        "'R/V/Y/O',\n",
        "'W/B/V/M',\n",
        "'W/B/V/O',\n",
        "'N/R/B/Y/M',\n",
        "'N/R/V/O/M',\n",
        "'W/N/R/Y/G',\n",
        "'N/R/B/V/Y',\n",
        "'W/R/B/V/Y/P',\n",
        "'W/N/R/B/Y/G',\n",
        "'W/N/R/B/V/O/M',\n",
        "'W/N/R/B/V/Y/M',\n",
        "'W/N/B/V/Y/G/M',\n",
        "'W/N/B/V/V/Y/P']"
      ],
      "metadata": {
        "id": "pS2gHuij3h2a"
      },
      "execution_count": 37,
      "outputs": []
    },
    {
      "cell_type": "code",
      "source": [
        "y=0\n",
        "count= []\n",
        "\n",
        "for x in flower_orders:\n",
        "  countw = flower_orders[y].count(\"/\")\n",
        "  if countw !=0:\n",
        "    count.append(countw+1)\n",
        "print(sum(count))"
      ],
      "metadata": {
        "colab": {
          "base_uri": "https://localhost:8080/"
        },
        "id": "m7FhqLZc79EP",
        "outputId": "68047f48-db88-4455-ec2a-de172b6efdba"
      },
      "execution_count": 38,
      "outputs": [
        {
          "output_type": "stream",
          "name": "stdout",
          "text": [
            "549\n"
          ]
        }
      ]
    },
    {
      "cell_type": "code",
      "source": [
        "print(len(flower_orders))"
      ],
      "metadata": {
        "colab": {
          "base_uri": "https://localhost:8080/"
        },
        "id": "bWxR6Bys-u6K",
        "outputId": "c7ea1853-5349-4f3a-dc58-33ad237c31df"
      },
      "execution_count": 39,
      "outputs": [
        {
          "output_type": "stream",
          "name": "stdout",
          "text": [
            "183\n"
          ]
        }
      ]
    },
    {
      "cell_type": "code",
      "source": [
        "y=0\n",
        "\n",
        "for x in flower_orders:\n",
        "  countw = flower_orders[y].count(\"W\")\n",
        "  if countw !=0:\n",
        "    count.append(1)\n",
        "  y+=1\n",
        "\n",
        "sum(count)"
      ],
      "metadata": {
        "colab": {
          "base_uri": "https://localhost:8080/"
        },
        "id": "t40utnCM5C1c",
        "outputId": "771e624b-7a71-4978-9e1a-9fce52f5d33b"
      },
      "execution_count": 40,
      "outputs": [
        {
          "output_type": "execute_result",
          "data": {
            "text/plain": [
              "679"
            ]
          },
          "metadata": {},
          "execution_count": 40
        }
      ]
    },
    {
      "cell_type": "code",
      "source": [
        "y=0\n",
        "\n",
        "for x in flower_orders:\n",
        "  countw = flower_orders[y].count(\"W\")\n",
        "  if countw !=0:\n",
        "    count.append(1)\n",
        "  y+=1\n",
        "\n",
        "sum(count)"
      ],
      "metadata": {
        "colab": {
          "base_uri": "https://localhost:8080/"
        },
        "id": "gwq9xIDgB_p4",
        "outputId": "71ded962-7f72-4b5a-f861-e86cb06c5abb"
      },
      "execution_count": 41,
      "outputs": [
        {
          "output_type": "execute_result",
          "data": {
            "text/plain": [
              "809"
            ]
          },
          "metadata": {},
          "execution_count": 41
        }
      ]
    },
    {
      "cell_type": "code",
      "source": [
        "import matplotlib.pyplot as plt\n"
      ],
      "metadata": {
        "id": "3ark_FOm4m3T"
      },
      "execution_count": 42,
      "outputs": []
    },
    {
      "cell_type": "code",
      "source": [
        "y = 0\n",
        "flowers = []\n",
        "\n",
        "for x in flower_orders:\n",
        "  flowers.extend(flower_orders[y].split(\"/\"))\n",
        "  y+=1"
      ],
      "metadata": {
        "id": "GT9vqLyXCn4B"
      },
      "execution_count": 43,
      "outputs": []
    },
    {
      "cell_type": "code",
      "source": [
        "len(flowers)"
      ],
      "metadata": {
        "colab": {
          "base_uri": "https://localhost:8080/"
        },
        "id": "Tc4AzEEBTqvz",
        "outputId": "cea31989-eb33-4143-df62-89cca6b4f18a"
      },
      "execution_count": 44,
      "outputs": [
        {
          "output_type": "execute_result",
          "data": {
            "text/plain": [
              "633"
            ]
          },
          "metadata": {},
          "execution_count": 44
        }
      ]
    },
    {
      "cell_type": "code",
      "source": [
        "letter_counts = Counter(flowers)\n",
        "letter_counts"
      ],
      "metadata": {
        "colab": {
          "base_uri": "https://localhost:8080/"
        },
        "id": "wVQ9g7ucCVCY",
        "outputId": "af3311cc-0119-42b4-db42-8310438053fd"
      },
      "execution_count": 45,
      "outputs": [
        {
          "output_type": "execute_result",
          "data": {
            "text/plain": [
              "Counter({'W': 130,\n",
              "         'R': 147,\n",
              "         'B': 94,\n",
              "         'V': 82,\n",
              "         'Y': 89,\n",
              "         'N': 59,\n",
              "         'G': 12,\n",
              "         'O': 9,\n",
              "         'M': 9,\n",
              "         'P': 2})"
            ]
          },
          "metadata": {},
          "execution_count": 45
        }
      ]
    },
    {
      "cell_type": "code",
      "source": [
        "num_bins = 10\n",
        "n, bins, patches = plt.hist(flowers, color = \"lightblue\", ec=\"black\", alpha=0.5)\n",
        "plt.show()"
      ],
      "metadata": {
        "colab": {
          "base_uri": "https://localhost:8080/",
          "height": 430
        },
        "id": "BPBCipJdTI1K",
        "outputId": "f31410de-239f-4396-f025-0f910612c60b"
      },
      "execution_count": 46,
      "outputs": [
        {
          "output_type": "display_data",
          "data": {
            "text/plain": [
              "<Figure size 640x480 with 1 Axes>"
            ],
            "image/png": "[encoded data removed]"
          },
          "metadata": {}
        }
      ]
    },
    {
      "cell_type": "code",
      "source": [
        "y=0\n",
        "pairs = []\n",
        "\n",
        "for x in flower_orders:\n",
        "  pairs.extend(list(pairwise(flower_orders[y].split(\"/\"))))\n",
        "  y+=1"
      ],
      "metadata": {
        "id": "QjUlmM28YALe"
      },
      "execution_count": 52,
      "outputs": []
    },
    {
      "cell_type": "code",
      "source": [
        "pairs_counts = Counter(pairs)\n",
        "pairs_counts"
      ],
      "metadata": {
        "colab": {
          "base_uri": "https://localhost:8080/"
        },
        "id": "pb4a2AXPb6gJ",
        "outputId": "e0c0aa81-7884-4ba0-90d6-58a92ea9292d"
      },
      "execution_count": 51,
      "outputs": [
        {
          "output_type": "execute_result",
          "data": {
            "text/plain": [
              "Counter({('W', 'R'): 73,\n",
              "         ('R', 'B'): 70,\n",
              "         ('R', 'V'): 42,\n",
              "         ('V', 'Y'): 49,\n",
              "         ('W', 'N'): 42,\n",
              "         ('N', 'R'): 47,\n",
              "         ('B', 'Y'): 28,\n",
              "         ('B', 'V'): 31,\n",
              "         ('W', 'G'): 4,\n",
              "         ('R', 'Y'): 11,\n",
              "         ('W', 'V'): 4,\n",
              "         ('V', 'O'): 6,\n",
              "         ('R', 'G'): 3,\n",
              "         ('N', 'B'): 9,\n",
              "         ('W', 'B'): 7,\n",
              "         ('Y', 'G'): 5,\n",
              "         ('G', 'M'): 3,\n",
              "         ('B', 'R'): 1,\n",
              "         ('N', 'V'): 2,\n",
              "         ('B', 'O'): 1,\n",
              "         ('R', 'O'): 1,\n",
              "         ('N', 'Y'): 1,\n",
              "         ('Y', 'M'): 3,\n",
              "         ('Y', 'O'): 1,\n",
              "         ('V', 'M'): 1,\n",
              "         ('O', 'M'): 2,\n",
              "         ('Y', 'P'): 2,\n",
              "         ('V', 'V'): 1})"
            ]
          },
          "metadata": {},
          "execution_count": 51
        }
      ]
    },
    {
      "cell_type": "code",
      "source": [
        "y=0\n",
        "pairs = []\n",
        "\n",
        "for x in flower_orders:\n",
        "  pairs.extend((list(pairwise(flower_orders[y].split(\"/\")))))\n",
        "  y+=1"
      ],
      "metadata": {
        "id": "ehmtKYAnceFS"
      },
      "execution_count": 66,
      "outputs": []
    },
    {
      "cell_type": "code",
      "source": [
        "pairs"
      ],
      "metadata": {
        "colab": {
          "base_uri": "https://localhost:8080/"
        },
        "id": "Ng6PXN6Pc6vo",
        "outputId": "f56aaf01-294b-4777-af0e-6aeeafd7c397"
      },
      "execution_count": 67,
      "outputs": [
        {
          "output_type": "execute_result",
          "data": {
            "text/plain": [
              "[('W', 'R'),\n",
              " ('R', 'B'),\n",
              " ('W', 'R'),\n",
              " ('R', 'B'),\n",
              " ('W', 'R'),\n",
              " ('R', 'B'),\n",
              " ('W', 'R'),\n",
              " ('R', 'B'),\n",
              " ('W', 'R'),\n",
              " ('R', 'B'),\n",
              " ('W', 'R'),\n",
              " ('R', 'B'),\n",
              " ('W', 'R'),\n",
              " ('R', 'B'),\n",
              " ('W', 'R'),\n",
              " ('R', 'B'),\n",
              " ('W', 'R'),\n",
              " ('R', 'B'),\n",
              " ('W', 'R'),\n",
              " ('R', 'B'),\n",
              " ('W', 'R'),\n",
              " ('R', 'B'),\n",
              " ('W', 'R'),\n",
              " ('R', 'B'),\n",
              " ('W', 'R'),\n",
              " ('R', 'B'),\n",
              " ('W', 'R'),\n",
              " ('R', 'B'),\n",
              " ('W', 'R'),\n",
              " ('R', 'B'),\n",
              " ('W', 'R'),\n",
              " ('R', 'B'),\n",
              " ('W', 'R'),\n",
              " ('R', 'B'),\n",
              " ('W', 'R'),\n",
              " ('R', 'B'),\n",
              " ('W', 'R'),\n",
              " ('R', 'B'),\n",
              " ('W', 'R'),\n",
              " ('R', 'B'),\n",
              " ('W', 'R'),\n",
              " ('R', 'B'),\n",
              " ('W', 'R'),\n",
              " ('R', 'B'),\n",
              " ('W', 'R'),\n",
              " ('R', 'B'),\n",
              " ('W', 'R'),\n",
              " ('R', 'B'),\n",
              " ('W', 'R'),\n",
              " ('R', 'B'),\n",
              " ('W', 'R'),\n",
              " ('R', 'B'),\n",
              " ('W', 'R'),\n",
              " ('R', 'B'),\n",
              " ('W', 'R'),\n",
              " ('R', 'B'),\n",
              " ('W', 'R'),\n",
              " ('R', 'B'),\n",
              " ('W', 'R'),\n",
              " ('R', 'B'),\n",
              " ('W', 'R'),\n",
              " ('W', 'R'),\n",
              " ('W', 'R'),\n",
              " ('W', 'R'),\n",
              " ('W', 'R'),\n",
              " ('W', 'R'),\n",
              " ('W', 'R'),\n",
              " ('W', 'R'),\n",
              " ('W', 'R'),\n",
              " ('W', 'R'),\n",
              " ('W', 'R'),\n",
              " ('W', 'R'),\n",
              " ('W', 'R'),\n",
              " ('W', 'R'),\n",
              " ('W', 'R'),\n",
              " ('W', 'R'),\n",
              " ('R', 'V'),\n",
              " ('V', 'Y'),\n",
              " ('R', 'V'),\n",
              " ('V', 'Y'),\n",
              " ('R', 'V'),\n",
              " ('V', 'Y'),\n",
              " ('R', 'V'),\n",
              " ('V', 'Y'),\n",
              " ('R', 'V'),\n",
              " ('V', 'Y'),\n",
              " ('R', 'V'),\n",
              " ('V', 'Y'),\n",
              " ('R', 'V'),\n",
              " ('V', 'Y'),\n",
              " ('R', 'V'),\n",
              " ('V', 'Y'),\n",
              " ('R', 'V'),\n",
              " ('V', 'Y'),\n",
              " ('R', 'V'),\n",
              " ('V', 'Y'),\n",
              " ('W', 'R'),\n",
              " ('R', 'V'),\n",
              " ('W', 'R'),\n",
              " ('R', 'V'),\n",
              " ('W', 'R'),\n",
              " ('R', 'V'),\n",
              " ('W', 'R'),\n",
              " ('R', 'V'),\n",
              " ('W', 'R'),\n",
              " ('R', 'V'),\n",
              " ('W', 'R'),\n",
              " ('R', 'V'),\n",
              " ('W', 'R'),\n",
              " ('R', 'V'),\n",
              " ('W', 'R'),\n",
              " ('R', 'V'),\n",
              " ('W', 'R'),\n",
              " ('R', 'V'),\n",
              " ('W', 'R'),\n",
              " ('R', 'V'),\n",
              " ('W', 'N'),\n",
              " ('N', 'R'),\n",
              " ('R', 'V'),\n",
              " ('W', 'N'),\n",
              " ('N', 'R'),\n",
              " ('R', 'V'),\n",
              " ('W', 'N'),\n",
              " ('N', 'R'),\n",
              " ('R', 'V'),\n",
              " ('W', 'N'),\n",
              " ('N', 'R'),\n",
              " ('R', 'V'),\n",
              " ('W', 'N'),\n",
              " ('N', 'R'),\n",
              " ('R', 'V'),\n",
              " ('W', 'N'),\n",
              " ('N', 'R'),\n",
              " ('R', 'V'),\n",
              " ('W', 'N'),\n",
              " ('N', 'R'),\n",
              " ('R', 'V'),\n",
              " ('W', 'N'),\n",
              " ('N', 'R'),\n",
              " ('R', 'V'),\n",
              " ('W', 'R'),\n",
              " ('R', 'B'),\n",
              " ('B', 'Y'),\n",
              " ('W', 'R'),\n",
              " ('R', 'B'),\n",
              " ('B', 'Y'),\n",
              " ('W', 'R'),\n",
              " ('R', 'B'),\n",
              " ('B', 'Y'),\n",
              " ('W', 'R'),\n",
              " ('R', 'B'),\n",
              " ('B', 'Y'),\n",
              " ('W', 'R'),\n",
              " ('R', 'B'),\n",
              " ('B', 'Y'),\n",
              " ('W', 'R'),\n",
              " ('R', 'B'),\n",
              " ('B', 'Y'),\n",
              " ('B', 'Y'),\n",
              " ('B', 'Y'),\n",
              " ('B', 'Y'),\n",
              " ('B', 'Y'),\n",
              " ('B', 'Y'),\n",
              " ('R', 'B'),\n",
              " ('B', 'Y'),\n",
              " ('R', 'B'),\n",
              " ('B', 'Y'),\n",
              " ('R', 'B'),\n",
              " ('B', 'Y'),\n",
              " ('R', 'B'),\n",
              " ('B', 'Y'),\n",
              " ('R', 'B'),\n",
              " ('B', 'Y'),\n",
              " ('W', 'N'),\n",
              " ('N', 'R'),\n",
              " ('R', 'B'),\n",
              " ('B', 'V'),\n",
              " ('V', 'Y'),\n",
              " ('W', 'N'),\n",
              " ('N', 'R'),\n",
              " ('R', 'B'),\n",
              " ('B', 'V'),\n",
              " ('V', 'Y'),\n",
              " ('W', 'N'),\n",
              " ('N', 'R'),\n",
              " ('R', 'B'),\n",
              " ('B', 'V'),\n",
              " ('V', 'Y'),\n",
              " ('W', 'N'),\n",
              " ('N', 'R'),\n",
              " ('R', 'B'),\n",
              " ('B', 'V'),\n",
              " ('V', 'Y'),\n",
              " ('W', 'N'),\n",
              " ('N', 'R'),\n",
              " ('R', 'B'),\n",
              " ('B', 'V'),\n",
              " ('V', 'Y'),\n",
              " ('W', 'G'),\n",
              " ('W', 'G'),\n",
              " ('W', 'G'),\n",
              " ('W', 'G'),\n",
              " ('R', 'Y'),\n",
              " ('R', 'Y'),\n",
              " ('R', 'Y'),\n",
              " ('R', 'Y'),\n",
              " ('N', 'R'),\n",
              " ('R', 'V'),\n",
              " ('V', 'Y'),\n",
              " ('N', 'R'),\n",
              " ('R', 'V'),\n",
              " ('V', 'Y'),\n",
              " ('N', 'R'),\n",
              " ('R', 'V'),\n",
              " ('V', 'Y'),\n",
              " ('N', 'R'),\n",
              " ('R', 'V'),\n",
              " ('V', 'Y'),\n",
              " ('W', 'R'),\n",
              " ('R', 'B'),\n",
              " ('B', 'V'),\n",
              " ('W', 'R'),\n",
              " ('R', 'B'),\n",
              " ('B', 'V'),\n",
              " ('W', 'R'),\n",
              " ('R', 'B'),\n",
              " ('B', 'V'),\n",
              " ('W', 'R'),\n",
              " ('R', 'B'),\n",
              " ('B', 'V'),\n",
              " ('W', 'N'),\n",
              " ('N', 'R'),\n",
              " ('R', 'V'),\n",
              " ('V', 'Y'),\n",
              " ('W', 'N'),\n",
              " ('N', 'R'),\n",
              " ('R', 'V'),\n",
              " ('V', 'Y'),\n",
              " ('W', 'N'),\n",
              " ('N', 'R'),\n",
              " ('R', 'V'),\n",
              " ('V', 'Y'),\n",
              " ('W', 'N'),\n",
              " ('N', 'R'),\n",
              " ('R', 'V'),\n",
              " ('V', 'Y'),\n",
              " ('N', 'R'),\n",
              " ('R', 'Y'),\n",
              " ('N', 'R'),\n",
              " ('R', 'Y'),\n",
              " ('N', 'R'),\n",
              " ('R', 'Y'),\n",
              " ('W', 'V'),\n",
              " ('V', 'O'),\n",
              " ('W', 'V'),\n",
              " ('V', 'O'),\n",
              " ('W', 'V'),\n",
              " ('V', 'O'),\n",
              " ('W', 'N'),\n",
              " ('N', 'R'),\n",
              " ('R', 'Y'),\n",
              " ('W', 'N'),\n",
              " ('N', 'R'),\n",
              " ('R', 'Y'),\n",
              " ('W', 'N'),\n",
              " ('N', 'R'),\n",
              " ('R', 'Y'),\n",
              " ('R', 'B'),\n",
              " ('B', 'V'),\n",
              " ('V', 'Y'),\n",
              " ('R', 'B'),\n",
              " ('B', 'V'),\n",
              " ('V', 'Y'),\n",
              " ('R', 'B'),\n",
              " ('B', 'V'),\n",
              " ('V', 'Y'),\n",
              " ('W', 'R'),\n",
              " ('R', 'V'),\n",
              " ('V', 'Y'),\n",
              " ('W', 'R'),\n",
              " ('R', 'V'),\n",
              " ('V', 'Y'),\n",
              " ('W', 'R'),\n",
              " ('R', 'V'),\n",
              " ('V', 'Y'),\n",
              " ('W', 'R'),\n",
              " ('R', 'B'),\n",
              " ('B', 'V'),\n",
              " ('V', 'Y'),\n",
              " ('W', 'R'),\n",
              " ('R', 'B'),\n",
              " ('B', 'V'),\n",
              " ('V', 'Y'),\n",
              " ('W', 'R'),\n",
              " ('R', 'B'),\n",
              " ('B', 'V'),\n",
              " ('V', 'Y'),\n",
              " ('W', 'N'),\n",
              " ('N', 'R'),\n",
              " ('R', 'B'),\n",
              " ('B', 'Y'),\n",
              " ('W', 'N'),\n",
              " ('N', 'R'),\n",
              " ('R', 'B'),\n",
              " ('B', 'Y'),\n",
              " ('W', 'N'),\n",
              " ('N', 'R'),\n",
              " ('R', 'B'),\n",
              " ('B', 'Y'),\n",
              " ('R', 'G'),\n",
              " ('R', 'G'),\n",
              " ('B', 'V'),\n",
              " ('V', 'Y'),\n",
              " ('B', 'V'),\n",
              " ('V', 'Y'),\n",
              " ('N', 'B'),\n",
              " ('B', 'Y'),\n",
              " ('N', 'B'),\n",
              " ('B', 'Y'),\n",
              " ('W', 'B'),\n",
              " ('B', 'Y'),\n",
              " ('W', 'B'),\n",
              " ('B', 'Y'),\n",
              " ('W', 'N'),\n",
              " ('N', 'B'),\n",
              " ('W', 'N'),\n",
              " ('N', 'B'),\n",
              " ('W', 'N'),\n",
              " ('N', 'R'),\n",
              " ('W', 'N'),\n",
              " ('N', 'R'),\n",
              " ('W', 'N'),\n",
              " ('N', 'B'),\n",
              " ('B', 'Y'),\n",
              " ('W', 'N'),\n",
              " ('N', 'B'),\n",
              " ('B', 'Y'),\n",
              " ('W', 'B'),\n",
              " ('B', 'V'),\n",
              " ('V', 'Y'),\n",
              " ('W', 'B'),\n",
              " ('B', 'V'),\n",
              " ('V', 'Y'),\n",
              " ('W', 'N'),\n",
              " ('N', 'R'),\n",
              " ('R', 'B'),\n",
              " ('B', 'V'),\n",
              " ('V', 'Y'),\n",
              " ('Y', 'G'),\n",
              " ('G', 'M'),\n",
              " ('W', 'N'),\n",
              " ('N', 'R'),\n",
              " ('R', 'B'),\n",
              " ('B', 'V'),\n",
              " ('V', 'Y'),\n",
              " ('Y', 'G'),\n",
              " ('G', 'M'),\n",
              " ('B', 'R'),\n",
              " ('N', 'R'),\n",
              " ('V', 'Y'),\n",
              " ('N', 'R'),\n",
              " ('R', 'V'),\n",
              " ('N', 'V'),\n",
              " ('V', 'Y'),\n",
              " ('R', 'B'),\n",
              " ('B', 'O'),\n",
              " ('W', 'B'),\n",
              " ('B', 'V'),\n",
              " ('W', 'V'),\n",
              " ('V', 'Y'),\n",
              " ('W', 'N'),\n",
              " ('N', 'R'),\n",
              " ('R', 'B'),\n",
              " ('W', 'N'),\n",
              " ('N', 'R'),\n",
              " ('R', 'O'),\n",
              " ('W', 'N'),\n",
              " ('N', 'R'),\n",
              " ('R', 'G'),\n",
              " ('W', 'N'),\n",
              " ('N', 'V'),\n",
              " ('V', 'Y'),\n",
              " ('W', 'N'),\n",
              " ('N', 'Y'),\n",
              " ('Y', 'M'),\n",
              " ('N', 'R'),\n",
              " ('R', 'B'),\n",
              " ('B', 'Y'),\n",
              " ('N', 'B'),\n",
              " ('B', 'V'),\n",
              " ('V', 'Y'),\n",
              " ('R', 'V'),\n",
              " ('V', 'Y'),\n",
              " ('Y', 'O'),\n",
              " ('W', 'B'),\n",
              " ('B', 'V'),\n",
              " ('V', 'M'),\n",
              " ('W', 'B'),\n",
              " ('B', 'V'),\n",
              " ('V', 'O'),\n",
              " ('N', 'R'),\n",
              " ('R', 'B'),\n",
              " ('B', 'Y'),\n",
              " ('Y', 'M'),\n",
              " ('N', 'R'),\n",
              " ('R', 'V'),\n",
              " ('V', 'O'),\n",
              " ('O', 'M'),\n",
              " ('W', 'N'),\n",
              " ('N', 'R'),\n",
              " ('R', 'Y'),\n",
              " ('Y', 'G'),\n",
              " ('N', 'R'),\n",
              " ('R', 'B'),\n",
              " ('B', 'V'),\n",
              " ('V', 'Y'),\n",
              " ('W', 'R'),\n",
              " ('R', 'B'),\n",
              " ('B', 'V'),\n",
              " ('V', 'Y'),\n",
              " ('Y', 'P'),\n",
              " ('W', 'N'),\n",
              " ('N', 'R'),\n",
              " ('R', 'B'),\n",
              " ('B', 'Y'),\n",
              " ('Y', 'G'),\n",
              " ('W', 'N'),\n",
              " ('N', 'R'),\n",
              " ('R', 'B'),\n",
              " ('B', 'V'),\n",
              " ('V', 'O'),\n",
              " ('O', 'M'),\n",
              " ('W', 'N'),\n",
              " ('N', 'R'),\n",
              " ('R', 'B'),\n",
              " ('B', 'V'),\n",
              " ('V', 'Y'),\n",
              " ('Y', 'M'),\n",
              " ('W', 'N'),\n",
              " ('N', 'B'),\n",
              " ('B', 'V'),\n",
              " ('V', 'Y'),\n",
              " ('Y', 'G'),\n",
              " ('G', 'M'),\n",
              " ('W', 'N'),\n",
              " ('N', 'B'),\n",
              " ('B', 'V'),\n",
              " ('V', 'V'),\n",
              " ('V', 'Y'),\n",
              " ('Y', 'P')]"
            ]
          },
          "metadata": {},
          "execution_count": 67
        }
      ]
    },
    {
      "cell_type": "code",
      "source": [
        "y = 0\n",
        "flowers = []\n",
        "pairs = []\n",
        "for x in flower_orders:\n",
        "  flowers = flower_orders[y].split(\"/\")\n",
        "  pairs.extend(list(permutations(flowers,3)))\n",
        "\n",
        "  y+=1"
      ],
      "metadata": {
        "id": "FI8C10xzdQFz"
      },
      "execution_count": 96,
      "outputs": []
    },
    {
      "cell_type": "code",
      "source": [
        "Counter(pairs)\n"
      ],
      "metadata": {
        "colab": {
          "base_uri": "https://localhost:8080/"
        },
        "id": "nGzD4dQKgPd2",
        "outputId": "d4ce86e6-b9f3-4d45-8e83-9c058475097f"
      },
      "execution_count": 100,
      "outputs": [
        {
          "output_type": "execute_result",
          "data": {
            "text/plain": [
              "Counter({('W', 'R', 'B'): 58,\n",
              "         ('W', 'B', 'R'): 58,\n",
              "         ('R', 'W', 'B'): 58,\n",
              "         ('R', 'B', 'W'): 58,\n",
              "         ('B', 'W', 'R'): 58,\n",
              "         ('B', 'R', 'W'): 58,\n",
              "         ('R', 'V', 'Y'): 38,\n",
              "         ('R', 'Y', 'V'): 38,\n",
              "         ('V', 'R', 'Y'): 38,\n",
              "         ('V', 'Y', 'R'): 38,\n",
              "         ('Y', 'R', 'V'): 38,\n",
              "         ('Y', 'V', 'R'): 38,\n",
              "         ('W', 'R', 'V'): 42,\n",
              "         ('W', 'V', 'R'): 42,\n",
              "         ('R', 'W', 'V'): 42,\n",
              "         ('R', 'V', 'W'): 42,\n",
              "         ('V', 'W', 'R'): 42,\n",
              "         ('V', 'R', 'W'): 42,\n",
              "         ('W', 'N', 'R'): 34,\n",
              "         ('W', 'N', 'V'): 25,\n",
              "         ('W', 'R', 'N'): 34,\n",
              "         ('W', 'V', 'N'): 25,\n",
              "         ('N', 'W', 'R'): 34,\n",
              "         ('N', 'W', 'V'): 25,\n",
              "         ('N', 'R', 'W'): 34,\n",
              "         ('N', 'R', 'V'): 28,\n",
              "         ('N', 'V', 'W'): 25,\n",
              "         ('N', 'V', 'R'): 28,\n",
              "         ('R', 'W', 'N'): 34,\n",
              "         ('R', 'N', 'W'): 34,\n",
              "         ('R', 'N', 'V'): 28,\n",
              "         ('R', 'V', 'N'): 28,\n",
              "         ('V', 'W', 'N'): 25,\n",
              "         ('V', 'N', 'W'): 25,\n",
              "         ('V', 'N', 'R'): 28,\n",
              "         ('V', 'R', 'N'): 28,\n",
              "         ('W', 'R', 'Y'): 33,\n",
              "         ('W', 'B', 'Y'): 30,\n",
              "         ('W', 'Y', 'R'): 33,\n",
              "         ('W', 'Y', 'B'): 30,\n",
              "         ('R', 'W', 'Y'): 33,\n",
              "         ('R', 'B', 'Y'): 33,\n",
              "         ('R', 'Y', 'W'): 33,\n",
              "         ('R', 'Y', 'B'): 33,\n",
              "         ('B', 'W', 'Y'): 30,\n",
              "         ('B', 'R', 'Y'): 33,\n",
              "         ('B', 'Y', 'W'): 30,\n",
              "         ('B', 'Y', 'R'): 33,\n",
              "         ('Y', 'W', 'R'): 33,\n",
              "         ('Y', 'W', 'B'): 30,\n",
              "         ('Y', 'R', 'W'): 33,\n",
              "         ('Y', 'R', 'B'): 33,\n",
              "         ('Y', 'B', 'W'): 30,\n",
              "         ('Y', 'B', 'R'): 33,\n",
              "         ('W', 'N', 'B'): 20,\n",
              "         ('W', 'N', 'Y'): 26,\n",
              "         ('W', 'B', 'N'): 20,\n",
              "         ('W', 'B', 'V'): 25,\n",
              "         ('W', 'V', 'B'): 25,\n",
              "         ('W', 'V', 'Y'): 26,\n",
              "         ('W', 'Y', 'N'): 26,\n",
              "         ('W', 'Y', 'V'): 26,\n",
              "         ('N', 'W', 'B'): 20,\n",
              "         ('N', 'W', 'Y'): 26,\n",
              "         ('N', 'R', 'B'): 17,\n",
              "         ('N', 'R', 'Y'): 30,\n",
              "         ('N', 'B', 'W'): 20,\n",
              "         ('N', 'B', 'R'): 17,\n",
              "         ('N', 'B', 'V'): 14,\n",
              "         ('N', 'B', 'Y'): 22,\n",
              "         ('N', 'V', 'B'): 14,\n",
              "         ('N', 'V', 'Y'): 23,\n",
              "         ('N', 'Y', 'W'): 26,\n",
              "         ('N', 'Y', 'R'): 30,\n",
              "         ('N', 'Y', 'B'): 22,\n",
              "         ('N', 'Y', 'V'): 23,\n",
              "         ('R', 'N', 'B'): 17,\n",
              "         ('R', 'N', 'Y'): 30,\n",
              "         ('R', 'B', 'N'): 17,\n",
              "         ('R', 'B', 'V'): 21,\n",
              "         ('R', 'V', 'B'): 21,\n",
              "         ('R', 'Y', 'N'): 30,\n",
              "         ('B', 'W', 'N'): 20,\n",
              "         ('B', 'W', 'V'): 25,\n",
              "         ('B', 'N', 'W'): 20,\n",
              "         ('B', 'N', 'R'): 17,\n",
              "         ('B', 'N', 'V'): 14,\n",
              "         ('B', 'N', 'Y'): 22,\n",
              "         ('B', 'R', 'N'): 17,\n",
              "         ('B', 'R', 'V'): 21,\n",
              "         ('B', 'V', 'W'): 25,\n",
              "         ('B', 'V', 'N'): 14,\n",
              "         ('B', 'V', 'R'): 21,\n",
              "         ('B', 'V', 'Y'): 24,\n",
              "         ('B', 'Y', 'N'): 22,\n",
              "         ('B', 'Y', 'V'): 24,\n",
              "         ('V', 'W', 'B'): 25,\n",
              "         ('V', 'W', 'Y'): 26,\n",
              "         ('V', 'N', 'B'): 14,\n",
              "         ('V', 'N', 'Y'): 23,\n",
              "         ('V', 'R', 'B'): 21,\n",
              "         ('V', 'B', 'W'): 25,\n",
              "         ('V', 'B', 'N'): 14,\n",
              "         ('V', 'B', 'R'): 21,\n",
              "         ('V', 'B', 'Y'): 24,\n",
              "         ('V', 'Y', 'W'): 26,\n",
              "         ('V', 'Y', 'N'): 23,\n",
              "         ('V', 'Y', 'B'): 24,\n",
              "         ('Y', 'W', 'N'): 26,\n",
              "         ('Y', 'W', 'V'): 26,\n",
              "         ('Y', 'N', 'W'): 26,\n",
              "         ('Y', 'N', 'R'): 30,\n",
              "         ('Y', 'N', 'B'): 22,\n",
              "         ('Y', 'N', 'V'): 23,\n",
              "         ('Y', 'R', 'N'): 30,\n",
              "         ('Y', 'B', 'N'): 22,\n",
              "         ('Y', 'B', 'V'): 24,\n",
              "         ('Y', 'V', 'W'): 26,\n",
              "         ('Y', 'V', 'N'): 23,\n",
              "         ('Y', 'V', 'B'): 24,\n",
              "         ('W', 'V', 'O'): 5,\n",
              "         ('W', 'O', 'V'): 5,\n",
              "         ('V', 'W', 'O'): 5,\n",
              "         ('V', 'O', 'W'): 5,\n",
              "         ('O', 'W', 'V'): 5,\n",
              "         ('O', 'V', 'W'): 5,\n",
              "         ('W', 'N', 'G'): 6,\n",
              "         ('W', 'N', 'M'): 6,\n",
              "         ('W', 'R', 'G'): 5,\n",
              "         ('W', 'R', 'M'): 4,\n",
              "         ('W', 'B', 'G'): 4,\n",
              "         ('W', 'B', 'M'): 6,\n",
              "         ('W', 'V', 'G'): 3,\n",
              "         ('W', 'V', 'M'): 6,\n",
              "         ('W', 'Y', 'G'): 5,\n",
              "         ('W', 'Y', 'M'): 5,\n",
              "         ('W', 'G', 'N'): 6,\n",
              "         ('W', 'G', 'R'): 5,\n",
              "         ('W', 'G', 'B'): 4,\n",
              "         ('W', 'G', 'V'): 3,\n",
              "         ('W', 'G', 'Y'): 5,\n",
              "         ('W', 'G', 'M'): 3,\n",
              "         ('W', 'M', 'N'): 6,\n",
              "         ('W', 'M', 'R'): 4,\n",
              "         ('W', 'M', 'B'): 6,\n",
              "         ('W', 'M', 'V'): 6,\n",
              "         ('W', 'M', 'Y'): 5,\n",
              "         ('W', 'M', 'G'): 3,\n",
              "         ('N', 'W', 'G'): 6,\n",
              "         ('N', 'W', 'M'): 6,\n",
              "         ('N', 'R', 'G'): 5,\n",
              "         ('N', 'R', 'M'): 6,\n",
              "         ('N', 'B', 'G'): 4,\n",
              "         ('N', 'B', 'M'): 6,\n",
              "         ('N', 'V', 'G'): 3,\n",
              "         ('N', 'V', 'M'): 6,\n",
              "         ('N', 'Y', 'G'): 5,\n",
              "         ('N', 'Y', 'M'): 6,\n",
              "         ('N', 'G', 'W'): 6,\n",
              "         ('N', 'G', 'R'): 5,\n",
              "         ('N', 'G', 'B'): 4,\n",
              "         ('N', 'G', 'V'): 3,\n",
              "         ('N', 'G', 'Y'): 5,\n",
              "         ('N', 'G', 'M'): 3,\n",
              "         ('N', 'M', 'W'): 6,\n",
              "         ('N', 'M', 'R'): 6,\n",
              "         ('N', 'M', 'B'): 6,\n",
              "         ('N', 'M', 'V'): 6,\n",
              "         ('N', 'M', 'Y'): 6,\n",
              "         ('N', 'M', 'G'): 3,\n",
              "         ('R', 'W', 'G'): 5,\n",
              "         ('R', 'W', 'M'): 4,\n",
              "         ('R', 'N', 'G'): 5,\n",
              "         ('R', 'N', 'M'): 6,\n",
              "         ('R', 'B', 'G'): 3,\n",
              "         ('R', 'B', 'M'): 5,\n",
              "         ('R', 'V', 'G'): 2,\n",
              "         ('R', 'V', 'M'): 5,\n",
              "         ('R', 'Y', 'G'): 4,\n",
              "         ('R', 'Y', 'M'): 4,\n",
              "         ('R', 'G', 'W'): 5,\n",
              "         ('R', 'G', 'N'): 5,\n",
              "         ('R', 'G', 'B'): 3,\n",
              "         ('R', 'G', 'V'): 2,\n",
              "         ('R', 'G', 'Y'): 4,\n",
              "         ('R', 'G', 'M'): 2,\n",
              "         ('R', 'M', 'W'): 4,\n",
              "         ('R', 'M', 'N'): 6,\n",
              "         ('R', 'M', 'B'): 5,\n",
              "         ('R', 'M', 'V'): 5,\n",
              "         ('R', 'M', 'Y'): 4,\n",
              "         ('R', 'M', 'G'): 2,\n",
              "         ('B', 'W', 'G'): 4,\n",
              "         ('B', 'W', 'M'): 6,\n",
              "         ('B', 'N', 'G'): 4,\n",
              "         ('B', 'N', 'M'): 6,\n",
              "         ('B', 'R', 'G'): 3,\n",
              "         ('B', 'R', 'M'): 5,\n",
              "         ('B', 'V', 'G'): 3,\n",
              "         ('B', 'V', 'M'): 6,\n",
              "         ('B', 'Y', 'G'): 4,\n",
              "         ('B', 'Y', 'M'): 5,\n",
              "         ('B', 'G', 'W'): 4,\n",
              "         ('B', 'G', 'N'): 4,\n",
              "         ('B', 'G', 'R'): 3,\n",
              "         ('B', 'G', 'V'): 3,\n",
              "         ('B', 'G', 'Y'): 4,\n",
              "         ('B', 'G', 'M'): 3,\n",
              "         ('B', 'M', 'W'): 6,\n",
              "         ('B', 'M', 'N'): 6,\n",
              "         ('B', 'M', 'R'): 5,\n",
              "         ('B', 'M', 'V'): 6,\n",
              "         ('B', 'M', 'Y'): 5,\n",
              "         ('B', 'M', 'G'): 3,\n",
              "         ('V', 'W', 'G'): 3,\n",
              "         ('V', 'W', 'M'): 6,\n",
              "         ('V', 'N', 'G'): 3,\n",
              "         ('V', 'N', 'M'): 6,\n",
              "         ('V', 'R', 'G'): 2,\n",
              "         ('V', 'R', 'M'): 5,\n",
              "         ('V', 'B', 'G'): 3,\n",
              "         ('V', 'B', 'M'): 6,\n",
              "         ('V', 'Y', 'G'): 3,\n",
              "         ('V', 'Y', 'M'): 4,\n",
              "         ('V', 'G', 'W'): 3,\n",
              "         ('V', 'G', 'N'): 3,\n",
              "         ('V', 'G', 'R'): 2,\n",
              "         ('V', 'G', 'B'): 3,\n",
              "         ('V', 'G', 'Y'): 3,\n",
              "         ('V', 'G', 'M'): 3,\n",
              "         ('V', 'M', 'W'): 6,\n",
              "         ('V', 'M', 'N'): 6,\n",
              "         ('V', 'M', 'R'): 5,\n",
              "         ('V', 'M', 'B'): 6,\n",
              "         ('V', 'M', 'Y'): 4,\n",
              "         ('V', 'M', 'G'): 3,\n",
              "         ('Y', 'W', 'G'): 5,\n",
              "         ('Y', 'W', 'M'): 5,\n",
              "         ('Y', 'N', 'G'): 5,\n",
              "         ('Y', 'N', 'M'): 6,\n",
              "         ('Y', 'R', 'G'): 4,\n",
              "         ('Y', 'R', 'M'): 4,\n",
              "         ('Y', 'B', 'G'): 4,\n",
              "         ('Y', 'B', 'M'): 5,\n",
              "         ('Y', 'V', 'G'): 3,\n",
              "         ('Y', 'V', 'M'): 4,\n",
              "         ('Y', 'G', 'W'): 5,\n",
              "         ('Y', 'G', 'N'): 5,\n",
              "         ('Y', 'G', 'R'): 4,\n",
              "         ('Y', 'G', 'B'): 4,\n",
              "         ('Y', 'G', 'V'): 3,\n",
              "         ('Y', 'G', 'M'): 3,\n",
              "         ('Y', 'M', 'W'): 5,\n",
              "         ('Y', 'M', 'N'): 6,\n",
              "         ('Y', 'M', 'R'): 4,\n",
              "         ('Y', 'M', 'B'): 5,\n",
              "         ('Y', 'M', 'V'): 4,\n",
              "         ('Y', 'M', 'G'): 3,\n",
              "         ('G', 'W', 'N'): 6,\n",
              "         ('G', 'W', 'R'): 5,\n",
              "         ('G', 'W', 'B'): 4,\n",
              "         ('G', 'W', 'V'): 3,\n",
              "         ('G', 'W', 'Y'): 5,\n",
              "         ('G', 'W', 'M'): 3,\n",
              "         ('G', 'N', 'W'): 6,\n",
              "         ('G', 'N', 'R'): 5,\n",
              "         ('G', 'N', 'B'): 4,\n",
              "         ('G', 'N', 'V'): 3,\n",
              "         ('G', 'N', 'Y'): 5,\n",
              "         ('G', 'N', 'M'): 3,\n",
              "         ('G', 'R', 'W'): 5,\n",
              "         ('G', 'R', 'N'): 5,\n",
              "         ('G', 'R', 'B'): 3,\n",
              "         ('G', 'R', 'V'): 2,\n",
              "         ('G', 'R', 'Y'): 4,\n",
              "         ('G', 'R', 'M'): 2,\n",
              "         ('G', 'B', 'W'): 4,\n",
              "         ('G', 'B', 'N'): 4,\n",
              "         ('G', 'B', 'R'): 3,\n",
              "         ('G', 'B', 'V'): 3,\n",
              "         ('G', 'B', 'Y'): 4,\n",
              "         ('G', 'B', 'M'): 3,\n",
              "         ('G', 'V', 'W'): 3,\n",
              "         ('G', 'V', 'N'): 3,\n",
              "         ('G', 'V', 'R'): 2,\n",
              "         ('G', 'V', 'B'): 3,\n",
              "         ('G', 'V', 'Y'): 3,\n",
              "         ('G', 'V', 'M'): 3,\n",
              "         ('G', 'Y', 'W'): 5,\n",
              "         ('G', 'Y', 'N'): 5,\n",
              "         ('G', 'Y', 'R'): 4,\n",
              "         ('G', 'Y', 'B'): 4,\n",
              "         ('G', 'Y', 'V'): 3,\n",
              "         ('G', 'Y', 'M'): 3,\n",
              "         ('G', 'M', 'W'): 3,\n",
              "         ('G', 'M', 'N'): 3,\n",
              "         ('G', 'M', 'R'): 2,\n",
              "         ('G', 'M', 'B'): 3,\n",
              "         ('G', 'M', 'V'): 3,\n",
              "         ('G', 'M', 'Y'): 3,\n",
              "         ('M', 'W', 'N'): 6,\n",
              "         ('M', 'W', 'R'): 4,\n",
              "         ('M', 'W', 'B'): 6,\n",
              "         ('M', 'W', 'V'): 6,\n",
              "         ('M', 'W', 'Y'): 5,\n",
              "         ('M', 'W', 'G'): 3,\n",
              "         ('M', 'N', 'W'): 6,\n",
              "         ('M', 'N', 'R'): 6,\n",
              "         ('M', 'N', 'B'): 6,\n",
              "         ('M', 'N', 'V'): 6,\n",
              "         ('M', 'N', 'Y'): 6,\n",
              "         ('M', 'N', 'G'): 3,\n",
              "         ('M', 'R', 'W'): 4,\n",
              "         ('M', 'R', 'N'): 6,\n",
              "         ('M', 'R', 'B'): 5,\n",
              "         ('M', 'R', 'V'): 5,\n",
              "         ('M', 'R', 'Y'): 4,\n",
              "         ('M', 'R', 'G'): 2,\n",
              "         ('M', 'B', 'W'): 6,\n",
              "         ('M', 'B', 'N'): 6,\n",
              "         ('M', 'B', 'R'): 5,\n",
              "         ('M', 'B', 'V'): 6,\n",
              "         ('M', 'B', 'Y'): 5,\n",
              "         ('M', 'B', 'G'): 3,\n",
              "         ('M', 'V', 'W'): 6,\n",
              "         ('M', 'V', 'N'): 6,\n",
              "         ('M', 'V', 'R'): 5,\n",
              "         ('M', 'V', 'B'): 6,\n",
              "         ('M', 'V', 'Y'): 4,\n",
              "         ('M', 'V', 'G'): 3,\n",
              "         ('M', 'Y', 'W'): 5,\n",
              "         ('M', 'Y', 'N'): 6,\n",
              "         ('M', 'Y', 'R'): 4,\n",
              "         ('M', 'Y', 'B'): 5,\n",
              "         ('M', 'Y', 'V'): 4,\n",
              "         ('M', 'Y', 'G'): 3,\n",
              "         ('M', 'G', 'W'): 3,\n",
              "         ('M', 'G', 'N'): 3,\n",
              "         ('M', 'G', 'R'): 2,\n",
              "         ('M', 'G', 'B'): 3,\n",
              "         ('M', 'G', 'V'): 3,\n",
              "         ('M', 'G', 'Y'): 3,\n",
              "         ('R', 'B', 'O'): 2,\n",
              "         ('R', 'O', 'B'): 2,\n",
              "         ('B', 'R', 'O'): 2,\n",
              "         ('B', 'O', 'R'): 2,\n",
              "         ('O', 'R', 'B'): 2,\n",
              "         ('O', 'B', 'R'): 2,\n",
              "         ('W', 'N', 'O'): 2,\n",
              "         ('W', 'R', 'O'): 2,\n",
              "         ('W', 'O', 'N'): 2,\n",
              "         ('W', 'O', 'R'): 2,\n",
              "         ('N', 'W', 'O'): 2,\n",
              "         ('N', 'R', 'O'): 3,\n",
              "         ('N', 'O', 'W'): 2,\n",
              "         ('N', 'O', 'R'): 3,\n",
              "         ('R', 'W', 'O'): 2,\n",
              "         ('R', 'N', 'O'): 3,\n",
              "         ('R', 'O', 'W'): 2,\n",
              "         ('R', 'O', 'N'): 3,\n",
              "         ('O', 'W', 'N'): 2,\n",
              "         ('O', 'W', 'R'): 2,\n",
              "         ('O', 'N', 'W'): 2,\n",
              "         ('O', 'N', 'R'): 3,\n",
              "         ('O', 'R', 'W'): 2,\n",
              "         ('O', 'R', 'N'): 3,\n",
              "         ('R', 'V', 'O'): 3,\n",
              "         ('R', 'Y', 'O'): 1,\n",
              "         ('R', 'O', 'V'): 3,\n",
              "         ('R', 'O', 'Y'): 1,\n",
              "         ('V', 'R', 'O'): 3,\n",
              "         ('V', 'Y', 'O'): 1,\n",
              "         ('V', 'O', 'R'): 3,\n",
              "         ('V', 'O', 'Y'): 1,\n",
              "         ('Y', 'R', 'O'): 1,\n",
              "         ('Y', 'V', 'O'): 1,\n",
              "         ('Y', 'O', 'R'): 1,\n",
              "         ('Y', 'O', 'V'): 1,\n",
              "         ('O', 'R', 'V'): 3,\n",
              "         ('O', 'R', 'Y'): 1,\n",
              "         ('O', 'V', 'R'): 3,\n",
              "         ('O', 'V', 'Y'): 1,\n",
              "         ('O', 'Y', 'R'): 1,\n",
              "         ('O', 'Y', 'V'): 1,\n",
              "         ('W', 'B', 'O'): 2,\n",
              "         ('W', 'O', 'B'): 2,\n",
              "         ('B', 'W', 'O'): 2,\n",
              "         ('B', 'V', 'O'): 2,\n",
              "         ('B', 'O', 'W'): 2,\n",
              "         ('B', 'O', 'V'): 2,\n",
              "         ('V', 'B', 'O'): 2,\n",
              "         ('V', 'O', 'B'): 2,\n",
              "         ('O', 'W', 'B'): 2,\n",
              "         ('O', 'B', 'W'): 2,\n",
              "         ('O', 'B', 'V'): 2,\n",
              "         ('O', 'V', 'B'): 2,\n",
              "         ('N', 'V', 'O'): 2,\n",
              "         ('N', 'O', 'V'): 2,\n",
              "         ('N', 'O', 'M'): 2,\n",
              "         ('N', 'M', 'O'): 2,\n",
              "         ('R', 'O', 'M'): 2,\n",
              "         ('R', 'M', 'O'): 2,\n",
              "         ('V', 'N', 'O'): 2,\n",
              "         ('V', 'O', 'N'): 2,\n",
              "         ('V', 'O', 'M'): 2,\n",
              "         ('V', 'M', 'O'): 2,\n",
              "         ('O', 'N', 'V'): 2,\n",
              "         ('O', 'N', 'M'): 2,\n",
              "         ('O', 'R', 'M'): 2,\n",
              "         ('O', 'V', 'N'): 2,\n",
              "         ('O', 'V', 'M'): 2,\n",
              "         ('O', 'M', 'N'): 2,\n",
              "         ('O', 'M', 'R'): 2,\n",
              "         ('O', 'M', 'V'): 2,\n",
              "         ('M', 'N', 'O'): 2,\n",
              "         ('M', 'R', 'O'): 2,\n",
              "         ('M', 'V', 'O'): 2,\n",
              "         ('M', 'O', 'N'): 2,\n",
              "         ('M', 'O', 'R'): 2,\n",
              "         ('M', 'O', 'V'): 2,\n",
              "         ('W', 'R', 'P'): 1,\n",
              "         ('W', 'B', 'P'): 2,\n",
              "         ('W', 'V', 'P'): 3,\n",
              "         ('W', 'Y', 'P'): 2,\n",
              "         ('W', 'P', 'R'): 1,\n",
              "         ('W', 'P', 'B'): 2,\n",
              "         ('W', 'P', 'V'): 3,\n",
              "         ('W', 'P', 'Y'): 2,\n",
              "         ('R', 'W', 'P'): 1,\n",
              "         ('R', 'B', 'P'): 1,\n",
              "         ('R', 'V', 'P'): 1,\n",
              "         ('R', 'Y', 'P'): 1,\n",
              "         ('R', 'P', 'W'): 1,\n",
              "         ('R', 'P', 'B'): 1,\n",
              "         ('R', 'P', 'V'): 1,\n",
              "         ('R', 'P', 'Y'): 1,\n",
              "         ('B', 'W', 'P'): 2,\n",
              "         ('B', 'R', 'P'): 1,\n",
              "         ('B', 'V', 'P'): 3,\n",
              "         ('B', 'Y', 'P'): 2,\n",
              "         ('B', 'P', 'W'): 2,\n",
              "         ('B', 'P', 'R'): 1,\n",
              "         ('B', 'P', 'V'): 3,\n",
              "         ('B', 'P', 'Y'): 2,\n",
              "         ('V', 'W', 'P'): 3,\n",
              "         ('V', 'R', 'P'): 1,\n",
              "         ('V', 'B', 'P'): 3,\n",
              "         ('V', 'Y', 'P'): 3,\n",
              "         ('V', 'P', 'W'): 3,\n",
              "         ('V', 'P', 'R'): 1,\n",
              "         ('V', 'P', 'B'): 3,\n",
              "         ('V', 'P', 'Y'): 3,\n",
              "         ('Y', 'W', 'P'): 2,\n",
              "         ('Y', 'R', 'P'): 1,\n",
              "         ('Y', 'B', 'P'): 2,\n",
              "         ('Y', 'V', 'P'): 3,\n",
              "         ('Y', 'P', 'W'): 2,\n",
              "         ('Y', 'P', 'R'): 1,\n",
              "         ('Y', 'P', 'B'): 2,\n",
              "         ('Y', 'P', 'V'): 3,\n",
              "         ('P', 'W', 'R'): 1,\n",
              "         ('P', 'W', 'B'): 2,\n",
              "         ('P', 'W', 'V'): 3,\n",
              "         ('P', 'W', 'Y'): 2,\n",
              "         ('P', 'R', 'W'): 1,\n",
              "         ('P', 'R', 'B'): 1,\n",
              "         ('P', 'R', 'V'): 1,\n",
              "         ('P', 'R', 'Y'): 1,\n",
              "         ('P', 'B', 'W'): 2,\n",
              "         ('P', 'B', 'R'): 1,\n",
              "         ('P', 'B', 'V'): 3,\n",
              "         ('P', 'B', 'Y'): 2,\n",
              "         ('P', 'V', 'W'): 3,\n",
              "         ('P', 'V', 'R'): 1,\n",
              "         ('P', 'V', 'B'): 3,\n",
              "         ('P', 'V', 'Y'): 3,\n",
              "         ('P', 'Y', 'W'): 2,\n",
              "         ('P', 'Y', 'R'): 1,\n",
              "         ('P', 'Y', 'B'): 2,\n",
              "         ('P', 'Y', 'V'): 3,\n",
              "         ('W', 'O', 'M'): 1,\n",
              "         ('W', 'M', 'O'): 1,\n",
              "         ('N', 'B', 'O'): 1,\n",
              "         ('N', 'O', 'B'): 1,\n",
              "         ('B', 'N', 'O'): 1,\n",
              "         ('B', 'O', 'N'): 1,\n",
              "         ('B', 'O', 'M'): 1,\n",
              "         ('B', 'M', 'O'): 1,\n",
              "         ('O', 'W', 'M'): 1,\n",
              "         ('O', 'N', 'B'): 1,\n",
              "         ('O', 'B', 'N'): 1,\n",
              "         ('O', 'B', 'M'): 1,\n",
              "         ('O', 'M', 'W'): 1,\n",
              "         ('O', 'M', 'B'): 1,\n",
              "         ('M', 'W', 'O'): 1,\n",
              "         ('M', 'B', 'O'): 1,\n",
              "         ('M', 'O', 'W'): 1,\n",
              "         ('M', 'O', 'B'): 1,\n",
              "         ('W', 'N', 'P'): 1,\n",
              "         ('W', 'V', 'V'): 2,\n",
              "         ('W', 'P', 'N'): 1,\n",
              "         ('N', 'W', 'P'): 1,\n",
              "         ('N', 'B', 'P'): 1,\n",
              "         ('N', 'V', 'V'): 2,\n",
              "         ('N', 'V', 'P'): 2,\n",
              "         ('N', 'Y', 'P'): 1,\n",
              "         ('N', 'P', 'W'): 1,\n",
              "         ('N', 'P', 'B'): 1,\n",
              "         ('N', 'P', 'V'): 2,\n",
              "         ('N', 'P', 'Y'): 1,\n",
              "         ('B', 'N', 'P'): 1,\n",
              "         ('B', 'V', 'V'): 2,\n",
              "         ('B', 'P', 'N'): 1,\n",
              "         ('V', 'W', 'V'): 2,\n",
              "         ('V', 'N', 'V'): 2,\n",
              "         ('V', 'N', 'P'): 2,\n",
              "         ('V', 'B', 'V'): 2,\n",
              "         ('V', 'V', 'W'): 2,\n",
              "         ('V', 'V', 'N'): 2,\n",
              "         ('V', 'V', 'B'): 2,\n",
              "         ('V', 'V', 'Y'): 2,\n",
              "         ('V', 'V', 'P'): 2,\n",
              "         ('V', 'Y', 'V'): 2,\n",
              "         ('V', 'P', 'N'): 2,\n",
              "         ('V', 'P', 'V'): 2,\n",
              "         ('Y', 'N', 'P'): 1,\n",
              "         ('Y', 'V', 'V'): 2,\n",
              "         ('Y', 'P', 'N'): 1,\n",
              "         ('P', 'W', 'N'): 1,\n",
              "         ('P', 'N', 'W'): 1,\n",
              "         ('P', 'N', 'B'): 1,\n",
              "         ('P', 'N', 'V'): 2,\n",
              "         ('P', 'N', 'Y'): 1,\n",
              "         ('P', 'B', 'N'): 1,\n",
              "         ('P', 'V', 'N'): 2,\n",
              "         ('P', 'V', 'V'): 2,\n",
              "         ('P', 'Y', 'N'): 1})"
            ]
          },
          "metadata": {},
          "execution_count": 100
        }
      ]
    },
    {
      "cell_type": "code",
      "source": [
        "color = ('W', 'R', 'B', 'V', 'Y', 'N', 'G', 'O',  'M', 'P')\n",
        "tup_dict=dict((x,y) for (x,y) in enumerate(color))\n",
        "tup_dict"
      ],
      "metadata": {
        "colab": {
          "base_uri": "https://localhost:8080/"
        },
        "id": "ZbGMOCbzkHB7",
        "outputId": "c6e0d0cc-a65f-4cb7-bd1f-8181c42353d9"
      },
      "execution_count": 120,
      "outputs": [
        {
          "output_type": "execute_result",
          "data": {
            "text/plain": [
              "{0: 'W',\n",
              " 1: 'R',\n",
              " 2: 'B',\n",
              " 3: 'V',\n",
              " 4: 'Y',\n",
              " 5: 'N',\n",
              " 6: 'G',\n",
              " 7: 'O',\n",
              " 8: 'M',\n",
              " 9: 'P'}"
            ]
          },
          "metadata": {},
          "execution_count": 120
        }
      ]
    },
    {
      "cell_type": "code",
      "source": [
        "y = 0\n",
        "flowers = []\n",
        "color = ()\n",
        "pairs = []\n",
        "\n",
        "for x in flower_orders:\n",
        "  flowers = flower_orders[y].split(\"/\")\n",
        "  pairs.extend(list(permutations(flowers,2)))\n",
        " # colors.update()\n",
        "\n",
        "  y+=1"
      ],
      "metadata": {
        "id": "qKoU_yHKnnhd"
      },
      "execution_count": 152,
      "outputs": []
    },
    {
      "cell_type": "code",
      "source": [
        "flower_orders"
      ],
      "metadata": {
        "colab": {
          "base_uri": "https://localhost:8080/"
        },
        "id": "Xq52hnQEsr34",
        "outputId": "87b4aa10-8363-4c99-e3c1-244d09b5466d"
      },
      "execution_count": 166,
      "outputs": [
        {
          "output_type": "execute_result",
          "data": {
            "text/plain": [
              "['W/R/B',\n",
              " 'W/R/B',\n",
              " 'W/R/B',\n",
              " 'W/R/B',\n",
              " 'W/R/B',\n",
              " 'W/R/B',\n",
              " 'W/R/B',\n",
              " 'W/R/B',\n",
              " 'W/R/B',\n",
              " 'W/R/B',\n",
              " 'W/R/B',\n",
              " 'W/R/B',\n",
              " 'W/R/B',\n",
              " 'W/R/B',\n",
              " 'W/R/B',\n",
              " 'W/R/B',\n",
              " 'W/R/B',\n",
              " 'W/R/B',\n",
              " 'W/R/B',\n",
              " 'W/R/B',\n",
              " 'W/R/B',\n",
              " 'W/R/B',\n",
              " 'W/R/B',\n",
              " 'W/R/B',\n",
              " 'W/R/B',\n",
              " 'W/R/B',\n",
              " 'W/R/B',\n",
              " 'W/R/B',\n",
              " 'W/R/B',\n",
              " 'W/R/B',\n",
              " 'W/R',\n",
              " 'W/R',\n",
              " 'W/R',\n",
              " 'W/R',\n",
              " 'W/R',\n",
              " 'W/R',\n",
              " 'W/R',\n",
              " 'W/R',\n",
              " 'W/R',\n",
              " 'W/R',\n",
              " 'W/R',\n",
              " 'W/R',\n",
              " 'W/R',\n",
              " 'W/R',\n",
              " 'W/R',\n",
              " 'W/R',\n",
              " 'R/V/Y',\n",
              " 'R/V/Y',\n",
              " 'R/V/Y',\n",
              " 'R/V/Y',\n",
              " 'R/V/Y',\n",
              " 'R/V/Y',\n",
              " 'R/V/Y',\n",
              " 'R/V/Y',\n",
              " 'R/V/Y',\n",
              " 'R/V/Y',\n",
              " 'W/R/V',\n",
              " 'W/R/V',\n",
              " 'W/R/V',\n",
              " 'W/R/V',\n",
              " 'W/R/V',\n",
              " 'W/R/V',\n",
              " 'W/R/V',\n",
              " 'W/R/V',\n",
              " 'W/R/V',\n",
              " 'W/R/V',\n",
              " 'W/N/R/V',\n",
              " 'W/N/R/V',\n",
              " 'W/N/R/V',\n",
              " 'W/N/R/V',\n",
              " 'W/N/R/V',\n",
              " 'W/N/R/V',\n",
              " 'W/N/R/V',\n",
              " 'W/N/R/V',\n",
              " 'W/R/B/Y',\n",
              " 'W/R/B/Y',\n",
              " 'W/R/B/Y',\n",
              " 'W/R/B/Y',\n",
              " 'W/R/B/Y',\n",
              " 'W/R/B/Y',\n",
              " 'B/Y',\n",
              " 'B/Y',\n",
              " 'B/Y',\n",
              " 'B/Y',\n",
              " 'B/Y',\n",
              " 'R/B/Y',\n",
              " 'R/B/Y',\n",
              " 'R/B/Y',\n",
              " 'R/B/Y',\n",
              " 'R/B/Y',\n",
              " 'W/N/R/B/V/Y',\n",
              " 'W/N/R/B/V/Y',\n",
              " 'W/N/R/B/V/Y',\n",
              " 'W/N/R/B/V/Y',\n",
              " 'W/N/R/B/V/Y',\n",
              " 'W/G',\n",
              " 'W/G',\n",
              " 'W/G',\n",
              " 'W/G',\n",
              " 'R/Y',\n",
              " 'R/Y',\n",
              " 'R/Y',\n",
              " 'R/Y',\n",
              " 'N/R/V/Y',\n",
              " 'N/R/V/Y',\n",
              " 'N/R/V/Y',\n",
              " 'N/R/V/Y',\n",
              " 'W/R/B/V',\n",
              " 'W/R/B/V',\n",
              " 'W/R/B/V',\n",
              " 'W/R/B/V',\n",
              " 'W/N/R/V/Y',\n",
              " 'W/N/R/V/Y',\n",
              " 'W/N/R/V/Y',\n",
              " 'W/N/R/V/Y',\n",
              " 'N/R/Y',\n",
              " 'N/R/Y',\n",
              " 'N/R/Y',\n",
              " 'W/V/O',\n",
              " 'W/V/O',\n",
              " 'W/V/O',\n",
              " 'W/N/R/Y',\n",
              " 'W/N/R/Y',\n",
              " 'W/N/R/Y',\n",
              " 'R/B/V/Y',\n",
              " 'R/B/V/Y',\n",
              " 'R/B/V/Y',\n",
              " 'W/R/V/Y',\n",
              " 'W/R/V/Y',\n",
              " 'W/R/V/Y',\n",
              " 'W/R/B/V/Y',\n",
              " 'W/R/B/V/Y',\n",
              " 'W/R/B/V/Y',\n",
              " 'W/N/R/B/Y',\n",
              " 'W/N/R/B/Y',\n",
              " 'W/N/R/B/Y',\n",
              " 'R/G',\n",
              " 'R/G',\n",
              " 'B/V/Y',\n",
              " 'B/V/Y',\n",
              " 'N/B/Y',\n",
              " 'N/B/Y',\n",
              " 'W/B/Y',\n",
              " 'W/B/Y',\n",
              " 'W/N/B',\n",
              " 'W/N/B',\n",
              " 'W/N/R',\n",
              " 'W/N/R',\n",
              " 'W/N/B/Y',\n",
              " 'W/N/B/Y',\n",
              " 'W/B/V/Y',\n",
              " 'W/B/V/Y',\n",
              " 'W/N/R/B/V/Y/G/M',\n",
              " 'W/N/R/B/V/Y/G/M',\n",
              " 'B/R',\n",
              " 'N/R',\n",
              " 'V/Y',\n",
              " 'V',\n",
              " 'N/R/V',\n",
              " 'N/V/Y',\n",
              " 'R/B/O',\n",
              " 'W/B/V',\n",
              " 'W/V/Y',\n",
              " 'W/N/R/B',\n",
              " 'W/N/R/O',\n",
              " 'W/N/R/G',\n",
              " 'W/N/V/Y',\n",
              " 'W/N/Y/M',\n",
              " 'N/R/B/Y',\n",
              " 'N/B/V/Y',\n",
              " 'R/V/Y/O',\n",
              " 'W/B/V/M',\n",
              " 'W/B/V/O',\n",
              " 'N/R/B/Y/M',\n",
              " 'N/R/V/O/M',\n",
              " 'W/N/R/Y/G',\n",
              " 'N/R/B/V/Y',\n",
              " 'W/R/B/V/Y/P',\n",
              " 'W/N/R/B/Y/G',\n",
              " 'W/N/R/B/V/O/M',\n",
              " 'W/N/R/B/V/Y/M',\n",
              " 'W/N/B/V/Y/G/M',\n",
              " 'W/N/B/V/V/Y/P']"
            ]
          },
          "metadata": {},
          "execution_count": 166
        }
      ]
    },
    {
      "cell_type": "code",
      "source": [
        "unique_flower_orders = list(set(flower_orders))\n",
        "\n",
        "# Set dictionary keys\n",
        "color_codes = ('W', 'R', 'B', 'V', 'Y', 'N', 'G', 'O', 'M', 'P')\n",
        "\n",
        "# Create an empty dictionary\n",
        "color_dict = {color: set() for color in color_codes}\n",
        "\n",
        "# Iterate through the unique flower orders\n",
        "for order in unique_flower_orders:\n",
        "    colors = order.split('/')\n",
        "\n",
        "    # Check if any of the key values are matching\n",
        "    for color in colors:\n",
        "      y=0\n",
        "      for x in colors:\n",
        "        if color==colors[y]:\n",
        "          colors.remove(colors[y])\n",
        "          y+=1\n",
        "      color_dict[color].update(set(colors))\n",
        "\n",
        "# Convert sets to lists for values in the dictionary\n",
        "color_dict = { color: list(flowers)\n",
        "               for color, flowers in color_dict.items()}\n",
        "\n",
        "for key, value in color_dict.items():\n",
        "  print (\"color: \" + key,'combinations',value)\n"
      ],
      "metadata": {
        "colab": {
          "base_uri": "https://localhost:8080/"
        },
        "id": "lU-xtMBAKMmM",
        "outputId": "58540a71-93b5-4800-8b0e-3db2bab60f2d"
      },
      "execution_count": 426,
      "outputs": [
        {
          "output_type": "stream",
          "name": "stdout",
          "text": [
            "color: W combinations ['M', 'B', 'G', 'O', 'P', 'Y', 'N', 'V', 'R']\n",
            "color: R combinations ['M', 'B', 'O', 'G', 'Y', 'N', 'V', 'R']\n",
            "color: B combinations ['M', 'B', 'G', 'O', 'P', 'Y', 'N', 'V', 'R']\n",
            "color: V combinations ['M', 'B', 'G', 'O', 'P', 'Y', 'N', 'V', 'R']\n",
            "color: Y combinations ['M', 'B', 'G', 'O', 'P', 'Y', 'N', 'V', 'R']\n",
            "color: N combinations ['M', 'B', 'O', 'Y', 'V', 'R']\n",
            "color: G combinations ['M', 'B', 'G', 'Y', 'N', 'V', 'R']\n",
            "color: O combinations ['M', 'B', 'O', 'N', 'V', 'Y', 'R']\n",
            "color: M combinations ['M', 'B', 'G', 'O', 'Y', 'N', 'V', 'R']\n",
            "color: P combinations ['B', 'P', 'Y', 'N', 'V', 'R']\n"
          ]
        }
      ]
    },
    {
      "cell_type": "code",
      "source": [
        "import numpy as np\n",
        "\n",
        "# ints\n",
        "array_2d = np.array([[1, 2, 3], [4, 5, 6]])\n",
        "\n",
        "print(f'Source Array:\\n{array_2d}')\n",
        "\n",
        "array_2d_square = np.square(array_2d)\n",
        "\n",
        "print(f'Squared Array:\\n{array_2d_square}')"
      ],
      "metadata": {
        "colab": {
          "base_uri": "https://localhost:8080/"
        },
        "id": "zlelkaI2iaGv",
        "outputId": "9257f28d-3f48-4712-b4f2-ca087bc9e08c"
      },
      "execution_count": 427,
      "outputs": [
        {
          "output_type": "stream",
          "name": "stdout",
          "text": [
            "Source Array:\n",
            "[[1 2 3]\n",
            " [4 5 6]]\n",
            "Squared Array:\n",
            "[[ 1  4  9]\n",
            " [16 25 36]]\n"
          ]
        }
      ]
    },
    {
      "cell_type": "code",
      "source": [
        "\n",
        "\n",
        "for key in list(color_dict.keys()):\n",
        "      for item in list(key):\n",
        "        y=0\n",
        "        for x in item:\n",
        "            if key==item[y]:\n",
        "              print('key',key,'index',item[y])\n",
        "              color_dict.popitem()\n",
        "              y+=1\n",
        "\n",
        "            else:\n",
        "              print('no removal')\n",
        "              y+=1\n",
        "\n",
        "for key, value in color_dict.items():\n",
        "  print (\"color: \" + key,'value',value)\n"
      ],
      "metadata": {
        "id": "BPWmwQOegtJ2"
      },
      "execution_count": null,
      "outputs": []
    },
    {
      "cell_type": "code",
      "source": [
        "\n",
        "# Print the resulting dictionary\n",
        "for key, value in color_dict.items():\n",
        "  print (\"color: \" + key)\n",
        " # print (\"combination: \" + str(value) + \"\\n\")\n",
        "\n",
        "  for index,key in enumerate(value):\n",
        "      print('value group',value)\n",
        "      print('value',index)\n",
        "      print('key',key)\n",
        "      if key==value[index]:\n",
        "        print('key',key)\n",
        "        print('index',index)\n",
        "        color_dict.popitem()"
      ],
      "metadata": {
        "id": "Zma8oFhceW2V"
      },
      "execution_count": null,
      "outputs": []
    },
    {
      "cell_type": "code",
      "source": [
        "#update to unique list\n",
        "unique_flower_orders = list(set(flower_orders))\n",
        "\n",
        "#set dictionary keys\n",
        "color = ('W', 'R', 'B', 'V', 'Y', 'N', 'G', 'O',  'M', 'P')\n",
        "y=0\n",
        "\n",
        "#create empty dictionary\n",
        "color_dict = {color: [] for color in color_codes}\n",
        "\n",
        "test = ()\n",
        "for index, key in enumerate(color):\n",
        "  print(color[index])\n",
        "  while y< len(unique_flower_orders):\n",
        "      print('order line: ', unique_flower_orders[y])\n",
        "      length = len(unique_flower_orders[y].split(\"/\"))\n",
        "      print('length: ', length)\n",
        "      flower = unique_flower_orders[y].split(\"/\")\n",
        "      print('flower',flower)\n",
        "\n",
        "      i=0\n",
        "      item = []\n",
        "\n",
        "      for x in flower:\n",
        "          if (color[index]!=flower[i]):\n",
        "            print('add item to dictionary')\n",
        "            flower_item=flower[i]\n",
        "            print('flower item:', flower_item)\n",
        "            # Append the order to the corresponding color's list\n",
        "            key =color[index]\n",
        "            #need to check if key already in dictionary, add if not\n",
        "            #chat gpt help here!\n",
        "            color_dict[key].append(flower_item)\n",
        "            #color_dict[color[index]].add(flower_item)\n",
        "            i+=1\n",
        "          else:\n",
        "            print('do nothing')\n",
        "            i+=1\n",
        "\n",
        "      y+=1\n",
        "\n",
        "\n"
      ],
      "metadata": {
        "colab": {
          "base_uri": "https://localhost:8080/"
        },
        "id": "dQRZJOxWsbMr",
        "outputId": "f49489da-9afe-4ffb-e157-711b4f7ea60a"
      },
      "execution_count": 299,
      "outputs": [
        {
          "output_type": "stream",
          "name": "stdout",
          "text": [
            "W\n",
            "order line:  W/R/B\n",
            "length:  3\n",
            "flower ['W', 'R', 'B']\n",
            "do nothing\n",
            "add item to dictionary\n",
            "flower item: R\n",
            "add item to dictionary\n",
            "flower item: B\n",
            "order line:  W/N/B/V/Y/G/M\n",
            "length:  7\n",
            "flower ['W', 'N', 'B', 'V', 'Y', 'G', 'M']\n",
            "do nothing\n",
            "add item to dictionary\n",
            "flower item: N\n",
            "add item to dictionary\n",
            "flower item: B\n",
            "add item to dictionary\n",
            "flower item: V\n",
            "add item to dictionary\n",
            "flower item: Y\n",
            "add item to dictionary\n",
            "flower item: G\n",
            "add item to dictionary\n",
            "flower item: M\n",
            "order line:  W/B/V/O\n",
            "length:  4\n",
            "flower ['W', 'B', 'V', 'O']\n",
            "do nothing\n",
            "add item to dictionary\n",
            "flower item: B\n",
            "add item to dictionary\n",
            "flower item: V\n",
            "add item to dictionary\n",
            "flower item: O\n",
            "order line:  R/Y\n",
            "length:  2\n",
            "flower ['R', 'Y']\n",
            "add item to dictionary\n",
            "flower item: R\n",
            "add item to dictionary\n",
            "flower item: Y\n",
            "order line:  N/R/V/Y\n",
            "length:  4\n",
            "flower ['N', 'R', 'V', 'Y']\n",
            "add item to dictionary\n",
            "flower item: N\n",
            "add item to dictionary\n",
            "flower item: R\n",
            "add item to dictionary\n",
            "flower item: V\n",
            "add item to dictionary\n",
            "flower item: Y\n",
            "order line:  N/V/Y\n",
            "length:  3\n",
            "flower ['N', 'V', 'Y']\n",
            "add item to dictionary\n",
            "flower item: N\n",
            "add item to dictionary\n",
            "flower item: V\n",
            "add item to dictionary\n",
            "flower item: Y\n",
            "order line:  R/B/Y\n",
            "length:  3\n",
            "flower ['R', 'B', 'Y']\n",
            "add item to dictionary\n",
            "flower item: R\n",
            "add item to dictionary\n",
            "flower item: B\n",
            "add item to dictionary\n",
            "flower item: Y\n",
            "order line:  V/Y\n",
            "length:  2\n",
            "flower ['V', 'Y']\n",
            "add item to dictionary\n",
            "flower item: V\n",
            "add item to dictionary\n",
            "flower item: Y\n",
            "order line:  W/N/R/B/V/O/M\n",
            "length:  7\n",
            "flower ['W', 'N', 'R', 'B', 'V', 'O', 'M']\n",
            "do nothing\n",
            "add item to dictionary\n",
            "flower item: N\n",
            "add item to dictionary\n",
            "flower item: R\n",
            "add item to dictionary\n",
            "flower item: B\n",
            "add item to dictionary\n",
            "flower item: V\n",
            "add item to dictionary\n",
            "flower item: O\n",
            "add item to dictionary\n",
            "flower item: M\n",
            "order line:  W/N/R\n",
            "length:  3\n",
            "flower ['W', 'N', 'R']\n",
            "do nothing\n",
            "add item to dictionary\n",
            "flower item: N\n",
            "add item to dictionary\n",
            "flower item: R\n",
            "order line:  W/R\n",
            "length:  2\n",
            "flower ['W', 'R']\n",
            "do nothing\n",
            "add item to dictionary\n",
            "flower item: R\n",
            "order line:  R/V/Y\n",
            "length:  3\n",
            "flower ['R', 'V', 'Y']\n",
            "add item to dictionary\n",
            "flower item: R\n",
            "add item to dictionary\n",
            "flower item: V\n",
            "add item to dictionary\n",
            "flower item: Y\n",
            "order line:  W/N/R/B/V/Y/M\n",
            "length:  7\n",
            "flower ['W', 'N', 'R', 'B', 'V', 'Y', 'M']\n",
            "do nothing\n",
            "add item to dictionary\n",
            "flower item: N\n",
            "add item to dictionary\n",
            "flower item: R\n",
            "add item to dictionary\n",
            "flower item: B\n",
            "add item to dictionary\n",
            "flower item: V\n",
            "add item to dictionary\n",
            "flower item: Y\n",
            "add item to dictionary\n",
            "flower item: M\n",
            "order line:  W/B/V\n",
            "length:  3\n",
            "flower ['W', 'B', 'V']\n",
            "do nothing\n",
            "add item to dictionary\n",
            "flower item: B\n",
            "add item to dictionary\n",
            "flower item: V\n",
            "order line:  W/N/R/B/V/Y/G/M\n",
            "length:  8\n",
            "flower ['W', 'N', 'R', 'B', 'V', 'Y', 'G', 'M']\n",
            "do nothing\n",
            "add item to dictionary\n",
            "flower item: N\n",
            "add item to dictionary\n",
            "flower item: R\n",
            "add item to dictionary\n",
            "flower item: B\n",
            "add item to dictionary\n",
            "flower item: V\n",
            "add item to dictionary\n",
            "flower item: Y\n",
            "add item to dictionary\n",
            "flower item: G\n",
            "add item to dictionary\n",
            "flower item: M\n",
            "order line:  W/N/R/B/V/Y\n",
            "length:  6\n",
            "flower ['W', 'N', 'R', 'B', 'V', 'Y']\n",
            "do nothing\n",
            "add item to dictionary\n",
            "flower item: N\n",
            "add item to dictionary\n",
            "flower item: R\n",
            "add item to dictionary\n",
            "flower item: B\n",
            "add item to dictionary\n",
            "flower item: V\n",
            "add item to dictionary\n",
            "flower item: Y\n",
            "order line:  B/Y\n",
            "length:  2\n",
            "flower ['B', 'Y']\n",
            "add item to dictionary\n",
            "flower item: B\n",
            "add item to dictionary\n",
            "flower item: Y\n",
            "order line:  B/R\n",
            "length:  2\n",
            "flower ['B', 'R']\n",
            "add item to dictionary\n",
            "flower item: B\n",
            "add item to dictionary\n",
            "flower item: R\n",
            "order line:  R/G\n",
            "length:  2\n",
            "flower ['R', 'G']\n",
            "add item to dictionary\n",
            "flower item: R\n",
            "add item to dictionary\n",
            "flower item: G\n",
            "order line:  W/N/R/G\n",
            "length:  4\n",
            "flower ['W', 'N', 'R', 'G']\n",
            "do nothing\n",
            "add item to dictionary\n",
            "flower item: N\n",
            "add item to dictionary\n",
            "flower item: R\n",
            "add item to dictionary\n",
            "flower item: G\n",
            "order line:  R/B/V/Y\n",
            "length:  4\n",
            "flower ['R', 'B', 'V', 'Y']\n",
            "add item to dictionary\n",
            "flower item: R\n",
            "add item to dictionary\n",
            "flower item: B\n",
            "add item to dictionary\n",
            "flower item: V\n",
            "add item to dictionary\n",
            "flower item: Y\n",
            "order line:  W/N/R/V/Y\n",
            "length:  5\n",
            "flower ['W', 'N', 'R', 'V', 'Y']\n",
            "do nothing\n",
            "add item to dictionary\n",
            "flower item: N\n",
            "add item to dictionary\n",
            "flower item: R\n",
            "add item to dictionary\n",
            "flower item: V\n",
            "add item to dictionary\n",
            "flower item: Y\n",
            "order line:  W/N/R/V\n",
            "length:  4\n",
            "flower ['W', 'N', 'R', 'V']\n",
            "do nothing\n",
            "add item to dictionary\n",
            "flower item: N\n",
            "add item to dictionary\n",
            "flower item: R\n",
            "add item to dictionary\n",
            "flower item: V\n",
            "order line:  B/V/Y\n",
            "length:  3\n",
            "flower ['B', 'V', 'Y']\n",
            "add item to dictionary\n",
            "flower item: B\n",
            "add item to dictionary\n",
            "flower item: V\n",
            "add item to dictionary\n",
            "flower item: Y\n",
            "order line:  W/N/Y/M\n",
            "length:  4\n",
            "flower ['W', 'N', 'Y', 'M']\n",
            "do nothing\n",
            "add item to dictionary\n",
            "flower item: N\n",
            "add item to dictionary\n",
            "flower item: Y\n",
            "add item to dictionary\n",
            "flower item: M\n",
            "order line:  R/V/Y/O\n",
            "length:  4\n",
            "flower ['R', 'V', 'Y', 'O']\n",
            "add item to dictionary\n",
            "flower item: R\n",
            "add item to dictionary\n",
            "flower item: V\n",
            "add item to dictionary\n",
            "flower item: Y\n",
            "add item to dictionary\n",
            "flower item: O\n",
            "order line:  W/N/R/B/Y/G\n",
            "length:  6\n",
            "flower ['W', 'N', 'R', 'B', 'Y', 'G']\n",
            "do nothing\n",
            "add item to dictionary\n",
            "flower item: N\n",
            "add item to dictionary\n",
            "flower item: R\n",
            "add item to dictionary\n",
            "flower item: B\n",
            "add item to dictionary\n",
            "flower item: Y\n",
            "add item to dictionary\n",
            "flower item: G\n",
            "order line:  W/N/B/V/V/Y/P\n",
            "length:  7\n",
            "flower ['W', 'N', 'B', 'V', 'V', 'Y', 'P']\n",
            "do nothing\n",
            "add item to dictionary\n",
            "flower item: N\n",
            "add item to dictionary\n",
            "flower item: B\n",
            "add item to dictionary\n",
            "flower item: V\n",
            "add item to dictionary\n",
            "flower item: V\n",
            "add item to dictionary\n",
            "flower item: Y\n",
            "add item to dictionary\n",
            "flower item: P\n",
            "order line:  W/R/B/Y\n",
            "length:  4\n",
            "flower ['W', 'R', 'B', 'Y']\n",
            "do nothing\n",
            "add item to dictionary\n",
            "flower item: R\n",
            "add item to dictionary\n",
            "flower item: B\n",
            "add item to dictionary\n",
            "flower item: Y\n",
            "order line:  W/R/B/V/Y\n",
            "length:  5\n",
            "flower ['W', 'R', 'B', 'V', 'Y']\n",
            "do nothing\n",
            "add item to dictionary\n",
            "flower item: R\n",
            "add item to dictionary\n",
            "flower item: B\n",
            "add item to dictionary\n",
            "flower item: V\n",
            "add item to dictionary\n",
            "flower item: Y\n",
            "order line:  W/N/R/O\n",
            "length:  4\n",
            "flower ['W', 'N', 'R', 'O']\n",
            "do nothing\n",
            "add item to dictionary\n",
            "flower item: N\n",
            "add item to dictionary\n",
            "flower item: R\n",
            "add item to dictionary\n",
            "flower item: O\n",
            "order line:  W/N/B\n",
            "length:  3\n",
            "flower ['W', 'N', 'B']\n",
            "do nothing\n",
            "add item to dictionary\n",
            "flower item: N\n",
            "add item to dictionary\n",
            "flower item: B\n",
            "order line:  W/N/R/B\n",
            "length:  4\n",
            "flower ['W', 'N', 'R', 'B']\n",
            "do nothing\n",
            "add item to dictionary\n",
            "flower item: N\n",
            "add item to dictionary\n",
            "flower item: R\n",
            "add item to dictionary\n",
            "flower item: B\n",
            "order line:  W/N/B/Y\n",
            "length:  4\n",
            "flower ['W', 'N', 'B', 'Y']\n",
            "do nothing\n",
            "add item to dictionary\n",
            "flower item: N\n",
            "add item to dictionary\n",
            "flower item: B\n",
            "add item to dictionary\n",
            "flower item: Y\n",
            "order line:  N/R/V\n",
            "length:  3\n",
            "flower ['N', 'R', 'V']\n",
            "add item to dictionary\n",
            "flower item: N\n",
            "add item to dictionary\n",
            "flower item: R\n",
            "add item to dictionary\n",
            "flower item: V\n",
            "order line:  N/R/V/O/M\n",
            "length:  5\n",
            "flower ['N', 'R', 'V', 'O', 'M']\n",
            "add item to dictionary\n",
            "flower item: N\n",
            "add item to dictionary\n",
            "flower item: R\n",
            "add item to dictionary\n",
            "flower item: V\n",
            "add item to dictionary\n",
            "flower item: O\n",
            "add item to dictionary\n",
            "flower item: M\n",
            "order line:  N/R/B/Y/M\n",
            "length:  5\n",
            "flower ['N', 'R', 'B', 'Y', 'M']\n",
            "add item to dictionary\n",
            "flower item: N\n",
            "add item to dictionary\n",
            "flower item: R\n",
            "add item to dictionary\n",
            "flower item: B\n",
            "add item to dictionary\n",
            "flower item: Y\n",
            "add item to dictionary\n",
            "flower item: M\n",
            "order line:  V\n",
            "length:  1\n",
            "flower ['V']\n",
            "add item to dictionary\n",
            "flower item: V\n",
            "order line:  W/V/O\n",
            "length:  3\n",
            "flower ['W', 'V', 'O']\n",
            "do nothing\n",
            "add item to dictionary\n",
            "flower item: V\n",
            "add item to dictionary\n",
            "flower item: O\n",
            "order line:  N/R\n",
            "length:  2\n",
            "flower ['N', 'R']\n",
            "add item to dictionary\n",
            "flower item: N\n",
            "add item to dictionary\n",
            "flower item: R\n",
            "order line:  W/R/B/V/Y/P\n",
            "length:  6\n",
            "flower ['W', 'R', 'B', 'V', 'Y', 'P']\n",
            "do nothing\n",
            "add item to dictionary\n",
            "flower item: R\n",
            "add item to dictionary\n",
            "flower item: B\n",
            "add item to dictionary\n",
            "flower item: V\n",
            "add item to dictionary\n",
            "flower item: Y\n",
            "add item to dictionary\n",
            "flower item: P\n",
            "order line:  R/B/O\n",
            "length:  3\n",
            "flower ['R', 'B', 'O']\n",
            "add item to dictionary\n",
            "flower item: R\n",
            "add item to dictionary\n",
            "flower item: B\n",
            "add item to dictionary\n",
            "flower item: O\n",
            "order line:  N/R/B/Y\n",
            "length:  4\n",
            "flower ['N', 'R', 'B', 'Y']\n",
            "add item to dictionary\n",
            "flower item: N\n",
            "add item to dictionary\n",
            "flower item: R\n",
            "add item to dictionary\n",
            "flower item: B\n",
            "add item to dictionary\n",
            "flower item: Y\n",
            "order line:  W/G\n",
            "length:  2\n",
            "flower ['W', 'G']\n",
            "do nothing\n",
            "add item to dictionary\n",
            "flower item: G\n",
            "order line:  W/B/Y\n",
            "length:  3\n",
            "flower ['W', 'B', 'Y']\n",
            "do nothing\n",
            "add item to dictionary\n",
            "flower item: B\n",
            "add item to dictionary\n",
            "flower item: Y\n",
            "order line:  W/B/V/Y\n",
            "length:  4\n",
            "flower ['W', 'B', 'V', 'Y']\n",
            "do nothing\n",
            "add item to dictionary\n",
            "flower item: B\n",
            "add item to dictionary\n",
            "flower item: V\n",
            "add item to dictionary\n",
            "flower item: Y\n",
            "order line:  W/R/V\n",
            "length:  3\n",
            "flower ['W', 'R', 'V']\n",
            "do nothing\n",
            "add item to dictionary\n",
            "flower item: R\n",
            "add item to dictionary\n",
            "flower item: V\n",
            "order line:  W/B/V/M\n",
            "length:  4\n",
            "flower ['W', 'B', 'V', 'M']\n",
            "do nothing\n",
            "add item to dictionary\n",
            "flower item: B\n",
            "add item to dictionary\n",
            "flower item: V\n",
            "add item to dictionary\n",
            "flower item: M\n",
            "order line:  W/N/R/Y/G\n",
            "length:  5\n",
            "flower ['W', 'N', 'R', 'Y', 'G']\n",
            "do nothing\n",
            "add item to dictionary\n",
            "flower item: N\n",
            "add item to dictionary\n",
            "flower item: R\n",
            "add item to dictionary\n",
            "flower item: Y\n",
            "add item to dictionary\n",
            "flower item: G\n",
            "order line:  W/N/R/B/Y\n",
            "length:  5\n",
            "flower ['W', 'N', 'R', 'B', 'Y']\n",
            "do nothing\n",
            "add item to dictionary\n",
            "flower item: N\n",
            "add item to dictionary\n",
            "flower item: R\n",
            "add item to dictionary\n",
            "flower item: B\n",
            "add item to dictionary\n",
            "flower item: Y\n",
            "order line:  W/R/B/V\n",
            "length:  4\n",
            "flower ['W', 'R', 'B', 'V']\n",
            "do nothing\n",
            "add item to dictionary\n",
            "flower item: R\n",
            "add item to dictionary\n",
            "flower item: B\n",
            "add item to dictionary\n",
            "flower item: V\n",
            "order line:  N/R/B/V/Y\n",
            "length:  5\n",
            "flower ['N', 'R', 'B', 'V', 'Y']\n",
            "add item to dictionary\n",
            "flower item: N\n",
            "add item to dictionary\n",
            "flower item: R\n",
            "add item to dictionary\n",
            "flower item: B\n",
            "add item to dictionary\n",
            "flower item: V\n",
            "add item to dictionary\n",
            "flower item: Y\n",
            "order line:  W/R/V/Y\n",
            "length:  4\n",
            "flower ['W', 'R', 'V', 'Y']\n",
            "do nothing\n",
            "add item to dictionary\n",
            "flower item: R\n",
            "add item to dictionary\n",
            "flower item: V\n",
            "add item to dictionary\n",
            "flower item: Y\n",
            "order line:  N/R/Y\n",
            "length:  3\n",
            "flower ['N', 'R', 'Y']\n",
            "add item to dictionary\n",
            "flower item: N\n",
            "add item to dictionary\n",
            "flower item: R\n",
            "add item to dictionary\n",
            "flower item: Y\n",
            "order line:  W/N/R/Y\n",
            "length:  4\n",
            "flower ['W', 'N', 'R', 'Y']\n",
            "do nothing\n",
            "add item to dictionary\n",
            "flower item: N\n",
            "add item to dictionary\n",
            "flower item: R\n",
            "add item to dictionary\n",
            "flower item: Y\n",
            "order line:  N/B/Y\n",
            "length:  3\n",
            "flower ['N', 'B', 'Y']\n",
            "add item to dictionary\n",
            "flower item: N\n",
            "add item to dictionary\n",
            "flower item: B\n",
            "add item to dictionary\n",
            "flower item: Y\n",
            "order line:  N/B/V/Y\n",
            "length:  4\n",
            "flower ['N', 'B', 'V', 'Y']\n",
            "add item to dictionary\n",
            "flower item: N\n",
            "add item to dictionary\n",
            "flower item: B\n",
            "add item to dictionary\n",
            "flower item: V\n",
            "add item to dictionary\n",
            "flower item: Y\n",
            "order line:  W/V/Y\n",
            "length:  3\n",
            "flower ['W', 'V', 'Y']\n",
            "do nothing\n",
            "add item to dictionary\n",
            "flower item: V\n",
            "add item to dictionary\n",
            "flower item: Y\n",
            "order line:  W/N/V/Y\n",
            "length:  4\n",
            "flower ['W', 'N', 'V', 'Y']\n",
            "do nothing\n",
            "add item to dictionary\n",
            "flower item: N\n",
            "add item to dictionary\n",
            "flower item: V\n",
            "add item to dictionary\n",
            "flower item: Y\n",
            "R\n",
            "B\n",
            "V\n",
            "Y\n",
            "N\n",
            "G\n",
            "O\n",
            "M\n",
            "P\n"
          ]
        }
      ]
    },
    {
      "cell_type": "code",
      "source": [
        "\n",
        "\n",
        "flower_orders[0].count(color[0])\n",
        "flower_orders[0].count(color[1])\n",
        "flower_orders[0].count(color[2])\n",
        "flower_orders[0].count(color[3])\n",
        "flower_orders[0].count(color[4])\n",
        "flower_orders[0].count(color[5])\n",
        "flower_orders[0].count(color[6])\n",
        "flower_orders[0].count(color[7])\n",
        "flower_orders[0].count(color[8])\n",
        "flower_orders[0].count(color[9])\n",
        "\n",
        "\n",
        "\n",
        "#color.update('W':\"brinjal\"})"
      ],
      "metadata": {
        "colab": {
          "base_uri": "https://localhost:8080/"
        },
        "id": "vjR0EsOtqSq6",
        "outputId": "956aa634-9076-4bab-838f-68b05dfcd456"
      },
      "execution_count": 163,
      "outputs": [
        {
          "output_type": "execute_result",
          "data": {
            "text/plain": [
              "0"
            ]
          },
          "metadata": {},
          "execution_count": 163
        }
      ]
    },
    {
      "cell_type": "code",
      "source": [
        "y=0\n",
        "\n",
        "for x in flower_orders:\n",
        "  countw = flower_orders[y].count(\"W\")\n",
        "  if countw !=0:\n",
        "    count.append(1)\n",
        "  y+=1\n",
        "\n",
        "sum(count)"
      ],
      "metadata": {
        "id": "atHTXtQBqrPu"
      },
      "execution_count": null,
      "outputs": []
    },
    {
      "cell_type": "code",
      "source": [
        "def main():\n",
        "    people = {\n",
        "        \"Austin\" : 25,\n",
        "        \"Martin\" : 30,\n",
        "        \"Fred\" : 21,\n",
        "        \"Saul\" : 50}\n",
        "\n",
        "    for key, value in people.items():\n",
        "                  print (\"Name: \" + key)\n",
        "                  print (\"Age: \" + str(value) + \"\\n\")\n",
        "\n",
        "main()"
      ],
      "metadata": {
        "colab": {
          "base_uri": "https://localhost:8080/"
        },
        "id": "SGGnjE5goCBt",
        "outputId": "32a558ad-ead9-4ac3-866e-92d4b6604fe2"
      },
      "execution_count": 139,
      "outputs": [
        {
          "output_type": "stream",
          "name": "stdout",
          "text": [
            "Name: Austin\n",
            "Age: 25\n",
            "\n",
            "Name: Martin\n",
            "Age: 30\n",
            "\n",
            "Name: Fred\n",
            "Age: 21\n",
            "\n",
            "Name: Saul\n",
            "Age: 50\n",
            "\n"
          ]
        }
      ]
    },
    {
      "cell_type": "code",
      "source": [
        "    people = {\n",
        "        \"Austin\" : 25,\n",
        "        \"Martin\" : 30,\n",
        "        \"Fred\" : 21,\n",
        "        \"Saul\" : 50}\n",
        "    for index, key in enumerate(people):\n",
        "     print (index, key, people[key])"
      ],
      "metadata": {
        "colab": {
          "base_uri": "https://localhost:8080/"
        },
        "id": "4M7NOAfapxQz",
        "outputId": "9837ff75-d5a0-434c-c717-32e1a015f899"
      },
      "execution_count": 142,
      "outputs": [
        {
          "output_type": "stream",
          "name": "stdout",
          "text": [
            "0 Austin 25\n",
            "1 Martin 30\n",
            "2 Fred 21\n",
            "3 Saul 50\n"
          ]
        }
      ]
    },
    {
      "cell_type": "code",
      "source": [
        "dict1={\"fruit1\":\"apple\",\"fruit2\":\"banana\",\"veg1\":\"tomato\"}\n",
        "dict1.update({\"veg2\":\"brinjal\"})\n",
        "print(dict1)\n",
        "dict1.update({\"veg3\":\"chilli\"})  # updates the dictionary at the end\n",
        "print(dict1)\n",
        "dict1.pop(\"veg2\")\n",
        "print(dict1)"
      ],
      "metadata": {
        "colab": {
          "base_uri": "https://localhost:8080/"
        },
        "id": "qHx-RlkQmUSd",
        "outputId": "59049a17-1020-4c72-8ebb-e791950f0e06"
      },
      "execution_count": 172,
      "outputs": [
        {
          "output_type": "stream",
          "name": "stdout",
          "text": [
            "{'fruit1': 'apple', 'fruit2': 'banana', 'veg1': 'tomato', 'veg2': 'brinjal'}\n",
            "{'fruit1': 'apple', 'fruit2': 'banana', 'veg1': 'tomato', 'veg2': 'brinjal', 'veg3': 'chilli'}\n",
            "{'fruit1': 'apple', 'fruit2': 'banana', 'veg1': 'tomato', 'veg3': 'chilli'}\n"
          ]
        }
      ]
    },
    {
      "cell_type": "code",
      "source": [
        "# Initialize an empty dictionary\n",
        "color_dict = {}\n",
        "\n",
        "# Iterate through the flower_orders list\n",
        "for order in flower_orders:\n",
        "    colors = order.split('/')\n",
        "    for color in colors:\n",
        "        if color in color_dict:\n",
        "            color_dict[color].add(order)\n",
        "        else:\n",
        "            color_dict[color] = {order}\n",
        "\n",
        "# Convert sets to lists for values in the dictionary\n",
        "color_dict = {color: list(orders) for color, orders in color_dict.items()}\n",
        "\n",
        "# Print the resulting dictionary\n",
        "for color, orders in color_dict.items():\n",
        "    print(f\"Color: {color}, Orders with other colors: {', '.join(orders)}\")"
      ],
      "metadata": {
        "colab": {
          "base_uri": "https://localhost:8080/"
        },
        "id": "DlGJsmKW0TfQ",
        "outputId": "14e82cce-dffb-44a0-ba0b-83bf66d648e6"
      },
      "execution_count": 212,
      "outputs": [
        {
          "output_type": "stream",
          "name": "stdout",
          "text": [
            "Color: W, Orders with other colors: W/R/B, W/N/B/V/Y/G/M, W/B/V/O, W/N/R/B/V/O/M, W/N/R, W/R, W/N/R/B/V/Y/M, W/B/V, W/N/R/B/V/Y/G/M, W/N/R/B/V/Y, W/N/Y/M, W/N/R/G, W/N/B/V/V/Y/P, W/N/R/V/Y, W/N/R/V, W/N/R/B/Y/G, W/R/B/Y, W/R/B/V/Y, W/N/B, W/N/R/B, W/N/B/Y, W/V/O, W/R/B/V/Y/P, W/G, W/B/Y, W/B/V/Y, W/R/V, W/B/V/M, W/N/R/Y/G, W/N/R/B/Y, W/R/B/V, W/R/V/Y, W/N/R/Y, W/N/R/O, W/V/Y, W/N/V/Y\n",
            "Color: R, Orders with other colors: W/R/B, R/Y, N/R/V/Y, R/B/Y, W/N/R/B/V/O/M, W/N/R, W/R, R/V/Y, W/N/R/B/V/Y/M, W/N/R/B/V/Y/G/M, W/N/R/B/V/Y, B/R, R/G, W/N/R/G, R/B/V/Y, W/N/R/V/Y, W/N/R/V, R/V/Y/O, W/N/R/B/Y/G, W/R/B/Y, W/R/B/V/Y, W/N/R/O, W/N/R/B, N/R/V, N/R/V/O/M, N/R/B/Y/M, N/R, W/R/B/V/Y/P, R/B/O, N/R/B/Y, W/N/R/Y/G, W/R/V, W/N/R/B/Y, W/R/B/V, W/R/V/Y, N/R/Y, W/N/R/Y, N/R/B/V/Y\n",
            "Color: B, Orders with other colors: W/R/B, W/N/B/V/Y/G/M, W/B/V/O, R/B/Y, W/N/R/B/V/O/M, W/N/R/B/V/Y/M, W/B/V, W/N/R/B/V/Y/G/M, W/N/R/B/V/Y, B/Y, B/R, W/N/B/V/V/Y/P, R/B/V/Y, W/N/R/B/Y/G, B/V/Y, W/R/B/Y, W/R/B/V/Y, W/N/B, W/N/R/B, W/N/B/Y, N/R/B/Y/M, W/R/B/V/Y/P, R/B/O, N/R/B/Y, W/B/Y, W/B/V/Y, W/B/V/M, W/N/R/B/Y, W/R/B/V, N/B/Y, N/R/B/V/Y, N/B/V/Y\n",
            "Color: V, Orders with other colors: W/N/B/V/Y/G/M, W/B/V/O, N/V/Y, N/R/V/Y, W/N/R/B/V/O/M, V/Y, W/N/R/B/V/Y/M, R/V/Y, W/B/V, W/N/R/B/V/Y/G/M, W/N/R/B/V/Y, R/V/Y/O, W/N/B/V/V/Y/P, R/B/V/Y, W/N/R/V/Y, W/N/R/V, B/V/Y, W/R/B/V/Y, N/R/V, N/R/V/O/M, V, W/V/O, W/R/B/V/Y/P, W/B/V/Y, W/R/V, W/B/V/M, W/R/B/V, W/R/V/Y, N/R/B/V/Y, N/B/V/Y, W/V/Y, W/N/V/Y\n",
            "Color: Y, Orders with other colors: W/N/B/V/Y/G/M, R/Y, N/R/V/Y, N/V/Y, R/B/Y, V/Y, W/N/R/B/V/Y/M, R/V/Y, W/N/R/B/V/Y/G/M, W/N/R/B/V/Y, B/Y, W/N/Y/M, R/V/Y/O, W/N/B/V/V/Y/P, R/B/V/Y, W/N/R/V/Y, W/N/R/B/Y/G, B/V/Y, W/R/B/Y, W/R/B/V/Y, W/N/B/Y, N/R/B/Y/M, W/R/B/V/Y/P, N/R/B/Y, W/B/Y, W/B/V/Y, W/N/R/Y/G, W/N/R/B/Y, N/R/B/V/Y, W/R/V/Y, N/R/Y, W/N/R/Y, N/B/Y, N/B/V/Y, W/V/Y, W/N/V/Y\n",
            "Color: N, Orders with other colors: W/N/B/V/Y/G/M, N/V/Y, N/R/V/Y, W/N/R/B/V/O/M, W/N/R, W/N/R/B/V/Y/M, W/N/R/B/V/Y/G/M, W/N/R/B/V/Y, W/N/Y/M, W/N/R/G, W/N/B/V/V/Y/P, W/N/R/V/Y, W/N/R/V, W/N/R/B/Y/G, W/N/R/B, W/N/B, N/R/V, W/N/B/Y, N/R/V/O/M, N/R/B/Y/M, N/R, N/R/B/Y, W/N/R/Y/G, W/N/R/B/Y, N/B/V/Y, N/R/B/V/Y, N/R/Y, W/N/R/O, W/N/R/Y, N/B/Y, W/N/V/Y\n",
            "Color: G, Orders with other colors: W/N/B/V/Y/G/M, W/G, W/N/R/Y/G, W/N/R/G, R/G, W/N/R/B/Y/G, W/N/R/B/V/Y/G/M\n",
            "Color: O, Orders with other colors: W/B/V/O, R/V/Y/O, N/R/V/O/M, W/N/R/B/V/O/M, W/V/O, W/N/R/O, R/B/O\n",
            "Color: M, Orders with other colors: W/N/B/V/Y/G/M, W/N/Y/M, W/B/V/M, N/R/V/O/M, W/N/R/B/V/O/M, W/N/R/B/V/Y/M, N/R/B/Y/M, W/N/R/B/V/Y/G/M\n",
            "Color: P, Orders with other colors: W/R/B/V/Y/P, W/N/B/V/V/Y/P\n"
          ]
        }
      ]
    }
  ]
}
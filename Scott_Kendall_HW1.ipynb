{
  "nbformat": 4,
  "nbformat_minor": 0,
  "metadata": {
    "colab": {
      "provenance": [],
      "authorship_tag": "ABX9TyNQn/ozQ5BNTZoej3T7GBNv",
      "include_colab_link": true
    },
    "kernelspec": {
      "name": "python3",
      "display_name": "Python 3"
    },
    "language_info": {
      "name": "python"
    }
  },
  "cells": [
    {
      "cell_type": "markdown",
      "metadata": {
        "id": "view-in-github",
        "colab_type": "text"
      },
      "source": [
        "<a href=\"https://colab.research.google.com/github/KendallScott/ML2/blob/main/Scott_Kendall_HW1.ipynb\" target=\"_parent\"><img src=\"https://colab.research.google.com/assets/colab-badge.svg\" alt=\"Open In Colab\"/></a>"
      ]
    },
    {
      "cell_type": "code",
      "source": [
        "import numpy as np"
      ],
      "metadata": {
        "id": "qmtfiiELj0_W"
      },
      "execution_count": 1,
      "outputs": []
    },
    {
      "cell_type": "code",
      "execution_count": 2,
      "metadata": {
        "id": "NyQYMgctjd5v"
      },
      "outputs": [],
      "source": [
        "list1 = [1,2,3]\n",
        "list2 = [4,5,6]\n",
        "list3 = list1.extend(list2)\n",
        "#list3 is now [1,2,3,4,5,6]\n"
      ]
    },
    {
      "cell_type": "code",
      "source": [
        "list1 = [1,2,3]\n",
        "list1"
      ],
      "metadata": {
        "colab": {
          "base_uri": "https://localhost:8080/"
        },
        "id": "IMU0cym4mlwf",
        "outputId": "839af6cf-e32c-4703-c899-015dde461025"
      },
      "execution_count": 3,
      "outputs": [
        {
          "output_type": "execute_result",
          "data": {
            "text/plain": [
              "[1, 2, 3]"
            ]
          },
          "metadata": {},
          "execution_count": 3
        }
      ]
    },
    {
      "cell_type": "code",
      "source": [
        "list2 = [4,5,6]\n",
        "list2"
      ],
      "metadata": {
        "colab": {
          "base_uri": "https://localhost:8080/"
        },
        "id": "rYmstvfimoI6",
        "outputId": "f9df56e1-2116-4d29-893b-378090158c9e"
      },
      "execution_count": 4,
      "outputs": [
        {
          "output_type": "execute_result",
          "data": {
            "text/plain": [
              "[4, 5, 6]"
            ]
          },
          "metadata": {},
          "execution_count": 4
        }
      ]
    },
    {
      "cell_type": "code",
      "source": [
        "list3 = list1.extend(list2)"
      ],
      "metadata": {
        "id": "ApR4jN3lj6VP"
      },
      "execution_count": 5,
      "outputs": []
    },
    {
      "cell_type": "code",
      "source": [
        "print(list3)"
      ],
      "metadata": {
        "colab": {
          "base_uri": "https://localhost:8080/"
        },
        "id": "rFfv3NBujvEF",
        "outputId": "b9457b84-9c19-473f-894e-2d0b74b47aac"
      },
      "execution_count": 6,
      "outputs": [
        {
          "output_type": "stream",
          "name": "stdout",
          "text": [
            "None\n"
          ]
        }
      ]
    },
    {
      "cell_type": "code",
      "source": [
        "#index() - Returns the index of a specific element in the list\n",
        "list1 = ['peanut','butter','jelly']\n",
        "butternum=list1.index('butter')\n"
      ],
      "metadata": {
        "id": "EIxCyEtHkRIi"
      },
      "execution_count": 7,
      "outputs": []
    },
    {
      "cell_type": "code",
      "source": [
        "butternum"
      ],
      "metadata": {
        "colab": {
          "base_uri": "https://localhost:8080/"
        },
        "id": "OiwHjTeykdw9",
        "outputId": "fddf5734-dd40-467b-e974-3c8dda4ef270"
      },
      "execution_count": 8,
      "outputs": [
        {
          "output_type": "execute_result",
          "data": {
            "text/plain": [
              "1"
            ]
          },
          "metadata": {},
          "execution_count": 8
        }
      ]
    },
    {
      "cell_type": "code",
      "source": [
        "list1=[1,3,5,7,9]\n",
        "list1.insert(1,2)  # list1 is now [1,2,3,5,7,9]\n",
        "list1"
      ],
      "metadata": {
        "colab": {
          "base_uri": "https://localhost:8080/"
        },
        "id": "wpAYoidgmHNA",
        "outputId": "56d6b251-7571-48c0-e1e6-7bc38cc67b11"
      },
      "execution_count": 9,
      "outputs": [
        {
          "output_type": "execute_result",
          "data": {
            "text/plain": [
              "[1, 2, 3, 5, 7, 9]"
            ]
          },
          "metadata": {},
          "execution_count": 9
        }
      ]
    },
    {
      "cell_type": "code",
      "source": [
        "print(list1)"
      ],
      "metadata": {
        "colab": {
          "base_uri": "https://localhost:8080/"
        },
        "id": "7hxA8i1umO8K",
        "outputId": "75e280de-431b-4f65-a6e8-2185a02cef9e"
      },
      "execution_count": 10,
      "outputs": [
        {
          "output_type": "stream",
          "name": "stdout",
          "text": [
            "[1, 2, 3, 5, 7, 9]\n"
          ]
        }
      ]
    },
    {
      "cell_type": "code",
      "source": [
        "list1=[1,2,3,4,5,6,7]\n",
        "list1\n"
      ],
      "metadata": {
        "colab": {
          "base_uri": "https://localhost:8080/"
        },
        "id": "Dkj1u5aZm-8Y",
        "outputId": "9cb4f52d-5c0c-48e1-e5e7-d8a59d89f423"
      },
      "execution_count": 11,
      "outputs": [
        {
          "output_type": "execute_result",
          "data": {
            "text/plain": [
              "[1, 2, 3, 4, 5, 6, 7]"
            ]
          },
          "metadata": {},
          "execution_count": 11
        }
      ]
    },
    {
      "cell_type": "code",
      "source": [
        "list2=list1.remove(3) #list 2 is now [1,2,4,5,6,7]\n",
        "list2"
      ],
      "metadata": {
        "id": "Td8n_ev1nCLN"
      },
      "execution_count": 12,
      "outputs": []
    },
    {
      "cell_type": "code",
      "source": [
        "print(list1)"
      ],
      "metadata": {
        "colab": {
          "base_uri": "https://localhost:8080/"
        },
        "id": "4lqwya0RnHW-",
        "outputId": "9434fdc3-781b-498e-ad01-5203a6c64fed"
      },
      "execution_count": 13,
      "outputs": [
        {
          "output_type": "stream",
          "name": "stdout",
          "text": [
            "[1, 2, 4, 5, 6, 7]\n"
          ]
        }
      ]
    },
    {
      "cell_type": "code",
      "source": [
        "list1=[1,3,2,4,3,5,4,6,5,7]\n",
        "print(\"Count:\", list1.count(4))\n",
        "\n"
      ],
      "metadata": {
        "colab": {
          "base_uri": "https://localhost:8080/"
        },
        "id": "y6AVqTmqoGww",
        "outputId": "066b8119-4e0d-44a7-d9d3-4dc2a800ad8e"
      },
      "execution_count": 14,
      "outputs": [
        {
          "output_type": "stream",
          "name": "stdout",
          "text": [
            "Count: 2\n"
          ]
        }
      ]
    },
    {
      "cell_type": "code",
      "source": [
        "list1=[1,2,3,4,5,6,7]\n",
        "pop3 = list1.pop(2)\n",
        "list1"
      ],
      "metadata": {
        "colab": {
          "base_uri": "https://localhost:8080/"
        },
        "id": "f9y21uTSntY6",
        "outputId": "a4580086-bf2f-4e0d-c295-fea0bf866ec7"
      },
      "execution_count": 15,
      "outputs": [
        {
          "output_type": "execute_result",
          "data": {
            "text/plain": [
              "[1, 2, 4, 5, 6, 7]"
            ]
          },
          "metadata": {},
          "execution_count": 15
        }
      ]
    },
    {
      "cell_type": "code",
      "source": [
        "list1=[1,2,3,4]\n",
        "list2=list1.reverse()\n"
      ],
      "metadata": {
        "id": "c0DDi1pUofRr"
      },
      "execution_count": 16,
      "outputs": []
    },
    {
      "cell_type": "code",
      "source": [
        "list1.reverse()"
      ],
      "metadata": {
        "id": "UmEtUiNIolTP"
      },
      "execution_count": 17,
      "outputs": []
    },
    {
      "cell_type": "code",
      "source": [
        "list1"
      ],
      "metadata": {
        "colab": {
          "base_uri": "https://localhost:8080/"
        },
        "id": "wDb5ssChoiYz",
        "outputId": "cf777e50-b850-4052-a4b7-5023aa76890e"
      },
      "execution_count": 18,
      "outputs": [
        {
          "output_type": "execute_result",
          "data": {
            "text/plain": [
              "[1, 2, 3, 4]"
            ]
          },
          "metadata": {},
          "execution_count": 18
        }
      ]
    },
    {
      "cell_type": "code",
      "source": [
        "list2"
      ],
      "metadata": {
        "id": "SX67_xJwoqQl"
      },
      "execution_count": 19,
      "outputs": []
    },
    {
      "cell_type": "code",
      "source": [
        "list1=[1,3,2,4,7,5,6]\n",
        "list2=list1.sort()\n",
        "list2\n"
      ],
      "metadata": {
        "id": "mtDBV_sto7xL"
      },
      "execution_count": 20,
      "outputs": []
    },
    {
      "cell_type": "code",
      "source": [
        "list1.sort()"
      ],
      "metadata": {
        "id": "lDZC8mrLpBbU"
      },
      "execution_count": 21,
      "outputs": []
    },
    {
      "cell_type": "code",
      "source": [
        "[x for x in [2,3]]"
      ],
      "metadata": {
        "colab": {
          "base_uri": "https://localhost:8080/"
        },
        "id": "U_BHrJAopCbU",
        "outputId": "209fe4ba-760b-4fdb-a6ed-43a3476da9ec"
      },
      "execution_count": 22,
      "outputs": [
        {
          "output_type": "execute_result",
          "data": {
            "text/plain": [
              "[2, 3]"
            ]
          },
          "metadata": {},
          "execution_count": 22
        }
      ]
    },
    {
      "cell_type": "code",
      "source": [
        "[x for x in [1,2] if x ==1]"
      ],
      "metadata": {
        "colab": {
          "base_uri": "https://localhost:8080/"
        },
        "id": "HZfR0787ppmT",
        "outputId": "1b5200ff-01f7-4400-e839-8a75688d5032"
      },
      "execution_count": 23,
      "outputs": [
        {
          "output_type": "execute_result",
          "data": {
            "text/plain": [
              "[1]"
            ]
          },
          "metadata": {},
          "execution_count": 23
        }
      ]
    },
    {
      "cell_type": "code",
      "source": [
        "[y*2 for x in [[1,2],[3,4]] for y in x]"
      ],
      "metadata": {
        "colab": {
          "base_uri": "https://localhost:8080/"
        },
        "id": "GqjPU2OgpvBo",
        "outputId": "59276103-b247-487d-b2eb-4344809f2b52"
      },
      "execution_count": 24,
      "outputs": [
        {
          "output_type": "execute_result",
          "data": {
            "text/plain": [
              "[2, 4, 6, 8]"
            ]
          },
          "metadata": {},
          "execution_count": 24
        }
      ]
    },
    {
      "cell_type": "code",
      "source": [
        "starting_tup = (\"Apple\",\"Ball\",\"Cat\")\n",
        "tup_dict=dict((x,y) for (x,y) in enumerate(starting_tup))"
      ],
      "metadata": {
        "id": "C_ws1D_arEZ6"
      },
      "execution_count": 25,
      "outputs": []
    },
    {
      "cell_type": "code",
      "source": [
        "\n",
        "starting_tup = (\"Apple\",\"Ball\",\"Cat\")\n",
        "[x for x in starting_tup]"
      ],
      "metadata": {
        "colab": {
          "base_uri": "https://localhost:8080/"
        },
        "id": "5cQG9JShro_-",
        "outputId": "e17a35dc-03c7-4122-b2b5-3d2cec1d886a"
      },
      "execution_count": 26,
      "outputs": [
        {
          "output_type": "execute_result",
          "data": {
            "text/plain": [
              "['Apple', 'Ball', 'Cat']"
            ]
          },
          "metadata": {},
          "execution_count": 26
        }
      ]
    },
    {
      "cell_type": "code",
      "source": [
        "a_dict = {'I hate':'you', 'You should':'leave'}\n",
        "a_dict"
      ],
      "metadata": {
        "colab": {
          "base_uri": "https://localhost:8080/"
        },
        "id": "oNseTmdesDHR",
        "outputId": "98b58103-4491-4bc1-c187-431ef7fd021d"
      },
      "execution_count": 27,
      "outputs": [
        {
          "output_type": "execute_result",
          "data": {
            "text/plain": [
              "{'I hate': 'you', 'You should': 'leave'}"
            ]
          },
          "metadata": {},
          "execution_count": 27
        }
      ]
    },
    {
      "cell_type": "code",
      "source": [
        "a_dict = {'I hate':'you', 'You should':'leave'}\n",
        "a_dict.keys()"
      ],
      "metadata": {
        "colab": {
          "base_uri": "https://localhost:8080/"
        },
        "id": "pli8fPfAsPaj",
        "outputId": "8bb546cf-67c1-4abe-d207-a80c05de9beb"
      },
      "execution_count": 28,
      "outputs": [
        {
          "output_type": "execute_result",
          "data": {
            "text/plain": [
              "dict_keys(['I hate', 'You should'])"
            ]
          },
          "metadata": {},
          "execution_count": 28
        }
      ]
    },
    {
      "cell_type": "code",
      "source": [
        "a_dict.clear()"
      ],
      "metadata": {
        "id": "_HmwrirotNJH"
      },
      "execution_count": 29,
      "outputs": []
    },
    {
      "cell_type": "code",
      "source": [
        "Set1 = {1,2,3,4,5}\n",
        "Set1.discard(5)"
      ],
      "metadata": {
        "id": "Mz8bh0BXtObp"
      },
      "execution_count": 30,
      "outputs": []
    },
    {
      "cell_type": "code",
      "source": [
        "Set1.intersection()\n",
        "Set1 = {1,2,3,4,5}\n",
        "Set2 = {1,0,3,0,5}"
      ],
      "metadata": {
        "id": "e0OufSiTtZU_"
      },
      "execution_count": 31,
      "outputs": []
    },
    {
      "cell_type": "code",
      "source": [
        "Set1.intersection(Set2)"
      ],
      "metadata": {
        "colab": {
          "base_uri": "https://localhost:8080/"
        },
        "id": "IK1wpoWnthNp",
        "outputId": "3a3b9621-8a4b-490f-8505-620901a23bed"
      },
      "execution_count": 32,
      "outputs": [
        {
          "output_type": "execute_result",
          "data": {
            "text/plain": [
              "{1, 3, 5}"
            ]
          },
          "metadata": {},
          "execution_count": 32
        }
      ]
    },
    {
      "cell_type": "code",
      "source": [
        "str1=\"Test String\"\n",
        "print(str1.partition(\"Str\"))"
      ],
      "metadata": {
        "colab": {
          "base_uri": "https://localhost:8080/"
        },
        "id": "ZZUM30_Z0awp",
        "outputId": "c85d5ec0-7072-46a3-b107-3b571e8e106c"
      },
      "execution_count": 33,
      "outputs": [
        {
          "output_type": "stream",
          "name": "stdout",
          "text": [
            "('Test ', 'Str', 'ing')\n"
          ]
        }
      ]
    },
    {
      "cell_type": "code",
      "source": [
        "dir()\n"
      ],
      "metadata": {
        "colab": {
          "base_uri": "https://localhost:8080/"
        },
        "id": "c0vM_R0Q2OW8",
        "outputId": "abd46d40-39c6-4318-c7d9-61841be4310c"
      },
      "execution_count": 34,
      "outputs": [
        {
          "output_type": "execute_result",
          "data": {
            "text/plain": [
              "['In',\n",
              " 'Out',\n",
              " 'Set1',\n",
              " 'Set2',\n",
              " '_',\n",
              " '_11',\n",
              " '_15',\n",
              " '_18',\n",
              " '_22',\n",
              " '_23',\n",
              " '_24',\n",
              " '_26',\n",
              " '_27',\n",
              " '_28',\n",
              " '_3',\n",
              " '_32',\n",
              " '_4',\n",
              " '_8',\n",
              " '_9',\n",
              " '__',\n",
              " '___',\n",
              " '__builtin__',\n",
              " '__builtins__',\n",
              " '__doc__',\n",
              " '__loader__',\n",
              " '__name__',\n",
              " '__package__',\n",
              " '__spec__',\n",
              " '_dh',\n",
              " '_i',\n",
              " '_i1',\n",
              " '_i10',\n",
              " '_i11',\n",
              " '_i12',\n",
              " '_i13',\n",
              " '_i14',\n",
              " '_i15',\n",
              " '_i16',\n",
              " '_i17',\n",
              " '_i18',\n",
              " '_i19',\n",
              " '_i2',\n",
              " '_i20',\n",
              " '_i21',\n",
              " '_i22',\n",
              " '_i23',\n",
              " '_i24',\n",
              " '_i25',\n",
              " '_i26',\n",
              " '_i27',\n",
              " '_i28',\n",
              " '_i29',\n",
              " '_i3',\n",
              " '_i30',\n",
              " '_i31',\n",
              " '_i32',\n",
              " '_i33',\n",
              " '_i34',\n",
              " '_i4',\n",
              " '_i5',\n",
              " '_i6',\n",
              " '_i7',\n",
              " '_i8',\n",
              " '_i9',\n",
              " '_ih',\n",
              " '_ii',\n",
              " '_iii',\n",
              " '_oh',\n",
              " 'a_dict',\n",
              " 'butternum',\n",
              " 'exit',\n",
              " 'get_ipython',\n",
              " 'list1',\n",
              " 'list2',\n",
              " 'list3',\n",
              " 'np',\n",
              " 'pop3',\n",
              " 'quit',\n",
              " 'starting_tup',\n",
              " 'str1',\n",
              " 'tup_dict']"
            ]
          },
          "metadata": {},
          "execution_count": 34
        }
      ]
    },
    {
      "cell_type": "code",
      "source": [
        "from collections import Counter"
      ],
      "metadata": {
        "id": "D4GQsyHJ22CQ"
      },
      "execution_count": 35,
      "outputs": []
    },
    {
      "cell_type": "code",
      "source": [
        "from itertools import *"
      ],
      "metadata": {
        "id": "1xx8vWU53BLi"
      },
      "execution_count": 36,
      "outputs": []
    },
    {
      "cell_type": "markdown",
      "source": [
        "1. Build your own counter object, then use the built-in Counter() and confirm they have the same values.\n",
        "2. Count how many objects have color W in them.\n",
        "3. Make histogram of colors\n",
        "# Hint from JohnP - Itertools has a permutation function that might help with these next two.\n",
        "4. Rank the pairs of colors in each order regardless of how many colors are in an order.\n",
        "5. Rank the triplets of colors in each order regardless of how many colors are in an order.\n",
        "6. Make a dictionary with key=”color” and values = “what other colors it is ordered with”.\n",
        "7. Make a graph showing the probability of having an edge between two colors based on how often they co-occur.  (a numpy square matrix)\n",
        "8. Make 10 business questions related to the questions we asked above.\n"
      ],
      "metadata": {
        "id": "_FCY5fwj3sY1"
      }
    },
    {
      "cell_type": "code",
      "source": [
        "flower_orders=['W/R/B',\n",
        "'W/R/B',\n",
        "'W/R/B',\n",
        "'W/R/B',\n",
        "'W/R/B',\n",
        "'W/R/B',\n",
        "'W/R/B',\n",
        "'W/R/B',\n",
        "'W/R/B',\n",
        "'W/R/B',\n",
        "'W/R/B',\n",
        "'W/R/B',\n",
        "'W/R/B',\n",
        "'W/R/B',\n",
        "'W/R/B',\n",
        "'W/R/B',\n",
        "'W/R/B',\n",
        "'W/R/B',\n",
        "'W/R/B',\n",
        "'W/R/B',\n",
        "'W/R/B',\n",
        "'W/R/B',\n",
        "'W/R/B',\n",
        "'W/R/B',\n",
        "'W/R/B',\n",
        "'W/R/B',\n",
        "'W/R/B',\n",
        "'W/R/B',\n",
        "'W/R/B',\n",
        "'W/R/B',\n",
        "'W/R',\n",
        "'W/R',\n",
        "'W/R',\n",
        "'W/R',\n",
        "'W/R',\n",
        "'W/R',\n",
        "'W/R',\n",
        "'W/R',\n",
        "'W/R',\n",
        "'W/R',\n",
        "'W/R',\n",
        "'W/R',\n",
        "'W/R',\n",
        "'W/R',\n",
        "'W/R',\n",
        "'W/R',\n",
        "'R/V/Y',\n",
        "'R/V/Y',\n",
        "'R/V/Y',\n",
        "'R/V/Y',\n",
        "'R/V/Y',\n",
        "'R/V/Y',\n",
        "'R/V/Y',\n",
        "'R/V/Y',\n",
        "'R/V/Y',\n",
        "'R/V/Y',\n",
        "'W/R/V',\n",
        "'W/R/V',\n",
        "'W/R/V',\n",
        "'W/R/V',\n",
        "'W/R/V',\n",
        "'W/R/V',\n",
        "'W/R/V',\n",
        "'W/R/V',\n",
        "'W/R/V',\n",
        "'W/R/V',\n",
        "'W/N/R/V',\n",
        "'W/N/R/V',\n",
        "'W/N/R/V',\n",
        "'W/N/R/V',\n",
        "'W/N/R/V',\n",
        "'W/N/R/V',\n",
        "'W/N/R/V',\n",
        "'W/N/R/V',\n",
        "'W/R/B/Y',\n",
        "'W/R/B/Y',\n",
        "'W/R/B/Y',\n",
        "'W/R/B/Y',\n",
        "'W/R/B/Y',\n",
        "'W/R/B/Y',\n",
        "'B/Y',\n",
        "'B/Y',\n",
        "'B/Y',\n",
        "'B/Y',\n",
        "'B/Y',\n",
        "'R/B/Y',\n",
        "'R/B/Y',\n",
        "'R/B/Y',\n",
        "'R/B/Y',\n",
        "'R/B/Y',\n",
        "'W/N/R/B/V/Y',\n",
        "'W/N/R/B/V/Y',\n",
        "'W/N/R/B/V/Y',\n",
        "'W/N/R/B/V/Y',\n",
        "'W/N/R/B/V/Y',\n",
        "'W/G',\n",
        "'W/G',\n",
        "'W/G',\n",
        "'W/G',\n",
        "'R/Y',\n",
        "'R/Y',\n",
        "'R/Y',\n",
        "'R/Y',\n",
        "'N/R/V/Y',\n",
        "'N/R/V/Y',\n",
        "'N/R/V/Y',\n",
        "'N/R/V/Y',\n",
        "'W/R/B/V',\n",
        "'W/R/B/V',\n",
        "'W/R/B/V',\n",
        "'W/R/B/V',\n",
        "'W/N/R/V/Y',\n",
        "'W/N/R/V/Y',\n",
        "'W/N/R/V/Y',\n",
        "'W/N/R/V/Y',\n",
        "'N/R/Y',\n",
        "'N/R/Y',\n",
        "'N/R/Y',\n",
        "'W/V/O',\n",
        "'W/V/O',\n",
        "'W/V/O',\n",
        "'W/N/R/Y',\n",
        "'W/N/R/Y',\n",
        "'W/N/R/Y',\n",
        "'R/B/V/Y',\n",
        "'R/B/V/Y',\n",
        "'R/B/V/Y',\n",
        "'W/R/V/Y',\n",
        "'W/R/V/Y',\n",
        "'W/R/V/Y',\n",
        "'W/R/B/V/Y',\n",
        "'W/R/B/V/Y',\n",
        "'W/R/B/V/Y',\n",
        "'W/N/R/B/Y',\n",
        "'W/N/R/B/Y',\n",
        "'W/N/R/B/Y',\n",
        "'R/G',\n",
        "'R/G',\n",
        "'B/V/Y',\n",
        "'B/V/Y',\n",
        "'N/B/Y',\n",
        "'N/B/Y',\n",
        "'W/B/Y',\n",
        "'W/B/Y',\n",
        "'W/N/B',\n",
        "'W/N/B',\n",
        "'W/N/R',\n",
        "'W/N/R',\n",
        "'W/N/B/Y',\n",
        "'W/N/B/Y',\n",
        "'W/B/V/Y',\n",
        "'W/B/V/Y',\n",
        "'W/N/R/B/V/Y/G/M',\n",
        "'W/N/R/B/V/Y/G/M',\n",
        "'B/R',\n",
        "'N/R',\n",
        "'V/Y',\n",
        "'V',\n",
        "'N/R/V',\n",
        "'N/V/Y',\n",
        "'R/B/O',\n",
        "'W/B/V',\n",
        "'W/V/Y',\n",
        "'W/N/R/B',\n",
        "'W/N/R/O',\n",
        "'W/N/R/G',\n",
        "'W/N/V/Y',\n",
        "'W/N/Y/M',\n",
        "'N/R/B/Y',\n",
        "'N/B/V/Y',\n",
        "'R/V/Y/O',\n",
        "'W/B/V/M',\n",
        "'W/B/V/O',\n",
        "'N/R/B/Y/M',\n",
        "'N/R/V/O/M',\n",
        "'W/N/R/Y/G',\n",
        "'N/R/B/V/Y',\n",
        "'W/R/B/V/Y/P',\n",
        "'W/N/R/B/Y/G',\n",
        "'W/N/R/B/V/O/M',\n",
        "'W/N/R/B/V/Y/M',\n",
        "'W/N/B/V/Y/G/M',\n",
        "'W/N/B/V/V/Y/P']"
      ],
      "metadata": {
        "id": "pS2gHuij3h2a"
      },
      "execution_count": 37,
      "outputs": []
    },
    {
      "cell_type": "markdown",
      "source": [
        "## 1. Build your own counter object, then use the built-in Counter() and confirm they have the same values.\n"
      ],
      "metadata": {
        "id": "ec3Pz4yVtNtU"
      }
    },
    {
      "cell_type": "code",
      "source": [
        "y = 0\n",
        "flowers = []\n",
        "\n",
        "for x in flower_orders:\n",
        "  flowers.extend(flower_orders[y].split(\"/\"))\n",
        "  y+=1"
      ],
      "metadata": {
        "id": "GT9vqLyXCn4B"
      },
      "execution_count": 445,
      "outputs": []
    },
    {
      "cell_type": "code",
      "source": [
        "y=0\n",
        "count= []\n",
        "\n",
        "for x in flowers:\n",
        "  count.append(1)\n",
        "print(sum(count))"
      ],
      "metadata": {
        "colab": {
          "base_uri": "https://localhost:8080/"
        },
        "id": "m7FhqLZc79EP",
        "outputId": "3bd29030-eb90-49d7-b1bd-7ce1b9806965"
      },
      "execution_count": 450,
      "outputs": [
        {
          "output_type": "stream",
          "name": "stdout",
          "text": [
            "633\n"
          ]
        }
      ]
    },
    {
      "cell_type": "code",
      "source": [
        "letter_counts = Counter(flowers)\n",
        "letter_counts\n",
        "print(sum(letter_counts.values()))"
      ],
      "metadata": {
        "colab": {
          "base_uri": "https://localhost:8080/"
        },
        "id": "wVQ9g7ucCVCY",
        "outputId": "dee5e37d-61b8-4c2e-93ad-3d2edf3eba5f"
      },
      "execution_count": 446,
      "outputs": [
        {
          "output_type": "stream",
          "name": "stdout",
          "text": [
            "633\n"
          ]
        }
      ]
    },
    {
      "cell_type": "code",
      "source": [
        "len(flowers)"
      ],
      "metadata": {
        "colab": {
          "base_uri": "https://localhost:8080/"
        },
        "id": "Tc4AzEEBTqvz",
        "outputId": "cea31989-eb33-4143-df62-89cca6b4f18a"
      },
      "execution_count": 44,
      "outputs": [
        {
          "output_type": "execute_result",
          "data": {
            "text/plain": [
              "633"
            ]
          },
          "metadata": {},
          "execution_count": 44
        }
      ]
    },
    {
      "cell_type": "markdown",
      "source": [
        "## Count how many objects have color W in them."
      ],
      "metadata": {
        "id": "4ECfrZ1AtGZK"
      }
    },
    {
      "cell_type": "code",
      "source": [
        "y=0\n",
        "count = []\n",
        "for x in flower_orders:\n",
        "  countw = flower_orders[y].count(\"W\")\n",
        "  if countw !=0:\n",
        "    count.append(1)\n",
        "  y+=1\n",
        "\n",
        "sum(count)"
      ],
      "metadata": {
        "colab": {
          "base_uri": "https://localhost:8080/"
        },
        "id": "gwq9xIDgB_p4",
        "outputId": "fc0dae93-8bdf-40b0-9508-d68493dce3f9"
      },
      "execution_count": 437,
      "outputs": [
        {
          "output_type": "execute_result",
          "data": {
            "text/plain": [
              "130"
            ]
          },
          "metadata": {},
          "execution_count": 437
        }
      ]
    },
    {
      "cell_type": "markdown",
      "source": [
        "## Make histogram of colors"
      ],
      "metadata": {
        "id": "INX4pKzCtBmE"
      }
    },
    {
      "cell_type": "code",
      "source": [
        "import matplotlib.pyplot as plt\n",
        "num_bins = 10\n",
        "n, bins, patches = plt.hist(flowers, color = \"lightblue\", ec=\"black\", alpha=0.5)\n",
        "plt.show()"
      ],
      "metadata": {
        "colab": {
          "base_uri": "https://localhost:8080/",
          "height": 430
        },
        "id": "BPBCipJdTI1K",
        "outputId": "f31410de-239f-4396-f025-0f910612c60b"
      },
      "execution_count": 46,
      "outputs": [
        {
          "output_type": "display_data",
          "data": {
            "text/plain": [
              "<Figure size 640x480 with 1 Axes>"
            ],
            "image/png": "[encoded data removed]"
          },
          "metadata": {}
        }
      ]
    },
    {
      "cell_type": "code",
      "source": [
        "y=0\n",
        "pairs = []\n",
        "\n",
        "for x in flower_orders:\n",
        "  pairs.extend(list(pairwise(flower_orders[y].split(\"/\"))))\n",
        "  y+=1\n",
        "pairs_counts = Counter(pairs)\n",
        "pairs_counts"
      ],
      "metadata": {
        "colab": {
          "base_uri": "https://localhost:8080/"
        },
        "id": "QjUlmM28YALe",
        "outputId": "93f448c0-0974-48ef-8006-9a7914bebe60"
      },
      "execution_count": 452,
      "outputs": [
        {
          "output_type": "execute_result",
          "data": {
            "text/plain": [
              "Counter({('W', 'R'): 73,\n",
              "         ('R', 'B'): 70,\n",
              "         ('R', 'V'): 42,\n",
              "         ('V', 'Y'): 49,\n",
              "         ('W', 'N'): 42,\n",
              "         ('N', 'R'): 47,\n",
              "         ('B', 'Y'): 28,\n",
              "         ('B', 'V'): 31,\n",
              "         ('W', 'G'): 4,\n",
              "         ('R', 'Y'): 11,\n",
              "         ('W', 'V'): 4,\n",
              "         ('V', 'O'): 6,\n",
              "         ('R', 'G'): 3,\n",
              "         ('N', 'B'): 9,\n",
              "         ('W', 'B'): 7,\n",
              "         ('Y', 'G'): 5,\n",
              "         ('G', 'M'): 3,\n",
              "         ('B', 'R'): 1,\n",
              "         ('N', 'V'): 2,\n",
              "         ('B', 'O'): 1,\n",
              "         ('R', 'O'): 1,\n",
              "         ('N', 'Y'): 1,\n",
              "         ('Y', 'M'): 3,\n",
              "         ('Y', 'O'): 1,\n",
              "         ('V', 'M'): 1,\n",
              "         ('O', 'M'): 2,\n",
              "         ('Y', 'P'): 2,\n",
              "         ('V', 'V'): 1})"
            ]
          },
          "metadata": {},
          "execution_count": 452
        }
      ]
    },
    {
      "cell_type": "code",
      "source": [
        "y=0\n",
        "pairs = []\n",
        "\n",
        "for x in flower_orders:\n",
        "  pairs.extend((list(pairwise(flower_orders[y].split(\"/\")))))\n",
        "  y+=1\n",
        "\n",
        "pairs"
      ],
      "metadata": {
        "colab": {
          "base_uri": "https://localhost:8080/"
        },
        "id": "ehmtKYAnceFS",
        "outputId": "cd61478b-5d1e-4580-b47b-7fa5c392e2ad"
      },
      "execution_count": 455,
      "outputs": [
        {
          "output_type": "execute_result",
          "data": {
            "text/plain": [
              "[('W', 'R'),\n",
              " ('R', 'B'),\n",
              " ('W', 'R'),\n",
              " ('R', 'B'),\n",
              " ('W', 'R'),\n",
              " ('R', 'B'),\n",
              " ('W', 'R'),\n",
              " ('R', 'B'),\n",
              " ('W', 'R'),\n",
              " ('R', 'B'),\n",
              " ('W', 'R'),\n",
              " ('R', 'B'),\n",
              " ('W', 'R'),\n",
              " ('R', 'B'),\n",
              " ('W', 'R'),\n",
              " ('R', 'B'),\n",
              " ('W', 'R'),\n",
              " ('R', 'B'),\n",
              " ('W', 'R'),\n",
              " ('R', 'B'),\n",
              " ('W', 'R'),\n",
              " ('R', 'B'),\n",
              " ('W', 'R'),\n",
              " ('R', 'B'),\n",
              " ('W', 'R'),\n",
              " ('R', 'B'),\n",
              " ('W', 'R'),\n",
              " ('R', 'B'),\n",
              " ('W', 'R'),\n",
              " ('R', 'B'),\n",
              " ('W', 'R'),\n",
              " ('R', 'B'),\n",
              " ('W', 'R'),\n",
              " ('R', 'B'),\n",
              " ('W', 'R'),\n",
              " ('R', 'B'),\n",
              " ('W', 'R'),\n",
              " ('R', 'B'),\n",
              " ('W', 'R'),\n",
              " ('R', 'B'),\n",
              " ('W', 'R'),\n",
              " ('R', 'B'),\n",
              " ('W', 'R'),\n",
              " ('R', 'B'),\n",
              " ('W', 'R'),\n",
              " ('R', 'B'),\n",
              " ('W', 'R'),\n",
              " ('R', 'B'),\n",
              " ('W', 'R'),\n",
              " ('R', 'B'),\n",
              " ('W', 'R'),\n",
              " ('R', 'B'),\n",
              " ('W', 'R'),\n",
              " ('R', 'B'),\n",
              " ('W', 'R'),\n",
              " ('R', 'B'),\n",
              " ('W', 'R'),\n",
              " ('R', 'B'),\n",
              " ('W', 'R'),\n",
              " ('R', 'B'),\n",
              " ('W', 'R'),\n",
              " ('W', 'R'),\n",
              " ('W', 'R'),\n",
              " ('W', 'R'),\n",
              " ('W', 'R'),\n",
              " ('W', 'R'),\n",
              " ('W', 'R'),\n",
              " ('W', 'R'),\n",
              " ('W', 'R'),\n",
              " ('W', 'R'),\n",
              " ('W', 'R'),\n",
              " ('W', 'R'),\n",
              " ('W', 'R'),\n",
              " ('W', 'R'),\n",
              " ('W', 'R'),\n",
              " ('W', 'R'),\n",
              " ('R', 'V'),\n",
              " ('V', 'Y'),\n",
              " ('R', 'V'),\n",
              " ('V', 'Y'),\n",
              " ('R', 'V'),\n",
              " ('V', 'Y'),\n",
              " ('R', 'V'),\n",
              " ('V', 'Y'),\n",
              " ('R', 'V'),\n",
              " ('V', 'Y'),\n",
              " ('R', 'V'),\n",
              " ('V', 'Y'),\n",
              " ('R', 'V'),\n",
              " ('V', 'Y'),\n",
              " ('R', 'V'),\n",
              " ('V', 'Y'),\n",
              " ('R', 'V'),\n",
              " ('V', 'Y'),\n",
              " ('R', 'V'),\n",
              " ('V', 'Y'),\n",
              " ('W', 'R'),\n",
              " ('R', 'V'),\n",
              " ('W', 'R'),\n",
              " ('R', 'V'),\n",
              " ('W', 'R'),\n",
              " ('R', 'V'),\n",
              " ('W', 'R'),\n",
              " ('R', 'V'),\n",
              " ('W', 'R'),\n",
              " ('R', 'V'),\n",
              " ('W', 'R'),\n",
              " ('R', 'V'),\n",
              " ('W', 'R'),\n",
              " ('R', 'V'),\n",
              " ('W', 'R'),\n",
              " ('R', 'V'),\n",
              " ('W', 'R'),\n",
              " ('R', 'V'),\n",
              " ('W', 'R'),\n",
              " ('R', 'V'),\n",
              " ('W', 'N'),\n",
              " ('N', 'R'),\n",
              " ('R', 'V'),\n",
              " ('W', 'N'),\n",
              " ('N', 'R'),\n",
              " ('R', 'V'),\n",
              " ('W', 'N'),\n",
              " ('N', 'R'),\n",
              " ('R', 'V'),\n",
              " ('W', 'N'),\n",
              " ('N', 'R'),\n",
              " ('R', 'V'),\n",
              " ('W', 'N'),\n",
              " ('N', 'R'),\n",
              " ('R', 'V'),\n",
              " ('W', 'N'),\n",
              " ('N', 'R'),\n",
              " ('R', 'V'),\n",
              " ('W', 'N'),\n",
              " ('N', 'R'),\n",
              " ('R', 'V'),\n",
              " ('W', 'N'),\n",
              " ('N', 'R'),\n",
              " ('R', 'V'),\n",
              " ('W', 'R'),\n",
              " ('R', 'B'),\n",
              " ('B', 'Y'),\n",
              " ('W', 'R'),\n",
              " ('R', 'B'),\n",
              " ('B', 'Y'),\n",
              " ('W', 'R'),\n",
              " ('R', 'B'),\n",
              " ('B', 'Y'),\n",
              " ('W', 'R'),\n",
              " ('R', 'B'),\n",
              " ('B', 'Y'),\n",
              " ('W', 'R'),\n",
              " ('R', 'B'),\n",
              " ('B', 'Y'),\n",
              " ('W', 'R'),\n",
              " ('R', 'B'),\n",
              " ('B', 'Y'),\n",
              " ('B', 'Y'),\n",
              " ('B', 'Y'),\n",
              " ('B', 'Y'),\n",
              " ('B', 'Y'),\n",
              " ('B', 'Y'),\n",
              " ('R', 'B'),\n",
              " ('B', 'Y'),\n",
              " ('R', 'B'),\n",
              " ('B', 'Y'),\n",
              " ('R', 'B'),\n",
              " ('B', 'Y'),\n",
              " ('R', 'B'),\n",
              " ('B', 'Y'),\n",
              " ('R', 'B'),\n",
              " ('B', 'Y'),\n",
              " ('W', 'N'),\n",
              " ('N', 'R'),\n",
              " ('R', 'B'),\n",
              " ('B', 'V'),\n",
              " ('V', 'Y'),\n",
              " ('W', 'N'),\n",
              " ('N', 'R'),\n",
              " ('R', 'B'),\n",
              " ('B', 'V'),\n",
              " ('V', 'Y'),\n",
              " ('W', 'N'),\n",
              " ('N', 'R'),\n",
              " ('R', 'B'),\n",
              " ('B', 'V'),\n",
              " ('V', 'Y'),\n",
              " ('W', 'N'),\n",
              " ('N', 'R'),\n",
              " ('R', 'B'),\n",
              " ('B', 'V'),\n",
              " ('V', 'Y'),\n",
              " ('W', 'N'),\n",
              " ('N', 'R'),\n",
              " ('R', 'B'),\n",
              " ('B', 'V'),\n",
              " ('V', 'Y'),\n",
              " ('W', 'G'),\n",
              " ('W', 'G'),\n",
              " ('W', 'G'),\n",
              " ('W', 'G'),\n",
              " ('R', 'Y'),\n",
              " ('R', 'Y'),\n",
              " ('R', 'Y'),\n",
              " ('R', 'Y'),\n",
              " ('N', 'R'),\n",
              " ('R', 'V'),\n",
              " ('V', 'Y'),\n",
              " ('N', 'R'),\n",
              " ('R', 'V'),\n",
              " ('V', 'Y'),\n",
              " ('N', 'R'),\n",
              " ('R', 'V'),\n",
              " ('V', 'Y'),\n",
              " ('N', 'R'),\n",
              " ('R', 'V'),\n",
              " ('V', 'Y'),\n",
              " ('W', 'R'),\n",
              " ('R', 'B'),\n",
              " ('B', 'V'),\n",
              " ('W', 'R'),\n",
              " ('R', 'B'),\n",
              " ('B', 'V'),\n",
              " ('W', 'R'),\n",
              " ('R', 'B'),\n",
              " ('B', 'V'),\n",
              " ('W', 'R'),\n",
              " ('R', 'B'),\n",
              " ('B', 'V'),\n",
              " ('W', 'N'),\n",
              " ('N', 'R'),\n",
              " ('R', 'V'),\n",
              " ('V', 'Y'),\n",
              " ('W', 'N'),\n",
              " ('N', 'R'),\n",
              " ('R', 'V'),\n",
              " ('V', 'Y'),\n",
              " ('W', 'N'),\n",
              " ('N', 'R'),\n",
              " ('R', 'V'),\n",
              " ('V', 'Y'),\n",
              " ('W', 'N'),\n",
              " ('N', 'R'),\n",
              " ('R', 'V'),\n",
              " ('V', 'Y'),\n",
              " ('N', 'R'),\n",
              " ('R', 'Y'),\n",
              " ('N', 'R'),\n",
              " ('R', 'Y'),\n",
              " ('N', 'R'),\n",
              " ('R', 'Y'),\n",
              " ('W', 'V'),\n",
              " ('V', 'O'),\n",
              " ('W', 'V'),\n",
              " ('V', 'O'),\n",
              " ('W', 'V'),\n",
              " ('V', 'O'),\n",
              " ('W', 'N'),\n",
              " ('N', 'R'),\n",
              " ('R', 'Y'),\n",
              " ('W', 'N'),\n",
              " ('N', 'R'),\n",
              " ('R', 'Y'),\n",
              " ('W', 'N'),\n",
              " ('N', 'R'),\n",
              " ('R', 'Y'),\n",
              " ('R', 'B'),\n",
              " ('B', 'V'),\n",
              " ('V', 'Y'),\n",
              " ('R', 'B'),\n",
              " ('B', 'V'),\n",
              " ('V', 'Y'),\n",
              " ('R', 'B'),\n",
              " ('B', 'V'),\n",
              " ('V', 'Y'),\n",
              " ('W', 'R'),\n",
              " ('R', 'V'),\n",
              " ('V', 'Y'),\n",
              " ('W', 'R'),\n",
              " ('R', 'V'),\n",
              " ('V', 'Y'),\n",
              " ('W', 'R'),\n",
              " ('R', 'V'),\n",
              " ('V', 'Y'),\n",
              " ('W', 'R'),\n",
              " ('R', 'B'),\n",
              " ('B', 'V'),\n",
              " ('V', 'Y'),\n",
              " ('W', 'R'),\n",
              " ('R', 'B'),\n",
              " ('B', 'V'),\n",
              " ('V', 'Y'),\n",
              " ('W', 'R'),\n",
              " ('R', 'B'),\n",
              " ('B', 'V'),\n",
              " ('V', 'Y'),\n",
              " ('W', 'N'),\n",
              " ('N', 'R'),\n",
              " ('R', 'B'),\n",
              " ('B', 'Y'),\n",
              " ('W', 'N'),\n",
              " ('N', 'R'),\n",
              " ('R', 'B'),\n",
              " ('B', 'Y'),\n",
              " ('W', 'N'),\n",
              " ('N', 'R'),\n",
              " ('R', 'B'),\n",
              " ('B', 'Y'),\n",
              " ('R', 'G'),\n",
              " ('R', 'G'),\n",
              " ('B', 'V'),\n",
              " ('V', 'Y'),\n",
              " ('B', 'V'),\n",
              " ('V', 'Y'),\n",
              " ('N', 'B'),\n",
              " ('B', 'Y'),\n",
              " ('N', 'B'),\n",
              " ('B', 'Y'),\n",
              " ('W', 'B'),\n",
              " ('B', 'Y'),\n",
              " ('W', 'B'),\n",
              " ('B', 'Y'),\n",
              " ('W', 'N'),\n",
              " ('N', 'B'),\n",
              " ('W', 'N'),\n",
              " ('N', 'B'),\n",
              " ('W', 'N'),\n",
              " ('N', 'R'),\n",
              " ('W', 'N'),\n",
              " ('N', 'R'),\n",
              " ('W', 'N'),\n",
              " ('N', 'B'),\n",
              " ('B', 'Y'),\n",
              " ('W', 'N'),\n",
              " ('N', 'B'),\n",
              " ('B', 'Y'),\n",
              " ('W', 'B'),\n",
              " ('B', 'V'),\n",
              " ('V', 'Y'),\n",
              " ('W', 'B'),\n",
              " ('B', 'V'),\n",
              " ('V', 'Y'),\n",
              " ('W', 'N'),\n",
              " ('N', 'R'),\n",
              " ('R', 'B'),\n",
              " ('B', 'V'),\n",
              " ('V', 'Y'),\n",
              " ('Y', 'G'),\n",
              " ('G', 'M'),\n",
              " ('W', 'N'),\n",
              " ('N', 'R'),\n",
              " ('R', 'B'),\n",
              " ('B', 'V'),\n",
              " ('V', 'Y'),\n",
              " ('Y', 'G'),\n",
              " ('G', 'M'),\n",
              " ('B', 'R'),\n",
              " ('N', 'R'),\n",
              " ('V', 'Y'),\n",
              " ('N', 'R'),\n",
              " ('R', 'V'),\n",
              " ('N', 'V'),\n",
              " ('V', 'Y'),\n",
              " ('R', 'B'),\n",
              " ('B', 'O'),\n",
              " ('W', 'B'),\n",
              " ('B', 'V'),\n",
              " ('W', 'V'),\n",
              " ('V', 'Y'),\n",
              " ('W', 'N'),\n",
              " ('N', 'R'),\n",
              " ('R', 'B'),\n",
              " ('W', 'N'),\n",
              " ('N', 'R'),\n",
              " ('R', 'O'),\n",
              " ('W', 'N'),\n",
              " ('N', 'R'),\n",
              " ('R', 'G'),\n",
              " ('W', 'N'),\n",
              " ('N', 'V'),\n",
              " ('V', 'Y'),\n",
              " ('W', 'N'),\n",
              " ('N', 'Y'),\n",
              " ('Y', 'M'),\n",
              " ('N', 'R'),\n",
              " ('R', 'B'),\n",
              " ('B', 'Y'),\n",
              " ('N', 'B'),\n",
              " ('B', 'V'),\n",
              " ('V', 'Y'),\n",
              " ('R', 'V'),\n",
              " ('V', 'Y'),\n",
              " ('Y', 'O'),\n",
              " ('W', 'B'),\n",
              " ('B', 'V'),\n",
              " ('V', 'M'),\n",
              " ('W', 'B'),\n",
              " ('B', 'V'),\n",
              " ('V', 'O'),\n",
              " ('N', 'R'),\n",
              " ('R', 'B'),\n",
              " ('B', 'Y'),\n",
              " ('Y', 'M'),\n",
              " ('N', 'R'),\n",
              " ('R', 'V'),\n",
              " ('V', 'O'),\n",
              " ('O', 'M'),\n",
              " ('W', 'N'),\n",
              " ('N', 'R'),\n",
              " ('R', 'Y'),\n",
              " ('Y', 'G'),\n",
              " ('N', 'R'),\n",
              " ('R', 'B'),\n",
              " ('B', 'V'),\n",
              " ('V', 'Y'),\n",
              " ('W', 'R'),\n",
              " ('R', 'B'),\n",
              " ('B', 'V'),\n",
              " ('V', 'Y'),\n",
              " ('Y', 'P'),\n",
              " ('W', 'N'),\n",
              " ('N', 'R'),\n",
              " ('R', 'B'),\n",
              " ('B', 'Y'),\n",
              " ('Y', 'G'),\n",
              " ('W', 'N'),\n",
              " ('N', 'R'),\n",
              " ('R', 'B'),\n",
              " ('B', 'V'),\n",
              " ('V', 'O'),\n",
              " ('O', 'M'),\n",
              " ('W', 'N'),\n",
              " ('N', 'R'),\n",
              " ('R', 'B'),\n",
              " ('B', 'V'),\n",
              " ('V', 'Y'),\n",
              " ('Y', 'M'),\n",
              " ('W', 'N'),\n",
              " ('N', 'B'),\n",
              " ('B', 'V'),\n",
              " ('V', 'Y'),\n",
              " ('Y', 'G'),\n",
              " ('G', 'M'),\n",
              " ('W', 'N'),\n",
              " ('N', 'B'),\n",
              " ('B', 'V'),\n",
              " ('V', 'V'),\n",
              " ('V', 'Y'),\n",
              " ('Y', 'P')]"
            ]
          },
          "metadata": {},
          "execution_count": 455
        }
      ]
    },
    {
      "cell_type": "code",
      "source": [
        "y = 0\n",
        "flowers = []\n",
        "pairs = []\n",
        "for x in flower_orders:\n",
        "  flowers = flower_orders[y].split(\"/\")\n",
        "  pairs.extend(list(permutations(flowers,3)))\n",
        "\n",
        "  y+=1\n",
        "  Counter(pairs)"
      ],
      "metadata": {
        "id": "FI8C10xzdQFz"
      },
      "execution_count": 456,
      "outputs": []
    },
    {
      "cell_type": "markdown",
      "source": [
        "## Rank the pairs of colors in each order regardless of how many colors are in an order."
      ],
      "metadata": {
        "id": "Ti_wFdMoswNN"
      }
    },
    {
      "cell_type": "code",
      "source": [
        "y = 0\n",
        "flowers = []\n",
        "color = ()\n",
        "pairs = []\n",
        "\n",
        "for x in flower_orders:\n",
        "  flowers = flower_orders[y].split(\"/\")\n",
        "  pairs.extend(list(permutations(flowers,2)))\n",
        " # colors.update()\n",
        "\n",
        "  y+=1\n",
        "\n",
        "print(Counter(list(pairs)))"
      ],
      "metadata": {
        "colab": {
          "base_uri": "https://localhost:8080/"
        },
        "id": "7dFtX6eNsnnB",
        "outputId": "b2c1b0f2-c457-47c6-865d-21d76935d0ed"
      },
      "execution_count": 461,
      "outputs": [
        {
          "output_type": "stream",
          "name": "stdout",
          "text": [
            "Counter({('W', 'R'): 107, ('R', 'W'): 107, ('W', 'B'): 71, ('R', 'B'): 71, ('B', 'W'): 71, ('B', 'R'): 71, ('R', 'Y'): 66, ('Y', 'R'): 66, ('R', 'V'): 63, ('V', 'R'): 63, ('W', 'V'): 55, ('V', 'W'): 55, ('B', 'Y'): 51, ('Y', 'B'): 51, ('V', 'Y'): 50, ('Y', 'V'): 50, ('N', 'R'): 47, ('R', 'N'): 47, ('W', 'Y'): 44, ('Y', 'W'): 44, ('W', 'N'): 42, ('N', 'W'): 42, ('N', 'Y'): 40, ('Y', 'N'): 40, ('N', 'V'): 34, ('V', 'N'): 34, ('B', 'V'): 32, ('V', 'B'): 32, ('N', 'B'): 26, ('B', 'N'): 26, ('W', 'G'): 10, ('G', 'W'): 10, ('N', 'M'): 8, ('M', 'N'): 8, ('V', 'O'): 7, ('O', 'V'): 7, ('R', 'G'): 7, ('G', 'R'): 7, ('W', 'M'): 7, ('B', 'M'): 7, ('V', 'M'): 7, ('M', 'W'): 7, ('M', 'B'): 7, ('M', 'V'): 7, ('W', 'O'): 6, ('O', 'W'): 6, ('N', 'G'): 6, ('R', 'M'): 6, ('Y', 'M'): 6, ('G', 'N'): 6, ('M', 'R'): 6, ('M', 'Y'): 6, ('Y', 'G'): 5, ('G', 'Y'): 5, ('R', 'O'): 5, ('O', 'R'): 5, ('B', 'G'): 4, ('G', 'B'): 4, ('V', 'G'): 3, ('G', 'V'): 3, ('G', 'M'): 3, ('M', 'G'): 3, ('B', 'O'): 3, ('O', 'B'): 3, ('N', 'O'): 3, ('O', 'N'): 3, ('V', 'P'): 3, ('P', 'V'): 3, ('O', 'M'): 2, ('M', 'O'): 2, ('W', 'P'): 2, ('B', 'P'): 2, ('Y', 'P'): 2, ('P', 'W'): 2, ('P', 'B'): 2, ('P', 'Y'): 2, ('V', 'V'): 2, ('Y', 'O'): 1, ('O', 'Y'): 1, ('R', 'P'): 1, ('P', 'R'): 1, ('N', 'P'): 1, ('P', 'N'): 1})\n"
          ]
        }
      ]
    },
    {
      "cell_type": "markdown",
      "source": [
        "## Rank the triplets of colors in each order regardless of how many colors are in an order."
      ],
      "metadata": {
        "id": "Kr2GcQw2shUn"
      }
    },
    {
      "cell_type": "code",
      "source": [
        "y = 0\n",
        "flowers = []\n",
        "color = ()\n",
        "pairs = []\n",
        "\n",
        "for x in flower_orders:\n",
        "  flowers = flower_orders[y].split(\"/\")\n",
        "  pairs.extend(list(permutations(flowers,3)))\n",
        " # colors.update()\n",
        "\n",
        "  y+=1\n",
        "\n",
        "print(Counter(list(pairs)))"
      ],
      "metadata": {
        "colab": {
          "base_uri": "https://localhost:8080/"
        },
        "id": "qKoU_yHKnnhd",
        "outputId": "f252c4e8-f190-466d-cd25-fdb925f19210"
      },
      "execution_count": 517,
      "outputs": [
        {
          "output_type": "stream",
          "name": "stdout",
          "text": [
            "Counter({('W', 'R', 'B'): 58, ('W', 'B', 'R'): 58, ('R', 'W', 'B'): 58, ('R', 'B', 'W'): 58, ('B', 'W', 'R'): 58, ('B', 'R', 'W'): 58, ('W', 'R', 'V'): 42, ('W', 'V', 'R'): 42, ('R', 'W', 'V'): 42, ('R', 'V', 'W'): 42, ('V', 'W', 'R'): 42, ('V', 'R', 'W'): 42, ('R', 'V', 'Y'): 38, ('R', 'Y', 'V'): 38, ('V', 'R', 'Y'): 38, ('V', 'Y', 'R'): 38, ('Y', 'R', 'V'): 38, ('Y', 'V', 'R'): 38, ('W', 'N', 'R'): 34, ('W', 'R', 'N'): 34, ('N', 'W', 'R'): 34, ('N', 'R', 'W'): 34, ('R', 'W', 'N'): 34, ('R', 'N', 'W'): 34, ('W', 'R', 'Y'): 33, ('W', 'Y', 'R'): 33, ('R', 'W', 'Y'): 33, ('R', 'B', 'Y'): 33, ('R', 'Y', 'W'): 33, ('R', 'Y', 'B'): 33, ('B', 'R', 'Y'): 33, ('B', 'Y', 'R'): 33, ('Y', 'W', 'R'): 33, ('Y', 'R', 'W'): 33, ('Y', 'R', 'B'): 33, ('Y', 'B', 'R'): 33, ('W', 'B', 'Y'): 30, ('W', 'Y', 'B'): 30, ('B', 'W', 'Y'): 30, ('B', 'Y', 'W'): 30, ('Y', 'W', 'B'): 30, ('Y', 'B', 'W'): 30, ('N', 'R', 'Y'): 30, ('N', 'Y', 'R'): 30, ('R', 'N', 'Y'): 30, ('R', 'Y', 'N'): 30, ('Y', 'N', 'R'): 30, ('Y', 'R', 'N'): 30, ('N', 'R', 'V'): 28, ('N', 'V', 'R'): 28, ('R', 'N', 'V'): 28, ('R', 'V', 'N'): 28, ('V', 'N', 'R'): 28, ('V', 'R', 'N'): 28, ('W', 'N', 'Y'): 26, ('W', 'V', 'Y'): 26, ('W', 'Y', 'N'): 26, ('W', 'Y', 'V'): 26, ('N', 'W', 'Y'): 26, ('N', 'Y', 'W'): 26, ('V', 'W', 'Y'): 26, ('V', 'Y', 'W'): 26, ('Y', 'W', 'N'): 26, ('Y', 'W', 'V'): 26, ('Y', 'N', 'W'): 26, ('Y', 'V', 'W'): 26, ('W', 'N', 'V'): 25, ('W', 'V', 'N'): 25, ('N', 'W', 'V'): 25, ('N', 'V', 'W'): 25, ('V', 'W', 'N'): 25, ('V', 'N', 'W'): 25, ('W', 'B', 'V'): 25, ('W', 'V', 'B'): 25, ('B', 'W', 'V'): 25, ('B', 'V', 'W'): 25, ('V', 'W', 'B'): 25, ('V', 'B', 'W'): 25, ('B', 'V', 'Y'): 24, ('B', 'Y', 'V'): 24, ('V', 'B', 'Y'): 24, ('V', 'Y', 'B'): 24, ('Y', 'B', 'V'): 24, ('Y', 'V', 'B'): 24, ('N', 'V', 'Y'): 23, ('N', 'Y', 'V'): 23, ('V', 'N', 'Y'): 23, ('V', 'Y', 'N'): 23, ('Y', 'N', 'V'): 23, ('Y', 'V', 'N'): 23, ('N', 'B', 'Y'): 22, ('N', 'Y', 'B'): 22, ('B', 'N', 'Y'): 22, ('B', 'Y', 'N'): 22, ('Y', 'N', 'B'): 22, ('Y', 'B', 'N'): 22, ('R', 'B', 'V'): 21, ('R', 'V', 'B'): 21, ('B', 'R', 'V'): 21, ('B', 'V', 'R'): 21, ('V', 'R', 'B'): 21, ('V', 'B', 'R'): 21, ('W', 'N', 'B'): 20, ('W', 'B', 'N'): 20, ('N', 'W', 'B'): 20, ('N', 'B', 'W'): 20, ('B', 'W', 'N'): 20, ('B', 'N', 'W'): 20, ('N', 'R', 'B'): 17, ('N', 'B', 'R'): 17, ('R', 'N', 'B'): 17, ('R', 'B', 'N'): 17, ('B', 'N', 'R'): 17, ('B', 'R', 'N'): 17, ('N', 'B', 'V'): 14, ('N', 'V', 'B'): 14, ('B', 'N', 'V'): 14, ('B', 'V', 'N'): 14, ('V', 'N', 'B'): 14, ('V', 'B', 'N'): 14, ('W', 'N', 'G'): 6, ('W', 'N', 'M'): 6, ('W', 'B', 'M'): 6, ('W', 'V', 'M'): 6, ('W', 'G', 'N'): 6, ('W', 'M', 'N'): 6, ('W', 'M', 'B'): 6, ('W', 'M', 'V'): 6, ('N', 'W', 'G'): 6, ('N', 'W', 'M'): 6, ('N', 'R', 'M'): 6, ('N', 'B', 'M'): 6, ('N', 'V', 'M'): 6, ('N', 'Y', 'M'): 6, ('N', 'G', 'W'): 6, ('N', 'M', 'W'): 6, ('N', 'M', 'R'): 6, ('N', 'M', 'B'): 6, ('N', 'M', 'V'): 6, ('N', 'M', 'Y'): 6, ('R', 'N', 'M'): 6, ('R', 'M', 'N'): 6, ('B', 'W', 'M'): 6, ('B', 'N', 'M'): 6, ('B', 'V', 'M'): 6, ('B', 'M', 'W'): 6, ('B', 'M', 'N'): 6, ('B', 'M', 'V'): 6, ('V', 'W', 'M'): 6, ('V', 'N', 'M'): 6, ('V', 'B', 'M'): 6, ('V', 'M', 'W'): 6, ('V', 'M', 'N'): 6, ('V', 'M', 'B'): 6, ('Y', 'N', 'M'): 6, ('Y', 'M', 'N'): 6, ('G', 'W', 'N'): 6, ('G', 'N', 'W'): 6, ('M', 'W', 'N'): 6, ('M', 'W', 'B'): 6, ('M', 'W', 'V'): 6, ('M', 'N', 'W'): 6, ('M', 'N', 'R'): 6, ('M', 'N', 'B'): 6, ('M', 'N', 'V'): 6, ('M', 'N', 'Y'): 6, ('M', 'R', 'N'): 6, ('M', 'B', 'W'): 6, ('M', 'B', 'N'): 6, ('M', 'B', 'V'): 6, ('M', 'V', 'W'): 6, ('M', 'V', 'N'): 6, ('M', 'V', 'B'): 6, ('M', 'Y', 'N'): 6, ('W', 'V', 'O'): 5, ('W', 'O', 'V'): 5, ('V', 'W', 'O'): 5, ('V', 'O', 'W'): 5, ('O', 'W', 'V'): 5, ('O', 'V', 'W'): 5, ('W', 'R', 'G'): 5, ('W', 'Y', 'G'): 5, ('W', 'Y', 'M'): 5, ('W', 'G', 'R'): 5, ('W', 'G', 'Y'): 5, ('W', 'M', 'Y'): 5, ('N', 'R', 'G'): 5, ('N', 'Y', 'G'): 5, ('N', 'G', 'R'): 5, ('N', 'G', 'Y'): 5, ('R', 'W', 'G'): 5, ('R', 'N', 'G'): 5, ('R', 'B', 'M'): 5, ('R', 'V', 'M'): 5, ('R', 'G', 'W'): 5, ('R', 'G', 'N'): 5, ('R', 'M', 'B'): 5, ('R', 'M', 'V'): 5, ('B', 'R', 'M'): 5, ('B', 'Y', 'M'): 5, ('B', 'M', 'R'): 5, ('B', 'M', 'Y'): 5, ('V', 'R', 'M'): 5, ('V', 'M', 'R'): 5, ('Y', 'W', 'G'): 5, ('Y', 'W', 'M'): 5, ('Y', 'N', 'G'): 5, ('Y', 'B', 'M'): 5, ('Y', 'G', 'W'): 5, ('Y', 'G', 'N'): 5, ('Y', 'M', 'W'): 5, ('Y', 'M', 'B'): 5, ('G', 'W', 'R'): 5, ('G', 'W', 'Y'): 5, ('G', 'N', 'R'): 5, ('G', 'N', 'Y'): 5, ('G', 'R', 'W'): 5, ('G', 'R', 'N'): 5, ('G', 'Y', 'W'): 5, ('G', 'Y', 'N'): 5, ('M', 'W', 'Y'): 5, ('M', 'R', 'B'): 5, ('M', 'R', 'V'): 5, ('M', 'B', 'R'): 5, ('M', 'B', 'Y'): 5, ('M', 'V', 'R'): 5, ('M', 'Y', 'W'): 5, ('M', 'Y', 'B'): 5, ('W', 'R', 'M'): 4, ('W', 'B', 'G'): 4, ('W', 'G', 'B'): 4, ('W', 'M', 'R'): 4, ('N', 'B', 'G'): 4, ('N', 'G', 'B'): 4, ('R', 'W', 'M'): 4, ('R', 'Y', 'G'): 4, ('R', 'Y', 'M'): 4, ('R', 'G', 'Y'): 4, ('R', 'M', 'W'): 4, ('R', 'M', 'Y'): 4, ('B', 'W', 'G'): 4, ('B', 'N', 'G'): 4, ('B', 'Y', 'G'): 4, ('B', 'G', 'W'): 4, ('B', 'G', 'N'): 4, ('B', 'G', 'Y'): 4, ('V', 'Y', 'M'): 4, ('V', 'M', 'Y'): 4, ('Y', 'R', 'G'): 4, ('Y', 'R', 'M'): 4, ('Y', 'B', 'G'): 4, ('Y', 'V', 'M'): 4, ('Y', 'G', 'R'): 4, ('Y', 'G', 'B'): 4, ('Y', 'M', 'R'): 4, ('Y', 'M', 'V'): 4, ('G', 'W', 'B'): 4, ('G', 'N', 'B'): 4, ('G', 'R', 'Y'): 4, ('G', 'B', 'W'): 4, ('G', 'B', 'N'): 4, ('G', 'B', 'Y'): 4, ('G', 'Y', 'R'): 4, ('G', 'Y', 'B'): 4, ('M', 'W', 'R'): 4, ('M', 'R', 'W'): 4, ('M', 'R', 'Y'): 4, ('M', 'V', 'Y'): 4, ('M', 'Y', 'R'): 4, ('M', 'Y', 'V'): 4, ('W', 'V', 'G'): 3, ('W', 'G', 'V'): 3, ('W', 'G', 'M'): 3, ('W', 'M', 'G'): 3, ('N', 'V', 'G'): 3, ('N', 'G', 'V'): 3, ('N', 'G', 'M'): 3, ('N', 'M', 'G'): 3, ('R', 'B', 'G'): 3, ('R', 'G', 'B'): 3, ('B', 'R', 'G'): 3, ('B', 'V', 'G'): 3, ('B', 'G', 'R'): 3, ('B', 'G', 'V'): 3, ('B', 'G', 'M'): 3, ('B', 'M', 'G'): 3, ('V', 'W', 'G'): 3, ('V', 'N', 'G'): 3, ('V', 'B', 'G'): 3, ('V', 'Y', 'G'): 3, ('V', 'G', 'W'): 3, ('V', 'G', 'N'): 3, ('V', 'G', 'B'): 3, ('V', 'G', 'Y'): 3, ('V', 'G', 'M'): 3, ('V', 'M', 'G'): 3, ('Y', 'V', 'G'): 3, ('Y', 'G', 'V'): 3, ('Y', 'G', 'M'): 3, ('Y', 'M', 'G'): 3, ('G', 'W', 'V'): 3, ('G', 'W', 'M'): 3, ('G', 'N', 'V'): 3, ('G', 'N', 'M'): 3, ('G', 'R', 'B'): 3, ('G', 'B', 'R'): 3, ('G', 'B', 'V'): 3, ('G', 'B', 'M'): 3, ('G', 'V', 'W'): 3, ('G', 'V', 'N'): 3, ('G', 'V', 'B'): 3, ('G', 'V', 'Y'): 3, ('G', 'V', 'M'): 3, ('G', 'Y', 'V'): 3, ('G', 'Y', 'M'): 3, ('G', 'M', 'W'): 3, ('G', 'M', 'N'): 3, ('G', 'M', 'B'): 3, ('G', 'M', 'V'): 3, ('G', 'M', 'Y'): 3, ('M', 'W', 'G'): 3, ('M', 'N', 'G'): 3, ('M', 'B', 'G'): 3, ('M', 'V', 'G'): 3, ('M', 'Y', 'G'): 3, ('M', 'G', 'W'): 3, ('M', 'G', 'N'): 3, ('M', 'G', 'B'): 3, ('M', 'G', 'V'): 3, ('M', 'G', 'Y'): 3, ('N', 'R', 'O'): 3, ('N', 'O', 'R'): 3, ('R', 'N', 'O'): 3, ('R', 'O', 'N'): 3, ('O', 'N', 'R'): 3, ('O', 'R', 'N'): 3, ('R', 'V', 'O'): 3, ('R', 'O', 'V'): 3, ('V', 'R', 'O'): 3, ('V', 'O', 'R'): 3, ('O', 'R', 'V'): 3, ('O', 'V', 'R'): 3, ('W', 'V', 'P'): 3, ('W', 'P', 'V'): 3, ('B', 'V', 'P'): 3, ('B', 'P', 'V'): 3, ('V', 'W', 'P'): 3, ('V', 'B', 'P'): 3, ('V', 'Y', 'P'): 3, ('V', 'P', 'W'): 3, ('V', 'P', 'B'): 3, ('V', 'P', 'Y'): 3, ('Y', 'V', 'P'): 3, ('Y', 'P', 'V'): 3, ('P', 'W', 'V'): 3, ('P', 'B', 'V'): 3, ('P', 'V', 'W'): 3, ('P', 'V', 'B'): 3, ('P', 'V', 'Y'): 3, ('P', 'Y', 'V'): 3, ('R', 'V', 'G'): 2, ('R', 'G', 'V'): 2, ('R', 'G', 'M'): 2, ('R', 'M', 'G'): 2, ('V', 'R', 'G'): 2, ('V', 'G', 'R'): 2, ('G', 'R', 'V'): 2, ('G', 'R', 'M'): 2, ('G', 'V', 'R'): 2, ('G', 'M', 'R'): 2, ('M', 'R', 'G'): 2, ('M', 'G', 'R'): 2, ('R', 'B', 'O'): 2, ('R', 'O', 'B'): 2, ('B', 'R', 'O'): 2, ('B', 'O', 'R'): 2, ('O', 'R', 'B'): 2, ('O', 'B', 'R'): 2, ('W', 'N', 'O'): 2, ('W', 'R', 'O'): 2, ('W', 'O', 'N'): 2, ('W', 'O', 'R'): 2, ('N', 'W', 'O'): 2, ('N', 'O', 'W'): 2, ('R', 'W', 'O'): 2, ('R', 'O', 'W'): 2, ('O', 'W', 'N'): 2, ('O', 'W', 'R'): 2, ('O', 'N', 'W'): 2, ('O', 'R', 'W'): 2, ('W', 'B', 'O'): 2, ('W', 'O', 'B'): 2, ('B', 'W', 'O'): 2, ('B', 'V', 'O'): 2, ('B', 'O', 'W'): 2, ('B', 'O', 'V'): 2, ('V', 'B', 'O'): 2, ('V', 'O', 'B'): 2, ('O', 'W', 'B'): 2, ('O', 'B', 'W'): 2, ('O', 'B', 'V'): 2, ('O', 'V', 'B'): 2, ('N', 'V', 'O'): 2, ('N', 'O', 'V'): 2, ('N', 'O', 'M'): 2, ('N', 'M', 'O'): 2, ('R', 'O', 'M'): 2, ('R', 'M', 'O'): 2, ('V', 'N', 'O'): 2, ('V', 'O', 'N'): 2, ('V', 'O', 'M'): 2, ('V', 'M', 'O'): 2, ('O', 'N', 'V'): 2, ('O', 'N', 'M'): 2, ('O', 'R', 'M'): 2, ('O', 'V', 'N'): 2, ('O', 'V', 'M'): 2, ('O', 'M', 'N'): 2, ('O', 'M', 'R'): 2, ('O', 'M', 'V'): 2, ('M', 'N', 'O'): 2, ('M', 'R', 'O'): 2, ('M', 'V', 'O'): 2, ('M', 'O', 'N'): 2, ('M', 'O', 'R'): 2, ('M', 'O', 'V'): 2, ('W', 'B', 'P'): 2, ('W', 'Y', 'P'): 2, ('W', 'P', 'B'): 2, ('W', 'P', 'Y'): 2, ('B', 'W', 'P'): 2, ('B', 'Y', 'P'): 2, ('B', 'P', 'W'): 2, ('B', 'P', 'Y'): 2, ('Y', 'W', 'P'): 2, ('Y', 'B', 'P'): 2, ('Y', 'P', 'W'): 2, ('Y', 'P', 'B'): 2, ('P', 'W', 'B'): 2, ('P', 'W', 'Y'): 2, ('P', 'B', 'W'): 2, ('P', 'B', 'Y'): 2, ('P', 'Y', 'W'): 2, ('P', 'Y', 'B'): 2, ('W', 'V', 'V'): 2, ('N', 'V', 'V'): 2, ('N', 'V', 'P'): 2, ('N', 'P', 'V'): 2, ('B', 'V', 'V'): 2, ('V', 'W', 'V'): 2, ('V', 'N', 'V'): 2, ('V', 'N', 'P'): 2, ('V', 'B', 'V'): 2, ('V', 'V', 'W'): 2, ('V', 'V', 'N'): 2, ('V', 'V', 'B'): 2, ('V', 'V', 'Y'): 2, ('V', 'V', 'P'): 2, ('V', 'Y', 'V'): 2, ('V', 'P', 'N'): 2, ('V', 'P', 'V'): 2, ('Y', 'V', 'V'): 2, ('P', 'N', 'V'): 2, ('P', 'V', 'N'): 2, ('P', 'V', 'V'): 2, ('R', 'Y', 'O'): 1, ('R', 'O', 'Y'): 1, ('V', 'Y', 'O'): 1, ('V', 'O', 'Y'): 1, ('Y', 'R', 'O'): 1, ('Y', 'V', 'O'): 1, ('Y', 'O', 'R'): 1, ('Y', 'O', 'V'): 1, ('O', 'R', 'Y'): 1, ('O', 'V', 'Y'): 1, ('O', 'Y', 'R'): 1, ('O', 'Y', 'V'): 1, ('W', 'R', 'P'): 1, ('W', 'P', 'R'): 1, ('R', 'W', 'P'): 1, ('R', 'B', 'P'): 1, ('R', 'V', 'P'): 1, ('R', 'Y', 'P'): 1, ('R', 'P', 'W'): 1, ('R', 'P', 'B'): 1, ('R', 'P', 'V'): 1, ('R', 'P', 'Y'): 1, ('B', 'R', 'P'): 1, ('B', 'P', 'R'): 1, ('V', 'R', 'P'): 1, ('V', 'P', 'R'): 1, ('Y', 'R', 'P'): 1, ('Y', 'P', 'R'): 1, ('P', 'W', 'R'): 1, ('P', 'R', 'W'): 1, ('P', 'R', 'B'): 1, ('P', 'R', 'V'): 1, ('P', 'R', 'Y'): 1, ('P', 'B', 'R'): 1, ('P', 'V', 'R'): 1, ('P', 'Y', 'R'): 1, ('W', 'O', 'M'): 1, ('W', 'M', 'O'): 1, ('N', 'B', 'O'): 1, ('N', 'O', 'B'): 1, ('B', 'N', 'O'): 1, ('B', 'O', 'N'): 1, ('B', 'O', 'M'): 1, ('B', 'M', 'O'): 1, ('O', 'W', 'M'): 1, ('O', 'N', 'B'): 1, ('O', 'B', 'N'): 1, ('O', 'B', 'M'): 1, ('O', 'M', 'W'): 1, ('O', 'M', 'B'): 1, ('M', 'W', 'O'): 1, ('M', 'B', 'O'): 1, ('M', 'O', 'W'): 1, ('M', 'O', 'B'): 1, ('W', 'N', 'P'): 1, ('W', 'P', 'N'): 1, ('N', 'W', 'P'): 1, ('N', 'B', 'P'): 1, ('N', 'Y', 'P'): 1, ('N', 'P', 'W'): 1, ('N', 'P', 'B'): 1, ('N', 'P', 'Y'): 1, ('B', 'N', 'P'): 1, ('B', 'P', 'N'): 1, ('Y', 'N', 'P'): 1, ('Y', 'P', 'N'): 1, ('P', 'W', 'N'): 1, ('P', 'N', 'W'): 1, ('P', 'N', 'B'): 1, ('P', 'N', 'Y'): 1, ('P', 'B', 'N'): 1, ('P', 'Y', 'N'): 1})\n"
          ]
        }
      ]
    },
    {
      "cell_type": "markdown",
      "source": [
        "## Make a dictionary with key=”color” and values = “what other colors it is ordered with”."
      ],
      "metadata": {
        "id": "f-YpSK1Tsbgm"
      }
    },
    {
      "cell_type": "code",
      "source": [
        "unique_flower_orders = list(set(flower_orders))\n",
        "\n",
        "# Set dictionary keys\n",
        "color_codes = ('W', 'R', 'B', 'V', 'Y', 'N', 'G', 'O', 'M', 'P')\n",
        "\n",
        "# Create an empty dictionary\n",
        "color_dict = {color: set() for color in color_codes}\n",
        "\n",
        "# Iterate through the unique flower orders\n",
        "for order in unique_flower_orders:\n",
        "    colors = order.split('/')\n",
        "\n",
        "    # Check if any of the key values are matching\n",
        "    for color in colors:\n",
        "      y=0\n",
        "      for x in colors:\n",
        "        if color==colors[y]:\n",
        "          colors.remove(colors[y])\n",
        "          y+=1\n",
        "      color_dict[color].update(set(colors))\n",
        "\n",
        "# Convert sets to lists for values in the dictionary\n",
        "color_dict = { color: list(flowers)\n",
        "               for color, flowers in color_dict.items()}\n",
        "\n",
        "for key, value in color_dict.items():\n",
        "  print (\"color: \" + key,'combinations',value)\n"
      ],
      "metadata": {
        "colab": {
          "base_uri": "https://localhost:8080/"
        },
        "id": "lU-xtMBAKMmM",
        "outputId": "2e09325e-2f46-4bff-e945-0a593ae6e108"
      },
      "execution_count": 544,
      "outputs": [
        {
          "output_type": "stream",
          "name": "stdout",
          "text": [
            "color: W combinations ['M', 'B', 'G', 'O', 'P', 'Y', 'N', 'V', 'R']\n",
            "color: R combinations ['M', 'B', 'O', 'G', 'Y', 'N', 'V', 'R']\n",
            "color: B combinations ['M', 'B', 'G', 'O', 'P', 'Y', 'N', 'V', 'R']\n",
            "color: V combinations ['M', 'B', 'G', 'O', 'P', 'Y', 'N', 'V', 'R']\n",
            "color: Y combinations ['M', 'B', 'G', 'O', 'P', 'Y', 'N', 'V', 'R']\n",
            "color: N combinations ['M', 'B', 'O', 'Y', 'V', 'R']\n",
            "color: G combinations ['M', 'B', 'G', 'Y', 'N', 'V', 'R']\n",
            "color: O combinations ['M', 'B', 'O', 'N', 'V', 'Y', 'R']\n",
            "color: M combinations ['M', 'B', 'G', 'O', 'Y', 'N', 'V', 'R']\n",
            "color: P combinations ['B', 'P', 'Y', 'N', 'V', 'R']\n"
          ]
        }
      ]
    },
    {
      "cell_type": "markdown",
      "source": [
        "## Make a graph showing the probability of having an edge between two colors based on how often they co-occur.  (a numpy square matrix)\n"
      ],
      "metadata": {
        "id": "QUBA7MPPwo8B"
      }
    },
    {
      "cell_type": "code",
      "source": [
        "# Initialize a square matrix with zeros\n",
        "matrix_size = len(color_codes)\n",
        "color_matrix = [[0 for _ in range(matrix_size)] for _ in range(matrix_size)]\n",
        "\n",
        "# Create a dictionary to map color codes to matrix indices\n",
        "color_index = {color: index for index, color in enumerate(color_codes)}\n",
        "\n",
        "# Iterate through the flower orders and update the matrix\n",
        "for order in flower_orders:\n",
        "    colors = order.split('/')\n",
        "    pairs = list(permutations(colors, 2))\n",
        "\n",
        "    for pair in pairs:\n",
        "        color1, color2 = pair\n",
        "        index1, index2 = color_index[color1], color_index[color2]\n",
        "        color_matrix[index1][index2] += 1\n",
        "\n",
        "# Print the color matrix for each combination of colors\n",
        "for i in range(matrix_size):\n",
        "    for j in range(matrix_size):\n",
        "      if color_matrix[i][j]:\n",
        "        color_matrix[i][j] =np.round(color_matrix[i][j]/len(flower_orders), 2)\n",
        "        print(f\"Combination ({color_codes[i]}, {color_codes[j]}): {color_matrix[i][j]}\")"
      ],
      "metadata": {
        "colab": {
          "base_uri": "https://localhost:8080/"
        },
        "id": "6HcQahfv35mK",
        "outputId": "4d3b3f9d-d992-4390-c0d1-f58e2bedcc50"
      },
      "execution_count": 581,
      "outputs": [
        {
          "output_type": "stream",
          "name": "stdout",
          "text": [
            "Combination (W, R): 0.58\n",
            "Combination (W, B): 0.39\n",
            "Combination (W, V): 0.3\n",
            "Combination (W, Y): 0.24\n",
            "Combination (W, N): 0.23\n",
            "Combination (W, G): 0.05\n",
            "Combination (W, O): 0.03\n",
            "Combination (W, M): 0.04\n",
            "Combination (W, P): 0.01\n",
            "Combination (R, W): 0.58\n",
            "Combination (R, B): 0.39\n",
            "Combination (R, V): 0.34\n",
            "Combination (R, Y): 0.36\n",
            "Combination (R, N): 0.26\n",
            "Combination (R, G): 0.04\n",
            "Combination (R, O): 0.03\n",
            "Combination (R, M): 0.03\n",
            "Combination (R, P): 0.01\n",
            "Combination (B, W): 0.39\n",
            "Combination (B, R): 0.39\n",
            "Combination (B, V): 0.17\n",
            "Combination (B, Y): 0.28\n",
            "Combination (B, N): 0.14\n",
            "Combination (B, G): 0.02\n",
            "Combination (B, O): 0.02\n",
            "Combination (B, M): 0.04\n",
            "Combination (B, P): 0.01\n",
            "Combination (V, W): 0.3\n",
            "Combination (V, R): 0.34\n",
            "Combination (V, B): 0.17\n",
            "Combination (V, V): 0.01\n",
            "Combination (V, Y): 0.27\n",
            "Combination (V, N): 0.19\n",
            "Combination (V, G): 0.02\n",
            "Combination (V, O): 0.04\n",
            "Combination (V, M): 0.04\n",
            "Combination (V, P): 0.02\n",
            "Combination (Y, W): 0.24\n",
            "Combination (Y, R): 0.36\n",
            "Combination (Y, B): 0.28\n",
            "Combination (Y, V): 0.27\n",
            "Combination (Y, N): 0.22\n",
            "Combination (Y, G): 0.03\n",
            "Combination (Y, O): 0.01\n",
            "Combination (Y, M): 0.03\n",
            "Combination (Y, P): 0.01\n",
            "Combination (N, W): 0.23\n",
            "Combination (N, R): 0.26\n",
            "Combination (N, B): 0.14\n",
            "Combination (N, V): 0.19\n",
            "Combination (N, Y): 0.22\n",
            "Combination (N, G): 0.03\n",
            "Combination (N, O): 0.02\n",
            "Combination (N, M): 0.04\n",
            "Combination (N, P): 0.01\n",
            "Combination (G, W): 0.05\n",
            "Combination (G, R): 0.04\n",
            "Combination (G, B): 0.02\n",
            "Combination (G, V): 0.02\n",
            "Combination (G, Y): 0.03\n",
            "Combination (G, N): 0.03\n",
            "Combination (G, M): 0.02\n",
            "Combination (O, W): 0.03\n",
            "Combination (O, R): 0.03\n",
            "Combination (O, B): 0.02\n",
            "Combination (O, V): 0.04\n",
            "Combination (O, Y): 0.01\n",
            "Combination (O, N): 0.02\n",
            "Combination (O, M): 0.01\n",
            "Combination (M, W): 0.04\n",
            "Combination (M, R): 0.03\n",
            "Combination (M, B): 0.04\n",
            "Combination (M, V): 0.04\n",
            "Combination (M, Y): 0.03\n",
            "Combination (M, N): 0.04\n",
            "Combination (M, G): 0.02\n",
            "Combination (M, O): 0.01\n",
            "Combination (P, W): 0.01\n",
            "Combination (P, R): 0.01\n",
            "Combination (P, B): 0.01\n",
            "Combination (P, V): 0.02\n",
            "Combination (P, Y): 0.01\n",
            "Combination (P, N): 0.01\n"
          ]
        }
      ]
    },
    {
      "cell_type": "code",
      "source": [
        "# Create labels for rows and columns\n",
        "row_labels = color_codes\n",
        "col_labels = color_codes\n",
        "# Create a heatmap\n",
        "\n",
        "\n",
        "plt.imshow(color_matrix, cmap='hot', interpolation='nearest', origin='upper')\n",
        "\n",
        "# Add labels to nodes\n",
        "n = len(color_matrix)\n",
        "for i in range(n):\n",
        "    for j in range(n):\n",
        "        if color_matrix[i][j]:\n",
        "            plt.text(j, i, str(color_matrix[i][j]), va='center', ha='center', color='black', fontsize=12)\n",
        "\n",
        "# Add row and column labels\n",
        "plt.xticks(range(n), col_labels)\n",
        "plt.yticks(range(n), row_labels)\n",
        "\n",
        "# Add colorbar\n",
        "cbar = plt.colorbar()\n",
        "cbar.set_label('Edge Weight')\n",
        "\n",
        "# Show the heatmap\n",
        "plt.title('Graph Heatmap')\n",
        "plt.xlabel('Nodes')\n",
        "plt.ylabel('Nodes')\n",
        "plt.show()\n"
      ],
      "metadata": {
        "colab": {
          "base_uri": "https://localhost:8080/",
          "height": 472
        },
        "id": "QWwHrMWW80TL",
        "outputId": "77e96a55-ecf1-4522-a25d-5c00bedc3de9"
      },
      "execution_count": 585,
      "outputs": [
        {
          "output_type": "display_data",
          "data": {
            "text/plain": [
              "<Figure size 640x480 with 2 Axes>"
            ],
            "image/png": "[encoded data removed]"
          },
          "metadata": {}
        }
      ]
    },
    {
      "cell_type": "code",
      "source": [
        "dead_men_tell_tales = ['Four score and seven years ago our fathers brought forth on this',\n",
        "'continent a new nation, conceived in liberty and dedicated to the',\n",
        "'proposition that all men are created equal. Now we are engaged in',\n",
        "'a great civil war, testing whether that nation or any nation so',\n",
        "'conceived and so dedicated can long endure. We are met on a great',\n",
        "'battlefield of that war. We have come to dedicate a portion of',\n",
        "'that field as a final resting-place for those who here gave their',\n",
        "'lives that that nation might live. It is altogether fitting and',\n",
        "'proper that we should do this. But in a larger sense, we cannot',\n",
        "'dedicate, we cannot consecrate, we cannot hallow this ground.',\n",
        "'The brave men, living and dead who struggled here have consecrated',\n",
        "'it far above our poor power to add or detract. The world will',\n",
        "'little note nor long remember what we say here, but it can never',\n",
        "'forget what they did here. It is for us the living rather to be',\n",
        "'dedicated here to the unfinished work which they who fought here',\n",
        "'have thus far so nobly advanced. It is rather for us to be here',\n",
        "'dedicated to the great task remaining before us--that from these',\n",
        "'honored dead we take increased devotion to that cause for which',\n",
        "'they gave the last full measure of devotion--that we here highly',\n",
        "'resolve that these dead shall not have died in vain, that this',\n",
        "'nation under God shall have a new birth of freedom, and that',\n",
        "'government of the people, by the people, for the people shall',\n",
        "'not perish from the earth.']\n",
        "dead_men_tell_tales"
      ],
      "metadata": {
        "colab": {
          "base_uri": "https://localhost:8080/"
        },
        "id": "T_T8g9yNCpyx",
        "outputId": "ad0a3f61-cc5a-446e-ae01-19109fdc9aef"
      },
      "execution_count": 553,
      "outputs": [
        {
          "output_type": "execute_result",
          "data": {
            "text/plain": [
              "['Four score and seven years ago our fathers brought forth on this',\n",
              " 'continent a new nation, conceived in liberty and dedicated to the',\n",
              " 'proposition that all men are created equal. Now we are engaged in',\n",
              " 'a great civil war, testing whether that nation or any nation so',\n",
              " 'conceived and so dedicated can long endure. We are met on a great',\n",
              " 'battlefield of that war. We have come to dedicate a portion of',\n",
              " 'that field as a final resting-place for those who here gave their',\n",
              " 'lives that that nation might live. It is altogether fitting and',\n",
              " 'proper that we should do this. But in a larger sense, we cannot',\n",
              " 'dedicate, we cannot consecrate, we cannot hallow this ground.',\n",
              " 'The brave men, living and dead who struggled here have consecrated',\n",
              " 'it far above our poor power to add or detract. The world will',\n",
              " 'little note nor long remember what we say here, but it can never',\n",
              " 'forget what they did here. It is for us the living rather to be',\n",
              " 'dedicated here to the unfinished work which they who fought here',\n",
              " 'have thus far so nobly advanced. It is rather for us to be here',\n",
              " 'dedicated to the great task remaining before us--that from these',\n",
              " 'honored dead we take increased devotion to that cause for which',\n",
              " 'they gave the last full measure of devotion--that we here highly',\n",
              " 'resolve that these dead shall not have died in vain, that this',\n",
              " 'nation under God shall have a new birth of freedom, and that',\n",
              " 'government of the people, by the people, for the people shall',\n",
              " 'not perish from the earth.']"
            ]
          },
          "metadata": {},
          "execution_count": 553
        }
      ]
    },
    {
      "cell_type": "markdown",
      "source": [
        "1. Join everything\n",
        "2. Remove spaces\n",
        "3. Occurrence probabilities for letters\n",
        "4. Tell me transition probabilities for every pair of letters\n",
        "5. Make a 26x26 graph of 4.  in numpy\n",
        "6. plot graph of transition probabilities from letter to letter"
      ],
      "metadata": {
        "id": "jkoqtexfCyM6"
      }
    }
  ]
}
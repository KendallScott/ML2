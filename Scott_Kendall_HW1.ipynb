{
  "nbformat": 4,
  "nbformat_minor": 0,
  "metadata": {
    "colab": {
      "provenance": [],
      "authorship_tag": "ABX9TyPo9iO0CIgRpCvWcliuilPn",
      "include_colab_link": true
    },
    "kernelspec": {
      "name": "python3",
      "display_name": "Python 3"
    },
    "language_info": {
      "name": "python"
    }
  },
  "cells": [
    {
      "cell_type": "markdown",
      "metadata": {
        "id": "view-in-github",
        "colab_type": "text"
      },
      "source": [
        "<a href=\"https://colab.research.google.com/github/KendallScott/ML2/blob/main/Scott_Kendall_HW1.ipynb\" target=\"_parent\"><img src=\"https://colab.research.google.com/assets/colab-badge.svg\" alt=\"Open In Colab\"/></a>"
      ]
    },
    {
      "cell_type": "code",
      "source": [
        "import numpy as np"
      ],
      "metadata": {
        "id": "qmtfiiELj0_W"
      },
      "execution_count": 68,
      "outputs": []
    },
    {
      "cell_type": "code",
      "execution_count": 69,
      "metadata": {
        "id": "NyQYMgctjd5v"
      },
      "outputs": [],
      "source": [
        "list1 = [1,2,3]\n",
        "list2 = [4,5,6]\n",
        "list3 = list1.extend(list2)\n",
        "#list3 is now [1,2,3,4,5,6]\n"
      ]
    },
    {
      "cell_type": "code",
      "source": [
        "list1 = [1,2,3]\n",
        "list1"
      ],
      "metadata": {
        "colab": {
          "base_uri": "https://localhost:8080/"
        },
        "id": "IMU0cym4mlwf",
        "outputId": "6b3e3227-80df-4932-da5d-832db54f56ba"
      },
      "execution_count": 70,
      "outputs": [
        {
          "output_type": "execute_result",
          "data": {
            "text/plain": [
              "[1, 2, 3]"
            ]
          },
          "metadata": {},
          "execution_count": 70
        }
      ]
    },
    {
      "cell_type": "code",
      "source": [
        "list2 = [4,5,6]\n",
        "list2"
      ],
      "metadata": {
        "colab": {
          "base_uri": "https://localhost:8080/"
        },
        "id": "rYmstvfimoI6",
        "outputId": "f82c4547-795e-42f9-8ff6-74658e6add01"
      },
      "execution_count": 71,
      "outputs": [
        {
          "output_type": "execute_result",
          "data": {
            "text/plain": [
              "[4, 5, 6]"
            ]
          },
          "metadata": {},
          "execution_count": 71
        }
      ]
    },
    {
      "cell_type": "code",
      "source": [
        "list3 = list1.extend(list2)"
      ],
      "metadata": {
        "id": "ApR4jN3lj6VP"
      },
      "execution_count": 72,
      "outputs": []
    },
    {
      "cell_type": "code",
      "source": [
        "print(list3)"
      ],
      "metadata": {
        "colab": {
          "base_uri": "https://localhost:8080/"
        },
        "id": "rFfv3NBujvEF",
        "outputId": "ac68b530-faa2-4688-aead-432d47be287e"
      },
      "execution_count": 73,
      "outputs": [
        {
          "output_type": "stream",
          "name": "stdout",
          "text": [
            "None\n"
          ]
        }
      ]
    },
    {
      "cell_type": "code",
      "source": [
        "#index() - Returns the index of a specific element in the list\n",
        "list1 = ['peanut','butter','jelly']\n",
        "butternum=list1.index('butter')\n"
      ],
      "metadata": {
        "id": "EIxCyEtHkRIi"
      },
      "execution_count": 74,
      "outputs": []
    },
    {
      "cell_type": "code",
      "source": [
        "butternum"
      ],
      "metadata": {
        "colab": {
          "base_uri": "https://localhost:8080/"
        },
        "id": "OiwHjTeykdw9",
        "outputId": "b8d7cb66-25ac-477d-aa95-2eda2c024613"
      },
      "execution_count": 75,
      "outputs": [
        {
          "output_type": "execute_result",
          "data": {
            "text/plain": [
              "1"
            ]
          },
          "metadata": {},
          "execution_count": 75
        }
      ]
    },
    {
      "cell_type": "code",
      "source": [
        "list1=[1,3,5,7,9]\n",
        "list1.insert(1,2)  # list1 is now [1,2,3,5,7,9]\n",
        "list1"
      ],
      "metadata": {
        "colab": {
          "base_uri": "https://localhost:8080/"
        },
        "id": "wpAYoidgmHNA",
        "outputId": "f290dac3-e65c-4e70-b5df-52f6881f9c08"
      },
      "execution_count": 76,
      "outputs": [
        {
          "output_type": "execute_result",
          "data": {
            "text/plain": [
              "[1, 2, 3, 5, 7, 9]"
            ]
          },
          "metadata": {},
          "execution_count": 76
        }
      ]
    },
    {
      "cell_type": "code",
      "source": [
        "print(list1)"
      ],
      "metadata": {
        "colab": {
          "base_uri": "https://localhost:8080/"
        },
        "id": "7hxA8i1umO8K",
        "outputId": "bf4d86e3-1efd-4bc1-ee10-48e116f8c0a5"
      },
      "execution_count": 77,
      "outputs": [
        {
          "output_type": "stream",
          "name": "stdout",
          "text": [
            "[1, 2, 3, 5, 7, 9]\n"
          ]
        }
      ]
    },
    {
      "cell_type": "code",
      "source": [
        "list1=[1,2,3,4,5,6,7]\n",
        "list1\n"
      ],
      "metadata": {
        "colab": {
          "base_uri": "https://localhost:8080/"
        },
        "id": "Dkj1u5aZm-8Y",
        "outputId": "678d9827-2b2c-4492-d49d-0592193a351b"
      },
      "execution_count": 78,
      "outputs": [
        {
          "output_type": "execute_result",
          "data": {
            "text/plain": [
              "[1, 2, 3, 4, 5, 6, 7]"
            ]
          },
          "metadata": {},
          "execution_count": 78
        }
      ]
    },
    {
      "cell_type": "code",
      "source": [
        "list2=list1.remove(3) #list 2 is now [1,2,4,5,6,7]\n",
        "list2"
      ],
      "metadata": {
        "id": "Td8n_ev1nCLN"
      },
      "execution_count": 79,
      "outputs": []
    },
    {
      "cell_type": "code",
      "source": [
        "print(list1)"
      ],
      "metadata": {
        "colab": {
          "base_uri": "https://localhost:8080/"
        },
        "id": "4lqwya0RnHW-",
        "outputId": "3f7b1adb-a317-4c4b-cdd2-4b60a7a65dc3"
      },
      "execution_count": 80,
      "outputs": [
        {
          "output_type": "stream",
          "name": "stdout",
          "text": [
            "[1, 2, 4, 5, 6, 7]\n"
          ]
        }
      ]
    },
    {
      "cell_type": "code",
      "source": [
        "list1=[1,3,2,4,3,5,4,6,5,7]\n",
        "print(\"Count:\", list1.count(4))\n",
        "\n"
      ],
      "metadata": {
        "colab": {
          "base_uri": "https://localhost:8080/"
        },
        "id": "y6AVqTmqoGww",
        "outputId": "369107c7-624f-417f-fb5a-e65e34afbace"
      },
      "execution_count": 81,
      "outputs": [
        {
          "output_type": "stream",
          "name": "stdout",
          "text": [
            "Count: 2\n"
          ]
        }
      ]
    },
    {
      "cell_type": "code",
      "source": [
        "list1=[1,2,3,4,5,6,7]\n",
        "pop3 = list1.pop(2)\n",
        "list1"
      ],
      "metadata": {
        "colab": {
          "base_uri": "https://localhost:8080/"
        },
        "id": "f9y21uTSntY6",
        "outputId": "1ae5e4c3-3d7e-454f-e6e7-7e155fa00f56"
      },
      "execution_count": 82,
      "outputs": [
        {
          "output_type": "execute_result",
          "data": {
            "text/plain": [
              "[1, 2, 4, 5, 6, 7]"
            ]
          },
          "metadata": {},
          "execution_count": 82
        }
      ]
    },
    {
      "cell_type": "code",
      "source": [
        "list1=[1,2,3,4]\n",
        "list2=list1.reverse()\n"
      ],
      "metadata": {
        "id": "c0DDi1pUofRr"
      },
      "execution_count": 83,
      "outputs": []
    },
    {
      "cell_type": "code",
      "source": [
        "list1.reverse()"
      ],
      "metadata": {
        "id": "UmEtUiNIolTP"
      },
      "execution_count": 84,
      "outputs": []
    },
    {
      "cell_type": "code",
      "source": [
        "list1"
      ],
      "metadata": {
        "colab": {
          "base_uri": "https://localhost:8080/"
        },
        "id": "wDb5ssChoiYz",
        "outputId": "8c3626fa-63cd-475e-d454-e76a1451b3c1"
      },
      "execution_count": 85,
      "outputs": [
        {
          "output_type": "execute_result",
          "data": {
            "text/plain": [
              "[1, 2, 3, 4]"
            ]
          },
          "metadata": {},
          "execution_count": 85
        }
      ]
    },
    {
      "cell_type": "code",
      "source": [
        "list2"
      ],
      "metadata": {
        "id": "SX67_xJwoqQl"
      },
      "execution_count": 86,
      "outputs": []
    },
    {
      "cell_type": "code",
      "source": [
        "list1=[1,3,2,4,7,5,6]\n",
        "list2=list1.sort()\n",
        "list2\n"
      ],
      "metadata": {
        "id": "mtDBV_sto7xL"
      },
      "execution_count": 87,
      "outputs": []
    },
    {
      "cell_type": "code",
      "source": [
        "list1.sort()"
      ],
      "metadata": {
        "id": "lDZC8mrLpBbU"
      },
      "execution_count": 88,
      "outputs": []
    },
    {
      "cell_type": "code",
      "source": [
        "[x for x in [2,3]]"
      ],
      "metadata": {
        "colab": {
          "base_uri": "https://localhost:8080/"
        },
        "id": "U_BHrJAopCbU",
        "outputId": "0fc5d5ff-a7af-42e1-f5da-da45a68d7599"
      },
      "execution_count": 89,
      "outputs": [
        {
          "output_type": "execute_result",
          "data": {
            "text/plain": [
              "[2, 3]"
            ]
          },
          "metadata": {},
          "execution_count": 89
        }
      ]
    },
    {
      "cell_type": "code",
      "source": [
        "[x for x in [1,2] if x ==1]"
      ],
      "metadata": {
        "colab": {
          "base_uri": "https://localhost:8080/"
        },
        "id": "HZfR0787ppmT",
        "outputId": "c219c8cc-4dbd-4930-8efd-7502d373ae47"
      },
      "execution_count": 90,
      "outputs": [
        {
          "output_type": "execute_result",
          "data": {
            "text/plain": [
              "[1]"
            ]
          },
          "metadata": {},
          "execution_count": 90
        }
      ]
    },
    {
      "cell_type": "code",
      "source": [
        "[y*2 for x in [[1,2],[3,4]] for y in x]"
      ],
      "metadata": {
        "colab": {
          "base_uri": "https://localhost:8080/"
        },
        "id": "GqjPU2OgpvBo",
        "outputId": "84fee0f7-4877-4364-de91-eea5a0b3f782"
      },
      "execution_count": 91,
      "outputs": [
        {
          "output_type": "execute_result",
          "data": {
            "text/plain": [
              "[2, 4, 6, 8]"
            ]
          },
          "metadata": {},
          "execution_count": 91
        }
      ]
    },
    {
      "cell_type": "code",
      "source": [
        "starting_tup = (\"Apple\",\"Ball\",\"Cat\")\n",
        "tup_dict=dict((x,y) for (x,y) in enumerate(starting_tup))"
      ],
      "metadata": {
        "id": "C_ws1D_arEZ6"
      },
      "execution_count": 92,
      "outputs": []
    },
    {
      "cell_type": "code",
      "source": [
        "\n",
        "starting_tup = (\"Apple\",\"Ball\",\"Cat\")\n",
        "[x for x in starting_tup]"
      ],
      "metadata": {
        "colab": {
          "base_uri": "https://localhost:8080/"
        },
        "id": "5cQG9JShro_-",
        "outputId": "a519c4eb-b89f-4bb8-da40-be8f528719f4"
      },
      "execution_count": 93,
      "outputs": [
        {
          "output_type": "execute_result",
          "data": {
            "text/plain": [
              "['Apple', 'Ball', 'Cat']"
            ]
          },
          "metadata": {},
          "execution_count": 93
        }
      ]
    },
    {
      "cell_type": "code",
      "source": [
        "a_dict = {'I hate':'you', 'You should':'leave'}\n",
        "a_dict"
      ],
      "metadata": {
        "colab": {
          "base_uri": "https://localhost:8080/"
        },
        "id": "oNseTmdesDHR",
        "outputId": "2c16225b-4f1a-4b09-8dcc-c5417d86f3a7"
      },
      "execution_count": 94,
      "outputs": [
        {
          "output_type": "execute_result",
          "data": {
            "text/plain": [
              "{'I hate': 'you', 'You should': 'leave'}"
            ]
          },
          "metadata": {},
          "execution_count": 94
        }
      ]
    },
    {
      "cell_type": "code",
      "source": [
        "a_dict = {'I hate':'you', 'You should':'leave'}\n",
        "a_dict.keys()"
      ],
      "metadata": {
        "colab": {
          "base_uri": "https://localhost:8080/"
        },
        "id": "pli8fPfAsPaj",
        "outputId": "efe47e04-faa2-4b8f-e149-cac869c75320"
      },
      "execution_count": 95,
      "outputs": [
        {
          "output_type": "execute_result",
          "data": {
            "text/plain": [
              "dict_keys(['I hate', 'You should'])"
            ]
          },
          "metadata": {},
          "execution_count": 95
        }
      ]
    },
    {
      "cell_type": "code",
      "source": [
        "a_dict.clear()"
      ],
      "metadata": {
        "id": "_HmwrirotNJH"
      },
      "execution_count": 96,
      "outputs": []
    },
    {
      "cell_type": "code",
      "source": [
        "Set1 = {1,2,3,4,5}\n",
        "Set1.discard(5)"
      ],
      "metadata": {
        "id": "Mz8bh0BXtObp"
      },
      "execution_count": 97,
      "outputs": []
    },
    {
      "cell_type": "code",
      "source": [
        "Set1.intersection()\n",
        "Set1 = {1,2,3,4,5}\n",
        "Set2 = {1,0,3,0,5}"
      ],
      "metadata": {
        "id": "e0OufSiTtZU_"
      },
      "execution_count": 98,
      "outputs": []
    },
    {
      "cell_type": "code",
      "source": [
        "Set1.intersection(Set2)"
      ],
      "metadata": {
        "colab": {
          "base_uri": "https://localhost:8080/"
        },
        "id": "IK1wpoWnthNp",
        "outputId": "a6e3d393-23bd-4342-9dd7-24ceb12ed205"
      },
      "execution_count": 99,
      "outputs": [
        {
          "output_type": "execute_result",
          "data": {
            "text/plain": [
              "{1, 3, 5}"
            ]
          },
          "metadata": {},
          "execution_count": 99
        }
      ]
    },
    {
      "cell_type": "code",
      "source": [
        "str1=\"Test String\"\n",
        "print(str1.partition(\"Str\"))"
      ],
      "metadata": {
        "colab": {
          "base_uri": "https://localhost:8080/"
        },
        "id": "ZZUM30_Z0awp",
        "outputId": "ae8e668e-7071-4f61-f053-4c3d9469541c"
      },
      "execution_count": 100,
      "outputs": [
        {
          "output_type": "stream",
          "name": "stdout",
          "text": [
            "('Test ', 'Str', 'ing')\n"
          ]
        }
      ]
    },
    {
      "cell_type": "code",
      "source": [
        "dir()\n"
      ],
      "metadata": {
        "colab": {
          "base_uri": "https://localhost:8080/"
        },
        "id": "c0vM_R0Q2OW8",
        "outputId": "966bb322-00ae-40c4-d627-3c3994d066a2"
      },
      "execution_count": 101,
      "outputs": [
        {
          "output_type": "execute_result",
          "data": {
            "text/plain": [
              "['Counter',\n",
              " 'ExecutableNotFoundError',\n",
              " 'In',\n",
              " 'MatplotlibDeprecationWarning',\n",
              " 'MutableMapping',\n",
              " 'Out',\n",
              " 'Parameter',\n",
              " 'Path',\n",
              " 'RcParams',\n",
              " 'Set1',\n",
              " 'Set2',\n",
              " '_',\n",
              " '_21',\n",
              " '_22',\n",
              " '_24',\n",
              " '_25',\n",
              " '_27',\n",
              " '_31',\n",
              " '_34',\n",
              " '_35',\n",
              " '_39',\n",
              " '_42',\n",
              " '_43',\n",
              " '_46',\n",
              " '_51',\n",
              " '_52',\n",
              " '_54',\n",
              " '_64',\n",
              " '_7',\n",
              " '_70',\n",
              " '_71',\n",
              " '_75',\n",
              " '_76',\n",
              " '_78',\n",
              " '_8',\n",
              " '_82',\n",
              " '_85',\n",
              " '_89',\n",
              " '_9',\n",
              " '_90',\n",
              " '_91',\n",
              " '_93',\n",
              " '_94',\n",
              " '_95',\n",
              " '_99',\n",
              " '__',\n",
              " '___',\n",
              " '__builtin__',\n",
              " '__builtins__',\n",
              " '__doc__',\n",
              " '__loader__',\n",
              " '__name__',\n",
              " '__package__',\n",
              " '__spec__',\n",
              " '_dh',\n",
              " '_i',\n",
              " '_i1',\n",
              " '_i10',\n",
              " '_i100',\n",
              " '_i101',\n",
              " '_i11',\n",
              " '_i12',\n",
              " '_i13',\n",
              " '_i14',\n",
              " '_i15',\n",
              " '_i16',\n",
              " '_i17',\n",
              " '_i18',\n",
              " '_i19',\n",
              " '_i2',\n",
              " '_i20',\n",
              " '_i21',\n",
              " '_i22',\n",
              " '_i23',\n",
              " '_i24',\n",
              " '_i25',\n",
              " '_i26',\n",
              " '_i27',\n",
              " '_i28',\n",
              " '_i29',\n",
              " '_i3',\n",
              " '_i30',\n",
              " '_i31',\n",
              " '_i32',\n",
              " '_i33',\n",
              " '_i34',\n",
              " '_i35',\n",
              " '_i36',\n",
              " '_i37',\n",
              " '_i38',\n",
              " '_i39',\n",
              " '_i4',\n",
              " '_i40',\n",
              " '_i41',\n",
              " '_i42',\n",
              " '_i43',\n",
              " '_i44',\n",
              " '_i45',\n",
              " '_i46',\n",
              " '_i47',\n",
              " '_i48',\n",
              " '_i49',\n",
              " '_i5',\n",
              " '_i50',\n",
              " '_i51',\n",
              " '_i52',\n",
              " '_i53',\n",
              " '_i54',\n",
              " '_i55',\n",
              " '_i56',\n",
              " '_i57',\n",
              " '_i58',\n",
              " '_i59',\n",
              " '_i6',\n",
              " '_i60',\n",
              " '_i61',\n",
              " '_i62',\n",
              " '_i63',\n",
              " '_i64',\n",
              " '_i65',\n",
              " '_i66',\n",
              " '_i67',\n",
              " '_i68',\n",
              " '_i69',\n",
              " '_i7',\n",
              " '_i70',\n",
              " '_i71',\n",
              " '_i72',\n",
              " '_i73',\n",
              " '_i74',\n",
              " '_i75',\n",
              " '_i76',\n",
              " '_i77',\n",
              " '_i78',\n",
              " '_i79',\n",
              " '_i8',\n",
              " '_i80',\n",
              " '_i81',\n",
              " '_i82',\n",
              " '_i83',\n",
              " '_i84',\n",
              " '_i85',\n",
              " '_i86',\n",
              " '_i87',\n",
              " '_i88',\n",
              " '_i89',\n",
              " '_i9',\n",
              " '_i90',\n",
              " '_i91',\n",
              " '_i92',\n",
              " '_i93',\n",
              " '_i94',\n",
              " '_i95',\n",
              " '_i96',\n",
              " '_i97',\n",
              " '_i98',\n",
              " '_i99',\n",
              " '_ih',\n",
              " '_ii',\n",
              " '_iii',\n",
              " '_oh',\n",
              " 'a_dict',\n",
              " 'accumulate',\n",
              " 'artist',\n",
              " 'atexit',\n",
              " 'axes',\n",
              " 'axis',\n",
              " 'backend_bases',\n",
              " 'backend_managers',\n",
              " 'backend_tools',\n",
              " 'backends',\n",
              " 'bezier',\n",
              " 'butternum',\n",
              " 'category',\n",
              " 'cbar',\n",
              " 'cbook',\n",
              " 'chain',\n",
              " 'char1',\n",
              " 'char2',\n",
              " 'checkdep_usetex',\n",
              " 'chunk_size',\n",
              " 'chunks',\n",
              " 'cm',\n",
              " 'col_labels',\n",
              " 'collections',\n",
              " 'color_sequences',\n",
              " 'colorbar',\n",
              " 'colormaps',\n",
              " 'colors',\n",
              " 'combinations',\n",
              " 'combinations_with_replacement',\n",
              " 'compress',\n",
              " 'container',\n",
              " 'contextlib',\n",
              " 'contour',\n",
              " 'count',\n",
              " 'cycle',\n",
              " 'cycler',\n",
              " 'dates',\n",
              " 'dead_men_tell_tales',\n",
              " 'defaultParams',\n",
              " 'dropwhile',\n",
              " 'dviread',\n",
              " 'exit',\n",
              " 'figure',\n",
              " 'filterfalse',\n",
              " 'font_manager',\n",
              " 'ft2font',\n",
              " 'functools',\n",
              " 'get_backend',\n",
              " 'get_cachedir',\n",
              " 'get_configdir',\n",
              " 'get_data_path',\n",
              " 'get_ipython',\n",
              " 'gridspec',\n",
              " 'groupby',\n",
              " 'hatch',\n",
              " 'i',\n",
              " 'image',\n",
              " 'importlib',\n",
              " 'index1',\n",
              " 'index2',\n",
              " 'inspect',\n",
              " 'interactive',\n",
              " 'is_interactive',\n",
              " 'islice',\n",
              " 'j',\n",
              " 'joined_words',\n",
              " 'layout_engine',\n",
              " 'legend',\n",
              " 'legend_handler',\n",
              " 'letter',\n",
              " 'letter1',\n",
              " 'letter2',\n",
              " 'letter_codes',\n",
              " 'letter_dict',\n",
              " 'letter_matrix',\n",
              " 'letter_total',\n",
              " 'lines',\n",
              " 'list1',\n",
              " 'list2',\n",
              " 'list3',\n",
              " 'locale',\n",
              " 'logging',\n",
              " 'markers',\n",
              " 'mathtext',\n",
              " 'matplotlib_fname',\n",
              " 'matrix',\n",
              " 'matrix_size',\n",
              " 'mlab',\n",
              " 'n',\n",
              " 'namedtuple',\n",
              " 'np',\n",
              " 'numpy',\n",
              " 'offsetbox',\n",
              " 'os',\n",
              " 'pair',\n",
              " 'pair_counts',\n",
              " 'pairs',\n",
              " 'pairs_count',\n",
              " 'pairwise',\n",
              " 'parse_version',\n",
              " 'patches',\n",
              " 'path',\n",
              " 'permutations',\n",
              " 'plt',\n",
              " 'pop3',\n",
              " 'pprint',\n",
              " 'product',\n",
              " 'projections',\n",
              " 'pyplot',\n",
              " 'quit',\n",
              " 'quiver',\n",
              " 'rc',\n",
              " 'rcParams',\n",
              " 'rcParamsDefault',\n",
              " 'rcParamsOrig',\n",
              " 'rc_context',\n",
              " 'rc_file',\n",
              " 'rc_file_defaults',\n",
              " 'rc_params',\n",
              " 'rc_params_from_file',\n",
              " 'rcdefaults',\n",
              " 'rcsetup',\n",
              " 're',\n",
              " 'repeat',\n",
              " 'row',\n",
              " 'row_labels',\n",
              " 'sanitize_sequence',\n",
              " 'scale',\n",
              " 'set_loglevel',\n",
              " 'shutil',\n",
              " 'spines',\n",
              " 'stackplot',\n",
              " 'starmap',\n",
              " 'starting_tup',\n",
              " 'str1',\n",
              " 'streamplot',\n",
              " 'style',\n",
              " 'subprocess',\n",
              " 'sys',\n",
              " 'table',\n",
              " 'takewhile',\n",
              " 'tee',\n",
              " 'tempfile',\n",
              " 'texmanager',\n",
              " 'text',\n",
              " 'textpath',\n",
              " 'ticker',\n",
              " 'transforms',\n",
              " 'tri',\n",
              " 'tup_dict',\n",
              " 'unique_letters',\n",
              " 'unique_letters_index',\n",
              " 'unique_pairs',\n",
              " 'units',\n",
              " 'use',\n",
              " 'validate_backend',\n",
              " 'warnings',\n",
              " 'widgets',\n",
              " 'x',\n",
              " 'zip_longest']"
            ]
          },
          "metadata": {},
          "execution_count": 101
        }
      ]
    },
    {
      "cell_type": "code",
      "source": [
        "from collections import Counter"
      ],
      "metadata": {
        "id": "D4GQsyHJ22CQ"
      },
      "execution_count": 102,
      "outputs": []
    },
    {
      "cell_type": "code",
      "source": [
        "from itertools import *"
      ],
      "metadata": {
        "id": "1xx8vWU53BLi"
      },
      "execution_count": 103,
      "outputs": []
    },
    {
      "cell_type": "markdown",
      "source": [
        "1. Build your own counter object, then use the built-in Counter() and confirm they have the same values.\n",
        "2. Count how many objects have color W in them.\n",
        "3. Make histogram of colors\n",
        "# Hint from JohnP - Itertools has a permutation function that might help with these next two.\n",
        "4. Rank the pairs of colors in each order regardless of how many colors are in an order.\n",
        "5. Rank the triplets of colors in each order regardless of how many colors are in an order.\n",
        "6. Make a dictionary with key=”color” and values = “what other colors it is ordered with”.\n",
        "7. Make a graph showing the probability of having an edge between two colors based on how often they co-occur.  (a numpy square matrix)\n",
        "8. Make 10 business questions related to the questions we asked above.\n"
      ],
      "metadata": {
        "id": "_FCY5fwj3sY1"
      }
    },
    {
      "cell_type": "code",
      "source": [
        "flower_orders=['W/R/B',\n",
        "'W/R/B',\n",
        "'W/R/B',\n",
        "'W/R/B',\n",
        "'W/R/B',\n",
        "'W/R/B',\n",
        "'W/R/B',\n",
        "'W/R/B',\n",
        "'W/R/B',\n",
        "'W/R/B',\n",
        "'W/R/B',\n",
        "'W/R/B',\n",
        "'W/R/B',\n",
        "'W/R/B',\n",
        "'W/R/B',\n",
        "'W/R/B',\n",
        "'W/R/B',\n",
        "'W/R/B',\n",
        "'W/R/B',\n",
        "'W/R/B',\n",
        "'W/R/B',\n",
        "'W/R/B',\n",
        "'W/R/B',\n",
        "'W/R/B',\n",
        "'W/R/B',\n",
        "'W/R/B',\n",
        "'W/R/B',\n",
        "'W/R/B',\n",
        "'W/R/B',\n",
        "'W/R/B',\n",
        "'W/R',\n",
        "'W/R',\n",
        "'W/R',\n",
        "'W/R',\n",
        "'W/R',\n",
        "'W/R',\n",
        "'W/R',\n",
        "'W/R',\n",
        "'W/R',\n",
        "'W/R',\n",
        "'W/R',\n",
        "'W/R',\n",
        "'W/R',\n",
        "'W/R',\n",
        "'W/R',\n",
        "'W/R',\n",
        "'R/V/Y',\n",
        "'R/V/Y',\n",
        "'R/V/Y',\n",
        "'R/V/Y',\n",
        "'R/V/Y',\n",
        "'R/V/Y',\n",
        "'R/V/Y',\n",
        "'R/V/Y',\n",
        "'R/V/Y',\n",
        "'R/V/Y',\n",
        "'W/R/V',\n",
        "'W/R/V',\n",
        "'W/R/V',\n",
        "'W/R/V',\n",
        "'W/R/V',\n",
        "'W/R/V',\n",
        "'W/R/V',\n",
        "'W/R/V',\n",
        "'W/R/V',\n",
        "'W/R/V',\n",
        "'W/N/R/V',\n",
        "'W/N/R/V',\n",
        "'W/N/R/V',\n",
        "'W/N/R/V',\n",
        "'W/N/R/V',\n",
        "'W/N/R/V',\n",
        "'W/N/R/V',\n",
        "'W/N/R/V',\n",
        "'W/R/B/Y',\n",
        "'W/R/B/Y',\n",
        "'W/R/B/Y',\n",
        "'W/R/B/Y',\n",
        "'W/R/B/Y',\n",
        "'W/R/B/Y',\n",
        "'B/Y',\n",
        "'B/Y',\n",
        "'B/Y',\n",
        "'B/Y',\n",
        "'B/Y',\n",
        "'R/B/Y',\n",
        "'R/B/Y',\n",
        "'R/B/Y',\n",
        "'R/B/Y',\n",
        "'R/B/Y',\n",
        "'W/N/R/B/V/Y',\n",
        "'W/N/R/B/V/Y',\n",
        "'W/N/R/B/V/Y',\n",
        "'W/N/R/B/V/Y',\n",
        "'W/N/R/B/V/Y',\n",
        "'W/G',\n",
        "'W/G',\n",
        "'W/G',\n",
        "'W/G',\n",
        "'R/Y',\n",
        "'R/Y',\n",
        "'R/Y',\n",
        "'R/Y',\n",
        "'N/R/V/Y',\n",
        "'N/R/V/Y',\n",
        "'N/R/V/Y',\n",
        "'N/R/V/Y',\n",
        "'W/R/B/V',\n",
        "'W/R/B/V',\n",
        "'W/R/B/V',\n",
        "'W/R/B/V',\n",
        "'W/N/R/V/Y',\n",
        "'W/N/R/V/Y',\n",
        "'W/N/R/V/Y',\n",
        "'W/N/R/V/Y',\n",
        "'N/R/Y',\n",
        "'N/R/Y',\n",
        "'N/R/Y',\n",
        "'W/V/O',\n",
        "'W/V/O',\n",
        "'W/V/O',\n",
        "'W/N/R/Y',\n",
        "'W/N/R/Y',\n",
        "'W/N/R/Y',\n",
        "'R/B/V/Y',\n",
        "'R/B/V/Y',\n",
        "'R/B/V/Y',\n",
        "'W/R/V/Y',\n",
        "'W/R/V/Y',\n",
        "'W/R/V/Y',\n",
        "'W/R/B/V/Y',\n",
        "'W/R/B/V/Y',\n",
        "'W/R/B/V/Y',\n",
        "'W/N/R/B/Y',\n",
        "'W/N/R/B/Y',\n",
        "'W/N/R/B/Y',\n",
        "'R/G',\n",
        "'R/G',\n",
        "'B/V/Y',\n",
        "'B/V/Y',\n",
        "'N/B/Y',\n",
        "'N/B/Y',\n",
        "'W/B/Y',\n",
        "'W/B/Y',\n",
        "'W/N/B',\n",
        "'W/N/B',\n",
        "'W/N/R',\n",
        "'W/N/R',\n",
        "'W/N/B/Y',\n",
        "'W/N/B/Y',\n",
        "'W/B/V/Y',\n",
        "'W/B/V/Y',\n",
        "'W/N/R/B/V/Y/G/M',\n",
        "'W/N/R/B/V/Y/G/M',\n",
        "'B/R',\n",
        "'N/R',\n",
        "'V/Y',\n",
        "'V',\n",
        "'N/R/V',\n",
        "'N/V/Y',\n",
        "'R/B/O',\n",
        "'W/B/V',\n",
        "'W/V/Y',\n",
        "'W/N/R/B',\n",
        "'W/N/R/O',\n",
        "'W/N/R/G',\n",
        "'W/N/V/Y',\n",
        "'W/N/Y/M',\n",
        "'N/R/B/Y',\n",
        "'N/B/V/Y',\n",
        "'R/V/Y/O',\n",
        "'W/B/V/M',\n",
        "'W/B/V/O',\n",
        "'N/R/B/Y/M',\n",
        "'N/R/V/O/M',\n",
        "'W/N/R/Y/G',\n",
        "'N/R/B/V/Y',\n",
        "'W/R/B/V/Y/P',\n",
        "'W/N/R/B/Y/G',\n",
        "'W/N/R/B/V/O/M',\n",
        "'W/N/R/B/V/Y/M',\n",
        "'W/N/B/V/Y/G/M',\n",
        "'W/N/B/V/V/Y/P']"
      ],
      "metadata": {
        "id": "pS2gHuij3h2a"
      },
      "execution_count": 104,
      "outputs": []
    },
    {
      "cell_type": "markdown",
      "source": [
        "## 1. Build your own counter object, then use the built-in Counter() and confirm they have the same values.\n"
      ],
      "metadata": {
        "id": "ec3Pz4yVtNtU"
      }
    },
    {
      "cell_type": "code",
      "source": [
        "y = 0\n",
        "flowers = []\n",
        "\n",
        "for x in flower_orders:\n",
        "  flowers.extend(flower_orders[y].split(\"/\"))\n",
        "  y+=1"
      ],
      "metadata": {
        "id": "GT9vqLyXCn4B"
      },
      "execution_count": 105,
      "outputs": []
    },
    {
      "cell_type": "code",
      "source": [
        "y=0\n",
        "count= []\n",
        "\n",
        "for x in flowers:\n",
        "  count.append(1)\n",
        "print(sum(count))"
      ],
      "metadata": {
        "colab": {
          "base_uri": "https://localhost:8080/"
        },
        "id": "m7FhqLZc79EP",
        "outputId": "736c6324-8850-4028-f4bb-1535b6284295"
      },
      "execution_count": 106,
      "outputs": [
        {
          "output_type": "stream",
          "name": "stdout",
          "text": [
            "633\n"
          ]
        }
      ]
    },
    {
      "cell_type": "code",
      "source": [
        "letter_counts = Counter(flowers)\n",
        "letter_counts\n",
        "print(sum(letter_counts.values()))"
      ],
      "metadata": {
        "colab": {
          "base_uri": "https://localhost:8080/"
        },
        "id": "wVQ9g7ucCVCY",
        "outputId": "3c9ccb84-6817-451a-874b-9a02be0109b4"
      },
      "execution_count": 107,
      "outputs": [
        {
          "output_type": "stream",
          "name": "stdout",
          "text": [
            "633\n"
          ]
        }
      ]
    },
    {
      "cell_type": "code",
      "source": [
        "len(flowers)"
      ],
      "metadata": {
        "colab": {
          "base_uri": "https://localhost:8080/"
        },
        "id": "Tc4AzEEBTqvz",
        "outputId": "d4913d8e-326a-472e-9b68-151983311d4e"
      },
      "execution_count": 108,
      "outputs": [
        {
          "output_type": "execute_result",
          "data": {
            "text/plain": [
              "633"
            ]
          },
          "metadata": {},
          "execution_count": 108
        }
      ]
    },
    {
      "cell_type": "markdown",
      "source": [
        "## Count how many objects have color W in them."
      ],
      "metadata": {
        "id": "4ECfrZ1AtGZK"
      }
    },
    {
      "cell_type": "code",
      "source": [
        "y=0\n",
        "count = []\n",
        "for x in flower_orders:\n",
        "  countw = flower_orders[y].count(\"W\")\n",
        "  if countw !=0:\n",
        "    count.append(1)\n",
        "  y+=1\n",
        "\n",
        "sum(count)"
      ],
      "metadata": {
        "colab": {
          "base_uri": "https://localhost:8080/"
        },
        "id": "gwq9xIDgB_p4",
        "outputId": "636d2029-f162-4f2e-ef2b-ac53ec6c3e44"
      },
      "execution_count": 109,
      "outputs": [
        {
          "output_type": "execute_result",
          "data": {
            "text/plain": [
              "130"
            ]
          },
          "metadata": {},
          "execution_count": 109
        }
      ]
    },
    {
      "cell_type": "markdown",
      "source": [
        "## Make histogram of colors"
      ],
      "metadata": {
        "id": "INX4pKzCtBmE"
      }
    },
    {
      "cell_type": "code",
      "source": [
        "import matplotlib.pyplot as plt\n",
        "num_bins = 10\n",
        "n, bins, patches = plt.hist(flowers, color = \"lightblue\", ec=\"black\", alpha=0.5)\n",
        "plt.show()"
      ],
      "metadata": {
        "colab": {
          "base_uri": "https://localhost:8080/",
          "height": 430
        },
        "id": "BPBCipJdTI1K",
        "outputId": "b018b88a-1973-4234-f84e-d21ddb0208fb"
      },
      "execution_count": 110,
      "outputs": [
        {
          "output_type": "display_data",
          "data": {
            "text/plain": [
              "<Figure size 640x480 with 1 Axes>"
            ],
            "image/png": "[encoded data removed]"
          },
          "metadata": {}
        }
      ]
    },
    {
      "cell_type": "code",
      "source": [
        "y=0\n",
        "pairs = []\n",
        "\n",
        "for x in flower_orders:\n",
        "  pairs.extend(list(pairwise(flower_orders[y].split(\"/\"))))\n",
        "  y+=1\n",
        "pairs_counts = Counter(pairs)\n",
        "pairs_counts"
      ],
      "metadata": {
        "colab": {
          "base_uri": "https://localhost:8080/"
        },
        "id": "QjUlmM28YALe",
        "outputId": "1acfbf07-80cf-444e-a954-caea6461aa1f"
      },
      "execution_count": 111,
      "outputs": [
        {
          "output_type": "execute_result",
          "data": {
            "text/plain": [
              "Counter({('W', 'R'): 73,\n",
              "         ('R', 'B'): 70,\n",
              "         ('R', 'V'): 42,\n",
              "         ('V', 'Y'): 49,\n",
              "         ('W', 'N'): 42,\n",
              "         ('N', 'R'): 47,\n",
              "         ('B', 'Y'): 28,\n",
              "         ('B', 'V'): 31,\n",
              "         ('W', 'G'): 4,\n",
              "         ('R', 'Y'): 11,\n",
              "         ('W', 'V'): 4,\n",
              "         ('V', 'O'): 6,\n",
              "         ('R', 'G'): 3,\n",
              "         ('N', 'B'): 9,\n",
              "         ('W', 'B'): 7,\n",
              "         ('Y', 'G'): 5,\n",
              "         ('G', 'M'): 3,\n",
              "         ('B', 'R'): 1,\n",
              "         ('N', 'V'): 2,\n",
              "         ('B', 'O'): 1,\n",
              "         ('R', 'O'): 1,\n",
              "         ('N', 'Y'): 1,\n",
              "         ('Y', 'M'): 3,\n",
              "         ('Y', 'O'): 1,\n",
              "         ('V', 'M'): 1,\n",
              "         ('O', 'M'): 2,\n",
              "         ('Y', 'P'): 2,\n",
              "         ('V', 'V'): 1})"
            ]
          },
          "metadata": {},
          "execution_count": 111
        }
      ]
    },
    {
      "cell_type": "code",
      "source": [
        "y=0\n",
        "pairs = []\n",
        "\n",
        "for x in flower_orders:\n",
        "  pairs.extend((list(pairwise(flower_orders[y].split(\"/\")))))\n",
        "  y+=1\n",
        "\n",
        "pairs"
      ],
      "metadata": {
        "colab": {
          "base_uri": "https://localhost:8080/"
        },
        "id": "ehmtKYAnceFS",
        "outputId": "806db156-3a77-4a53-c7a1-bf969a5f8dd6"
      },
      "execution_count": 112,
      "outputs": [
        {
          "output_type": "execute_result",
          "data": {
            "text/plain": [
              "[('W', 'R'),\n",
              " ('R', 'B'),\n",
              " ('W', 'R'),\n",
              " ('R', 'B'),\n",
              " ('W', 'R'),\n",
              " ('R', 'B'),\n",
              " ('W', 'R'),\n",
              " ('R', 'B'),\n",
              " ('W', 'R'),\n",
              " ('R', 'B'),\n",
              " ('W', 'R'),\n",
              " ('R', 'B'),\n",
              " ('W', 'R'),\n",
              " ('R', 'B'),\n",
              " ('W', 'R'),\n",
              " ('R', 'B'),\n",
              " ('W', 'R'),\n",
              " ('R', 'B'),\n",
              " ('W', 'R'),\n",
              " ('R', 'B'),\n",
              " ('W', 'R'),\n",
              " ('R', 'B'),\n",
              " ('W', 'R'),\n",
              " ('R', 'B'),\n",
              " ('W', 'R'),\n",
              " ('R', 'B'),\n",
              " ('W', 'R'),\n",
              " ('R', 'B'),\n",
              " ('W', 'R'),\n",
              " ('R', 'B'),\n",
              " ('W', 'R'),\n",
              " ('R', 'B'),\n",
              " ('W', 'R'),\n",
              " ('R', 'B'),\n",
              " ('W', 'R'),\n",
              " ('R', 'B'),\n",
              " ('W', 'R'),\n",
              " ('R', 'B'),\n",
              " ('W', 'R'),\n",
              " ('R', 'B'),\n",
              " ('W', 'R'),\n",
              " ('R', 'B'),\n",
              " ('W', 'R'),\n",
              " ('R', 'B'),\n",
              " ('W', 'R'),\n",
              " ('R', 'B'),\n",
              " ('W', 'R'),\n",
              " ('R', 'B'),\n",
              " ('W', 'R'),\n",
              " ('R', 'B'),\n",
              " ('W', 'R'),\n",
              " ('R', 'B'),\n",
              " ('W', 'R'),\n",
              " ('R', 'B'),\n",
              " ('W', 'R'),\n",
              " ('R', 'B'),\n",
              " ('W', 'R'),\n",
              " ('R', 'B'),\n",
              " ('W', 'R'),\n",
              " ('R', 'B'),\n",
              " ('W', 'R'),\n",
              " ('W', 'R'),\n",
              " ('W', 'R'),\n",
              " ('W', 'R'),\n",
              " ('W', 'R'),\n",
              " ('W', 'R'),\n",
              " ('W', 'R'),\n",
              " ('W', 'R'),\n",
              " ('W', 'R'),\n",
              " ('W', 'R'),\n",
              " ('W', 'R'),\n",
              " ('W', 'R'),\n",
              " ('W', 'R'),\n",
              " ('W', 'R'),\n",
              " ('W', 'R'),\n",
              " ('W', 'R'),\n",
              " ('R', 'V'),\n",
              " ('V', 'Y'),\n",
              " ('R', 'V'),\n",
              " ('V', 'Y'),\n",
              " ('R', 'V'),\n",
              " ('V', 'Y'),\n",
              " ('R', 'V'),\n",
              " ('V', 'Y'),\n",
              " ('R', 'V'),\n",
              " ('V', 'Y'),\n",
              " ('R', 'V'),\n",
              " ('V', 'Y'),\n",
              " ('R', 'V'),\n",
              " ('V', 'Y'),\n",
              " ('R', 'V'),\n",
              " ('V', 'Y'),\n",
              " ('R', 'V'),\n",
              " ('V', 'Y'),\n",
              " ('R', 'V'),\n",
              " ('V', 'Y'),\n",
              " ('W', 'R'),\n",
              " ('R', 'V'),\n",
              " ('W', 'R'),\n",
              " ('R', 'V'),\n",
              " ('W', 'R'),\n",
              " ('R', 'V'),\n",
              " ('W', 'R'),\n",
              " ('R', 'V'),\n",
              " ('W', 'R'),\n",
              " ('R', 'V'),\n",
              " ('W', 'R'),\n",
              " ('R', 'V'),\n",
              " ('W', 'R'),\n",
              " ('R', 'V'),\n",
              " ('W', 'R'),\n",
              " ('R', 'V'),\n",
              " ('W', 'R'),\n",
              " ('R', 'V'),\n",
              " ('W', 'R'),\n",
              " ('R', 'V'),\n",
              " ('W', 'N'),\n",
              " ('N', 'R'),\n",
              " ('R', 'V'),\n",
              " ('W', 'N'),\n",
              " ('N', 'R'),\n",
              " ('R', 'V'),\n",
              " ('W', 'N'),\n",
              " ('N', 'R'),\n",
              " ('R', 'V'),\n",
              " ('W', 'N'),\n",
              " ('N', 'R'),\n",
              " ('R', 'V'),\n",
              " ('W', 'N'),\n",
              " ('N', 'R'),\n",
              " ('R', 'V'),\n",
              " ('W', 'N'),\n",
              " ('N', 'R'),\n",
              " ('R', 'V'),\n",
              " ('W', 'N'),\n",
              " ('N', 'R'),\n",
              " ('R', 'V'),\n",
              " ('W', 'N'),\n",
              " ('N', 'R'),\n",
              " ('R', 'V'),\n",
              " ('W', 'R'),\n",
              " ('R', 'B'),\n",
              " ('B', 'Y'),\n",
              " ('W', 'R'),\n",
              " ('R', 'B'),\n",
              " ('B', 'Y'),\n",
              " ('W', 'R'),\n",
              " ('R', 'B'),\n",
              " ('B', 'Y'),\n",
              " ('W', 'R'),\n",
              " ('R', 'B'),\n",
              " ('B', 'Y'),\n",
              " ('W', 'R'),\n",
              " ('R', 'B'),\n",
              " ('B', 'Y'),\n",
              " ('W', 'R'),\n",
              " ('R', 'B'),\n",
              " ('B', 'Y'),\n",
              " ('B', 'Y'),\n",
              " ('B', 'Y'),\n",
              " ('B', 'Y'),\n",
              " ('B', 'Y'),\n",
              " ('B', 'Y'),\n",
              " ('R', 'B'),\n",
              " ('B', 'Y'),\n",
              " ('R', 'B'),\n",
              " ('B', 'Y'),\n",
              " ('R', 'B'),\n",
              " ('B', 'Y'),\n",
              " ('R', 'B'),\n",
              " ('B', 'Y'),\n",
              " ('R', 'B'),\n",
              " ('B', 'Y'),\n",
              " ('W', 'N'),\n",
              " ('N', 'R'),\n",
              " ('R', 'B'),\n",
              " ('B', 'V'),\n",
              " ('V', 'Y'),\n",
              " ('W', 'N'),\n",
              " ('N', 'R'),\n",
              " ('R', 'B'),\n",
              " ('B', 'V'),\n",
              " ('V', 'Y'),\n",
              " ('W', 'N'),\n",
              " ('N', 'R'),\n",
              " ('R', 'B'),\n",
              " ('B', 'V'),\n",
              " ('V', 'Y'),\n",
              " ('W', 'N'),\n",
              " ('N', 'R'),\n",
              " ('R', 'B'),\n",
              " ('B', 'V'),\n",
              " ('V', 'Y'),\n",
              " ('W', 'N'),\n",
              " ('N', 'R'),\n",
              " ('R', 'B'),\n",
              " ('B', 'V'),\n",
              " ('V', 'Y'),\n",
              " ('W', 'G'),\n",
              " ('W', 'G'),\n",
              " ('W', 'G'),\n",
              " ('W', 'G'),\n",
              " ('R', 'Y'),\n",
              " ('R', 'Y'),\n",
              " ('R', 'Y'),\n",
              " ('R', 'Y'),\n",
              " ('N', 'R'),\n",
              " ('R', 'V'),\n",
              " ('V', 'Y'),\n",
              " ('N', 'R'),\n",
              " ('R', 'V'),\n",
              " ('V', 'Y'),\n",
              " ('N', 'R'),\n",
              " ('R', 'V'),\n",
              " ('V', 'Y'),\n",
              " ('N', 'R'),\n",
              " ('R', 'V'),\n",
              " ('V', 'Y'),\n",
              " ('W', 'R'),\n",
              " ('R', 'B'),\n",
              " ('B', 'V'),\n",
              " ('W', 'R'),\n",
              " ('R', 'B'),\n",
              " ('B', 'V'),\n",
              " ('W', 'R'),\n",
              " ('R', 'B'),\n",
              " ('B', 'V'),\n",
              " ('W', 'R'),\n",
              " ('R', 'B'),\n",
              " ('B', 'V'),\n",
              " ('W', 'N'),\n",
              " ('N', 'R'),\n",
              " ('R', 'V'),\n",
              " ('V', 'Y'),\n",
              " ('W', 'N'),\n",
              " ('N', 'R'),\n",
              " ('R', 'V'),\n",
              " ('V', 'Y'),\n",
              " ('W', 'N'),\n",
              " ('N', 'R'),\n",
              " ('R', 'V'),\n",
              " ('V', 'Y'),\n",
              " ('W', 'N'),\n",
              " ('N', 'R'),\n",
              " ('R', 'V'),\n",
              " ('V', 'Y'),\n",
              " ('N', 'R'),\n",
              " ('R', 'Y'),\n",
              " ('N', 'R'),\n",
              " ('R', 'Y'),\n",
              " ('N', 'R'),\n",
              " ('R', 'Y'),\n",
              " ('W', 'V'),\n",
              " ('V', 'O'),\n",
              " ('W', 'V'),\n",
              " ('V', 'O'),\n",
              " ('W', 'V'),\n",
              " ('V', 'O'),\n",
              " ('W', 'N'),\n",
              " ('N', 'R'),\n",
              " ('R', 'Y'),\n",
              " ('W', 'N'),\n",
              " ('N', 'R'),\n",
              " ('R', 'Y'),\n",
              " ('W', 'N'),\n",
              " ('N', 'R'),\n",
              " ('R', 'Y'),\n",
              " ('R', 'B'),\n",
              " ('B', 'V'),\n",
              " ('V', 'Y'),\n",
              " ('R', 'B'),\n",
              " ('B', 'V'),\n",
              " ('V', 'Y'),\n",
              " ('R', 'B'),\n",
              " ('B', 'V'),\n",
              " ('V', 'Y'),\n",
              " ('W', 'R'),\n",
              " ('R', 'V'),\n",
              " ('V', 'Y'),\n",
              " ('W', 'R'),\n",
              " ('R', 'V'),\n",
              " ('V', 'Y'),\n",
              " ('W', 'R'),\n",
              " ('R', 'V'),\n",
              " ('V', 'Y'),\n",
              " ('W', 'R'),\n",
              " ('R', 'B'),\n",
              " ('B', 'V'),\n",
              " ('V', 'Y'),\n",
              " ('W', 'R'),\n",
              " ('R', 'B'),\n",
              " ('B', 'V'),\n",
              " ('V', 'Y'),\n",
              " ('W', 'R'),\n",
              " ('R', 'B'),\n",
              " ('B', 'V'),\n",
              " ('V', 'Y'),\n",
              " ('W', 'N'),\n",
              " ('N', 'R'),\n",
              " ('R', 'B'),\n",
              " ('B', 'Y'),\n",
              " ('W', 'N'),\n",
              " ('N', 'R'),\n",
              " ('R', 'B'),\n",
              " ('B', 'Y'),\n",
              " ('W', 'N'),\n",
              " ('N', 'R'),\n",
              " ('R', 'B'),\n",
              " ('B', 'Y'),\n",
              " ('R', 'G'),\n",
              " ('R', 'G'),\n",
              " ('B', 'V'),\n",
              " ('V', 'Y'),\n",
              " ('B', 'V'),\n",
              " ('V', 'Y'),\n",
              " ('N', 'B'),\n",
              " ('B', 'Y'),\n",
              " ('N', 'B'),\n",
              " ('B', 'Y'),\n",
              " ('W', 'B'),\n",
              " ('B', 'Y'),\n",
              " ('W', 'B'),\n",
              " ('B', 'Y'),\n",
              " ('W', 'N'),\n",
              " ('N', 'B'),\n",
              " ('W', 'N'),\n",
              " ('N', 'B'),\n",
              " ('W', 'N'),\n",
              " ('N', 'R'),\n",
              " ('W', 'N'),\n",
              " ('N', 'R'),\n",
              " ('W', 'N'),\n",
              " ('N', 'B'),\n",
              " ('B', 'Y'),\n",
              " ('W', 'N'),\n",
              " ('N', 'B'),\n",
              " ('B', 'Y'),\n",
              " ('W', 'B'),\n",
              " ('B', 'V'),\n",
              " ('V', 'Y'),\n",
              " ('W', 'B'),\n",
              " ('B', 'V'),\n",
              " ('V', 'Y'),\n",
              " ('W', 'N'),\n",
              " ('N', 'R'),\n",
              " ('R', 'B'),\n",
              " ('B', 'V'),\n",
              " ('V', 'Y'),\n",
              " ('Y', 'G'),\n",
              " ('G', 'M'),\n",
              " ('W', 'N'),\n",
              " ('N', 'R'),\n",
              " ('R', 'B'),\n",
              " ('B', 'V'),\n",
              " ('V', 'Y'),\n",
              " ('Y', 'G'),\n",
              " ('G', 'M'),\n",
              " ('B', 'R'),\n",
              " ('N', 'R'),\n",
              " ('V', 'Y'),\n",
              " ('N', 'R'),\n",
              " ('R', 'V'),\n",
              " ('N', 'V'),\n",
              " ('V', 'Y'),\n",
              " ('R', 'B'),\n",
              " ('B', 'O'),\n",
              " ('W', 'B'),\n",
              " ('B', 'V'),\n",
              " ('W', 'V'),\n",
              " ('V', 'Y'),\n",
              " ('W', 'N'),\n",
              " ('N', 'R'),\n",
              " ('R', 'B'),\n",
              " ('W', 'N'),\n",
              " ('N', 'R'),\n",
              " ('R', 'O'),\n",
              " ('W', 'N'),\n",
              " ('N', 'R'),\n",
              " ('R', 'G'),\n",
              " ('W', 'N'),\n",
              " ('N', 'V'),\n",
              " ('V', 'Y'),\n",
              " ('W', 'N'),\n",
              " ('N', 'Y'),\n",
              " ('Y', 'M'),\n",
              " ('N', 'R'),\n",
              " ('R', 'B'),\n",
              " ('B', 'Y'),\n",
              " ('N', 'B'),\n",
              " ('B', 'V'),\n",
              " ('V', 'Y'),\n",
              " ('R', 'V'),\n",
              " ('V', 'Y'),\n",
              " ('Y', 'O'),\n",
              " ('W', 'B'),\n",
              " ('B', 'V'),\n",
              " ('V', 'M'),\n",
              " ('W', 'B'),\n",
              " ('B', 'V'),\n",
              " ('V', 'O'),\n",
              " ('N', 'R'),\n",
              " ('R', 'B'),\n",
              " ('B', 'Y'),\n",
              " ('Y', 'M'),\n",
              " ('N', 'R'),\n",
              " ('R', 'V'),\n",
              " ('V', 'O'),\n",
              " ('O', 'M'),\n",
              " ('W', 'N'),\n",
              " ('N', 'R'),\n",
              " ('R', 'Y'),\n",
              " ('Y', 'G'),\n",
              " ('N', 'R'),\n",
              " ('R', 'B'),\n",
              " ('B', 'V'),\n",
              " ('V', 'Y'),\n",
              " ('W', 'R'),\n",
              " ('R', 'B'),\n",
              " ('B', 'V'),\n",
              " ('V', 'Y'),\n",
              " ('Y', 'P'),\n",
              " ('W', 'N'),\n",
              " ('N', 'R'),\n",
              " ('R', 'B'),\n",
              " ('B', 'Y'),\n",
              " ('Y', 'G'),\n",
              " ('W', 'N'),\n",
              " ('N', 'R'),\n",
              " ('R', 'B'),\n",
              " ('B', 'V'),\n",
              " ('V', 'O'),\n",
              " ('O', 'M'),\n",
              " ('W', 'N'),\n",
              " ('N', 'R'),\n",
              " ('R', 'B'),\n",
              " ('B', 'V'),\n",
              " ('V', 'Y'),\n",
              " ('Y', 'M'),\n",
              " ('W', 'N'),\n",
              " ('N', 'B'),\n",
              " ('B', 'V'),\n",
              " ('V', 'Y'),\n",
              " ('Y', 'G'),\n",
              " ('G', 'M'),\n",
              " ('W', 'N'),\n",
              " ('N', 'B'),\n",
              " ('B', 'V'),\n",
              " ('V', 'V'),\n",
              " ('V', 'Y'),\n",
              " ('Y', 'P')]"
            ]
          },
          "metadata": {},
          "execution_count": 112
        }
      ]
    },
    {
      "cell_type": "code",
      "source": [
        "y = 0\n",
        "flowers = []\n",
        "pairs = []\n",
        "for x in flower_orders:\n",
        "  flowers = flower_orders[y].split(\"/\")\n",
        "  pairs.extend(list(permutations(flowers,3)))\n",
        "\n",
        "  y+=1\n",
        "  Counter(pairs)"
      ],
      "metadata": {
        "id": "FI8C10xzdQFz"
      },
      "execution_count": 113,
      "outputs": []
    },
    {
      "cell_type": "markdown",
      "source": [
        "## Rank the pairs of colors in each order regardless of how many colors are in an order."
      ],
      "metadata": {
        "id": "Ti_wFdMoswNN"
      }
    },
    {
      "cell_type": "code",
      "source": [
        "y = 0\n",
        "flowers = []\n",
        "color = ()\n",
        "pairs = []\n",
        "\n",
        "for x in flower_orders:\n",
        "  flowers = flower_orders[y].split(\"/\")\n",
        "  pairs.extend(list(permutations(flowers,2)))\n",
        " # colors.update()\n",
        "\n",
        "  y+=1\n",
        "\n",
        "print(Counter(list(pairs)))"
      ],
      "metadata": {
        "colab": {
          "base_uri": "https://localhost:8080/"
        },
        "id": "7dFtX6eNsnnB",
        "outputId": "67a48bee-50ea-4bf8-beaa-e92eeef6f8d2"
      },
      "execution_count": 114,
      "outputs": [
        {
          "output_type": "stream",
          "name": "stdout",
          "text": [
            "Counter({('W', 'R'): 107, ('R', 'W'): 107, ('W', 'B'): 71, ('R', 'B'): 71, ('B', 'W'): 71, ('B', 'R'): 71, ('R', 'Y'): 66, ('Y', 'R'): 66, ('R', 'V'): 63, ('V', 'R'): 63, ('W', 'V'): 55, ('V', 'W'): 55, ('B', 'Y'): 51, ('Y', 'B'): 51, ('V', 'Y'): 50, ('Y', 'V'): 50, ('N', 'R'): 47, ('R', 'N'): 47, ('W', 'Y'): 44, ('Y', 'W'): 44, ('W', 'N'): 42, ('N', 'W'): 42, ('N', 'Y'): 40, ('Y', 'N'): 40, ('N', 'V'): 34, ('V', 'N'): 34, ('B', 'V'): 32, ('V', 'B'): 32, ('N', 'B'): 26, ('B', 'N'): 26, ('W', 'G'): 10, ('G', 'W'): 10, ('N', 'M'): 8, ('M', 'N'): 8, ('V', 'O'): 7, ('O', 'V'): 7, ('R', 'G'): 7, ('G', 'R'): 7, ('W', 'M'): 7, ('B', 'M'): 7, ('V', 'M'): 7, ('M', 'W'): 7, ('M', 'B'): 7, ('M', 'V'): 7, ('W', 'O'): 6, ('O', 'W'): 6, ('N', 'G'): 6, ('R', 'M'): 6, ('Y', 'M'): 6, ('G', 'N'): 6, ('M', 'R'): 6, ('M', 'Y'): 6, ('Y', 'G'): 5, ('G', 'Y'): 5, ('R', 'O'): 5, ('O', 'R'): 5, ('B', 'G'): 4, ('G', 'B'): 4, ('V', 'G'): 3, ('G', 'V'): 3, ('G', 'M'): 3, ('M', 'G'): 3, ('B', 'O'): 3, ('O', 'B'): 3, ('N', 'O'): 3, ('O', 'N'): 3, ('V', 'P'): 3, ('P', 'V'): 3, ('O', 'M'): 2, ('M', 'O'): 2, ('W', 'P'): 2, ('B', 'P'): 2, ('Y', 'P'): 2, ('P', 'W'): 2, ('P', 'B'): 2, ('P', 'Y'): 2, ('V', 'V'): 2, ('Y', 'O'): 1, ('O', 'Y'): 1, ('R', 'P'): 1, ('P', 'R'): 1, ('N', 'P'): 1, ('P', 'N'): 1})\n"
          ]
        }
      ]
    },
    {
      "cell_type": "code",
      "source": [
        "#double check probabilities\n",
        "107/"
      ],
      "metadata": {
        "colab": {
          "base_uri": "https://localhost:8080/",
          "height": 143
        },
        "id": "2bGEAtXmma49",
        "outputId": "165db2d8-0470-41a8-d95c-6c90e0a00b4c"
      },
      "execution_count": 115,
      "outputs": [
        {
          "output_type": "error",
          "ename": "SyntaxError",
          "evalue": "ignored",
          "traceback": [
            "\u001b[0;36m  File \u001b[0;32m\"<ipython-input-115-54fc044a51d1>\"\u001b[0;36m, line \u001b[0;32m2\u001b[0m\n\u001b[0;31m    107/\u001b[0m\n\u001b[0m        ^\u001b[0m\n\u001b[0;31mSyntaxError\u001b[0m\u001b[0;31m:\u001b[0m invalid syntax\n"
          ]
        }
      ]
    },
    {
      "cell_type": "code",
      "source": [],
      "metadata": {
        "id": "Bt-TPI-OmfSd"
      },
      "execution_count": null,
      "outputs": []
    },
    {
      "cell_type": "markdown",
      "source": [
        "## Rank the triplets of colors in each order regardless of how many colors are in an order."
      ],
      "metadata": {
        "id": "Kr2GcQw2shUn"
      }
    },
    {
      "cell_type": "code",
      "source": [
        "y = 0\n",
        "flowers = []\n",
        "color = ()\n",
        "pairs = []\n",
        "\n",
        "for x in flower_orders:\n",
        "  flowers = flower_orders[y].split(\"/\")\n",
        "  pairs.extend(list(permutations(flowers,3)))\n",
        " # colors.update()\n",
        "\n",
        "  y+=1\n",
        "\n",
        "print(Counter(list(pairs)))"
      ],
      "metadata": {
        "colab": {
          "base_uri": "https://localhost:8080/"
        },
        "id": "qKoU_yHKnnhd",
        "outputId": "61dac9f0-2e21-48fb-f81a-45c3b1d4dab5"
      },
      "execution_count": 116,
      "outputs": [
        {
          "output_type": "stream",
          "name": "stdout",
          "text": [
            "Counter({('W', 'R', 'B'): 58, ('W', 'B', 'R'): 58, ('R', 'W', 'B'): 58, ('R', 'B', 'W'): 58, ('B', 'W', 'R'): 58, ('B', 'R', 'W'): 58, ('W', 'R', 'V'): 42, ('W', 'V', 'R'): 42, ('R', 'W', 'V'): 42, ('R', 'V', 'W'): 42, ('V', 'W', 'R'): 42, ('V', 'R', 'W'): 42, ('R', 'V', 'Y'): 38, ('R', 'Y', 'V'): 38, ('V', 'R', 'Y'): 38, ('V', 'Y', 'R'): 38, ('Y', 'R', 'V'): 38, ('Y', 'V', 'R'): 38, ('W', 'N', 'R'): 34, ('W', 'R', 'N'): 34, ('N', 'W', 'R'): 34, ('N', 'R', 'W'): 34, ('R', 'W', 'N'): 34, ('R', 'N', 'W'): 34, ('W', 'R', 'Y'): 33, ('W', 'Y', 'R'): 33, ('R', 'W', 'Y'): 33, ('R', 'B', 'Y'): 33, ('R', 'Y', 'W'): 33, ('R', 'Y', 'B'): 33, ('B', 'R', 'Y'): 33, ('B', 'Y', 'R'): 33, ('Y', 'W', 'R'): 33, ('Y', 'R', 'W'): 33, ('Y', 'R', 'B'): 33, ('Y', 'B', 'R'): 33, ('W', 'B', 'Y'): 30, ('W', 'Y', 'B'): 30, ('B', 'W', 'Y'): 30, ('B', 'Y', 'W'): 30, ('Y', 'W', 'B'): 30, ('Y', 'B', 'W'): 30, ('N', 'R', 'Y'): 30, ('N', 'Y', 'R'): 30, ('R', 'N', 'Y'): 30, ('R', 'Y', 'N'): 30, ('Y', 'N', 'R'): 30, ('Y', 'R', 'N'): 30, ('N', 'R', 'V'): 28, ('N', 'V', 'R'): 28, ('R', 'N', 'V'): 28, ('R', 'V', 'N'): 28, ('V', 'N', 'R'): 28, ('V', 'R', 'N'): 28, ('W', 'N', 'Y'): 26, ('W', 'V', 'Y'): 26, ('W', 'Y', 'N'): 26, ('W', 'Y', 'V'): 26, ('N', 'W', 'Y'): 26, ('N', 'Y', 'W'): 26, ('V', 'W', 'Y'): 26, ('V', 'Y', 'W'): 26, ('Y', 'W', 'N'): 26, ('Y', 'W', 'V'): 26, ('Y', 'N', 'W'): 26, ('Y', 'V', 'W'): 26, ('W', 'N', 'V'): 25, ('W', 'V', 'N'): 25, ('N', 'W', 'V'): 25, ('N', 'V', 'W'): 25, ('V', 'W', 'N'): 25, ('V', 'N', 'W'): 25, ('W', 'B', 'V'): 25, ('W', 'V', 'B'): 25, ('B', 'W', 'V'): 25, ('B', 'V', 'W'): 25, ('V', 'W', 'B'): 25, ('V', 'B', 'W'): 25, ('B', 'V', 'Y'): 24, ('B', 'Y', 'V'): 24, ('V', 'B', 'Y'): 24, ('V', 'Y', 'B'): 24, ('Y', 'B', 'V'): 24, ('Y', 'V', 'B'): 24, ('N', 'V', 'Y'): 23, ('N', 'Y', 'V'): 23, ('V', 'N', 'Y'): 23, ('V', 'Y', 'N'): 23, ('Y', 'N', 'V'): 23, ('Y', 'V', 'N'): 23, ('N', 'B', 'Y'): 22, ('N', 'Y', 'B'): 22, ('B', 'N', 'Y'): 22, ('B', 'Y', 'N'): 22, ('Y', 'N', 'B'): 22, ('Y', 'B', 'N'): 22, ('R', 'B', 'V'): 21, ('R', 'V', 'B'): 21, ('B', 'R', 'V'): 21, ('B', 'V', 'R'): 21, ('V', 'R', 'B'): 21, ('V', 'B', 'R'): 21, ('W', 'N', 'B'): 20, ('W', 'B', 'N'): 20, ('N', 'W', 'B'): 20, ('N', 'B', 'W'): 20, ('B', 'W', 'N'): 20, ('B', 'N', 'W'): 20, ('N', 'R', 'B'): 17, ('N', 'B', 'R'): 17, ('R', 'N', 'B'): 17, ('R', 'B', 'N'): 17, ('B', 'N', 'R'): 17, ('B', 'R', 'N'): 17, ('N', 'B', 'V'): 14, ('N', 'V', 'B'): 14, ('B', 'N', 'V'): 14, ('B', 'V', 'N'): 14, ('V', 'N', 'B'): 14, ('V', 'B', 'N'): 14, ('W', 'N', 'G'): 6, ('W', 'N', 'M'): 6, ('W', 'B', 'M'): 6, ('W', 'V', 'M'): 6, ('W', 'G', 'N'): 6, ('W', 'M', 'N'): 6, ('W', 'M', 'B'): 6, ('W', 'M', 'V'): 6, ('N', 'W', 'G'): 6, ('N', 'W', 'M'): 6, ('N', 'R', 'M'): 6, ('N', 'B', 'M'): 6, ('N', 'V', 'M'): 6, ('N', 'Y', 'M'): 6, ('N', 'G', 'W'): 6, ('N', 'M', 'W'): 6, ('N', 'M', 'R'): 6, ('N', 'M', 'B'): 6, ('N', 'M', 'V'): 6, ('N', 'M', 'Y'): 6, ('R', 'N', 'M'): 6, ('R', 'M', 'N'): 6, ('B', 'W', 'M'): 6, ('B', 'N', 'M'): 6, ('B', 'V', 'M'): 6, ('B', 'M', 'W'): 6, ('B', 'M', 'N'): 6, ('B', 'M', 'V'): 6, ('V', 'W', 'M'): 6, ('V', 'N', 'M'): 6, ('V', 'B', 'M'): 6, ('V', 'M', 'W'): 6, ('V', 'M', 'N'): 6, ('V', 'M', 'B'): 6, ('Y', 'N', 'M'): 6, ('Y', 'M', 'N'): 6, ('G', 'W', 'N'): 6, ('G', 'N', 'W'): 6, ('M', 'W', 'N'): 6, ('M', 'W', 'B'): 6, ('M', 'W', 'V'): 6, ('M', 'N', 'W'): 6, ('M', 'N', 'R'): 6, ('M', 'N', 'B'): 6, ('M', 'N', 'V'): 6, ('M', 'N', 'Y'): 6, ('M', 'R', 'N'): 6, ('M', 'B', 'W'): 6, ('M', 'B', 'N'): 6, ('M', 'B', 'V'): 6, ('M', 'V', 'W'): 6, ('M', 'V', 'N'): 6, ('M', 'V', 'B'): 6, ('M', 'Y', 'N'): 6, ('W', 'V', 'O'): 5, ('W', 'O', 'V'): 5, ('V', 'W', 'O'): 5, ('V', 'O', 'W'): 5, ('O', 'W', 'V'): 5, ('O', 'V', 'W'): 5, ('W', 'R', 'G'): 5, ('W', 'Y', 'G'): 5, ('W', 'Y', 'M'): 5, ('W', 'G', 'R'): 5, ('W', 'G', 'Y'): 5, ('W', 'M', 'Y'): 5, ('N', 'R', 'G'): 5, ('N', 'Y', 'G'): 5, ('N', 'G', 'R'): 5, ('N', 'G', 'Y'): 5, ('R', 'W', 'G'): 5, ('R', 'N', 'G'): 5, ('R', 'B', 'M'): 5, ('R', 'V', 'M'): 5, ('R', 'G', 'W'): 5, ('R', 'G', 'N'): 5, ('R', 'M', 'B'): 5, ('R', 'M', 'V'): 5, ('B', 'R', 'M'): 5, ('B', 'Y', 'M'): 5, ('B', 'M', 'R'): 5, ('B', 'M', 'Y'): 5, ('V', 'R', 'M'): 5, ('V', 'M', 'R'): 5, ('Y', 'W', 'G'): 5, ('Y', 'W', 'M'): 5, ('Y', 'N', 'G'): 5, ('Y', 'B', 'M'): 5, ('Y', 'G', 'W'): 5, ('Y', 'G', 'N'): 5, ('Y', 'M', 'W'): 5, ('Y', 'M', 'B'): 5, ('G', 'W', 'R'): 5, ('G', 'W', 'Y'): 5, ('G', 'N', 'R'): 5, ('G', 'N', 'Y'): 5, ('G', 'R', 'W'): 5, ('G', 'R', 'N'): 5, ('G', 'Y', 'W'): 5, ('G', 'Y', 'N'): 5, ('M', 'W', 'Y'): 5, ('M', 'R', 'B'): 5, ('M', 'R', 'V'): 5, ('M', 'B', 'R'): 5, ('M', 'B', 'Y'): 5, ('M', 'V', 'R'): 5, ('M', 'Y', 'W'): 5, ('M', 'Y', 'B'): 5, ('W', 'R', 'M'): 4, ('W', 'B', 'G'): 4, ('W', 'G', 'B'): 4, ('W', 'M', 'R'): 4, ('N', 'B', 'G'): 4, ('N', 'G', 'B'): 4, ('R', 'W', 'M'): 4, ('R', 'Y', 'G'): 4, ('R', 'Y', 'M'): 4, ('R', 'G', 'Y'): 4, ('R', 'M', 'W'): 4, ('R', 'M', 'Y'): 4, ('B', 'W', 'G'): 4, ('B', 'N', 'G'): 4, ('B', 'Y', 'G'): 4, ('B', 'G', 'W'): 4, ('B', 'G', 'N'): 4, ('B', 'G', 'Y'): 4, ('V', 'Y', 'M'): 4, ('V', 'M', 'Y'): 4, ('Y', 'R', 'G'): 4, ('Y', 'R', 'M'): 4, ('Y', 'B', 'G'): 4, ('Y', 'V', 'M'): 4, ('Y', 'G', 'R'): 4, ('Y', 'G', 'B'): 4, ('Y', 'M', 'R'): 4, ('Y', 'M', 'V'): 4, ('G', 'W', 'B'): 4, ('G', 'N', 'B'): 4, ('G', 'R', 'Y'): 4, ('G', 'B', 'W'): 4, ('G', 'B', 'N'): 4, ('G', 'B', 'Y'): 4, ('G', 'Y', 'R'): 4, ('G', 'Y', 'B'): 4, ('M', 'W', 'R'): 4, ('M', 'R', 'W'): 4, ('M', 'R', 'Y'): 4, ('M', 'V', 'Y'): 4, ('M', 'Y', 'R'): 4, ('M', 'Y', 'V'): 4, ('W', 'V', 'G'): 3, ('W', 'G', 'V'): 3, ('W', 'G', 'M'): 3, ('W', 'M', 'G'): 3, ('N', 'V', 'G'): 3, ('N', 'G', 'V'): 3, ('N', 'G', 'M'): 3, ('N', 'M', 'G'): 3, ('R', 'B', 'G'): 3, ('R', 'G', 'B'): 3, ('B', 'R', 'G'): 3, ('B', 'V', 'G'): 3, ('B', 'G', 'R'): 3, ('B', 'G', 'V'): 3, ('B', 'G', 'M'): 3, ('B', 'M', 'G'): 3, ('V', 'W', 'G'): 3, ('V', 'N', 'G'): 3, ('V', 'B', 'G'): 3, ('V', 'Y', 'G'): 3, ('V', 'G', 'W'): 3, ('V', 'G', 'N'): 3, ('V', 'G', 'B'): 3, ('V', 'G', 'Y'): 3, ('V', 'G', 'M'): 3, ('V', 'M', 'G'): 3, ('Y', 'V', 'G'): 3, ('Y', 'G', 'V'): 3, ('Y', 'G', 'M'): 3, ('Y', 'M', 'G'): 3, ('G', 'W', 'V'): 3, ('G', 'W', 'M'): 3, ('G', 'N', 'V'): 3, ('G', 'N', 'M'): 3, ('G', 'R', 'B'): 3, ('G', 'B', 'R'): 3, ('G', 'B', 'V'): 3, ('G', 'B', 'M'): 3, ('G', 'V', 'W'): 3, ('G', 'V', 'N'): 3, ('G', 'V', 'B'): 3, ('G', 'V', 'Y'): 3, ('G', 'V', 'M'): 3, ('G', 'Y', 'V'): 3, ('G', 'Y', 'M'): 3, ('G', 'M', 'W'): 3, ('G', 'M', 'N'): 3, ('G', 'M', 'B'): 3, ('G', 'M', 'V'): 3, ('G', 'M', 'Y'): 3, ('M', 'W', 'G'): 3, ('M', 'N', 'G'): 3, ('M', 'B', 'G'): 3, ('M', 'V', 'G'): 3, ('M', 'Y', 'G'): 3, ('M', 'G', 'W'): 3, ('M', 'G', 'N'): 3, ('M', 'G', 'B'): 3, ('M', 'G', 'V'): 3, ('M', 'G', 'Y'): 3, ('N', 'R', 'O'): 3, ('N', 'O', 'R'): 3, ('R', 'N', 'O'): 3, ('R', 'O', 'N'): 3, ('O', 'N', 'R'): 3, ('O', 'R', 'N'): 3, ('R', 'V', 'O'): 3, ('R', 'O', 'V'): 3, ('V', 'R', 'O'): 3, ('V', 'O', 'R'): 3, ('O', 'R', 'V'): 3, ('O', 'V', 'R'): 3, ('W', 'V', 'P'): 3, ('W', 'P', 'V'): 3, ('B', 'V', 'P'): 3, ('B', 'P', 'V'): 3, ('V', 'W', 'P'): 3, ('V', 'B', 'P'): 3, ('V', 'Y', 'P'): 3, ('V', 'P', 'W'): 3, ('V', 'P', 'B'): 3, ('V', 'P', 'Y'): 3, ('Y', 'V', 'P'): 3, ('Y', 'P', 'V'): 3, ('P', 'W', 'V'): 3, ('P', 'B', 'V'): 3, ('P', 'V', 'W'): 3, ('P', 'V', 'B'): 3, ('P', 'V', 'Y'): 3, ('P', 'Y', 'V'): 3, ('R', 'V', 'G'): 2, ('R', 'G', 'V'): 2, ('R', 'G', 'M'): 2, ('R', 'M', 'G'): 2, ('V', 'R', 'G'): 2, ('V', 'G', 'R'): 2, ('G', 'R', 'V'): 2, ('G', 'R', 'M'): 2, ('G', 'V', 'R'): 2, ('G', 'M', 'R'): 2, ('M', 'R', 'G'): 2, ('M', 'G', 'R'): 2, ('R', 'B', 'O'): 2, ('R', 'O', 'B'): 2, ('B', 'R', 'O'): 2, ('B', 'O', 'R'): 2, ('O', 'R', 'B'): 2, ('O', 'B', 'R'): 2, ('W', 'N', 'O'): 2, ('W', 'R', 'O'): 2, ('W', 'O', 'N'): 2, ('W', 'O', 'R'): 2, ('N', 'W', 'O'): 2, ('N', 'O', 'W'): 2, ('R', 'W', 'O'): 2, ('R', 'O', 'W'): 2, ('O', 'W', 'N'): 2, ('O', 'W', 'R'): 2, ('O', 'N', 'W'): 2, ('O', 'R', 'W'): 2, ('W', 'B', 'O'): 2, ('W', 'O', 'B'): 2, ('B', 'W', 'O'): 2, ('B', 'V', 'O'): 2, ('B', 'O', 'W'): 2, ('B', 'O', 'V'): 2, ('V', 'B', 'O'): 2, ('V', 'O', 'B'): 2, ('O', 'W', 'B'): 2, ('O', 'B', 'W'): 2, ('O', 'B', 'V'): 2, ('O', 'V', 'B'): 2, ('N', 'V', 'O'): 2, ('N', 'O', 'V'): 2, ('N', 'O', 'M'): 2, ('N', 'M', 'O'): 2, ('R', 'O', 'M'): 2, ('R', 'M', 'O'): 2, ('V', 'N', 'O'): 2, ('V', 'O', 'N'): 2, ('V', 'O', 'M'): 2, ('V', 'M', 'O'): 2, ('O', 'N', 'V'): 2, ('O', 'N', 'M'): 2, ('O', 'R', 'M'): 2, ('O', 'V', 'N'): 2, ('O', 'V', 'M'): 2, ('O', 'M', 'N'): 2, ('O', 'M', 'R'): 2, ('O', 'M', 'V'): 2, ('M', 'N', 'O'): 2, ('M', 'R', 'O'): 2, ('M', 'V', 'O'): 2, ('M', 'O', 'N'): 2, ('M', 'O', 'R'): 2, ('M', 'O', 'V'): 2, ('W', 'B', 'P'): 2, ('W', 'Y', 'P'): 2, ('W', 'P', 'B'): 2, ('W', 'P', 'Y'): 2, ('B', 'W', 'P'): 2, ('B', 'Y', 'P'): 2, ('B', 'P', 'W'): 2, ('B', 'P', 'Y'): 2, ('Y', 'W', 'P'): 2, ('Y', 'B', 'P'): 2, ('Y', 'P', 'W'): 2, ('Y', 'P', 'B'): 2, ('P', 'W', 'B'): 2, ('P', 'W', 'Y'): 2, ('P', 'B', 'W'): 2, ('P', 'B', 'Y'): 2, ('P', 'Y', 'W'): 2, ('P', 'Y', 'B'): 2, ('W', 'V', 'V'): 2, ('N', 'V', 'V'): 2, ('N', 'V', 'P'): 2, ('N', 'P', 'V'): 2, ('B', 'V', 'V'): 2, ('V', 'W', 'V'): 2, ('V', 'N', 'V'): 2, ('V', 'N', 'P'): 2, ('V', 'B', 'V'): 2, ('V', 'V', 'W'): 2, ('V', 'V', 'N'): 2, ('V', 'V', 'B'): 2, ('V', 'V', 'Y'): 2, ('V', 'V', 'P'): 2, ('V', 'Y', 'V'): 2, ('V', 'P', 'N'): 2, ('V', 'P', 'V'): 2, ('Y', 'V', 'V'): 2, ('P', 'N', 'V'): 2, ('P', 'V', 'N'): 2, ('P', 'V', 'V'): 2, ('R', 'Y', 'O'): 1, ('R', 'O', 'Y'): 1, ('V', 'Y', 'O'): 1, ('V', 'O', 'Y'): 1, ('Y', 'R', 'O'): 1, ('Y', 'V', 'O'): 1, ('Y', 'O', 'R'): 1, ('Y', 'O', 'V'): 1, ('O', 'R', 'Y'): 1, ('O', 'V', 'Y'): 1, ('O', 'Y', 'R'): 1, ('O', 'Y', 'V'): 1, ('W', 'R', 'P'): 1, ('W', 'P', 'R'): 1, ('R', 'W', 'P'): 1, ('R', 'B', 'P'): 1, ('R', 'V', 'P'): 1, ('R', 'Y', 'P'): 1, ('R', 'P', 'W'): 1, ('R', 'P', 'B'): 1, ('R', 'P', 'V'): 1, ('R', 'P', 'Y'): 1, ('B', 'R', 'P'): 1, ('B', 'P', 'R'): 1, ('V', 'R', 'P'): 1, ('V', 'P', 'R'): 1, ('Y', 'R', 'P'): 1, ('Y', 'P', 'R'): 1, ('P', 'W', 'R'): 1, ('P', 'R', 'W'): 1, ('P', 'R', 'B'): 1, ('P', 'R', 'V'): 1, ('P', 'R', 'Y'): 1, ('P', 'B', 'R'): 1, ('P', 'V', 'R'): 1, ('P', 'Y', 'R'): 1, ('W', 'O', 'M'): 1, ('W', 'M', 'O'): 1, ('N', 'B', 'O'): 1, ('N', 'O', 'B'): 1, ('B', 'N', 'O'): 1, ('B', 'O', 'N'): 1, ('B', 'O', 'M'): 1, ('B', 'M', 'O'): 1, ('O', 'W', 'M'): 1, ('O', 'N', 'B'): 1, ('O', 'B', 'N'): 1, ('O', 'B', 'M'): 1, ('O', 'M', 'W'): 1, ('O', 'M', 'B'): 1, ('M', 'W', 'O'): 1, ('M', 'B', 'O'): 1, ('M', 'O', 'W'): 1, ('M', 'O', 'B'): 1, ('W', 'N', 'P'): 1, ('W', 'P', 'N'): 1, ('N', 'W', 'P'): 1, ('N', 'B', 'P'): 1, ('N', 'Y', 'P'): 1, ('N', 'P', 'W'): 1, ('N', 'P', 'B'): 1, ('N', 'P', 'Y'): 1, ('B', 'N', 'P'): 1, ('B', 'P', 'N'): 1, ('Y', 'N', 'P'): 1, ('Y', 'P', 'N'): 1, ('P', 'W', 'N'): 1, ('P', 'N', 'W'): 1, ('P', 'N', 'B'): 1, ('P', 'N', 'Y'): 1, ('P', 'B', 'N'): 1, ('P', 'Y', 'N'): 1})\n"
          ]
        }
      ]
    },
    {
      "cell_type": "markdown",
      "source": [
        "## Make a dictionary with key=”color” and values = “what other colors it is ordered with”."
      ],
      "metadata": {
        "id": "f-YpSK1Tsbgm"
      }
    },
    {
      "cell_type": "code",
      "source": [
        "unique_flower_orders = list(set(flower_orders))\n",
        "\n",
        "# Set dictionary keys\n",
        "color_codes = ('W', 'R', 'B', 'V', 'Y', 'N', 'G', 'O', 'M', 'P')\n",
        "\n",
        "# Create an empty dictionary\n",
        "color_dict = {color: set() for color in color_codes}\n",
        "\n",
        "# Iterate through the unique flower orders\n",
        "for order in unique_flower_orders:\n",
        "    colors = order.split('/')\n",
        "\n",
        "    # Check if any of the key values are matching\n",
        "    for color in colors:\n",
        "      y=0\n",
        "      for x in colors:\n",
        "        if color==colors[y]:\n",
        "          colors.remove(colors[y])\n",
        "          y+=1\n",
        "      color_dict[color].update(set(colors))\n",
        "\n",
        "# Convert sets to lists for values in the dictionary\n",
        "color_dict = { color: list(flowers)\n",
        "               for color, flowers in color_dict.items()}\n",
        "\n",
        "for key, value in color_dict.items():\n",
        "  print (\"color: \" + key,'combinations',value)\n"
      ],
      "metadata": {
        "colab": {
          "base_uri": "https://localhost:8080/"
        },
        "id": "lU-xtMBAKMmM",
        "outputId": "7b9f8cab-ad33-4423-9c60-e27c53dd7171"
      },
      "execution_count": 117,
      "outputs": [
        {
          "output_type": "stream",
          "name": "stdout",
          "text": [
            "color: W combinations ['B', 'V', 'R', 'G', 'P', 'Y', 'M', 'N', 'O']\n",
            "color: R combinations ['B', 'V', 'R', 'G', 'Y', 'M', 'N', 'O']\n",
            "color: B combinations ['B', 'V', 'R', 'G', 'P', 'Y', 'M', 'N', 'O']\n",
            "color: V combinations ['B', 'V', 'R', 'G', 'P', 'M', 'Y', 'N', 'O']\n",
            "color: Y combinations ['B', 'R', 'V', 'G', 'P', 'Y', 'M', 'N', 'O']\n",
            "color: N combinations ['B', 'V', 'R', 'M', 'Y', 'O']\n",
            "color: G combinations ['B', 'V', 'R', 'G', 'M', 'Y', 'N']\n",
            "color: O combinations ['B', 'V', 'R', 'Y', 'M', 'N', 'O']\n",
            "color: M combinations ['B', 'V', 'R', 'G', 'M', 'Y', 'N', 'O']\n",
            "color: P combinations ['B', 'V', 'R', 'P', 'Y', 'N']\n"
          ]
        }
      ]
    },
    {
      "cell_type": "markdown",
      "source": [
        "## Make a graph showing the probability of having an edge between two colors based on how often they co-occur.  (a numpy square matrix)\n"
      ],
      "metadata": {
        "id": "QUBA7MPPwo8B"
      }
    },
    {
      "cell_type": "code",
      "source": [],
      "metadata": {
        "colab": {
          "base_uri": "https://localhost:8080/"
        },
        "id": "MrNYRn0ZpWLF",
        "outputId": "a0ef2543-b78e-4800-c05d-7c469fd0315d"
      },
      "execution_count": 151,
      "outputs": [
        {
          "output_type": "execute_result",
          "data": {
            "text/plain": [
              "42"
            ]
          },
          "metadata": {},
          "execution_count": 151
        }
      ]
    },
    {
      "cell_type": "code",
      "source": [
        "matrix_size = len(color_codes)\n",
        "color_matrix = [[0 for _ in range(matrix_size)] for _ in range(matrix_size)]\n",
        "\n",
        "# Create a dictionary\n",
        "color_index = {color: index for index, color in enumerate(color_codes)}\n",
        "\n",
        "# Iterate through the flower orders and update the matrix\n",
        "for order in flower_orders:\n",
        "    colors = order.split('/')\n",
        "    pairs = list(permutations(colors, 2))\n",
        "\n",
        "    for pair in pairs:\n",
        "        color1, color2 = pair\n",
        "        index1, index2 = color_index[color1], color_index[color2]\n",
        "        color_matrix[index1][index2] += 1\n",
        "divide_by = (len(pairs)*len(pairs))/2\n",
        "\n",
        "# Print the color matrix for each combination of colors\n",
        "for i in range(matrix_size):\n",
        "    for j in range(matrix_size):\n",
        "      if color_matrix[i][j]:\n",
        "        color_matrix[i][j] =np.round(color_matrix[i][j]/divide_by, 3)\n",
        "        print(f\"Combination ({color_codes[i]}, {color_codes[j]}): {color_matrix[i][j]}\")"
      ],
      "metadata": {
        "colab": {
          "base_uri": "https://localhost:8080/"
        },
        "id": "6HcQahfv35mK",
        "outputId": "050cda85-1e2d-46df-e6a4-9c6c9eaa42eb"
      },
      "execution_count": 153,
      "outputs": [
        {
          "output_type": "stream",
          "name": "stdout",
          "text": [
            "Combination (W, R): 0.121\n",
            "0.121\n",
            "Combination (W, B): 0.08\n",
            "0.08\n",
            "Combination (W, V): 0.062\n",
            "0.062\n",
            "Combination (W, Y): 0.05\n",
            "0.05\n",
            "Combination (W, N): 0.048\n",
            "0.048\n",
            "Combination (W, G): 0.011\n",
            "0.011\n",
            "Combination (W, O): 0.007\n",
            "0.007\n",
            "Combination (W, M): 0.008\n",
            "0.008\n",
            "Combination (W, P): 0.002\n",
            "0.002\n",
            "Combination (R, W): 0.121\n",
            "0.121\n",
            "Combination (R, B): 0.08\n",
            "0.08\n",
            "Combination (R, V): 0.071\n",
            "0.071\n",
            "Combination (R, Y): 0.075\n",
            "0.075\n",
            "Combination (R, N): 0.053\n",
            "0.053\n",
            "Combination (R, G): 0.008\n",
            "0.008\n",
            "Combination (R, O): 0.006\n",
            "0.006\n",
            "Combination (R, M): 0.007\n",
            "0.007\n",
            "Combination (R, P): 0.001\n",
            "0.001\n",
            "Combination (B, W): 0.08\n",
            "0.08\n",
            "Combination (B, R): 0.08\n",
            "0.08\n",
            "Combination (B, V): 0.036\n",
            "0.036\n",
            "Combination (B, Y): 0.058\n",
            "0.058\n",
            "Combination (B, N): 0.029\n",
            "0.029\n",
            "Combination (B, G): 0.005\n",
            "0.005\n",
            "Combination (B, O): 0.003\n",
            "0.003\n",
            "Combination (B, M): 0.008\n",
            "0.008\n",
            "Combination (B, P): 0.002\n",
            "0.002\n",
            "Combination (V, W): 0.062\n",
            "0.062\n",
            "Combination (V, R): 0.071\n",
            "0.071\n",
            "Combination (V, B): 0.036\n",
            "0.036\n",
            "Combination (V, V): 0.002\n",
            "0.002\n",
            "Combination (V, Y): 0.057\n",
            "0.057\n",
            "Combination (V, N): 0.039\n",
            "0.039\n",
            "Combination (V, G): 0.003\n",
            "0.003\n",
            "Combination (V, O): 0.008\n",
            "0.008\n",
            "Combination (V, M): 0.008\n",
            "0.008\n",
            "Combination (V, P): 0.003\n",
            "0.003\n",
            "Combination (Y, W): 0.05\n",
            "0.05\n",
            "Combination (Y, R): 0.075\n",
            "0.075\n",
            "Combination (Y, B): 0.058\n",
            "0.058\n",
            "Combination (Y, V): 0.057\n",
            "0.057\n",
            "Combination (Y, N): 0.045\n",
            "0.045\n",
            "Combination (Y, G): 0.006\n",
            "0.006\n",
            "Combination (Y, O): 0.001\n",
            "0.001\n",
            "Combination (Y, M): 0.007\n",
            "0.007\n",
            "Combination (Y, P): 0.002\n",
            "0.002\n",
            "Combination (N, W): 0.048\n",
            "0.048\n",
            "Combination (N, R): 0.053\n",
            "0.053\n",
            "Combination (N, B): 0.029\n",
            "0.029\n",
            "Combination (N, V): 0.039\n",
            "0.039\n",
            "Combination (N, Y): 0.045\n",
            "0.045\n",
            "Combination (N, G): 0.007\n",
            "0.007\n",
            "Combination (N, O): 0.003\n",
            "0.003\n",
            "Combination (N, M): 0.009\n",
            "0.009\n",
            "Combination (N, P): 0.001\n",
            "0.001\n",
            "Combination (G, W): 0.011\n",
            "0.011\n",
            "Combination (G, R): 0.008\n",
            "0.008\n",
            "Combination (G, B): 0.005\n",
            "0.005\n",
            "Combination (G, V): 0.003\n",
            "0.003\n",
            "Combination (G, Y): 0.006\n",
            "0.006\n",
            "Combination (G, N): 0.007\n",
            "0.007\n",
            "Combination (G, M): 0.003\n",
            "0.003\n",
            "Combination (O, W): 0.007\n",
            "0.007\n",
            "Combination (O, R): 0.006\n",
            "0.006\n",
            "Combination (O, B): 0.003\n",
            "0.003\n",
            "Combination (O, V): 0.008\n",
            "0.008\n",
            "Combination (O, Y): 0.001\n",
            "0.001\n",
            "Combination (O, N): 0.003\n",
            "0.003\n",
            "Combination (O, M): 0.002\n",
            "0.002\n",
            "Combination (M, W): 0.008\n",
            "0.008\n",
            "Combination (M, R): 0.007\n",
            "0.007\n",
            "Combination (M, B): 0.008\n",
            "0.008\n",
            "Combination (M, V): 0.008\n",
            "0.008\n",
            "Combination (M, Y): 0.007\n",
            "0.007\n",
            "Combination (M, N): 0.009\n",
            "0.009\n",
            "Combination (M, G): 0.003\n",
            "0.003\n",
            "Combination (M, O): 0.002\n",
            "0.002\n",
            "Combination (P, W): 0.002\n",
            "0.002\n",
            "Combination (P, R): 0.001\n",
            "0.001\n",
            "Combination (P, B): 0.002\n",
            "0.002\n",
            "Combination (P, V): 0.003\n",
            "0.003\n",
            "Combination (P, Y): 0.002\n",
            "0.002\n",
            "Combination (P, N): 0.001\n",
            "0.001\n"
          ]
        }
      ]
    },
    {
      "cell_type": "code",
      "source": [
        "color_matrix"
      ],
      "metadata": {
        "colab": {
          "base_uri": "https://localhost:8080/"
        },
        "id": "5IBTqpAznjsr",
        "outputId": "03d3c84a-ed02-4dc1-88a5-bf8400084e08"
      },
      "execution_count": 154,
      "outputs": [
        {
          "output_type": "execute_result",
          "data": {
            "text/plain": [
              "[[0, 0.121, 0.08, 0.062, 0.05, 0.048, 0.011, 0.007, 0.008, 0.002],\n",
              " [0.121, 0, 0.08, 0.071, 0.075, 0.053, 0.008, 0.006, 0.007, 0.001],\n",
              " [0.08, 0.08, 0, 0.036, 0.058, 0.029, 0.005, 0.003, 0.008, 0.002],\n",
              " [0.062, 0.071, 0.036, 0.002, 0.057, 0.039, 0.003, 0.008, 0.008, 0.003],\n",
              " [0.05, 0.075, 0.058, 0.057, 0, 0.045, 0.006, 0.001, 0.007, 0.002],\n",
              " [0.048, 0.053, 0.029, 0.039, 0.045, 0, 0.007, 0.003, 0.009, 0.001],\n",
              " [0.011, 0.008, 0.005, 0.003, 0.006, 0.007, 0, 0, 0.003, 0],\n",
              " [0.007, 0.006, 0.003, 0.008, 0.001, 0.003, 0, 0, 0.002, 0],\n",
              " [0.008, 0.007, 0.008, 0.008, 0.007, 0.009, 0.003, 0.002, 0, 0],\n",
              " [0.002, 0.001, 0.002, 0.003, 0.002, 0.001, 0, 0, 0, 0]]"
            ]
          },
          "metadata": {},
          "execution_count": 154
        }
      ]
    },
    {
      "cell_type": "code",
      "source": [
        "# Create labels for rows and columns\n",
        "row_labels = color_codes\n",
        "col_labels = color_codes\n",
        "# Create a heatmap\n",
        "plt.figure(figsize = (10,10))\n",
        "\n",
        "plt.imshow(color_matrix, cmap='hot', interpolation='nearest', origin='upper')\n",
        "\n",
        "# Add labels to nodes\n",
        "n = len(color_matrix)\n",
        "for i in range(n):\n",
        "    for j in range(n):\n",
        "        if color_matrix[i][j]:\n",
        "            plt.text(j, i, str(color_matrix[i][j]), va='center', ha='center', color='black', fontsize=12)\n",
        "\n",
        "# Add row and column labels\n",
        "plt.xticks(range(n), col_labels)\n",
        "plt.yticks(range(n), row_labels)\n",
        "\n",
        "# Add colorbar\n",
        "cbar = plt.colorbar()\n",
        "cbar.set_label('Edge Weight')\n",
        "\n",
        "# Show the heatmap\n",
        "plt.title('Graph Heatmap')\n",
        "plt.xlabel('Nodes')\n",
        "plt.ylabel('Nodes')\n",
        "plt.show()\n"
      ],
      "metadata": {
        "colab": {
          "base_uri": "https://localhost:8080/",
          "height": 815
        },
        "id": "QWwHrMWW80TL",
        "outputId": "f53267ce-4521-4c11-ffa6-8b2845ccb458"
      },
      "execution_count": 155,
      "outputs": [
        {
          "output_type": "display_data",
          "data": {
            "text/plain": [
              "<Figure size 1000x1000 with 2 Axes>"
            ],
            "image/png": "[encoded data removed]"
          },
          "metadata": {}
        }
      ]
    },
    {
      "cell_type": "code",
      "source": [
        "dead_men_tell_tales = ['Four score and seven years ago our fathers brought forth on this',\n",
        "'continent a new nation, conceived in liberty and dedicated to the',\n",
        "'proposition that all men are created equal. Now we are engaged in',\n",
        "'a great civil war, testing whether that nation or any nation so',\n",
        "'conceived and so dedicated can long endure. We are met on a great',\n",
        "'battlefield of that war. We have come to dedicate a portion of',\n",
        "'that field as a final resting-place for those who here gave their',\n",
        "'lives that that nation might live. It is altogether fitting and',\n",
        "'proper that we should do this. But in a larger sense, we cannot',\n",
        "'dedicate, we cannot consecrate, we cannot hallow this ground.',\n",
        "'The brave men, living and dead who struggled here have consecrated',\n",
        "'it far above our poor power to add or detract. The world will',\n",
        "'little note nor long remember what we say here, but it can never',\n",
        "'forget what they did here. It is for us the living rather to be',\n",
        "'dedicated here to the unfinished work which they who fought here',\n",
        "'have thus far so nobly advanced. It is rather for us to be here',\n",
        "'dedicated to the great task remaining before us--that from these',\n",
        "'honored dead we take increased devotion to that cause for which',\n",
        "'they gave the last full measure of devotion--that we here highly',\n",
        "'resolve that these dead shall not have died in vain, that this',\n",
        "'nation under God shall have a new birth of freedom, and that',\n",
        "'government of the people, by the people, for the people shall',\n",
        "'not perish from the earth.']\n",
        "dead_men_tell_tales"
      ],
      "metadata": {
        "id": "T_T8g9yNCpyx"
      },
      "execution_count": null,
      "outputs": []
    },
    {
      "cell_type": "markdown",
      "source": [
        "1. Join everything\n",
        "2. Remove spaces\n",
        "3. Occurrence probabilities for letters\n",
        "4. Tell me transition probabilities for every pair of letters\n",
        "5. Make a 26x26 graph of 4.  in numpy\n",
        "6. plot graph of transition probabilities from letter to letter"
      ],
      "metadata": {
        "id": "jkoqtexfCyM6"
      }
    },
    {
      "cell_type": "code",
      "source": [
        "x = []\n",
        "for x in dead_men_tell_tales:\n",
        "  joined_words = \"\".join(dead_men_tell_tales)\n",
        "joined_words = joined_words.replace(\" \",\"\")\n",
        "joined_words = joined_words.replace(\".\",\"\")\n",
        "joined_words = joined_words.replace(\",\",\"\")\n",
        "joined_words = joined_words.replace(\"-\",\"\")\n",
        "joined_words = joined_words.casefold()\n",
        "joined_words"
      ],
      "metadata": {
        "id": "_hH-aNFgMyHv"
      },
      "execution_count": null,
      "outputs": []
    },
    {
      "cell_type": "code",
      "source": [
        "len(joined_words)"
      ],
      "metadata": {
        "id": "AzxyvpDw_kwD"
      },
      "execution_count": null,
      "outputs": []
    },
    {
      "cell_type": "code",
      "source": [
        "#create letter array\n",
        "chunks, chunk_size = len(joined_words), 1\n",
        "[joined_words[i:i+chunk_size]\n",
        " for i in range(0, chunks, chunk_size)]\n",
        "\n",
        "pairs = list(pairwise(joined_words))\n",
        "print(Counter(pairs))"
      ],
      "metadata": {
        "id": "LPQ1_frW_L_9"
      },
      "execution_count": null,
      "outputs": []
    },
    {
      "cell_type": "code",
      "source": [
        "unique_letters = list(set(joined_words))\n",
        "\n",
        "letter_codes = (unique_letters)\n",
        "letter_dict = {letter: set() for letter in unique_letters}"
      ],
      "metadata": {
        "id": "s1ZxmMsmeZrR"
      },
      "execution_count": null,
      "outputs": []
    },
    {
      "cell_type": "code",
      "source": [
        "pairs_count = Counter(pairs)"
      ],
      "metadata": {
        "id": "KR9sQFW5icyn"
      },
      "execution_count": null,
      "outputs": []
    },
    {
      "cell_type": "code",
      "source": [
        "47/1148"
      ],
      "metadata": {
        "id": "u64V0fVIizbM"
      },
      "execution_count": null,
      "outputs": []
    },
    {
      "cell_type": "code",
      "source": [
        "import numpy as np\n",
        "\n",
        "# Initialize a square matrix with zeros\n",
        "matrix_size = len(unique_letters)\n",
        "letter_matrix = [[0 for _ in range(matrix_size)] for _ in range(matrix_size)]\n",
        "letter_total = sum(pairs_count.values())\n",
        "\n",
        "# Create a dictionary to map color codes to matrix indices\n",
        "unique_letters_index = {letter: index for index, letter in enumerate(unique_letters)}\n",
        "\n",
        "# Iterate through the flower orders and update the matrix\n",
        "for letter in unique_letters:\n",
        "    pairs = list(pairwise(joined_words))\n",
        "\n",
        "    for pair in pairs:\n",
        "        letter1, letter2 = pair\n",
        "        index1, index2 = unique_letters_index[letter1], unique_letters_index[letter2]\n",
        "        letter_matrix[index1][index2] += 1\n",
        "\n",
        "# Print the color matrix for each combination of colors\n",
        "for i in range(matrix_size):\n",
        "    for j in range(matrix_size):\n",
        "      if letter_matrix[i][j]:\n",
        "        letter_matrix[i][j] =np.round(letter_matrix[i][j]/letter_total, 2)\n",
        "        print(f\"Combination ({letter_codes[i]}, {letter_codes[j]}): {letter_matrix[i][j]}\")"
      ],
      "metadata": {
        "id": "dPgRs7Xferx_"
      },
      "execution_count": null,
      "outputs": []
    },
    {
      "cell_type": "code",
      "source": [
        "import matplotlib.pyplot as plt\n",
        "\n",
        "# Create labels for rows and columns\n",
        "row_labels = letter_codes\n",
        "col_labels = letter_codes\n",
        "# Create a heatmap\n",
        "\n",
        "plt.figure(figsize = (20,20))\n",
        "plt.imshow(letter_matrix, cmap='hot', interpolation='nearest', origin='upper')\n",
        "\n",
        "# Add labels to nodes\n",
        "n = len(letter_matrix)\n",
        "for i in range(n):\n",
        "    for j in range(n):\n",
        "        if letter_matrix[i][j]:\n",
        "            plt.text(j, i, str(letter_matrix[i][j]), va='center', ha='center', color='black', fontsize=12)\n",
        "\n",
        "# Add row and column labels\n",
        "plt.xticks(range(n), col_labels)\n",
        "plt.yticks(range(n), row_labels)\n",
        "\n",
        "# Add colorbar\n",
        "cbar = plt.colorbar()\n",
        "cbar.set_label('Edge Weight')\n",
        "\n",
        "# Show the heatmap\n",
        "plt.title('Graph Heatmap')\n",
        "plt.xlabel('Nodes')\n",
        "plt.ylabel('Nodes')\n",
        "plt.show()"
      ],
      "metadata": {
        "id": "PBY2UgYrfJSL"
      },
      "execution_count": null,
      "outputs": []
    },
    {
      "cell_type": "code",
      "source": [
        "from collections import Counter\n",
        "pair_counts = Counter(pairs)\n",
        "\n",
        "# Create a matrix\n",
        "matrix_size = len(unique_letters)\n",
        "matrix = [[0 for _ in range(matrix_size)] for _ in range(matrix_size)]\n",
        "\n",
        "# Fill the matrix with the pairwise counts\n",
        "for i, char1 in enumerate(pair_counts):\n",
        "    for j, char2 in enumerate(pair_counts):\n",
        "        print(char1, ' ', char2)\n",
        "        pair = char1 + char2\n",
        "      #  matrix[i][j] = pair_counts[pair]\n",
        "\n",
        "# Print the matrix\n",
        "for row in matrix:\n",
        "    print(row)"
      ],
      "metadata": {
        "id": "km570WCSc94m"
      },
      "execution_count": null,
      "outputs": []
    },
    {
      "cell_type": "code",
      "source": [
        "unique_joined_words = list(set(joined_words))\n",
        "letters = ()\n",
        "\n",
        "# Create an empty dictionary\n",
        "letter_dict = {letters: set() for letter in unique_joined_words}\n",
        "letter_dict"
      ],
      "metadata": {
        "id": "UswKyWlYdlTt"
      },
      "execution_count": null,
      "outputs": []
    },
    {
      "cell_type": "code",
      "source": [
        "unique_joined_words = list(set(joined_words))\n",
        "letters = ()\n",
        "\n",
        "# Create an empty dictionary\n",
        "letter_dict = {letters: set() for letter in unique_joined_words}\n",
        "\n",
        "    # Check if any of the key values are matching\n",
        "for letter in letters:\n",
        "      y=0\n",
        "      for x in letters:\n",
        "        if letters==letters[y]:\n",
        "          letters.remove(letters[y])\n",
        "          y+=1\n",
        "        else:\n",
        "          letters = letters.append(letters[y])\n",
        "          y+=1\n",
        "      letter_dict[letter].update(set(letters))\n",
        "\n",
        "# Convert sets to lists for values in the dictionary\n",
        "letter_dict = { letters: list(letters)\n",
        "               for letter, letters in letter_dict.items()}\n",
        "\n",
        "for key, value in color_dict.items():\n",
        "  print (\"color: \" + key,'combinations',value)"
      ],
      "metadata": {
        "id": "Zz_LTCrAcJce"
      },
      "execution_count": null,
      "outputs": []
    },
    {
      "cell_type": "code",
      "source": [
        "pair_counts =Counter(pairs)"
      ],
      "metadata": {
        "id": "J8o3c2MradgY"
      },
      "execution_count": null,
      "outputs": []
    },
    {
      "cell_type": "code",
      "source": [
        "Counter(pairs)"
      ],
      "metadata": {
        "id": "lxj-t_ctC0iv"
      },
      "execution_count": null,
      "outputs": []
    },
    {
      "cell_type": "code",
      "source": [
        "# Initialize a square matrix with zeros\n",
        "matrix_size = len(pair_counts)\n",
        "color_matrix = [[0 for _ in range(matrix_size)] for _ in range(matrix_size)]\n",
        "\n",
        "# Create a dictionary to map color codes to matrix indices\n",
        "color_index = {color: index for index, color in enumerate(pair_counts)}\n",
        "\n",
        "# Print the color matrix for each combination of colors\n",
        "for i in range(matrix_size):\n",
        "    for j in range(matrix_size):\n",
        "      if color_matrix[i][j]:\n",
        "        color_matrix[i][j] =np.round(color_matrix[i][j]/len(flower_orders), 2)\n",
        "        print(f\"Combination ({color_codes[i]}, {color_codes[j]}): {color_matrix[i][j]}\")"
      ],
      "metadata": {
        "id": "DZwo3a3kAVPi"
      },
      "execution_count": null,
      "outputs": []
    },
    {
      "cell_type": "code",
      "source": [
        "color_matrix"
      ],
      "metadata": {
        "id": "zc7ajvjZbJfA"
      },
      "execution_count": null,
      "outputs": []
    }
  ]
}
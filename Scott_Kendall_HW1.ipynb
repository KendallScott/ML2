{
  "nbformat": 4,
  "nbformat_minor": 0,
  "metadata": {
    "colab": {
      "provenance": [],
      "authorship_tag": "ABX9TyNCSUutDRGjhABjIPqhluCf",
      "include_colab_link": true
    },
    "kernelspec": {
      "name": "python3",
      "display_name": "Python 3"
    },
    "language_info": {
      "name": "python"
    }
  },
  "cells": [
    {
      "cell_type": "markdown",
      "metadata": {
        "id": "view-in-github",
        "colab_type": "text"
      },
      "source": [
        "<a href=\"https://colab.research.google.com/github/KendallScott/ML2/blob/main/Scott_Kendall_HW1.ipynb\" target=\"_parent\"><img src=\"https://colab.research.google.com/assets/colab-badge.svg\" alt=\"Open In Colab\"/></a>"
      ]
    },
    {
      "cell_type": "code",
      "source": [
        "import numpy as np"
      ],
      "metadata": {
        "id": "qmtfiiELj0_W"
      },
      "execution_count": null,
      "outputs": []
    },
    {
      "cell_type": "markdown",
      "source": [
        "## Lists\n"
      ],
      "metadata": {
        "id": "6L-xrnzV1yyn"
      }
    },
    {
      "cell_type": "code",
      "execution_count": null,
      "metadata": {
        "id": "NyQYMgctjd5v"
      },
      "outputs": [],
      "source": [
        "list1 = [1,2,3]\n",
        "list2 = [4,5,6]\n",
        "list3 = list1.extend(list2)\n",
        "#list3 is now [1,2,3,4,5,6]\n"
      ]
    },
    {
      "cell_type": "code",
      "source": [
        "list3\n",
        "#doesn't work when assigned\n",
        "\n",
        "list1.extend(list2)\n",
        "list1\n",
        "#works without being assigned"
      ],
      "metadata": {
        "colab": {
          "base_uri": "https://localhost:8080/"
        },
        "id": "_GPWl64s1fNq",
        "outputId": "db9beb9e-11d9-462b-e133-b3d04cb82cf3"
      },
      "execution_count": null,
      "outputs": [
        {
          "output_type": "execute_result",
          "data": {
            "text/plain": [
              "[1, 2, 3, 4, 5, 6, 4, 5, 6, 4, 5, 6]"
            ]
          },
          "metadata": {},
          "execution_count": 229
        }
      ]
    },
    {
      "cell_type": "code",
      "source": [
        "list1 = [1,2,3]\n",
        "list1"
      ],
      "metadata": {
        "colab": {
          "base_uri": "https://localhost:8080/"
        },
        "id": "IMU0cym4mlwf",
        "outputId": "01254529-31e9-4cdc-e2bb-3c7c90043cf2"
      },
      "execution_count": null,
      "outputs": [
        {
          "output_type": "execute_result",
          "data": {
            "text/plain": [
              "[1, 2, 3]"
            ]
          },
          "metadata": {},
          "execution_count": 230
        }
      ]
    },
    {
      "cell_type": "code",
      "source": [
        "list2 = [4,5,6]\n",
        "list2"
      ],
      "metadata": {
        "colab": {
          "base_uri": "https://localhost:8080/"
        },
        "id": "rYmstvfimoI6",
        "outputId": "1e64bff7-e700-40d1-9462-ff32de9f25f1"
      },
      "execution_count": null,
      "outputs": [
        {
          "output_type": "execute_result",
          "data": {
            "text/plain": [
              "[4, 5, 6]"
            ]
          },
          "metadata": {},
          "execution_count": 231
        }
      ]
    },
    {
      "cell_type": "code",
      "source": [
        "list3 = list1.extend(list2)"
      ],
      "metadata": {
        "id": "ApR4jN3lj6VP"
      },
      "execution_count": null,
      "outputs": []
    },
    {
      "cell_type": "code",
      "source": [
        "print(list3)\n",
        "#doesn't work when assigned\n",
        "list1.extend(list2)\n",
        "list1\n",
        "#works without being assigned"
      ],
      "metadata": {
        "colab": {
          "base_uri": "https://localhost:8080/"
        },
        "id": "rFfv3NBujvEF",
        "outputId": "3f125020-3839-4747-81dc-5f179c7e1b7e"
      },
      "execution_count": null,
      "outputs": [
        {
          "output_type": "stream",
          "name": "stdout",
          "text": [
            "None\n"
          ]
        },
        {
          "output_type": "execute_result",
          "data": {
            "text/plain": [
              "[1, 2, 3, 4, 5, 6, 4, 5, 6]"
            ]
          },
          "metadata": {},
          "execution_count": 233
        }
      ]
    },
    {
      "cell_type": "code",
      "source": [
        "#index() - Returns the index of a specific element in the list\n",
        "list1 = ['peanut','butter','jelly']\n",
        "butternum=list1.index('butter')\n"
      ],
      "metadata": {
        "id": "EIxCyEtHkRIi"
      },
      "execution_count": null,
      "outputs": []
    },
    {
      "cell_type": "code",
      "source": [
        "butternum"
      ],
      "metadata": {
        "colab": {
          "base_uri": "https://localhost:8080/"
        },
        "id": "OiwHjTeykdw9",
        "outputId": "b8d7cb66-25ac-477d-aa95-2eda2c024613"
      },
      "execution_count": null,
      "outputs": [
        {
          "output_type": "execute_result",
          "data": {
            "text/plain": [
              "1"
            ]
          },
          "metadata": {},
          "execution_count": 75
        }
      ]
    },
    {
      "cell_type": "code",
      "source": [
        "list1=[1,3,5,7,9]\n",
        "list1.insert(1,2)  # list1 is now [1,2,3,5,7,9]\n",
        "list1\n",
        "#works when not assigned"
      ],
      "metadata": {
        "colab": {
          "base_uri": "https://localhost:8080/"
        },
        "id": "wpAYoidgmHNA",
        "outputId": "0fe919dc-f007-4661-f0cf-ada9885c8e23"
      },
      "execution_count": null,
      "outputs": [
        {
          "output_type": "execute_result",
          "data": {
            "text/plain": [
              "[1, 2, 3, 5, 7, 9]"
            ]
          },
          "metadata": {},
          "execution_count": 246
        }
      ]
    },
    {
      "cell_type": "code",
      "source": [
        "list1=[1,2,3,4,5,6,7]\n",
        "list1\n"
      ],
      "metadata": {
        "colab": {
          "base_uri": "https://localhost:8080/"
        },
        "id": "Dkj1u5aZm-8Y",
        "outputId": "1da3d5d2-903a-4de0-fba8-8ed490788dd1"
      },
      "execution_count": null,
      "outputs": [
        {
          "output_type": "execute_result",
          "data": {
            "text/plain": [
              "[1, 2, 3, 4, 5, 6, 7]"
            ]
          },
          "metadata": {},
          "execution_count": 248
        }
      ]
    },
    {
      "cell_type": "code",
      "source": [
        "list2=list1.remove(3) #list 2 is now [1,2,4,5,6,7]\n",
        "list2\n",
        "\n",
        "list1=[1,2,3,4,5,6,7]\n",
        "#works when not assigned\n",
        "list1.remove(3) #list 2 is now [1,2,4,5,6,7]\n",
        "list1"
      ],
      "metadata": {
        "colab": {
          "base_uri": "https://localhost:8080/"
        },
        "id": "Td8n_ev1nCLN",
        "outputId": "8b19b06a-8530-463e-96a0-36098a06984e"
      },
      "execution_count": null,
      "outputs": [
        {
          "output_type": "execute_result",
          "data": {
            "text/plain": [
              "[1, 2, 4, 5, 6, 7]"
            ]
          },
          "metadata": {},
          "execution_count": 249
        }
      ]
    },
    {
      "cell_type": "code",
      "source": [
        "print(list1)"
      ],
      "metadata": {
        "colab": {
          "base_uri": "https://localhost:8080/"
        },
        "id": "4lqwya0RnHW-",
        "outputId": "3f7b1adb-a317-4c4b-cdd2-4b60a7a65dc3"
      },
      "execution_count": null,
      "outputs": [
        {
          "output_type": "stream",
          "name": "stdout",
          "text": [
            "[1, 2, 4, 5, 6, 7]\n"
          ]
        }
      ]
    },
    {
      "cell_type": "code",
      "source": [
        "list1=[1,3,2,4,3,5,4,6,5,7]\n",
        "print(\"Count:\", list1.count(4))\n",
        "\n"
      ],
      "metadata": {
        "colab": {
          "base_uri": "https://localhost:8080/"
        },
        "id": "y6AVqTmqoGww",
        "outputId": "369107c7-624f-417f-fb5a-e65e34afbace"
      },
      "execution_count": null,
      "outputs": [
        {
          "output_type": "stream",
          "name": "stdout",
          "text": [
            "Count: 2\n"
          ]
        }
      ]
    },
    {
      "cell_type": "code",
      "source": [
        "list1=[1,2,3,4,5,6,7]\n",
        "pop3 = list1.pop(2)\n",
        "list1"
      ],
      "metadata": {
        "colab": {
          "base_uri": "https://localhost:8080/"
        },
        "id": "f9y21uTSntY6",
        "outputId": "ab485c38-2f5b-4bf4-f41b-f1aff6fcb8fd"
      },
      "execution_count": null,
      "outputs": [
        {
          "output_type": "execute_result",
          "data": {
            "text/plain": [
              "[1, 2, 4, 5, 6, 7]"
            ]
          },
          "metadata": {},
          "execution_count": 250
        }
      ]
    },
    {
      "cell_type": "code",
      "source": [
        "#works when not assigned\n",
        "list1=[1,2,3,4,5,6,7]\n",
        "list1.pop(2)\n",
        "list1"
      ],
      "metadata": {
        "colab": {
          "base_uri": "https://localhost:8080/"
        },
        "id": "5C7eRRfX2dFq",
        "outputId": "e0727121-a2bd-47ac-b5e8-f4ab7acfae9d"
      },
      "execution_count": null,
      "outputs": [
        {
          "output_type": "execute_result",
          "data": {
            "text/plain": [
              "[1, 2, 4, 5, 6, 7]"
            ]
          },
          "metadata": {},
          "execution_count": 251
        }
      ]
    },
    {
      "cell_type": "code",
      "source": [
        "list1=[1,2,3,4]\n",
        "list2=list1.reverse()\n",
        "list2"
      ],
      "metadata": {
        "id": "c0DDi1pUofRr"
      },
      "execution_count": null,
      "outputs": []
    },
    {
      "cell_type": "code",
      "source": [
        "list1.reverse()"
      ],
      "metadata": {
        "id": "UmEtUiNIolTP"
      },
      "execution_count": null,
      "outputs": []
    },
    {
      "cell_type": "code",
      "source": [
        "list1\n",
        "#works when not assigned"
      ],
      "metadata": {
        "colab": {
          "base_uri": "https://localhost:8080/"
        },
        "id": "wDb5ssChoiYz",
        "outputId": "ea50c0c6-cdda-4080-c522-1b545b04816c"
      },
      "execution_count": null,
      "outputs": [
        {
          "output_type": "execute_result",
          "data": {
            "text/plain": [
              "[1, 2, 3, 4]"
            ]
          },
          "metadata": {},
          "execution_count": 254
        }
      ]
    },
    {
      "cell_type": "code",
      "source": [
        "list1=[1,3,2,4,7,5,6]\n",
        "list2=list1.sort()\n",
        "list2\n"
      ],
      "metadata": {
        "id": "mtDBV_sto7xL"
      },
      "execution_count": null,
      "outputs": []
    },
    {
      "cell_type": "code",
      "source": [
        "list1.sort()\n",
        "list1\n",
        "#works when not assigned"
      ],
      "metadata": {
        "colab": {
          "base_uri": "https://localhost:8080/"
        },
        "id": "lDZC8mrLpBbU",
        "outputId": "aeddf81d-6fc9-453d-bc0b-f7fc1c7565f8"
      },
      "execution_count": null,
      "outputs": [
        {
          "output_type": "execute_result",
          "data": {
            "text/plain": [
              "[1, 2, 3, 4, 5, 6, 7]"
            ]
          },
          "metadata": {},
          "execution_count": 258
        }
      ]
    },
    {
      "cell_type": "code",
      "source": [
        "[x for x in [2,3]]"
      ],
      "metadata": {
        "colab": {
          "base_uri": "https://localhost:8080/"
        },
        "id": "U_BHrJAopCbU",
        "outputId": "0fc5d5ff-a7af-42e1-f5da-da45a68d7599"
      },
      "execution_count": null,
      "outputs": [
        {
          "output_type": "execute_result",
          "data": {
            "text/plain": [
              "[2, 3]"
            ]
          },
          "metadata": {},
          "execution_count": 89
        }
      ]
    },
    {
      "cell_type": "code",
      "source": [
        "[x for x in [1,2] if x ==1]"
      ],
      "metadata": {
        "colab": {
          "base_uri": "https://localhost:8080/"
        },
        "id": "HZfR0787ppmT",
        "outputId": "c219c8cc-4dbd-4930-8efd-7502d373ae47"
      },
      "execution_count": null,
      "outputs": [
        {
          "output_type": "execute_result",
          "data": {
            "text/plain": [
              "[1]"
            ]
          },
          "metadata": {},
          "execution_count": 90
        }
      ]
    },
    {
      "cell_type": "code",
      "source": [
        "[y*2 for x in [[1,2],[3,4]] for y in x]"
      ],
      "metadata": {
        "colab": {
          "base_uri": "https://localhost:8080/"
        },
        "id": "GqjPU2OgpvBo",
        "outputId": "84fee0f7-4877-4364-de91-eea5a0b3f782"
      },
      "execution_count": null,
      "outputs": [
        {
          "output_type": "execute_result",
          "data": {
            "text/plain": [
              "[2, 4, 6, 8]"
            ]
          },
          "metadata": {},
          "execution_count": 91
        }
      ]
    },
    {
      "cell_type": "markdown",
      "source": [
        "## Tuples"
      ],
      "metadata": {
        "id": "yqocHIH4281s"
      }
    },
    {
      "cell_type": "code",
      "source": [
        "starting_tup = (\"Apple\",\"Ball\",\"Cat\")\n",
        "tup_dict=dict((x,y) for (x,y) in enumerate(starting_tup))"
      ],
      "metadata": {
        "id": "C_ws1D_arEZ6"
      },
      "execution_count": null,
      "outputs": []
    },
    {
      "cell_type": "code",
      "source": [
        "\n",
        "starting_tup = (\"Apple\",\"Ball\",\"Cat\")\n",
        "[x for x in starting_tup]"
      ],
      "metadata": {
        "colab": {
          "base_uri": "https://localhost:8080/"
        },
        "id": "5cQG9JShro_-",
        "outputId": "a519c4eb-b89f-4bb8-da40-be8f528719f4"
      },
      "execution_count": null,
      "outputs": [
        {
          "output_type": "execute_result",
          "data": {
            "text/plain": [
              "['Apple', 'Ball', 'Cat']"
            ]
          },
          "metadata": {},
          "execution_count": 93
        }
      ]
    },
    {
      "cell_type": "markdown",
      "source": [
        "### Dictionary"
      ],
      "metadata": {
        "id": "pVfM6AKO2-pB"
      }
    },
    {
      "cell_type": "code",
      "source": [
        "a_dict = {'I hate':'you', 'You should':'leave'}\n",
        "a_dict"
      ],
      "metadata": {
        "colab": {
          "base_uri": "https://localhost:8080/"
        },
        "id": "oNseTmdesDHR",
        "outputId": "2c16225b-4f1a-4b09-8dcc-c5417d86f3a7"
      },
      "execution_count": null,
      "outputs": [
        {
          "output_type": "execute_result",
          "data": {
            "text/plain": [
              "{'I hate': 'you', 'You should': 'leave'}"
            ]
          },
          "metadata": {},
          "execution_count": 94
        }
      ]
    },
    {
      "cell_type": "code",
      "source": [
        "a_dict = {'I hate':'you', 'You should':'leave'}\n",
        "a_dict.keys()"
      ],
      "metadata": {
        "colab": {
          "base_uri": "https://localhost:8080/"
        },
        "id": "pli8fPfAsPaj",
        "outputId": "efe47e04-faa2-4b8f-e149-cac869c75320"
      },
      "execution_count": null,
      "outputs": [
        {
          "output_type": "execute_result",
          "data": {
            "text/plain": [
              "dict_keys(['I hate', 'You should'])"
            ]
          },
          "metadata": {},
          "execution_count": 95
        }
      ]
    },
    {
      "cell_type": "code",
      "source": [
        "a_dict.clear()"
      ],
      "metadata": {
        "id": "_HmwrirotNJH"
      },
      "execution_count": null,
      "outputs": []
    },
    {
      "cell_type": "code",
      "source": [
        "a_dict = {'I find':'emotionally charged', 'Coding examples':'distracting'}\n",
        "a_dict"
      ],
      "metadata": {
        "colab": {
          "base_uri": "https://localhost:8080/"
        },
        "id": "bG8IWVOG3CFW",
        "outputId": "619487b6-e368-4835-a30d-2c7004ce0edc"
      },
      "execution_count": null,
      "outputs": [
        {
          "output_type": "execute_result",
          "data": {
            "text/plain": [
              "{'I find': 'emotionally charged', 'Coding examples': 'distracting'}"
            ]
          },
          "metadata": {},
          "execution_count": 259
        }
      ]
    },
    {
      "cell_type": "code",
      "source": [
        "a_dict.keys()"
      ],
      "metadata": {
        "colab": {
          "base_uri": "https://localhost:8080/"
        },
        "id": "RvSnsajc3QhD",
        "outputId": "5b996c1d-8245-4bf0-ef9f-df1cf3587fb1"
      },
      "execution_count": null,
      "outputs": [
        {
          "output_type": "execute_result",
          "data": {
            "text/plain": [
              "dict_keys(['I find', 'Coding examples'])"
            ]
          },
          "metadata": {},
          "execution_count": 260
        }
      ]
    },
    {
      "cell_type": "code",
      "source": [
        "a_dict.values()"
      ],
      "metadata": {
        "colab": {
          "base_uri": "https://localhost:8080/"
        },
        "id": "WdIcNAJr3S3J",
        "outputId": "5bb4299a-1214-422b-9035-a0a52005a7d7"
      },
      "execution_count": null,
      "outputs": [
        {
          "output_type": "execute_result",
          "data": {
            "text/plain": [
              "dict_values(['emotionally charged', 'distracting'])"
            ]
          },
          "metadata": {},
          "execution_count": 261
        }
      ]
    },
    {
      "cell_type": "code",
      "source": [
        "a_dict.items()"
      ],
      "metadata": {
        "colab": {
          "base_uri": "https://localhost:8080/"
        },
        "id": "-R0cWTih3ghV",
        "outputId": "a8d166ef-8345-46b2-f995-c241f843ab9e"
      },
      "execution_count": null,
      "outputs": [
        {
          "output_type": "execute_result",
          "data": {
            "text/plain": [
              "dict_items([('I find', 'emotionally charged'), ('Coding examples', 'distracting')])"
            ]
          },
          "metadata": {},
          "execution_count": 265
        }
      ]
    },
    {
      "cell_type": "code",
      "source": [
        "a_dict.update({'because':'it makes me wonder why'})\n",
        "a_dict"
      ],
      "metadata": {
        "colab": {
          "base_uri": "https://localhost:8080/"
        },
        "id": "O2kVxMFh3nEC",
        "outputId": "82b34eee-4b8c-41e0-d889-db209fecd4df"
      },
      "execution_count": null,
      "outputs": [
        {
          "output_type": "execute_result",
          "data": {
            "text/plain": [
              "{'I find': 'emotionally charged',\n",
              " 'Coding examples': 'distracting',\n",
              " 'because': 'it makes me wonder why'}"
            ]
          },
          "metadata": {},
          "execution_count": 271
        }
      ]
    },
    {
      "cell_type": "code",
      "source": [
        "a_dict[\"because\"] = 'What motive is there for it?'\n",
        "a_dict\n"
      ],
      "metadata": {
        "colab": {
          "base_uri": "https://localhost:8080/"
        },
        "id": "_aweqFFI4PNM",
        "outputId": "7ce27987-fae6-4aac-a9be-06fa5c053211"
      },
      "execution_count": null,
      "outputs": [
        {
          "output_type": "execute_result",
          "data": {
            "text/plain": [
              "{'I find': 'emotionally charged',\n",
              " 'Coding examples': 'distracting',\n",
              " 'because': 'What motive is there for it?'}"
            ]
          },
          "metadata": {},
          "execution_count": 272
        }
      ]
    },
    {
      "cell_type": "code",
      "source": [
        "a_dict[\"because\"] = 'What motive is there for it?'\n",
        "a_dict"
      ],
      "metadata": {
        "id": "G8AQlDy_4e2O"
      },
      "execution_count": null,
      "outputs": []
    },
    {
      "cell_type": "code",
      "source": [
        "a_dict.update({\"probably\": \"just a random phrase\"})\n",
        "a_dict\n"
      ],
      "metadata": {
        "colab": {
          "base_uri": "https://localhost:8080/"
        },
        "id": "SotQSWPs4lVp",
        "outputId": "26690bee-1a56-46b9-bc67-d5fc60314fa4"
      },
      "execution_count": null,
      "outputs": [
        {
          "output_type": "execute_result",
          "data": {
            "text/plain": [
              "{'I find': 'emotionally charged',\n",
              " 'Coding examples': 'distracting',\n",
              " 'because': 'What motive is there for it?',\n",
              " 'probably': 'just a random phrase'}"
            ]
          },
          "metadata": {},
          "execution_count": 273
        }
      ]
    },
    {
      "cell_type": "code",
      "source": [
        "a_dict.update({\"but also\": \"maybe some undercurrent of antagonism\"})\n",
        "a_dict"
      ],
      "metadata": {
        "colab": {
          "base_uri": "https://localhost:8080/"
        },
        "id": "dJVVDPLc4s_2",
        "outputId": "692d1157-c7d7-49c1-8295-fbdaf76e7721"
      },
      "execution_count": null,
      "outputs": [
        {
          "output_type": "execute_result",
          "data": {
            "text/plain": [
              "{'I find': 'emotionally charged',\n",
              " 'Coding examples': 'distracting',\n",
              " 'because': 'What motive is there for it?',\n",
              " 'probably': 'just a random phrase',\n",
              " 'but also': 'maybe some undercurrent of antagonism'}"
            ]
          },
          "metadata": {},
          "execution_count": 274
        }
      ]
    },
    {
      "cell_type": "code",
      "source": [
        "a_dict.popitem()\n",
        "print(a_dict)"
      ],
      "metadata": {
        "colab": {
          "base_uri": "https://localhost:8080/"
        },
        "id": "3GTWamDZ43BU",
        "outputId": "941b3510-da16-4a6b-e939-bf5ae036f9e0"
      },
      "execution_count": null,
      "outputs": [
        {
          "output_type": "stream",
          "name": "stdout",
          "text": [
            "{'I find': 'emotionally charged', 'Coding examples': 'distracting', 'because': 'What motive is there for it?', 'probably': 'just a random phrase'}\n"
          ]
        }
      ]
    },
    {
      "cell_type": "code",
      "source": [
        "a_dict.popitem()\n",
        "print(a_dict)"
      ],
      "metadata": {
        "colab": {
          "base_uri": "https://localhost:8080/"
        },
        "id": "cmFQXlnw4_8M",
        "outputId": "58b716be-0638-4542-cad0-6432f6421ba2"
      },
      "execution_count": null,
      "outputs": [
        {
          "output_type": "stream",
          "name": "stdout",
          "text": [
            "{'I find': 'emotionally charged', 'Coding examples': 'distracting', 'because': 'What motive is there for it?'}\n"
          ]
        }
      ]
    },
    {
      "cell_type": "code",
      "source": [
        "a_dict.update({\"because\": 'I am a very curious person'})\n",
        "a_dict\n"
      ],
      "metadata": {
        "colab": {
          "base_uri": "https://localhost:8080/"
        },
        "id": "kn_o_MH65GSv",
        "outputId": "aa05c00d-ae58-4ead-e6a0-c9471bd6483f"
      },
      "execution_count": null,
      "outputs": [
        {
          "output_type": "execute_result",
          "data": {
            "text/plain": [
              "{'I find': 'emotionally charged',\n",
              " 'Coding examples': 'distracting',\n",
              " 'because': 'I am a very curious person'}"
            ]
          },
          "metadata": {},
          "execution_count": 277
        }
      ]
    },
    {
      "cell_type": "code",
      "source": [
        "Set1 = {1,2,3,4,5}\n",
        "Set1.discard(5)\n",
        "Set1"
      ],
      "metadata": {
        "colab": {
          "base_uri": "https://localhost:8080/"
        },
        "id": "Mz8bh0BXtObp",
        "outputId": "763a03d7-aa0d-4a61-cbb8-c43c20634ea7"
      },
      "execution_count": null,
      "outputs": [
        {
          "output_type": "execute_result",
          "data": {
            "text/plain": [
              "{1, 2, 3, 4}"
            ]
          },
          "metadata": {},
          "execution_count": 262
        }
      ]
    },
    {
      "cell_type": "code",
      "source": [
        "Set1.intersection()\n",
        "Set1 = {1,2,3,4,5}\n",
        "Set2 = {1,0,3,0,5}"
      ],
      "metadata": {
        "id": "e0OufSiTtZU_"
      },
      "execution_count": null,
      "outputs": []
    },
    {
      "cell_type": "code",
      "source": [
        "#finds shared values in both\n",
        "Set1.intersection(Set2)"
      ],
      "metadata": {
        "colab": {
          "base_uri": "https://localhost:8080/"
        },
        "id": "IK1wpoWnthNp",
        "outputId": "1e5ab3fd-451e-4038-b23f-1aa3a21043fa"
      },
      "execution_count": null,
      "outputs": [
        {
          "output_type": "execute_result",
          "data": {
            "text/plain": [
              "{1, 3, 5}"
            ]
          },
          "metadata": {},
          "execution_count": 264
        }
      ]
    },
    {
      "cell_type": "code",
      "source": [
        "str1=\"Test String\"\n",
        "print(str1.partition(\"Str\"))"
      ],
      "metadata": {
        "colab": {
          "base_uri": "https://localhost:8080/"
        },
        "id": "ZZUM30_Z0awp",
        "outputId": "ae8e668e-7071-4f61-f053-4c3d9469541c"
      },
      "execution_count": null,
      "outputs": [
        {
          "output_type": "stream",
          "name": "stdout",
          "text": [
            "('Test ', 'Str', 'ing')\n"
          ]
        }
      ]
    },
    {
      "cell_type": "code",
      "source": [
        "str1=\"why IS THIS TEXT LOUD?\"\n",
        "print(str1.capitalize())"
      ],
      "metadata": {
        "colab": {
          "base_uri": "https://localhost:8080/"
        },
        "id": "RYgcPNkn5ueK",
        "outputId": "f90b9439-1aa1-4242-b7b8-e14b65e0dd68"
      },
      "execution_count": null,
      "outputs": [
        {
          "output_type": "stream",
          "name": "stdout",
          "text": [
            "Why is this text loud?\n"
          ]
        }
      ]
    },
    {
      "cell_type": "code",
      "source": [
        "#add spaces and center\n",
        "txt=\"LOUD\"\n",
        "print(txt.center(100))"
      ],
      "metadata": {
        "colab": {
          "base_uri": "https://localhost:8080/"
        },
        "id": "MSSuGw0U6JJv",
        "outputId": "19078d5f-cd1e-4dbe-99b3-0ea6af6325f4"
      },
      "execution_count": null,
      "outputs": [
        {
          "output_type": "stream",
          "name": "stdout",
          "text": [
            "                                                LOUD                                                \n"
          ]
        }
      ]
    },
    {
      "cell_type": "code",
      "source": [
        "dir(starmap)\n"
      ],
      "metadata": {
        "colab": {
          "base_uri": "https://localhost:8080/"
        },
        "id": "c0vM_R0Q2OW8",
        "outputId": "a61fbf5d-87ca-440e-80ec-525231832e51"
      },
      "execution_count": null,
      "outputs": [
        {
          "output_type": "execute_result",
          "data": {
            "text/plain": [
              "['__class__',\n",
              " '__delattr__',\n",
              " '__dir__',\n",
              " '__doc__',\n",
              " '__eq__',\n",
              " '__format__',\n",
              " '__ge__',\n",
              " '__getattribute__',\n",
              " '__gt__',\n",
              " '__hash__',\n",
              " '__init__',\n",
              " '__init_subclass__',\n",
              " '__iter__',\n",
              " '__le__',\n",
              " '__lt__',\n",
              " '__ne__',\n",
              " '__new__',\n",
              " '__next__',\n",
              " '__reduce__',\n",
              " '__reduce_ex__',\n",
              " '__repr__',\n",
              " '__setattr__',\n",
              " '__sizeof__',\n",
              " '__str__',\n",
              " '__subclasshook__']"
            ]
          },
          "metadata": {},
          "execution_count": 281
        }
      ]
    },
    {
      "cell_type": "code",
      "source": [
        "str1= \"I hope we aren't expected to do 100% of these examples\"\n",
        "print(str1.count(\"i\")) #returns 0\n",
        "print(str1.count(\"I\")) #returns 1"
      ],
      "metadata": {
        "colab": {
          "base_uri": "https://localhost:8080/"
        },
        "id": "r72QqUkJ6V-0",
        "outputId": "353218e1-508c-4170-d4b7-ebcd6769feb4"
      },
      "execution_count": null,
      "outputs": [
        {
          "output_type": "stream",
          "name": "stdout",
          "text": [
            "0\n",
            "1\n"
          ]
        }
      ]
    },
    {
      "cell_type": "code",
      "source": [
        "str1=\"But I am pretty close\"\n",
        "print(str1.find(\"cl\"))\n",
        "# would return 16\n",
        "\n"
      ],
      "metadata": {
        "colab": {
          "base_uri": "https://localhost:8080/"
        },
        "id": "yWBbNYfn7OML",
        "outputId": "a4686084-f615-4fc2-fda5-a3595ca0ca0b"
      },
      "execution_count": null,
      "outputs": [
        {
          "output_type": "stream",
          "name": "stdout",
          "text": [
            "16\n"
          ]
        }
      ]
    },
    {
      "cell_type": "code",
      "source": [
        "#replaces string\n",
        "print(str1.replace(\"pretty\",\"very\"))\n",
        "str1\n"
      ],
      "metadata": {
        "colab": {
          "base_uri": "https://localhost:8080/",
          "height": 54
        },
        "id": "99qjcbXX7cAk",
        "outputId": "e1b4993f-3cdc-406e-9883-e198a46a505c"
      },
      "execution_count": null,
      "outputs": [
        {
          "output_type": "stream",
          "name": "stdout",
          "text": [
            "But I am very close\n"
          ]
        },
        {
          "output_type": "execute_result",
          "data": {
            "text/plain": [
              "'But I am pretty close'"
            ],
            "application/vnd.google.colaboratory.intrinsic+json": {
              "type": "string"
            }
          },
          "metadata": {},
          "execution_count": 298
        }
      ]
    },
    {
      "cell_type": "code",
      "source": [
        "txt=\"I will never use this function\"\n",
        "txt.zfill(33)"
      ],
      "metadata": {
        "colab": {
          "base_uri": "https://localhost:8080/",
          "height": 36
        },
        "id": "HIEpE95670EM",
        "outputId": "efa68c7e-3461-41e9-b8ed-48b0ea974098"
      },
      "execution_count": null,
      "outputs": [
        {
          "output_type": "execute_result",
          "data": {
            "text/plain": [
              "'000I will never use this function'"
            ],
            "application/vnd.google.colaboratory.intrinsic+json": {
              "type": "string"
            }
          },
          "metadata": {},
          "execution_count": 300
        }
      ]
    },
    {
      "cell_type": "code",
      "source": [
        "from collections import Counter"
      ],
      "metadata": {
        "id": "D4GQsyHJ22CQ"
      },
      "execution_count": null,
      "outputs": []
    },
    {
      "cell_type": "code",
      "source": [
        "check = [1,2,3,4,4,5, 2, 3, 4, 5, 2, 3, 2, 2, 2, 2]\n",
        "counted = Counter(check)\n",
        "copied = counted.copy\n",
        "copied"
      ],
      "metadata": {
        "colab": {
          "base_uri": "https://localhost:8080/"
        },
        "id": "72Ah92Jo8Cgd",
        "outputId": "358206de-9942-44f0-ee71-94e338503b13"
      },
      "execution_count": null,
      "outputs": [
        {
          "output_type": "execute_result",
          "data": {
            "text/plain": [
              "<bound method Counter.copy of Counter({2: 7, 3: 3, 4: 3, 5: 2, 1: 1})>"
            ]
          },
          "metadata": {},
          "execution_count": 311
        }
      ]
    },
    {
      "cell_type": "code",
      "source": [
        "counted.keys()"
      ],
      "metadata": {
        "colab": {
          "base_uri": "https://localhost:8080/"
        },
        "id": "ECb1rJRW8aq4",
        "outputId": "20ffa3f4-fb70-4f73-c192-df557100d333"
      },
      "execution_count": null,
      "outputs": [
        {
          "output_type": "execute_result",
          "data": {
            "text/plain": [
              "dict_keys([1, 2, 3, 4, 5])"
            ]
          },
          "metadata": {},
          "execution_count": 316
        }
      ]
    },
    {
      "cell_type": "code",
      "source": [
        "counted.values()"
      ],
      "metadata": {
        "colab": {
          "base_uri": "https://localhost:8080/"
        },
        "id": "gEsaMuf-87D8",
        "outputId": "0c2d73d3-4a7b-4ad5-b671-c989b25f0c3a"
      },
      "execution_count": null,
      "outputs": [
        {
          "output_type": "execute_result",
          "data": {
            "text/plain": [
              "dict_values([1, 7, 3, 3, 2])"
            ]
          },
          "metadata": {},
          "execution_count": 318
        }
      ]
    },
    {
      "cell_type": "code",
      "source": [
        "counted.most_common()"
      ],
      "metadata": {
        "colab": {
          "base_uri": "https://localhost:8080/"
        },
        "id": "IGo_DzcK80pc",
        "outputId": "3993b2f9-cff0-4a03-92c1-5524e3dd8358"
      },
      "execution_count": null,
      "outputs": [
        {
          "output_type": "execute_result",
          "data": {
            "text/plain": [
              "[(2, 7), (3, 3), (4, 3), (5, 2), (1, 1)]"
            ]
          },
          "metadata": {},
          "execution_count": 317
        }
      ]
    },
    {
      "cell_type": "code",
      "source": [
        "from itertools import *"
      ],
      "metadata": {
        "id": "1xx8vWU53BLi"
      },
      "execution_count": 3,
      "outputs": []
    },
    {
      "cell_type": "markdown",
      "source": [
        "### Q2\n"
      ],
      "metadata": {
        "id": "OX-fPlIMxXKI"
      }
    },
    {
      "cell_type": "code",
      "source": [
        "flower_orders=['W/R/B',\n",
        "'W/R/B',\n",
        "'W/R/B',\n",
        "'W/R/B',\n",
        "'W/R/B',\n",
        "'W/R/B',\n",
        "'W/R/B',\n",
        "'W/R/B',\n",
        "'W/R/B',\n",
        "'W/R/B',\n",
        "'W/R/B',\n",
        "'W/R/B',\n",
        "'W/R/B',\n",
        "'W/R/B',\n",
        "'W/R/B',\n",
        "'W/R/B',\n",
        "'W/R/B',\n",
        "'W/R/B',\n",
        "'W/R/B',\n",
        "'W/R/B',\n",
        "'W/R/B',\n",
        "'W/R/B',\n",
        "'W/R/B',\n",
        "'W/R/B',\n",
        "'W/R/B',\n",
        "'W/R/B',\n",
        "'W/R/B',\n",
        "'W/R/B',\n",
        "'W/R/B',\n",
        "'W/R/B',\n",
        "'W/R',\n",
        "'W/R',\n",
        "'W/R',\n",
        "'W/R',\n",
        "'W/R',\n",
        "'W/R',\n",
        "'W/R',\n",
        "'W/R',\n",
        "'W/R',\n",
        "'W/R',\n",
        "'W/R',\n",
        "'W/R',\n",
        "'W/R',\n",
        "'W/R',\n",
        "'W/R',\n",
        "'W/R',\n",
        "'R/V/Y',\n",
        "'R/V/Y',\n",
        "'R/V/Y',\n",
        "'R/V/Y',\n",
        "'R/V/Y',\n",
        "'R/V/Y',\n",
        "'R/V/Y',\n",
        "'R/V/Y',\n",
        "'R/V/Y',\n",
        "'R/V/Y',\n",
        "'W/R/V',\n",
        "'W/R/V',\n",
        "'W/R/V',\n",
        "'W/R/V',\n",
        "'W/R/V',\n",
        "'W/R/V',\n",
        "'W/R/V',\n",
        "'W/R/V',\n",
        "'W/R/V',\n",
        "'W/R/V',\n",
        "'W/N/R/V',\n",
        "'W/N/R/V',\n",
        "'W/N/R/V',\n",
        "'W/N/R/V',\n",
        "'W/N/R/V',\n",
        "'W/N/R/V',\n",
        "'W/N/R/V',\n",
        "'W/N/R/V',\n",
        "'W/R/B/Y',\n",
        "'W/R/B/Y',\n",
        "'W/R/B/Y',\n",
        "'W/R/B/Y',\n",
        "'W/R/B/Y',\n",
        "'W/R/B/Y',\n",
        "'B/Y',\n",
        "'B/Y',\n",
        "'B/Y',\n",
        "'B/Y',\n",
        "'B/Y',\n",
        "'R/B/Y',\n",
        "'R/B/Y',\n",
        "'R/B/Y',\n",
        "'R/B/Y',\n",
        "'R/B/Y',\n",
        "'W/N/R/B/V/Y',\n",
        "'W/N/R/B/V/Y',\n",
        "'W/N/R/B/V/Y',\n",
        "'W/N/R/B/V/Y',\n",
        "'W/N/R/B/V/Y',\n",
        "'W/G',\n",
        "'W/G',\n",
        "'W/G',\n",
        "'W/G',\n",
        "'R/Y',\n",
        "'R/Y',\n",
        "'R/Y',\n",
        "'R/Y',\n",
        "'N/R/V/Y',\n",
        "'N/R/V/Y',\n",
        "'N/R/V/Y',\n",
        "'N/R/V/Y',\n",
        "'W/R/B/V',\n",
        "'W/R/B/V',\n",
        "'W/R/B/V',\n",
        "'W/R/B/V',\n",
        "'W/N/R/V/Y',\n",
        "'W/N/R/V/Y',\n",
        "'W/N/R/V/Y',\n",
        "'W/N/R/V/Y',\n",
        "'N/R/Y',\n",
        "'N/R/Y',\n",
        "'N/R/Y',\n",
        "'W/V/O',\n",
        "'W/V/O',\n",
        "'W/V/O',\n",
        "'W/N/R/Y',\n",
        "'W/N/R/Y',\n",
        "'W/N/R/Y',\n",
        "'R/B/V/Y',\n",
        "'R/B/V/Y',\n",
        "'R/B/V/Y',\n",
        "'W/R/V/Y',\n",
        "'W/R/V/Y',\n",
        "'W/R/V/Y',\n",
        "'W/R/B/V/Y',\n",
        "'W/R/B/V/Y',\n",
        "'W/R/B/V/Y',\n",
        "'W/N/R/B/Y',\n",
        "'W/N/R/B/Y',\n",
        "'W/N/R/B/Y',\n",
        "'R/G',\n",
        "'R/G',\n",
        "'B/V/Y',\n",
        "'B/V/Y',\n",
        "'N/B/Y',\n",
        "'N/B/Y',\n",
        "'W/B/Y',\n",
        "'W/B/Y',\n",
        "'W/N/B',\n",
        "'W/N/B',\n",
        "'W/N/R',\n",
        "'W/N/R',\n",
        "'W/N/B/Y',\n",
        "'W/N/B/Y',\n",
        "'W/B/V/Y',\n",
        "'W/B/V/Y',\n",
        "'W/N/R/B/V/Y/G/M',\n",
        "'W/N/R/B/V/Y/G/M',\n",
        "'B/R',\n",
        "'N/R',\n",
        "'V/Y',\n",
        "'V',\n",
        "'N/R/V',\n",
        "'N/V/Y',\n",
        "'R/B/O',\n",
        "'W/B/V',\n",
        "'W/V/Y',\n",
        "'W/N/R/B',\n",
        "'W/N/R/O',\n",
        "'W/N/R/G',\n",
        "'W/N/V/Y',\n",
        "'W/N/Y/M',\n",
        "'N/R/B/Y',\n",
        "'N/B/V/Y',\n",
        "'R/V/Y/O',\n",
        "'W/B/V/M',\n",
        "'W/B/V/O',\n",
        "'N/R/B/Y/M',\n",
        "'N/R/V/O/M',\n",
        "'W/N/R/Y/G',\n",
        "'N/R/B/V/Y',\n",
        "'W/R/B/V/Y/P',\n",
        "'W/N/R/B/Y/G',\n",
        "'W/N/R/B/V/O/M',\n",
        "'W/N/R/B/V/Y/M',\n",
        "'W/N/B/V/Y/G/M',\n",
        "'W/N/B/V/V/Y/P']"
      ],
      "metadata": {
        "id": "pS2gHuij3h2a"
      },
      "execution_count": 1,
      "outputs": []
    },
    {
      "cell_type": "code",
      "source": [
        "from collections import Counter"
      ],
      "metadata": {
        "id": "Br8fbMyDATNA"
      },
      "execution_count": 8,
      "outputs": []
    },
    {
      "cell_type": "code",
      "source": [
        "from collections import Counter"
      ],
      "metadata": {
        "id": "BMxsnowMAHWd"
      },
      "execution_count": 5,
      "outputs": []
    },
    {
      "cell_type": "markdown",
      "source": [
        "## 1. Build your own counter object, then use the built-in Counter() and confirm they have the same values.\n"
      ],
      "metadata": {
        "id": "ec3Pz4yVtNtU"
      }
    },
    {
      "cell_type": "code",
      "source": [
        "#separate the combinations\n",
        "y = 0\n",
        "flowers = []\n",
        "\n",
        "for x in flower_orders:\n",
        "  flowers.extend(flower_orders[y].split(\"/\"))\n",
        "  y+=1"
      ],
      "metadata": {
        "id": "GT9vqLyXCn4B"
      },
      "execution_count": null,
      "outputs": []
    },
    {
      "cell_type": "code",
      "source": [
        "#own counter object\n",
        "count= []\n",
        "\n",
        "for x in flowers:\n",
        "  count.append(1)\n",
        "print(sum(count))"
      ],
      "metadata": {
        "colab": {
          "base_uri": "https://localhost:8080/"
        },
        "id": "m7FhqLZc79EP",
        "outputId": "b8dd5ece-4e52-4f2c-89a3-33552a5b35a1"
      },
      "execution_count": null,
      "outputs": [
        {
          "output_type": "stream",
          "name": "stdout",
          "text": [
            "633\n"
          ]
        }
      ]
    },
    {
      "cell_type": "code",
      "source": [
        "#comparison\n",
        "letter_counts = Counter(flowers)\n",
        "letter_counts\n",
        "print(sum(letter_counts.values()))"
      ],
      "metadata": {
        "colab": {
          "base_uri": "https://localhost:8080/"
        },
        "id": "wVQ9g7ucCVCY",
        "outputId": "3c9ccb84-6817-451a-874b-9a02be0109b4"
      },
      "execution_count": null,
      "outputs": [
        {
          "output_type": "stream",
          "name": "stdout",
          "text": [
            "633\n"
          ]
        }
      ]
    },
    {
      "cell_type": "code",
      "source": [
        "len(flowers)"
      ],
      "metadata": {
        "colab": {
          "base_uri": "https://localhost:8080/"
        },
        "id": "Tc4AzEEBTqvz",
        "outputId": "d4913d8e-326a-472e-9b68-151983311d4e"
      },
      "execution_count": null,
      "outputs": [
        {
          "output_type": "execute_result",
          "data": {
            "text/plain": [
              "633"
            ]
          },
          "metadata": {},
          "execution_count": 108
        }
      ]
    },
    {
      "cell_type": "markdown",
      "source": [
        "## 2 .Count how many objects have color W in them."
      ],
      "metadata": {
        "id": "4ECfrZ1AtGZK"
      }
    },
    {
      "cell_type": "code",
      "source": [
        "y=0\n",
        "count = []\n",
        "for x in flower_orders:\n",
        "  countw = flower_orders[y].count(\"W\")\n",
        "  if countw !=0:\n",
        "    count.append(1)\n",
        "  y+=1\n",
        "\n",
        "sum(count)"
      ],
      "metadata": {
        "colab": {
          "base_uri": "https://localhost:8080/"
        },
        "id": "gwq9xIDgB_p4",
        "outputId": "636d2029-f162-4f2e-ef2b-ac53ec6c3e44"
      },
      "execution_count": null,
      "outputs": [
        {
          "output_type": "execute_result",
          "data": {
            "text/plain": [
              "130"
            ]
          },
          "metadata": {},
          "execution_count": 109
        }
      ]
    },
    {
      "cell_type": "markdown",
      "source": [
        "## 3. Make histogram of colors"
      ],
      "metadata": {
        "id": "INX4pKzCtBmE"
      }
    },
    {
      "cell_type": "code",
      "source": [
        "import matplotlib.pyplot as plt\n",
        "num_bins = 10\n",
        "n, bins, patches = plt.hist(flowers, color = \"lightblue\", ec=\"black\", alpha=0.5)\n",
        "plt.show()"
      ],
      "metadata": {
        "colab": {
          "base_uri": "https://localhost:8080/",
          "height": 430
        },
        "id": "BPBCipJdTI1K",
        "outputId": "b018b88a-1973-4234-f84e-d21ddb0208fb"
      },
      "execution_count": null,
      "outputs": [
        {
          "output_type": "display_data",
          "data": {
            "text/plain": [
              "<Figure size 640x480 with 1 Axes>"
            ],
            "image/png": "[encoded data removed]"
          },
          "metadata": {}
        }
      ]
    },
    {
      "cell_type": "markdown",
      "source": [
        "4. Rank the pairs of colors in each order regardless of how many colors are in an order.\n",
        "\n"
      ],
      "metadata": {
        "id": "kLnYXpXIxBin"
      }
    },
    {
      "cell_type": "code",
      "source": [
        "pairs"
      ],
      "metadata": {
        "colab": {
          "base_uri": "https://localhost:8080/"
        },
        "id": "GFuNtT8O_5r0",
        "outputId": "61c65b62-e373-4d23-d4f4-c6b68ec37204"
      },
      "execution_count": 10,
      "outputs": [
        {
          "output_type": "execute_result",
          "data": {
            "text/plain": [
              "[('W', 'R'),\n",
              " ('R', 'B'),\n",
              " ('W', 'R'),\n",
              " ('R', 'B'),\n",
              " ('W', 'R'),\n",
              " ('R', 'B'),\n",
              " ('W', 'R'),\n",
              " ('R', 'B'),\n",
              " ('W', 'R'),\n",
              " ('R', 'B'),\n",
              " ('W', 'R'),\n",
              " ('R', 'B'),\n",
              " ('W', 'R'),\n",
              " ('R', 'B'),\n",
              " ('W', 'R'),\n",
              " ('R', 'B'),\n",
              " ('W', 'R'),\n",
              " ('R', 'B'),\n",
              " ('W', 'R'),\n",
              " ('R', 'B'),\n",
              " ('W', 'R'),\n",
              " ('R', 'B'),\n",
              " ('W', 'R'),\n",
              " ('R', 'B'),\n",
              " ('W', 'R'),\n",
              " ('R', 'B'),\n",
              " ('W', 'R'),\n",
              " ('R', 'B'),\n",
              " ('W', 'R'),\n",
              " ('R', 'B'),\n",
              " ('W', 'R'),\n",
              " ('R', 'B'),\n",
              " ('W', 'R'),\n",
              " ('R', 'B'),\n",
              " ('W', 'R'),\n",
              " ('R', 'B'),\n",
              " ('W', 'R'),\n",
              " ('R', 'B'),\n",
              " ('W', 'R'),\n",
              " ('R', 'B'),\n",
              " ('W', 'R'),\n",
              " ('R', 'B'),\n",
              " ('W', 'R'),\n",
              " ('R', 'B'),\n",
              " ('W', 'R'),\n",
              " ('R', 'B'),\n",
              " ('W', 'R'),\n",
              " ('R', 'B'),\n",
              " ('W', 'R'),\n",
              " ('R', 'B'),\n",
              " ('W', 'R'),\n",
              " ('R', 'B'),\n",
              " ('W', 'R'),\n",
              " ('R', 'B'),\n",
              " ('W', 'R'),\n",
              " ('R', 'B'),\n",
              " ('W', 'R'),\n",
              " ('R', 'B'),\n",
              " ('W', 'R'),\n",
              " ('R', 'B'),\n",
              " ('W', 'R'),\n",
              " ('W', 'R'),\n",
              " ('W', 'R'),\n",
              " ('W', 'R'),\n",
              " ('W', 'R'),\n",
              " ('W', 'R'),\n",
              " ('W', 'R'),\n",
              " ('W', 'R'),\n",
              " ('W', 'R'),\n",
              " ('W', 'R'),\n",
              " ('W', 'R'),\n",
              " ('W', 'R'),\n",
              " ('W', 'R'),\n",
              " ('W', 'R'),\n",
              " ('W', 'R'),\n",
              " ('W', 'R'),\n",
              " ('R', 'V'),\n",
              " ('V', 'Y'),\n",
              " ('R', 'V'),\n",
              " ('V', 'Y'),\n",
              " ('R', 'V'),\n",
              " ('V', 'Y'),\n",
              " ('R', 'V'),\n",
              " ('V', 'Y'),\n",
              " ('R', 'V'),\n",
              " ('V', 'Y'),\n",
              " ('R', 'V'),\n",
              " ('V', 'Y'),\n",
              " ('R', 'V'),\n",
              " ('V', 'Y'),\n",
              " ('R', 'V'),\n",
              " ('V', 'Y'),\n",
              " ('R', 'V'),\n",
              " ('V', 'Y'),\n",
              " ('R', 'V'),\n",
              " ('V', 'Y'),\n",
              " ('W', 'R'),\n",
              " ('R', 'V'),\n",
              " ('W', 'R'),\n",
              " ('R', 'V'),\n",
              " ('W', 'R'),\n",
              " ('R', 'V'),\n",
              " ('W', 'R'),\n",
              " ('R', 'V'),\n",
              " ('W', 'R'),\n",
              " ('R', 'V'),\n",
              " ('W', 'R'),\n",
              " ('R', 'V'),\n",
              " ('W', 'R'),\n",
              " ('R', 'V'),\n",
              " ('W', 'R'),\n",
              " ('R', 'V'),\n",
              " ('W', 'R'),\n",
              " ('R', 'V'),\n",
              " ('W', 'R'),\n",
              " ('R', 'V'),\n",
              " ('W', 'N'),\n",
              " ('N', 'R'),\n",
              " ('R', 'V'),\n",
              " ('W', 'N'),\n",
              " ('N', 'R'),\n",
              " ('R', 'V'),\n",
              " ('W', 'N'),\n",
              " ('N', 'R'),\n",
              " ('R', 'V'),\n",
              " ('W', 'N'),\n",
              " ('N', 'R'),\n",
              " ('R', 'V'),\n",
              " ('W', 'N'),\n",
              " ('N', 'R'),\n",
              " ('R', 'V'),\n",
              " ('W', 'N'),\n",
              " ('N', 'R'),\n",
              " ('R', 'V'),\n",
              " ('W', 'N'),\n",
              " ('N', 'R'),\n",
              " ('R', 'V'),\n",
              " ('W', 'N'),\n",
              " ('N', 'R'),\n",
              " ('R', 'V'),\n",
              " ('W', 'R'),\n",
              " ('R', 'B'),\n",
              " ('B', 'Y'),\n",
              " ('W', 'R'),\n",
              " ('R', 'B'),\n",
              " ('B', 'Y'),\n",
              " ('W', 'R'),\n",
              " ('R', 'B'),\n",
              " ('B', 'Y'),\n",
              " ('W', 'R'),\n",
              " ('R', 'B'),\n",
              " ('B', 'Y'),\n",
              " ('W', 'R'),\n",
              " ('R', 'B'),\n",
              " ('B', 'Y'),\n",
              " ('W', 'R'),\n",
              " ('R', 'B'),\n",
              " ('B', 'Y'),\n",
              " ('B', 'Y'),\n",
              " ('B', 'Y'),\n",
              " ('B', 'Y'),\n",
              " ('B', 'Y'),\n",
              " ('B', 'Y'),\n",
              " ('R', 'B'),\n",
              " ('B', 'Y'),\n",
              " ('R', 'B'),\n",
              " ('B', 'Y'),\n",
              " ('R', 'B'),\n",
              " ('B', 'Y'),\n",
              " ('R', 'B'),\n",
              " ('B', 'Y'),\n",
              " ('R', 'B'),\n",
              " ('B', 'Y'),\n",
              " ('W', 'N'),\n",
              " ('N', 'R'),\n",
              " ('R', 'B'),\n",
              " ('B', 'V'),\n",
              " ('V', 'Y'),\n",
              " ('W', 'N'),\n",
              " ('N', 'R'),\n",
              " ('R', 'B'),\n",
              " ('B', 'V'),\n",
              " ('V', 'Y'),\n",
              " ('W', 'N'),\n",
              " ('N', 'R'),\n",
              " ('R', 'B'),\n",
              " ('B', 'V'),\n",
              " ('V', 'Y'),\n",
              " ('W', 'N'),\n",
              " ('N', 'R'),\n",
              " ('R', 'B'),\n",
              " ('B', 'V'),\n",
              " ('V', 'Y'),\n",
              " ('W', 'N'),\n",
              " ('N', 'R'),\n",
              " ('R', 'B'),\n",
              " ('B', 'V'),\n",
              " ('V', 'Y'),\n",
              " ('W', 'G'),\n",
              " ('W', 'G'),\n",
              " ('W', 'G'),\n",
              " ('W', 'G'),\n",
              " ('R', 'Y'),\n",
              " ('R', 'Y'),\n",
              " ('R', 'Y'),\n",
              " ('R', 'Y'),\n",
              " ('N', 'R'),\n",
              " ('R', 'V'),\n",
              " ('V', 'Y'),\n",
              " ('N', 'R'),\n",
              " ('R', 'V'),\n",
              " ('V', 'Y'),\n",
              " ('N', 'R'),\n",
              " ('R', 'V'),\n",
              " ('V', 'Y'),\n",
              " ('N', 'R'),\n",
              " ('R', 'V'),\n",
              " ('V', 'Y'),\n",
              " ('W', 'R'),\n",
              " ('R', 'B'),\n",
              " ('B', 'V'),\n",
              " ('W', 'R'),\n",
              " ('R', 'B'),\n",
              " ('B', 'V'),\n",
              " ('W', 'R'),\n",
              " ('R', 'B'),\n",
              " ('B', 'V'),\n",
              " ('W', 'R'),\n",
              " ('R', 'B'),\n",
              " ('B', 'V'),\n",
              " ('W', 'N'),\n",
              " ('N', 'R'),\n",
              " ('R', 'V'),\n",
              " ('V', 'Y'),\n",
              " ('W', 'N'),\n",
              " ('N', 'R'),\n",
              " ('R', 'V'),\n",
              " ('V', 'Y'),\n",
              " ('W', 'N'),\n",
              " ('N', 'R'),\n",
              " ('R', 'V'),\n",
              " ('V', 'Y'),\n",
              " ('W', 'N'),\n",
              " ('N', 'R'),\n",
              " ('R', 'V'),\n",
              " ('V', 'Y'),\n",
              " ('N', 'R'),\n",
              " ('R', 'Y'),\n",
              " ('N', 'R'),\n",
              " ('R', 'Y'),\n",
              " ('N', 'R'),\n",
              " ('R', 'Y'),\n",
              " ('W', 'V'),\n",
              " ('V', 'O'),\n",
              " ('W', 'V'),\n",
              " ('V', 'O'),\n",
              " ('W', 'V'),\n",
              " ('V', 'O'),\n",
              " ('W', 'N'),\n",
              " ('N', 'R'),\n",
              " ('R', 'Y'),\n",
              " ('W', 'N'),\n",
              " ('N', 'R'),\n",
              " ('R', 'Y'),\n",
              " ('W', 'N'),\n",
              " ('N', 'R'),\n",
              " ('R', 'Y'),\n",
              " ('R', 'B'),\n",
              " ('B', 'V'),\n",
              " ('V', 'Y'),\n",
              " ('R', 'B'),\n",
              " ('B', 'V'),\n",
              " ('V', 'Y'),\n",
              " ('R', 'B'),\n",
              " ('B', 'V'),\n",
              " ('V', 'Y'),\n",
              " ('W', 'R'),\n",
              " ('R', 'V'),\n",
              " ('V', 'Y'),\n",
              " ('W', 'R'),\n",
              " ('R', 'V'),\n",
              " ('V', 'Y'),\n",
              " ('W', 'R'),\n",
              " ('R', 'V'),\n",
              " ('V', 'Y'),\n",
              " ('W', 'R'),\n",
              " ('R', 'B'),\n",
              " ('B', 'V'),\n",
              " ('V', 'Y'),\n",
              " ('W', 'R'),\n",
              " ('R', 'B'),\n",
              " ('B', 'V'),\n",
              " ('V', 'Y'),\n",
              " ('W', 'R'),\n",
              " ('R', 'B'),\n",
              " ('B', 'V'),\n",
              " ('V', 'Y'),\n",
              " ('W', 'N'),\n",
              " ('N', 'R'),\n",
              " ('R', 'B'),\n",
              " ('B', 'Y'),\n",
              " ('W', 'N'),\n",
              " ('N', 'R'),\n",
              " ('R', 'B'),\n",
              " ('B', 'Y'),\n",
              " ('W', 'N'),\n",
              " ('N', 'R'),\n",
              " ('R', 'B'),\n",
              " ('B', 'Y'),\n",
              " ('R', 'G'),\n",
              " ('R', 'G'),\n",
              " ('B', 'V'),\n",
              " ('V', 'Y'),\n",
              " ('B', 'V'),\n",
              " ('V', 'Y'),\n",
              " ('N', 'B'),\n",
              " ('B', 'Y'),\n",
              " ('N', 'B'),\n",
              " ('B', 'Y'),\n",
              " ('W', 'B'),\n",
              " ('B', 'Y'),\n",
              " ('W', 'B'),\n",
              " ('B', 'Y'),\n",
              " ('W', 'N'),\n",
              " ('N', 'B'),\n",
              " ('W', 'N'),\n",
              " ('N', 'B'),\n",
              " ('W', 'N'),\n",
              " ('N', 'R'),\n",
              " ('W', 'N'),\n",
              " ('N', 'R'),\n",
              " ('W', 'N'),\n",
              " ('N', 'B'),\n",
              " ('B', 'Y'),\n",
              " ('W', 'N'),\n",
              " ('N', 'B'),\n",
              " ('B', 'Y'),\n",
              " ('W', 'B'),\n",
              " ('B', 'V'),\n",
              " ('V', 'Y'),\n",
              " ('W', 'B'),\n",
              " ('B', 'V'),\n",
              " ('V', 'Y'),\n",
              " ('W', 'N'),\n",
              " ('N', 'R'),\n",
              " ('R', 'B'),\n",
              " ('B', 'V'),\n",
              " ('V', 'Y'),\n",
              " ('Y', 'G'),\n",
              " ('G', 'M'),\n",
              " ('W', 'N'),\n",
              " ('N', 'R'),\n",
              " ('R', 'B'),\n",
              " ('B', 'V'),\n",
              " ('V', 'Y'),\n",
              " ('Y', 'G'),\n",
              " ('G', 'M'),\n",
              " ('B', 'R'),\n",
              " ('N', 'R'),\n",
              " ('V', 'Y'),\n",
              " ('N', 'R'),\n",
              " ('R', 'V'),\n",
              " ('N', 'V'),\n",
              " ('V', 'Y'),\n",
              " ('R', 'B'),\n",
              " ('B', 'O'),\n",
              " ('W', 'B'),\n",
              " ('B', 'V'),\n",
              " ('W', 'V'),\n",
              " ('V', 'Y'),\n",
              " ('W', 'N'),\n",
              " ('N', 'R'),\n",
              " ('R', 'B'),\n",
              " ('W', 'N'),\n",
              " ('N', 'R'),\n",
              " ('R', 'O'),\n",
              " ('W', 'N'),\n",
              " ('N', 'R'),\n",
              " ('R', 'G'),\n",
              " ('W', 'N'),\n",
              " ('N', 'V'),\n",
              " ('V', 'Y'),\n",
              " ('W', 'N'),\n",
              " ('N', 'Y'),\n",
              " ('Y', 'M'),\n",
              " ('N', 'R'),\n",
              " ('R', 'B'),\n",
              " ('B', 'Y'),\n",
              " ('N', 'B'),\n",
              " ('B', 'V'),\n",
              " ('V', 'Y'),\n",
              " ('R', 'V'),\n",
              " ('V', 'Y'),\n",
              " ('Y', 'O'),\n",
              " ('W', 'B'),\n",
              " ('B', 'V'),\n",
              " ('V', 'M'),\n",
              " ('W', 'B'),\n",
              " ('B', 'V'),\n",
              " ('V', 'O'),\n",
              " ('N', 'R'),\n",
              " ('R', 'B'),\n",
              " ('B', 'Y'),\n",
              " ('Y', 'M'),\n",
              " ('N', 'R'),\n",
              " ('R', 'V'),\n",
              " ('V', 'O'),\n",
              " ('O', 'M'),\n",
              " ('W', 'N'),\n",
              " ('N', 'R'),\n",
              " ('R', 'Y'),\n",
              " ('Y', 'G'),\n",
              " ('N', 'R'),\n",
              " ('R', 'B'),\n",
              " ('B', 'V'),\n",
              " ('V', 'Y'),\n",
              " ('W', 'R'),\n",
              " ('R', 'B'),\n",
              " ('B', 'V'),\n",
              " ('V', 'Y'),\n",
              " ('Y', 'P'),\n",
              " ('W', 'N'),\n",
              " ('N', 'R'),\n",
              " ('R', 'B'),\n",
              " ('B', 'Y'),\n",
              " ('Y', 'G'),\n",
              " ('W', 'N'),\n",
              " ('N', 'R'),\n",
              " ('R', 'B'),\n",
              " ('B', 'V'),\n",
              " ('V', 'O'),\n",
              " ('O', 'M'),\n",
              " ('W', 'N'),\n",
              " ('N', 'R'),\n",
              " ('R', 'B'),\n",
              " ('B', 'V'),\n",
              " ('V', 'Y'),\n",
              " ('Y', 'M'),\n",
              " ('W', 'N'),\n",
              " ('N', 'B'),\n",
              " ('B', 'V'),\n",
              " ('V', 'Y'),\n",
              " ('Y', 'G'),\n",
              " ('G', 'M'),\n",
              " ('W', 'N'),\n",
              " ('N', 'B'),\n",
              " ('B', 'V'),\n",
              " ('V', 'V'),\n",
              " ('V', 'Y'),\n",
              " ('Y', 'P')]"
            ]
          },
          "metadata": {},
          "execution_count": 10
        }
      ]
    },
    {
      "cell_type": "code",
      "source": [
        "y=0\n",
        "pairs = []\n",
        "\n",
        "for x in flower_orders:\n",
        "  pairs.extend(list(pairwise(flower_orders[y].split(\"/\"))))\n",
        "  y+=1\n",
        "pairs_counts = Counter(pairs)\n",
        "pairs_counts"
      ],
      "metadata": {
        "colab": {
          "base_uri": "https://localhost:8080/"
        },
        "id": "QjUlmM28YALe",
        "outputId": "9c5d6a36-3e90-4558-c3c8-4e3289b50ee1"
      },
      "execution_count": 9,
      "outputs": [
        {
          "output_type": "execute_result",
          "data": {
            "text/plain": [
              "Counter({('W', 'R'): 73,\n",
              "         ('R', 'B'): 70,\n",
              "         ('R', 'V'): 42,\n",
              "         ('V', 'Y'): 49,\n",
              "         ('W', 'N'): 42,\n",
              "         ('N', 'R'): 47,\n",
              "         ('B', 'Y'): 28,\n",
              "         ('B', 'V'): 31,\n",
              "         ('W', 'G'): 4,\n",
              "         ('R', 'Y'): 11,\n",
              "         ('W', 'V'): 4,\n",
              "         ('V', 'O'): 6,\n",
              "         ('R', 'G'): 3,\n",
              "         ('N', 'B'): 9,\n",
              "         ('W', 'B'): 7,\n",
              "         ('Y', 'G'): 5,\n",
              "         ('G', 'M'): 3,\n",
              "         ('B', 'R'): 1,\n",
              "         ('N', 'V'): 2,\n",
              "         ('B', 'O'): 1,\n",
              "         ('R', 'O'): 1,\n",
              "         ('N', 'Y'): 1,\n",
              "         ('Y', 'M'): 3,\n",
              "         ('Y', 'O'): 1,\n",
              "         ('V', 'M'): 1,\n",
              "         ('O', 'M'): 2,\n",
              "         ('Y', 'P'): 2,\n",
              "         ('V', 'V'): 1})"
            ]
          },
          "metadata": {},
          "execution_count": 9
        }
      ]
    },
    {
      "cell_type": "code",
      "source": [
        "y=0\n",
        "pairs = []\n",
        "\n",
        "for x in flower_orders:\n",
        "  pairs.extend((list(pairwise(flower_orders[y].split(\"/\")))))\n",
        "  y+=1\n",
        "\n",
        "pairs"
      ],
      "metadata": {
        "colab": {
          "base_uri": "https://localhost:8080/"
        },
        "id": "ehmtKYAnceFS",
        "outputId": "806db156-3a77-4a53-c7a1-bf969a5f8dd6"
      },
      "execution_count": null,
      "outputs": [
        {
          "output_type": "execute_result",
          "data": {
            "text/plain": [
              "[('W', 'R'),\n",
              " ('R', 'B'),\n",
              " ('W', 'R'),\n",
              " ('R', 'B'),\n",
              " ('W', 'R'),\n",
              " ('R', 'B'),\n",
              " ('W', 'R'),\n",
              " ('R', 'B'),\n",
              " ('W', 'R'),\n",
              " ('R', 'B'),\n",
              " ('W', 'R'),\n",
              " ('R', 'B'),\n",
              " ('W', 'R'),\n",
              " ('R', 'B'),\n",
              " ('W', 'R'),\n",
              " ('R', 'B'),\n",
              " ('W', 'R'),\n",
              " ('R', 'B'),\n",
              " ('W', 'R'),\n",
              " ('R', 'B'),\n",
              " ('W', 'R'),\n",
              " ('R', 'B'),\n",
              " ('W', 'R'),\n",
              " ('R', 'B'),\n",
              " ('W', 'R'),\n",
              " ('R', 'B'),\n",
              " ('W', 'R'),\n",
              " ('R', 'B'),\n",
              " ('W', 'R'),\n",
              " ('R', 'B'),\n",
              " ('W', 'R'),\n",
              " ('R', 'B'),\n",
              " ('W', 'R'),\n",
              " ('R', 'B'),\n",
              " ('W', 'R'),\n",
              " ('R', 'B'),\n",
              " ('W', 'R'),\n",
              " ('R', 'B'),\n",
              " ('W', 'R'),\n",
              " ('R', 'B'),\n",
              " ('W', 'R'),\n",
              " ('R', 'B'),\n",
              " ('W', 'R'),\n",
              " ('R', 'B'),\n",
              " ('W', 'R'),\n",
              " ('R', 'B'),\n",
              " ('W', 'R'),\n",
              " ('R', 'B'),\n",
              " ('W', 'R'),\n",
              " ('R', 'B'),\n",
              " ('W', 'R'),\n",
              " ('R', 'B'),\n",
              " ('W', 'R'),\n",
              " ('R', 'B'),\n",
              " ('W', 'R'),\n",
              " ('R', 'B'),\n",
              " ('W', 'R'),\n",
              " ('R', 'B'),\n",
              " ('W', 'R'),\n",
              " ('R', 'B'),\n",
              " ('W', 'R'),\n",
              " ('W', 'R'),\n",
              " ('W', 'R'),\n",
              " ('W', 'R'),\n",
              " ('W', 'R'),\n",
              " ('W', 'R'),\n",
              " ('W', 'R'),\n",
              " ('W', 'R'),\n",
              " ('W', 'R'),\n",
              " ('W', 'R'),\n",
              " ('W', 'R'),\n",
              " ('W', 'R'),\n",
              " ('W', 'R'),\n",
              " ('W', 'R'),\n",
              " ('W', 'R'),\n",
              " ('W', 'R'),\n",
              " ('R', 'V'),\n",
              " ('V', 'Y'),\n",
              " ('R', 'V'),\n",
              " ('V', 'Y'),\n",
              " ('R', 'V'),\n",
              " ('V', 'Y'),\n",
              " ('R', 'V'),\n",
              " ('V', 'Y'),\n",
              " ('R', 'V'),\n",
              " ('V', 'Y'),\n",
              " ('R', 'V'),\n",
              " ('V', 'Y'),\n",
              " ('R', 'V'),\n",
              " ('V', 'Y'),\n",
              " ('R', 'V'),\n",
              " ('V', 'Y'),\n",
              " ('R', 'V'),\n",
              " ('V', 'Y'),\n",
              " ('R', 'V'),\n",
              " ('V', 'Y'),\n",
              " ('W', 'R'),\n",
              " ('R', 'V'),\n",
              " ('W', 'R'),\n",
              " ('R', 'V'),\n",
              " ('W', 'R'),\n",
              " ('R', 'V'),\n",
              " ('W', 'R'),\n",
              " ('R', 'V'),\n",
              " ('W', 'R'),\n",
              " ('R', 'V'),\n",
              " ('W', 'R'),\n",
              " ('R', 'V'),\n",
              " ('W', 'R'),\n",
              " ('R', 'V'),\n",
              " ('W', 'R'),\n",
              " ('R', 'V'),\n",
              " ('W', 'R'),\n",
              " ('R', 'V'),\n",
              " ('W', 'R'),\n",
              " ('R', 'V'),\n",
              " ('W', 'N'),\n",
              " ('N', 'R'),\n",
              " ('R', 'V'),\n",
              " ('W', 'N'),\n",
              " ('N', 'R'),\n",
              " ('R', 'V'),\n",
              " ('W', 'N'),\n",
              " ('N', 'R'),\n",
              " ('R', 'V'),\n",
              " ('W', 'N'),\n",
              " ('N', 'R'),\n",
              " ('R', 'V'),\n",
              " ('W', 'N'),\n",
              " ('N', 'R'),\n",
              " ('R', 'V'),\n",
              " ('W', 'N'),\n",
              " ('N', 'R'),\n",
              " ('R', 'V'),\n",
              " ('W', 'N'),\n",
              " ('N', 'R'),\n",
              " ('R', 'V'),\n",
              " ('W', 'N'),\n",
              " ('N', 'R'),\n",
              " ('R', 'V'),\n",
              " ('W', 'R'),\n",
              " ('R', 'B'),\n",
              " ('B', 'Y'),\n",
              " ('W', 'R'),\n",
              " ('R', 'B'),\n",
              " ('B', 'Y'),\n",
              " ('W', 'R'),\n",
              " ('R', 'B'),\n",
              " ('B', 'Y'),\n",
              " ('W', 'R'),\n",
              " ('R', 'B'),\n",
              " ('B', 'Y'),\n",
              " ('W', 'R'),\n",
              " ('R', 'B'),\n",
              " ('B', 'Y'),\n",
              " ('W', 'R'),\n",
              " ('R', 'B'),\n",
              " ('B', 'Y'),\n",
              " ('B', 'Y'),\n",
              " ('B', 'Y'),\n",
              " ('B', 'Y'),\n",
              " ('B', 'Y'),\n",
              " ('B', 'Y'),\n",
              " ('R', 'B'),\n",
              " ('B', 'Y'),\n",
              " ('R', 'B'),\n",
              " ('B', 'Y'),\n",
              " ('R', 'B'),\n",
              " ('B', 'Y'),\n",
              " ('R', 'B'),\n",
              " ('B', 'Y'),\n",
              " ('R', 'B'),\n",
              " ('B', 'Y'),\n",
              " ('W', 'N'),\n",
              " ('N', 'R'),\n",
              " ('R', 'B'),\n",
              " ('B', 'V'),\n",
              " ('V', 'Y'),\n",
              " ('W', 'N'),\n",
              " ('N', 'R'),\n",
              " ('R', 'B'),\n",
              " ('B', 'V'),\n",
              " ('V', 'Y'),\n",
              " ('W', 'N'),\n",
              " ('N', 'R'),\n",
              " ('R', 'B'),\n",
              " ('B', 'V'),\n",
              " ('V', 'Y'),\n",
              " ('W', 'N'),\n",
              " ('N', 'R'),\n",
              " ('R', 'B'),\n",
              " ('B', 'V'),\n",
              " ('V', 'Y'),\n",
              " ('W', 'N'),\n",
              " ('N', 'R'),\n",
              " ('R', 'B'),\n",
              " ('B', 'V'),\n",
              " ('V', 'Y'),\n",
              " ('W', 'G'),\n",
              " ('W', 'G'),\n",
              " ('W', 'G'),\n",
              " ('W', 'G'),\n",
              " ('R', 'Y'),\n",
              " ('R', 'Y'),\n",
              " ('R', 'Y'),\n",
              " ('R', 'Y'),\n",
              " ('N', 'R'),\n",
              " ('R', 'V'),\n",
              " ('V', 'Y'),\n",
              " ('N', 'R'),\n",
              " ('R', 'V'),\n",
              " ('V', 'Y'),\n",
              " ('N', 'R'),\n",
              " ('R', 'V'),\n",
              " ('V', 'Y'),\n",
              " ('N', 'R'),\n",
              " ('R', 'V'),\n",
              " ('V', 'Y'),\n",
              " ('W', 'R'),\n",
              " ('R', 'B'),\n",
              " ('B', 'V'),\n",
              " ('W', 'R'),\n",
              " ('R', 'B'),\n",
              " ('B', 'V'),\n",
              " ('W', 'R'),\n",
              " ('R', 'B'),\n",
              " ('B', 'V'),\n",
              " ('W', 'R'),\n",
              " ('R', 'B'),\n",
              " ('B', 'V'),\n",
              " ('W', 'N'),\n",
              " ('N', 'R'),\n",
              " ('R', 'V'),\n",
              " ('V', 'Y'),\n",
              " ('W', 'N'),\n",
              " ('N', 'R'),\n",
              " ('R', 'V'),\n",
              " ('V', 'Y'),\n",
              " ('W', 'N'),\n",
              " ('N', 'R'),\n",
              " ('R', 'V'),\n",
              " ('V', 'Y'),\n",
              " ('W', 'N'),\n",
              " ('N', 'R'),\n",
              " ('R', 'V'),\n",
              " ('V', 'Y'),\n",
              " ('N', 'R'),\n",
              " ('R', 'Y'),\n",
              " ('N', 'R'),\n",
              " ('R', 'Y'),\n",
              " ('N', 'R'),\n",
              " ('R', 'Y'),\n",
              " ('W', 'V'),\n",
              " ('V', 'O'),\n",
              " ('W', 'V'),\n",
              " ('V', 'O'),\n",
              " ('W', 'V'),\n",
              " ('V', 'O'),\n",
              " ('W', 'N'),\n",
              " ('N', 'R'),\n",
              " ('R', 'Y'),\n",
              " ('W', 'N'),\n",
              " ('N', 'R'),\n",
              " ('R', 'Y'),\n",
              " ('W', 'N'),\n",
              " ('N', 'R'),\n",
              " ('R', 'Y'),\n",
              " ('R', 'B'),\n",
              " ('B', 'V'),\n",
              " ('V', 'Y'),\n",
              " ('R', 'B'),\n",
              " ('B', 'V'),\n",
              " ('V', 'Y'),\n",
              " ('R', 'B'),\n",
              " ('B', 'V'),\n",
              " ('V', 'Y'),\n",
              " ('W', 'R'),\n",
              " ('R', 'V'),\n",
              " ('V', 'Y'),\n",
              " ('W', 'R'),\n",
              " ('R', 'V'),\n",
              " ('V', 'Y'),\n",
              " ('W', 'R'),\n",
              " ('R', 'V'),\n",
              " ('V', 'Y'),\n",
              " ('W', 'R'),\n",
              " ('R', 'B'),\n",
              " ('B', 'V'),\n",
              " ('V', 'Y'),\n",
              " ('W', 'R'),\n",
              " ('R', 'B'),\n",
              " ('B', 'V'),\n",
              " ('V', 'Y'),\n",
              " ('W', 'R'),\n",
              " ('R', 'B'),\n",
              " ('B', 'V'),\n",
              " ('V', 'Y'),\n",
              " ('W', 'N'),\n",
              " ('N', 'R'),\n",
              " ('R', 'B'),\n",
              " ('B', 'Y'),\n",
              " ('W', 'N'),\n",
              " ('N', 'R'),\n",
              " ('R', 'B'),\n",
              " ('B', 'Y'),\n",
              " ('W', 'N'),\n",
              " ('N', 'R'),\n",
              " ('R', 'B'),\n",
              " ('B', 'Y'),\n",
              " ('R', 'G'),\n",
              " ('R', 'G'),\n",
              " ('B', 'V'),\n",
              " ('V', 'Y'),\n",
              " ('B', 'V'),\n",
              " ('V', 'Y'),\n",
              " ('N', 'B'),\n",
              " ('B', 'Y'),\n",
              " ('N', 'B'),\n",
              " ('B', 'Y'),\n",
              " ('W', 'B'),\n",
              " ('B', 'Y'),\n",
              " ('W', 'B'),\n",
              " ('B', 'Y'),\n",
              " ('W', 'N'),\n",
              " ('N', 'B'),\n",
              " ('W', 'N'),\n",
              " ('N', 'B'),\n",
              " ('W', 'N'),\n",
              " ('N', 'R'),\n",
              " ('W', 'N'),\n",
              " ('N', 'R'),\n",
              " ('W', 'N'),\n",
              " ('N', 'B'),\n",
              " ('B', 'Y'),\n",
              " ('W', 'N'),\n",
              " ('N', 'B'),\n",
              " ('B', 'Y'),\n",
              " ('W', 'B'),\n",
              " ('B', 'V'),\n",
              " ('V', 'Y'),\n",
              " ('W', 'B'),\n",
              " ('B', 'V'),\n",
              " ('V', 'Y'),\n",
              " ('W', 'N'),\n",
              " ('N', 'R'),\n",
              " ('R', 'B'),\n",
              " ('B', 'V'),\n",
              " ('V', 'Y'),\n",
              " ('Y', 'G'),\n",
              " ('G', 'M'),\n",
              " ('W', 'N'),\n",
              " ('N', 'R'),\n",
              " ('R', 'B'),\n",
              " ('B', 'V'),\n",
              " ('V', 'Y'),\n",
              " ('Y', 'G'),\n",
              " ('G', 'M'),\n",
              " ('B', 'R'),\n",
              " ('N', 'R'),\n",
              " ('V', 'Y'),\n",
              " ('N', 'R'),\n",
              " ('R', 'V'),\n",
              " ('N', 'V'),\n",
              " ('V', 'Y'),\n",
              " ('R', 'B'),\n",
              " ('B', 'O'),\n",
              " ('W', 'B'),\n",
              " ('B', 'V'),\n",
              " ('W', 'V'),\n",
              " ('V', 'Y'),\n",
              " ('W', 'N'),\n",
              " ('N', 'R'),\n",
              " ('R', 'B'),\n",
              " ('W', 'N'),\n",
              " ('N', 'R'),\n",
              " ('R', 'O'),\n",
              " ('W', 'N'),\n",
              " ('N', 'R'),\n",
              " ('R', 'G'),\n",
              " ('W', 'N'),\n",
              " ('N', 'V'),\n",
              " ('V', 'Y'),\n",
              " ('W', 'N'),\n",
              " ('N', 'Y'),\n",
              " ('Y', 'M'),\n",
              " ('N', 'R'),\n",
              " ('R', 'B'),\n",
              " ('B', 'Y'),\n",
              " ('N', 'B'),\n",
              " ('B', 'V'),\n",
              " ('V', 'Y'),\n",
              " ('R', 'V'),\n",
              " ('V', 'Y'),\n",
              " ('Y', 'O'),\n",
              " ('W', 'B'),\n",
              " ('B', 'V'),\n",
              " ('V', 'M'),\n",
              " ('W', 'B'),\n",
              " ('B', 'V'),\n",
              " ('V', 'O'),\n",
              " ('N', 'R'),\n",
              " ('R', 'B'),\n",
              " ('B', 'Y'),\n",
              " ('Y', 'M'),\n",
              " ('N', 'R'),\n",
              " ('R', 'V'),\n",
              " ('V', 'O'),\n",
              " ('O', 'M'),\n",
              " ('W', 'N'),\n",
              " ('N', 'R'),\n",
              " ('R', 'Y'),\n",
              " ('Y', 'G'),\n",
              " ('N', 'R'),\n",
              " ('R', 'B'),\n",
              " ('B', 'V'),\n",
              " ('V', 'Y'),\n",
              " ('W', 'R'),\n",
              " ('R', 'B'),\n",
              " ('B', 'V'),\n",
              " ('V', 'Y'),\n",
              " ('Y', 'P'),\n",
              " ('W', 'N'),\n",
              " ('N', 'R'),\n",
              " ('R', 'B'),\n",
              " ('B', 'Y'),\n",
              " ('Y', 'G'),\n",
              " ('W', 'N'),\n",
              " ('N', 'R'),\n",
              " ('R', 'B'),\n",
              " ('B', 'V'),\n",
              " ('V', 'O'),\n",
              " ('O', 'M'),\n",
              " ('W', 'N'),\n",
              " ('N', 'R'),\n",
              " ('R', 'B'),\n",
              " ('B', 'V'),\n",
              " ('V', 'Y'),\n",
              " ('Y', 'M'),\n",
              " ('W', 'N'),\n",
              " ('N', 'B'),\n",
              " ('B', 'V'),\n",
              " ('V', 'Y'),\n",
              " ('Y', 'G'),\n",
              " ('G', 'M'),\n",
              " ('W', 'N'),\n",
              " ('N', 'B'),\n",
              " ('B', 'V'),\n",
              " ('V', 'V'),\n",
              " ('V', 'Y'),\n",
              " ('Y', 'P')]"
            ]
          },
          "metadata": {},
          "execution_count": 112
        }
      ]
    },
    {
      "cell_type": "code",
      "source": [
        "y = 0\n",
        "flowers = []\n",
        "pairs = []\n",
        "for x in flower_orders:\n",
        "  flowers = flower_orders[y].split(\"/\")\n",
        "  pairs.extend(list(permutations(flowers,3)))\n",
        "\n",
        "  y+=1\n",
        "  Counter(pairs)"
      ],
      "metadata": {
        "id": "FI8C10xzdQFz"
      },
      "execution_count": null,
      "outputs": []
    },
    {
      "cell_type": "markdown",
      "source": [
        "## Rank the pairs of colors in each order regardless of how many colors are in an order."
      ],
      "metadata": {
        "id": "Ti_wFdMoswNN"
      }
    },
    {
      "cell_type": "code",
      "source": [
        "y = 0\n",
        "flowers = []\n",
        "color = ()\n",
        "pairs = []\n",
        "\n",
        "for x in flower_orders:\n",
        "  flowers = flower_orders[y].split(\"/\")\n",
        "  pairs.extend(list(permutations(flowers,2)))\n",
        " # colors.update()\n",
        "\n",
        "  y+=1\n",
        "\n",
        "print(Counter(list(pairs)))"
      ],
      "metadata": {
        "colab": {
          "base_uri": "https://localhost:8080/"
        },
        "id": "7dFtX6eNsnnB",
        "outputId": "67a48bee-50ea-4bf8-beaa-e92eeef6f8d2"
      },
      "execution_count": null,
      "outputs": [
        {
          "output_type": "stream",
          "name": "stdout",
          "text": [
            "Counter({('W', 'R'): 107, ('R', 'W'): 107, ('W', 'B'): 71, ('R', 'B'): 71, ('B', 'W'): 71, ('B', 'R'): 71, ('R', 'Y'): 66, ('Y', 'R'): 66, ('R', 'V'): 63, ('V', 'R'): 63, ('W', 'V'): 55, ('V', 'W'): 55, ('B', 'Y'): 51, ('Y', 'B'): 51, ('V', 'Y'): 50, ('Y', 'V'): 50, ('N', 'R'): 47, ('R', 'N'): 47, ('W', 'Y'): 44, ('Y', 'W'): 44, ('W', 'N'): 42, ('N', 'W'): 42, ('N', 'Y'): 40, ('Y', 'N'): 40, ('N', 'V'): 34, ('V', 'N'): 34, ('B', 'V'): 32, ('V', 'B'): 32, ('N', 'B'): 26, ('B', 'N'): 26, ('W', 'G'): 10, ('G', 'W'): 10, ('N', 'M'): 8, ('M', 'N'): 8, ('V', 'O'): 7, ('O', 'V'): 7, ('R', 'G'): 7, ('G', 'R'): 7, ('W', 'M'): 7, ('B', 'M'): 7, ('V', 'M'): 7, ('M', 'W'): 7, ('M', 'B'): 7, ('M', 'V'): 7, ('W', 'O'): 6, ('O', 'W'): 6, ('N', 'G'): 6, ('R', 'M'): 6, ('Y', 'M'): 6, ('G', 'N'): 6, ('M', 'R'): 6, ('M', 'Y'): 6, ('Y', 'G'): 5, ('G', 'Y'): 5, ('R', 'O'): 5, ('O', 'R'): 5, ('B', 'G'): 4, ('G', 'B'): 4, ('V', 'G'): 3, ('G', 'V'): 3, ('G', 'M'): 3, ('M', 'G'): 3, ('B', 'O'): 3, ('O', 'B'): 3, ('N', 'O'): 3, ('O', 'N'): 3, ('V', 'P'): 3, ('P', 'V'): 3, ('O', 'M'): 2, ('M', 'O'): 2, ('W', 'P'): 2, ('B', 'P'): 2, ('Y', 'P'): 2, ('P', 'W'): 2, ('P', 'B'): 2, ('P', 'Y'): 2, ('V', 'V'): 2, ('Y', 'O'): 1, ('O', 'Y'): 1, ('R', 'P'): 1, ('P', 'R'): 1, ('N', 'P'): 1, ('P', 'N'): 1})\n"
          ]
        }
      ]
    },
    {
      "cell_type": "markdown",
      "source": [
        "## Rank the triplets of colors in each order regardless of how many colors are in an order."
      ],
      "metadata": {
        "id": "Kr2GcQw2shUn"
      }
    },
    {
      "cell_type": "code",
      "source": [
        "y = 0\n",
        "flowers = []\n",
        "color = ()\n",
        "pairs = []\n",
        "\n",
        "for x in flower_orders:\n",
        "  flowers = flower_orders[y].split(\"/\")\n",
        "  pairs.extend(list(permutations(flowers,3)))\n",
        " # colors.update()\n",
        "\n",
        "  y+=1\n",
        "\n",
        "print(Counter(list(pairs)))"
      ],
      "metadata": {
        "colab": {
          "base_uri": "https://localhost:8080/"
        },
        "id": "qKoU_yHKnnhd",
        "outputId": "61dac9f0-2e21-48fb-f81a-45c3b1d4dab5"
      },
      "execution_count": null,
      "outputs": [
        {
          "output_type": "stream",
          "name": "stdout",
          "text": [
            "Counter({('W', 'R', 'B'): 58, ('W', 'B', 'R'): 58, ('R', 'W', 'B'): 58, ('R', 'B', 'W'): 58, ('B', 'W', 'R'): 58, ('B', 'R', 'W'): 58, ('W', 'R', 'V'): 42, ('W', 'V', 'R'): 42, ('R', 'W', 'V'): 42, ('R', 'V', 'W'): 42, ('V', 'W', 'R'): 42, ('V', 'R', 'W'): 42, ('R', 'V', 'Y'): 38, ('R', 'Y', 'V'): 38, ('V', 'R', 'Y'): 38, ('V', 'Y', 'R'): 38, ('Y', 'R', 'V'): 38, ('Y', 'V', 'R'): 38, ('W', 'N', 'R'): 34, ('W', 'R', 'N'): 34, ('N', 'W', 'R'): 34, ('N', 'R', 'W'): 34, ('R', 'W', 'N'): 34, ('R', 'N', 'W'): 34, ('W', 'R', 'Y'): 33, ('W', 'Y', 'R'): 33, ('R', 'W', 'Y'): 33, ('R', 'B', 'Y'): 33, ('R', 'Y', 'W'): 33, ('R', 'Y', 'B'): 33, ('B', 'R', 'Y'): 33, ('B', 'Y', 'R'): 33, ('Y', 'W', 'R'): 33, ('Y', 'R', 'W'): 33, ('Y', 'R', 'B'): 33, ('Y', 'B', 'R'): 33, ('W', 'B', 'Y'): 30, ('W', 'Y', 'B'): 30, ('B', 'W', 'Y'): 30, ('B', 'Y', 'W'): 30, ('Y', 'W', 'B'): 30, ('Y', 'B', 'W'): 30, ('N', 'R', 'Y'): 30, ('N', 'Y', 'R'): 30, ('R', 'N', 'Y'): 30, ('R', 'Y', 'N'): 30, ('Y', 'N', 'R'): 30, ('Y', 'R', 'N'): 30, ('N', 'R', 'V'): 28, ('N', 'V', 'R'): 28, ('R', 'N', 'V'): 28, ('R', 'V', 'N'): 28, ('V', 'N', 'R'): 28, ('V', 'R', 'N'): 28, ('W', 'N', 'Y'): 26, ('W', 'V', 'Y'): 26, ('W', 'Y', 'N'): 26, ('W', 'Y', 'V'): 26, ('N', 'W', 'Y'): 26, ('N', 'Y', 'W'): 26, ('V', 'W', 'Y'): 26, ('V', 'Y', 'W'): 26, ('Y', 'W', 'N'): 26, ('Y', 'W', 'V'): 26, ('Y', 'N', 'W'): 26, ('Y', 'V', 'W'): 26, ('W', 'N', 'V'): 25, ('W', 'V', 'N'): 25, ('N', 'W', 'V'): 25, ('N', 'V', 'W'): 25, ('V', 'W', 'N'): 25, ('V', 'N', 'W'): 25, ('W', 'B', 'V'): 25, ('W', 'V', 'B'): 25, ('B', 'W', 'V'): 25, ('B', 'V', 'W'): 25, ('V', 'W', 'B'): 25, ('V', 'B', 'W'): 25, ('B', 'V', 'Y'): 24, ('B', 'Y', 'V'): 24, ('V', 'B', 'Y'): 24, ('V', 'Y', 'B'): 24, ('Y', 'B', 'V'): 24, ('Y', 'V', 'B'): 24, ('N', 'V', 'Y'): 23, ('N', 'Y', 'V'): 23, ('V', 'N', 'Y'): 23, ('V', 'Y', 'N'): 23, ('Y', 'N', 'V'): 23, ('Y', 'V', 'N'): 23, ('N', 'B', 'Y'): 22, ('N', 'Y', 'B'): 22, ('B', 'N', 'Y'): 22, ('B', 'Y', 'N'): 22, ('Y', 'N', 'B'): 22, ('Y', 'B', 'N'): 22, ('R', 'B', 'V'): 21, ('R', 'V', 'B'): 21, ('B', 'R', 'V'): 21, ('B', 'V', 'R'): 21, ('V', 'R', 'B'): 21, ('V', 'B', 'R'): 21, ('W', 'N', 'B'): 20, ('W', 'B', 'N'): 20, ('N', 'W', 'B'): 20, ('N', 'B', 'W'): 20, ('B', 'W', 'N'): 20, ('B', 'N', 'W'): 20, ('N', 'R', 'B'): 17, ('N', 'B', 'R'): 17, ('R', 'N', 'B'): 17, ('R', 'B', 'N'): 17, ('B', 'N', 'R'): 17, ('B', 'R', 'N'): 17, ('N', 'B', 'V'): 14, ('N', 'V', 'B'): 14, ('B', 'N', 'V'): 14, ('B', 'V', 'N'): 14, ('V', 'N', 'B'): 14, ('V', 'B', 'N'): 14, ('W', 'N', 'G'): 6, ('W', 'N', 'M'): 6, ('W', 'B', 'M'): 6, ('W', 'V', 'M'): 6, ('W', 'G', 'N'): 6, ('W', 'M', 'N'): 6, ('W', 'M', 'B'): 6, ('W', 'M', 'V'): 6, ('N', 'W', 'G'): 6, ('N', 'W', 'M'): 6, ('N', 'R', 'M'): 6, ('N', 'B', 'M'): 6, ('N', 'V', 'M'): 6, ('N', 'Y', 'M'): 6, ('N', 'G', 'W'): 6, ('N', 'M', 'W'): 6, ('N', 'M', 'R'): 6, ('N', 'M', 'B'): 6, ('N', 'M', 'V'): 6, ('N', 'M', 'Y'): 6, ('R', 'N', 'M'): 6, ('R', 'M', 'N'): 6, ('B', 'W', 'M'): 6, ('B', 'N', 'M'): 6, ('B', 'V', 'M'): 6, ('B', 'M', 'W'): 6, ('B', 'M', 'N'): 6, ('B', 'M', 'V'): 6, ('V', 'W', 'M'): 6, ('V', 'N', 'M'): 6, ('V', 'B', 'M'): 6, ('V', 'M', 'W'): 6, ('V', 'M', 'N'): 6, ('V', 'M', 'B'): 6, ('Y', 'N', 'M'): 6, ('Y', 'M', 'N'): 6, ('G', 'W', 'N'): 6, ('G', 'N', 'W'): 6, ('M', 'W', 'N'): 6, ('M', 'W', 'B'): 6, ('M', 'W', 'V'): 6, ('M', 'N', 'W'): 6, ('M', 'N', 'R'): 6, ('M', 'N', 'B'): 6, ('M', 'N', 'V'): 6, ('M', 'N', 'Y'): 6, ('M', 'R', 'N'): 6, ('M', 'B', 'W'): 6, ('M', 'B', 'N'): 6, ('M', 'B', 'V'): 6, ('M', 'V', 'W'): 6, ('M', 'V', 'N'): 6, ('M', 'V', 'B'): 6, ('M', 'Y', 'N'): 6, ('W', 'V', 'O'): 5, ('W', 'O', 'V'): 5, ('V', 'W', 'O'): 5, ('V', 'O', 'W'): 5, ('O', 'W', 'V'): 5, ('O', 'V', 'W'): 5, ('W', 'R', 'G'): 5, ('W', 'Y', 'G'): 5, ('W', 'Y', 'M'): 5, ('W', 'G', 'R'): 5, ('W', 'G', 'Y'): 5, ('W', 'M', 'Y'): 5, ('N', 'R', 'G'): 5, ('N', 'Y', 'G'): 5, ('N', 'G', 'R'): 5, ('N', 'G', 'Y'): 5, ('R', 'W', 'G'): 5, ('R', 'N', 'G'): 5, ('R', 'B', 'M'): 5, ('R', 'V', 'M'): 5, ('R', 'G', 'W'): 5, ('R', 'G', 'N'): 5, ('R', 'M', 'B'): 5, ('R', 'M', 'V'): 5, ('B', 'R', 'M'): 5, ('B', 'Y', 'M'): 5, ('B', 'M', 'R'): 5, ('B', 'M', 'Y'): 5, ('V', 'R', 'M'): 5, ('V', 'M', 'R'): 5, ('Y', 'W', 'G'): 5, ('Y', 'W', 'M'): 5, ('Y', 'N', 'G'): 5, ('Y', 'B', 'M'): 5, ('Y', 'G', 'W'): 5, ('Y', 'G', 'N'): 5, ('Y', 'M', 'W'): 5, ('Y', 'M', 'B'): 5, ('G', 'W', 'R'): 5, ('G', 'W', 'Y'): 5, ('G', 'N', 'R'): 5, ('G', 'N', 'Y'): 5, ('G', 'R', 'W'): 5, ('G', 'R', 'N'): 5, ('G', 'Y', 'W'): 5, ('G', 'Y', 'N'): 5, ('M', 'W', 'Y'): 5, ('M', 'R', 'B'): 5, ('M', 'R', 'V'): 5, ('M', 'B', 'R'): 5, ('M', 'B', 'Y'): 5, ('M', 'V', 'R'): 5, ('M', 'Y', 'W'): 5, ('M', 'Y', 'B'): 5, ('W', 'R', 'M'): 4, ('W', 'B', 'G'): 4, ('W', 'G', 'B'): 4, ('W', 'M', 'R'): 4, ('N', 'B', 'G'): 4, ('N', 'G', 'B'): 4, ('R', 'W', 'M'): 4, ('R', 'Y', 'G'): 4, ('R', 'Y', 'M'): 4, ('R', 'G', 'Y'): 4, ('R', 'M', 'W'): 4, ('R', 'M', 'Y'): 4, ('B', 'W', 'G'): 4, ('B', 'N', 'G'): 4, ('B', 'Y', 'G'): 4, ('B', 'G', 'W'): 4, ('B', 'G', 'N'): 4, ('B', 'G', 'Y'): 4, ('V', 'Y', 'M'): 4, ('V', 'M', 'Y'): 4, ('Y', 'R', 'G'): 4, ('Y', 'R', 'M'): 4, ('Y', 'B', 'G'): 4, ('Y', 'V', 'M'): 4, ('Y', 'G', 'R'): 4, ('Y', 'G', 'B'): 4, ('Y', 'M', 'R'): 4, ('Y', 'M', 'V'): 4, ('G', 'W', 'B'): 4, ('G', 'N', 'B'): 4, ('G', 'R', 'Y'): 4, ('G', 'B', 'W'): 4, ('G', 'B', 'N'): 4, ('G', 'B', 'Y'): 4, ('G', 'Y', 'R'): 4, ('G', 'Y', 'B'): 4, ('M', 'W', 'R'): 4, ('M', 'R', 'W'): 4, ('M', 'R', 'Y'): 4, ('M', 'V', 'Y'): 4, ('M', 'Y', 'R'): 4, ('M', 'Y', 'V'): 4, ('W', 'V', 'G'): 3, ('W', 'G', 'V'): 3, ('W', 'G', 'M'): 3, ('W', 'M', 'G'): 3, ('N', 'V', 'G'): 3, ('N', 'G', 'V'): 3, ('N', 'G', 'M'): 3, ('N', 'M', 'G'): 3, ('R', 'B', 'G'): 3, ('R', 'G', 'B'): 3, ('B', 'R', 'G'): 3, ('B', 'V', 'G'): 3, ('B', 'G', 'R'): 3, ('B', 'G', 'V'): 3, ('B', 'G', 'M'): 3, ('B', 'M', 'G'): 3, ('V', 'W', 'G'): 3, ('V', 'N', 'G'): 3, ('V', 'B', 'G'): 3, ('V', 'Y', 'G'): 3, ('V', 'G', 'W'): 3, ('V', 'G', 'N'): 3, ('V', 'G', 'B'): 3, ('V', 'G', 'Y'): 3, ('V', 'G', 'M'): 3, ('V', 'M', 'G'): 3, ('Y', 'V', 'G'): 3, ('Y', 'G', 'V'): 3, ('Y', 'G', 'M'): 3, ('Y', 'M', 'G'): 3, ('G', 'W', 'V'): 3, ('G', 'W', 'M'): 3, ('G', 'N', 'V'): 3, ('G', 'N', 'M'): 3, ('G', 'R', 'B'): 3, ('G', 'B', 'R'): 3, ('G', 'B', 'V'): 3, ('G', 'B', 'M'): 3, ('G', 'V', 'W'): 3, ('G', 'V', 'N'): 3, ('G', 'V', 'B'): 3, ('G', 'V', 'Y'): 3, ('G', 'V', 'M'): 3, ('G', 'Y', 'V'): 3, ('G', 'Y', 'M'): 3, ('G', 'M', 'W'): 3, ('G', 'M', 'N'): 3, ('G', 'M', 'B'): 3, ('G', 'M', 'V'): 3, ('G', 'M', 'Y'): 3, ('M', 'W', 'G'): 3, ('M', 'N', 'G'): 3, ('M', 'B', 'G'): 3, ('M', 'V', 'G'): 3, ('M', 'Y', 'G'): 3, ('M', 'G', 'W'): 3, ('M', 'G', 'N'): 3, ('M', 'G', 'B'): 3, ('M', 'G', 'V'): 3, ('M', 'G', 'Y'): 3, ('N', 'R', 'O'): 3, ('N', 'O', 'R'): 3, ('R', 'N', 'O'): 3, ('R', 'O', 'N'): 3, ('O', 'N', 'R'): 3, ('O', 'R', 'N'): 3, ('R', 'V', 'O'): 3, ('R', 'O', 'V'): 3, ('V', 'R', 'O'): 3, ('V', 'O', 'R'): 3, ('O', 'R', 'V'): 3, ('O', 'V', 'R'): 3, ('W', 'V', 'P'): 3, ('W', 'P', 'V'): 3, ('B', 'V', 'P'): 3, ('B', 'P', 'V'): 3, ('V', 'W', 'P'): 3, ('V', 'B', 'P'): 3, ('V', 'Y', 'P'): 3, ('V', 'P', 'W'): 3, ('V', 'P', 'B'): 3, ('V', 'P', 'Y'): 3, ('Y', 'V', 'P'): 3, ('Y', 'P', 'V'): 3, ('P', 'W', 'V'): 3, ('P', 'B', 'V'): 3, ('P', 'V', 'W'): 3, ('P', 'V', 'B'): 3, ('P', 'V', 'Y'): 3, ('P', 'Y', 'V'): 3, ('R', 'V', 'G'): 2, ('R', 'G', 'V'): 2, ('R', 'G', 'M'): 2, ('R', 'M', 'G'): 2, ('V', 'R', 'G'): 2, ('V', 'G', 'R'): 2, ('G', 'R', 'V'): 2, ('G', 'R', 'M'): 2, ('G', 'V', 'R'): 2, ('G', 'M', 'R'): 2, ('M', 'R', 'G'): 2, ('M', 'G', 'R'): 2, ('R', 'B', 'O'): 2, ('R', 'O', 'B'): 2, ('B', 'R', 'O'): 2, ('B', 'O', 'R'): 2, ('O', 'R', 'B'): 2, ('O', 'B', 'R'): 2, ('W', 'N', 'O'): 2, ('W', 'R', 'O'): 2, ('W', 'O', 'N'): 2, ('W', 'O', 'R'): 2, ('N', 'W', 'O'): 2, ('N', 'O', 'W'): 2, ('R', 'W', 'O'): 2, ('R', 'O', 'W'): 2, ('O', 'W', 'N'): 2, ('O', 'W', 'R'): 2, ('O', 'N', 'W'): 2, ('O', 'R', 'W'): 2, ('W', 'B', 'O'): 2, ('W', 'O', 'B'): 2, ('B', 'W', 'O'): 2, ('B', 'V', 'O'): 2, ('B', 'O', 'W'): 2, ('B', 'O', 'V'): 2, ('V', 'B', 'O'): 2, ('V', 'O', 'B'): 2, ('O', 'W', 'B'): 2, ('O', 'B', 'W'): 2, ('O', 'B', 'V'): 2, ('O', 'V', 'B'): 2, ('N', 'V', 'O'): 2, ('N', 'O', 'V'): 2, ('N', 'O', 'M'): 2, ('N', 'M', 'O'): 2, ('R', 'O', 'M'): 2, ('R', 'M', 'O'): 2, ('V', 'N', 'O'): 2, ('V', 'O', 'N'): 2, ('V', 'O', 'M'): 2, ('V', 'M', 'O'): 2, ('O', 'N', 'V'): 2, ('O', 'N', 'M'): 2, ('O', 'R', 'M'): 2, ('O', 'V', 'N'): 2, ('O', 'V', 'M'): 2, ('O', 'M', 'N'): 2, ('O', 'M', 'R'): 2, ('O', 'M', 'V'): 2, ('M', 'N', 'O'): 2, ('M', 'R', 'O'): 2, ('M', 'V', 'O'): 2, ('M', 'O', 'N'): 2, ('M', 'O', 'R'): 2, ('M', 'O', 'V'): 2, ('W', 'B', 'P'): 2, ('W', 'Y', 'P'): 2, ('W', 'P', 'B'): 2, ('W', 'P', 'Y'): 2, ('B', 'W', 'P'): 2, ('B', 'Y', 'P'): 2, ('B', 'P', 'W'): 2, ('B', 'P', 'Y'): 2, ('Y', 'W', 'P'): 2, ('Y', 'B', 'P'): 2, ('Y', 'P', 'W'): 2, ('Y', 'P', 'B'): 2, ('P', 'W', 'B'): 2, ('P', 'W', 'Y'): 2, ('P', 'B', 'W'): 2, ('P', 'B', 'Y'): 2, ('P', 'Y', 'W'): 2, ('P', 'Y', 'B'): 2, ('W', 'V', 'V'): 2, ('N', 'V', 'V'): 2, ('N', 'V', 'P'): 2, ('N', 'P', 'V'): 2, ('B', 'V', 'V'): 2, ('V', 'W', 'V'): 2, ('V', 'N', 'V'): 2, ('V', 'N', 'P'): 2, ('V', 'B', 'V'): 2, ('V', 'V', 'W'): 2, ('V', 'V', 'N'): 2, ('V', 'V', 'B'): 2, ('V', 'V', 'Y'): 2, ('V', 'V', 'P'): 2, ('V', 'Y', 'V'): 2, ('V', 'P', 'N'): 2, ('V', 'P', 'V'): 2, ('Y', 'V', 'V'): 2, ('P', 'N', 'V'): 2, ('P', 'V', 'N'): 2, ('P', 'V', 'V'): 2, ('R', 'Y', 'O'): 1, ('R', 'O', 'Y'): 1, ('V', 'Y', 'O'): 1, ('V', 'O', 'Y'): 1, ('Y', 'R', 'O'): 1, ('Y', 'V', 'O'): 1, ('Y', 'O', 'R'): 1, ('Y', 'O', 'V'): 1, ('O', 'R', 'Y'): 1, ('O', 'V', 'Y'): 1, ('O', 'Y', 'R'): 1, ('O', 'Y', 'V'): 1, ('W', 'R', 'P'): 1, ('W', 'P', 'R'): 1, ('R', 'W', 'P'): 1, ('R', 'B', 'P'): 1, ('R', 'V', 'P'): 1, ('R', 'Y', 'P'): 1, ('R', 'P', 'W'): 1, ('R', 'P', 'B'): 1, ('R', 'P', 'V'): 1, ('R', 'P', 'Y'): 1, ('B', 'R', 'P'): 1, ('B', 'P', 'R'): 1, ('V', 'R', 'P'): 1, ('V', 'P', 'R'): 1, ('Y', 'R', 'P'): 1, ('Y', 'P', 'R'): 1, ('P', 'W', 'R'): 1, ('P', 'R', 'W'): 1, ('P', 'R', 'B'): 1, ('P', 'R', 'V'): 1, ('P', 'R', 'Y'): 1, ('P', 'B', 'R'): 1, ('P', 'V', 'R'): 1, ('P', 'Y', 'R'): 1, ('W', 'O', 'M'): 1, ('W', 'M', 'O'): 1, ('N', 'B', 'O'): 1, ('N', 'O', 'B'): 1, ('B', 'N', 'O'): 1, ('B', 'O', 'N'): 1, ('B', 'O', 'M'): 1, ('B', 'M', 'O'): 1, ('O', 'W', 'M'): 1, ('O', 'N', 'B'): 1, ('O', 'B', 'N'): 1, ('O', 'B', 'M'): 1, ('O', 'M', 'W'): 1, ('O', 'M', 'B'): 1, ('M', 'W', 'O'): 1, ('M', 'B', 'O'): 1, ('M', 'O', 'W'): 1, ('M', 'O', 'B'): 1, ('W', 'N', 'P'): 1, ('W', 'P', 'N'): 1, ('N', 'W', 'P'): 1, ('N', 'B', 'P'): 1, ('N', 'Y', 'P'): 1, ('N', 'P', 'W'): 1, ('N', 'P', 'B'): 1, ('N', 'P', 'Y'): 1, ('B', 'N', 'P'): 1, ('B', 'P', 'N'): 1, ('Y', 'N', 'P'): 1, ('Y', 'P', 'N'): 1, ('P', 'W', 'N'): 1, ('P', 'N', 'W'): 1, ('P', 'N', 'B'): 1, ('P', 'N', 'Y'): 1, ('P', 'B', 'N'): 1, ('P', 'Y', 'N'): 1})\n"
          ]
        }
      ]
    },
    {
      "cell_type": "code",
      "source": [
        "count_to_dict = Counter(list(pairs))\n",
        "count_to_dict\n",
        "\n",
        "for x in count_to_dict:\n",
        "    key = x\n",
        "    value = count_to_dict[key]\n",
        "    print(key)\n",
        "    print(value)\n",
        "\n"
      ],
      "metadata": {
        "colab": {
          "base_uri": "https://localhost:8080/"
        },
        "id": "FWKZnkzo9KdP",
        "outputId": "d7dcd339-ba35-47d3-d4a9-335db03bc06b"
      },
      "execution_count": null,
      "outputs": [
        {
          "output_type": "stream",
          "name": "stdout",
          "text": [
            "('f', 'o')\n",
            "10\n",
            "('o', 'u')\n",
            "7\n",
            "('u', 'r')\n",
            "5\n",
            "('r', 's')\n",
            "5\n",
            "('s', 'c')\n",
            "2\n",
            "('c', 'o')\n",
            "7\n",
            "('o', 'r')\n",
            "17\n",
            "('r', 'e')\n",
            "26\n",
            "('e', 'a')\n",
            "16\n",
            "('a', 'n')\n",
            "15\n",
            "('n', 'd')\n",
            "9\n",
            "('d', 's')\n",
            "4\n",
            "('s', 'e')\n",
            "10\n",
            "('e', 'v')\n",
            "4\n",
            "('v', 'e')\n",
            "17\n",
            "('e', 'n')\n",
            "10\n",
            "('n', 'y')\n",
            "2\n",
            "('y', 'e')\n",
            "1\n",
            "('a', 'r')\n",
            "10\n",
            "('s', 'a')\n",
            "4\n",
            "('a', 'g')\n",
            "4\n",
            "('g', 'o')\n",
            "3\n",
            "('o', 'o')\n",
            "2\n",
            "('r', 'f')\n",
            "4\n",
            "('f', 'a')\n",
            "3\n",
            "('a', 't')\n",
            "36\n",
            "('t', 'h')\n",
            "47\n",
            "('h', 'e')\n",
            "32\n",
            "('e', 'r')\n",
            "22\n",
            "('s', 'b')\n",
            "2\n",
            "('b', 'r')\n",
            "2\n",
            "('r', 'o')\n",
            "6\n",
            "('u', 'g')\n",
            "3\n",
            "('g', 'h')\n",
            "4\n",
            "('h', 't')\n",
            "5\n",
            "('t', 'f')\n",
            "5\n",
            "('r', 't')\n",
            "12\n",
            "('h', 'o')\n",
            "8\n",
            "('o', 'n')\n",
            "20\n",
            "('n', 't')\n",
            "8\n",
            "('h', 'i')\n",
            "7\n",
            "('i', 's')\n",
            "9\n",
            "('t', 'i')\n",
            "18\n",
            "('i', 'n')\n",
            "16\n",
            "('n', 'e')\n",
            "4\n",
            "('t', 'a')\n",
            "4\n",
            "('e', 'w')\n",
            "8\n",
            "('w', 'n')\n",
            "1\n",
            "('n', 'a')\n",
            "10\n",
            "('i', 'o')\n",
            "9\n",
            "('n', 'c')\n",
            "5\n",
            "('c', 'e')\n",
            "4\n",
            "('e', 'i')\n",
            "6\n",
            "('i', 'v')\n",
            "7\n",
            "('e', 'd')\n",
            "26\n",
            "('d', 'i')\n",
            "13\n",
            "('n', 'l')\n",
            "3\n",
            "('l', 'i')\n",
            "6\n",
            "('i', 'b')\n",
            "1\n",
            "('b', 'e')\n",
            "5\n",
            "('t', 'y')\n",
            "1\n",
            "('y', 'a')\n",
            "2\n",
            "('d', 'd')\n",
            "6\n",
            "('d', 'e')\n",
            "14\n",
            "('i', 'c')\n",
            "8\n",
            "('c', 'a')\n",
            "12\n",
            "('t', 'e')\n",
            "11\n",
            "('d', 't')\n",
            "4\n",
            "('t', 'o')\n",
            "11\n",
            "('o', 't')\n",
            "13\n",
            "('e', 'p')\n",
            "4\n",
            "('p', 'r')\n",
            "2\n",
            "('o', 'p')\n",
            "5\n",
            "('p', 'o')\n",
            "4\n",
            "('o', 's')\n",
            "3\n",
            "('s', 'i')\n",
            "1\n",
            "('i', 't')\n",
            "8\n",
            "('h', 'a')\n",
            "24\n",
            "('a', 'l')\n",
            "9\n",
            "('l', 'l')\n",
            "8\n",
            "('l', 'm')\n",
            "2\n",
            "('m', 'e')\n",
            "7\n",
            "('e', 'c')\n",
            "8\n",
            "('c', 'r')\n",
            "4\n",
            "('e', 'q')\n",
            "1\n",
            "('q', 'u')\n",
            "1\n",
            "('u', 'a')\n",
            "1\n",
            "('l', 'n')\n",
            "3\n",
            "('n', 'o')\n",
            "12\n",
            "('o', 'w')\n",
            "3\n",
            "('w', 'w')\n",
            "1\n",
            "('w', 'e')\n",
            "11\n",
            "('e', 'e')\n",
            "3\n",
            "('n', 'g')\n",
            "9\n",
            "('g', 'a')\n",
            "5\n",
            "('g', 'e')\n",
            "5\n",
            "('g', 'r')\n",
            "6\n",
            "('t', 'c')\n",
            "4\n",
            "('c', 'i')\n",
            "1\n",
            "('v', 'i')\n",
            "3\n",
            "('i', 'l')\n",
            "2\n",
            "('l', 'w')\n",
            "1\n",
            "('w', 'a')\n",
            "2\n",
            "('e', 's')\n",
            "9\n",
            "('s', 't')\n",
            "8\n",
            "('g', 'w')\n",
            "1\n",
            "('w', 'h')\n",
            "8\n",
            "('e', 't')\n",
            "12\n",
            "('t', 'n')\n",
            "2\n",
            "('r', 'a')\n",
            "8\n",
            "('y', 'n')\n",
            "1\n",
            "('n', 's')\n",
            "4\n",
            "('s', 'o')\n",
            "4\n",
            "('o', 'c')\n",
            "1\n",
            "('d', 'a')\n",
            "2\n",
            "('o', 'd')\n",
            "3\n",
            "('d', 'c')\n",
            "1\n",
            "('l', 'o')\n",
            "3\n",
            "('d', 'u')\n",
            "1\n",
            "('e', 'm')\n",
            "5\n",
            "('t', 'b')\n",
            "1\n",
            "('b', 'a')\n",
            "1\n",
            "('t', 't')\n",
            "9\n",
            "('t', 'l')\n",
            "3\n",
            "('l', 'e')\n",
            "6\n",
            "('e', 'f')\n",
            "5\n",
            "('f', 'i')\n",
            "5\n",
            "('i', 'e')\n",
            "3\n",
            "('e', 'l')\n",
            "4\n",
            "('l', 'd')\n",
            "4\n",
            "('d', 'o')\n",
            "4\n",
            "('o', 'f')\n",
            "6\n",
            "('f', 't')\n",
            "3\n",
            "('t', 'w')\n",
            "5\n",
            "('r', 'w')\n",
            "3\n",
            "('e', 'h')\n",
            "7\n",
            "('a', 'v')\n",
            "8\n",
            "('o', 'm')\n",
            "4\n",
            "('a', 'p')\n",
            "1\n",
            "('a', 's')\n",
            "5\n",
            "('a', 'f')\n",
            "1\n",
            "('l', 'r')\n",
            "1\n",
            "('g', 'p')\n",
            "1\n",
            "('p', 'l')\n",
            "4\n",
            "('l', 'a')\n",
            "3\n",
            "('a', 'c')\n",
            "2\n",
            "('o', 'h')\n",
            "1\n",
            "('e', 'g')\n",
            "2\n",
            "('i', 'r')\n",
            "2\n",
            "('r', 'l')\n",
            "3\n",
            "('n', 'm')\n",
            "2\n",
            "('m', 'i')\n",
            "1\n",
            "('i', 'g')\n",
            "2\n",
            "('l', 't')\n",
            "1\n",
            "('o', 'g')\n",
            "1\n",
            "('d', 'p')\n",
            "1\n",
            "('p', 'e')\n",
            "5\n",
            "('s', 'h')\n",
            "6\n",
            "('u', 'l')\n",
            "2\n",
            "('b', 'u')\n",
            "2\n",
            "('u', 't')\n",
            "2\n",
            "('r', 'g')\n",
            "3\n",
            "('n', 'n')\n",
            "4\n",
            "('t', 'd')\n",
            "1\n",
            "('w', 't')\n",
            "1\n",
            "('s', 'g')\n",
            "1\n",
            "('u', 'n')\n",
            "3\n",
            "('e', 'b')\n",
            "3\n",
            "('a', 'd')\n",
            "5\n",
            "('d', 'w')\n",
            "4\n",
            "('t', 'r')\n",
            "2\n",
            "('r', 'u')\n",
            "3\n",
            "('g', 'g')\n",
            "1\n",
            "('g', 'l')\n",
            "1\n",
            "('d', 'h')\n",
            "3\n",
            "('a', 'b')\n",
            "1\n",
            "('b', 'o')\n",
            "1\n",
            "('o', 'v')\n",
            "2\n",
            "('e', 'o')\n",
            "5\n",
            "('r', 'p')\n",
            "2\n",
            "('o', 'a')\n",
            "1\n",
            "('r', 'd')\n",
            "1\n",
            "('c', 't')\n",
            "1\n",
            "('w', 'o')\n",
            "2\n",
            "('w', 'i')\n",
            "1\n",
            "('m', 'b')\n",
            "1\n",
            "('a', 'y')\n",
            "1\n",
            "('y', 'h')\n",
            "1\n",
            "('e', 'y')\n",
            "3\n",
            "('y', 'd')\n",
            "1\n",
            "('i', 'd')\n",
            "1\n",
            "('s', 'f')\n",
            "2\n",
            "('u', 's')\n",
            "5\n",
            "('o', 'b')\n",
            "3\n",
            "('e', 'u')\n",
            "2\n",
            "('n', 'f')\n",
            "1\n",
            "('n', 'i')\n",
            "2\n",
            "('r', 'k')\n",
            "1\n",
            "('k', 'w')\n",
            "1\n",
            "('c', 'h')\n",
            "2\n",
            "('y', 'w')\n",
            "1\n",
            "('h', 'u')\n",
            "1\n",
            "('b', 'l')\n",
            "1\n",
            "('l', 'y')\n",
            "2\n",
            "('d', 'v')\n",
            "1\n",
            "('v', 'a')\n",
            "2\n",
            "('s', 'r')\n",
            "1\n",
            "('s', 'k')\n",
            "1\n",
            "('k', 'r')\n",
            "1\n",
            "('m', 'a')\n",
            "2\n",
            "('a', 'i')\n",
            "2\n",
            "('g', 'b')\n",
            "1\n",
            "('f', 'r')\n",
            "3\n",
            "('m', 't')\n",
            "2\n",
            "('a', 'k')\n",
            "1\n",
            "('k', 'e')\n",
            "1\n",
            "('v', 'o')\n",
            "2\n",
            "('a', 'u')\n",
            "1\n",
            "('y', 'g')\n",
            "1\n",
            "('f', 'u')\n",
            "1\n",
            "('s', 'u')\n",
            "1\n",
            "('f', 'd')\n",
            "1\n",
            "('h', 'l')\n",
            "1\n",
            "('y', 'r')\n",
            "1\n",
            "('o', 'l')\n",
            "1\n",
            "('l', 'v')\n",
            "1\n",
            "('n', 'v')\n",
            "1\n",
            "('s', 'n')\n",
            "1\n",
            "('n', 'u')\n",
            "1\n",
            "('l', 'h')\n",
            "1\n",
            "('w', 'b')\n",
            "1\n",
            "('b', 'i')\n",
            "1\n",
            "('f', 'f')\n",
            "1\n",
            "('t', 'g')\n",
            "1\n",
            "('r', 'n')\n",
            "1\n",
            "('b', 'y')\n",
            "1\n",
            "('y', 't')\n",
            "1\n",
            "('t', 'p')\n",
            "1\n",
            "('r', 'i')\n",
            "1\n",
            "('h', 'f')\n",
            "1\n"
          ]
        }
      ]
    },
    {
      "cell_type": "markdown",
      "source": [
        "## Make a dictionary with key=”color” and values = “what other colors it is ordered with”."
      ],
      "metadata": {
        "id": "f-YpSK1Tsbgm"
      }
    },
    {
      "cell_type": "markdown",
      "source": [
        "check out enumerate() as a function. will clean up some of your code a little more so you dont have to keep making y=0 and y+=1 inside your loop. ex-> for idx, i in enumerate(flowers_list):"
      ],
      "metadata": {
        "id": "x_HdFiv7Buv0"
      }
    },
    {
      "cell_type": "code",
      "source": [],
      "metadata": {
        "id": "iwxOs2PPBuc3"
      },
      "execution_count": null,
      "outputs": []
    },
    {
      "cell_type": "code",
      "source": [
        "unique_flower_orders = list(set(flower_orders))\n",
        "\n",
        "# Set dictionary keys\n",
        "color_codes = ('W', 'R', 'B', 'V', 'Y', 'N', 'G', 'O', 'M', 'P')\n",
        "\n",
        "# Create an empty dictionary\n",
        "color_dict = {color: set() for color in color_codes}\n",
        "\n",
        "# Iterate through the unique flower orders\n",
        "for order in unique_flower_orders:\n",
        "    colors = order.split('/')\n",
        "\n",
        "    # Check if any of the key values are matching\n",
        "    for color in colors:\n",
        "      y=0\n",
        "      for x in colors:\n",
        "        if color==colors[y]:\n",
        "          colors.remove(colors[y])\n",
        "          y+=1\n",
        "      color_dict[color].update(set(colors))\n",
        "\n",
        "# Convert sets to lists for values in the dictionary\n",
        "color_dict = { color: list(flowers)\n",
        "               for color, flowers in color_dict.items()}\n",
        "\n",
        "for key, value in color_dict.items():\n",
        "  print (\"color: \" + key,'combinations',value)\n"
      ],
      "metadata": {
        "colab": {
          "base_uri": "https://localhost:8080/"
        },
        "id": "lU-xtMBAKMmM",
        "outputId": "7b9f8cab-ad33-4423-9c60-e27c53dd7171"
      },
      "execution_count": null,
      "outputs": [
        {
          "output_type": "stream",
          "name": "stdout",
          "text": [
            "color: W combinations ['B', 'V', 'R', 'G', 'P', 'Y', 'M', 'N', 'O']\n",
            "color: R combinations ['B', 'V', 'R', 'G', 'Y', 'M', 'N', 'O']\n",
            "color: B combinations ['B', 'V', 'R', 'G', 'P', 'Y', 'M', 'N', 'O']\n",
            "color: V combinations ['B', 'V', 'R', 'G', 'P', 'M', 'Y', 'N', 'O']\n",
            "color: Y combinations ['B', 'R', 'V', 'G', 'P', 'Y', 'M', 'N', 'O']\n",
            "color: N combinations ['B', 'V', 'R', 'M', 'Y', 'O']\n",
            "color: G combinations ['B', 'V', 'R', 'G', 'M', 'Y', 'N']\n",
            "color: O combinations ['B', 'V', 'R', 'Y', 'M', 'N', 'O']\n",
            "color: M combinations ['B', 'V', 'R', 'G', 'M', 'Y', 'N', 'O']\n",
            "color: P combinations ['B', 'V', 'R', 'P', 'Y', 'N']\n"
          ]
        }
      ]
    },
    {
      "cell_type": "markdown",
      "source": [
        "## Make a graph showing the probability of having an edge between two colors based on how often they co-occur.  (a numpy square matrix)\n"
      ],
      "metadata": {
        "id": "QUBA7MPPwo8B"
      }
    },
    {
      "cell_type": "code",
      "source": [
        "matrix_size = len(color_codes)\n",
        "color_matrix = [[0 for _ in range(matrix_size)] for _ in range(matrix_size)]\n",
        "\n",
        "# Create a dictionary\n",
        "color_index = {color: index for index, color in enumerate(color_codes)}\n",
        "\n",
        "# Iterate through the flower orders and update the matrix\n",
        "for order in flower_orders:\n",
        "    colors = order.split('/')\n",
        "    pairs = list(permutations(colors, 2))\n",
        "\n",
        "    for pair in pairs:\n",
        "        color1, color2 = pair\n",
        "        index1, index2 = color_index[color1], color_index[color2]\n",
        "        color_matrix[index1][index2] += 1\n",
        "\n",
        "# Print the color matrix for each combination of colors\n",
        "for i in range(matrix_size):\n",
        "    for j in range(matrix_size):\n",
        "      if color_matrix[i][j]:\n",
        "        color_matrix[i][j] =color_matrix[i][j]\n",
        "        color_matrix = np.array(color_matrix)\n",
        "        print(f\"Combination ({color_codes[i]}, {color_codes[j]}): {color_matrix[i][j]}\")"
      ],
      "metadata": {
        "colab": {
          "base_uri": "https://localhost:8080/"
        },
        "id": "6HcQahfv35mK",
        "outputId": "da3210e9-563b-4cbc-989b-1abeefd86351"
      },
      "execution_count": null,
      "outputs": [
        {
          "output_type": "stream",
          "name": "stdout",
          "text": [
            "Combination (W, R): 107\n",
            "Combination (W, B): 71\n",
            "Combination (W, V): 55\n",
            "Combination (W, Y): 44\n",
            "Combination (W, N): 42\n",
            "Combination (W, G): 10\n",
            "Combination (W, O): 6\n",
            "Combination (W, M): 7\n",
            "Combination (W, P): 2\n",
            "Combination (R, W): 107\n",
            "Combination (R, B): 71\n",
            "Combination (R, V): 63\n",
            "Combination (R, Y): 66\n",
            "Combination (R, N): 47\n",
            "Combination (R, G): 7\n",
            "Combination (R, O): 5\n",
            "Combination (R, M): 6\n",
            "Combination (R, P): 1\n",
            "Combination (B, W): 71\n",
            "Combination (B, R): 71\n",
            "Combination (B, V): 32\n",
            "Combination (B, Y): 51\n",
            "Combination (B, N): 26\n",
            "Combination (B, G): 4\n",
            "Combination (B, O): 3\n",
            "Combination (B, M): 7\n",
            "Combination (B, P): 2\n",
            "Combination (V, W): 55\n",
            "Combination (V, R): 63\n",
            "Combination (V, B): 32\n",
            "Combination (V, V): 2\n",
            "Combination (V, Y): 50\n",
            "Combination (V, N): 34\n",
            "Combination (V, G): 3\n",
            "Combination (V, O): 7\n",
            "Combination (V, M): 7\n",
            "Combination (V, P): 3\n",
            "Combination (Y, W): 44\n",
            "Combination (Y, R): 66\n",
            "Combination (Y, B): 51\n",
            "Combination (Y, V): 50\n",
            "Combination (Y, N): 40\n",
            "Combination (Y, G): 5\n",
            "Combination (Y, O): 1\n",
            "Combination (Y, M): 6\n",
            "Combination (Y, P): 2\n",
            "Combination (N, W): 42\n",
            "Combination (N, R): 47\n",
            "Combination (N, B): 26\n",
            "Combination (N, V): 34\n",
            "Combination (N, Y): 40\n",
            "Combination (N, G): 6\n",
            "Combination (N, O): 3\n",
            "Combination (N, M): 8\n",
            "Combination (N, P): 1\n",
            "Combination (G, W): 10\n",
            "Combination (G, R): 7\n",
            "Combination (G, B): 4\n",
            "Combination (G, V): 3\n",
            "Combination (G, Y): 5\n",
            "Combination (G, N): 6\n",
            "Combination (G, M): 3\n",
            "Combination (O, W): 6\n",
            "Combination (O, R): 5\n",
            "Combination (O, B): 3\n",
            "Combination (O, V): 7\n",
            "Combination (O, Y): 1\n",
            "Combination (O, N): 3\n",
            "Combination (O, M): 2\n",
            "Combination (M, W): 7\n",
            "Combination (M, R): 6\n",
            "Combination (M, B): 7\n",
            "Combination (M, V): 7\n",
            "Combination (M, Y): 6\n",
            "Combination (M, N): 8\n",
            "Combination (M, G): 3\n",
            "Combination (M, O): 2\n",
            "Combination (P, W): 2\n",
            "Combination (P, R): 1\n",
            "Combination (P, B): 2\n",
            "Combination (P, V): 3\n",
            "Combination (P, Y): 2\n",
            "Combination (P, N): 1\n"
          ]
        }
      ]
    },
    {
      "cell_type": "code",
      "source": [
        "sum(sum(color_matrix))\n",
        "divide_by = 1834\n"
      ],
      "metadata": {
        "colab": {
          "base_uri": "https://localhost:8080/"
        },
        "id": "5IBTqpAznjsr",
        "outputId": "611088b9-ecda-4e2a-8a87-ef67cc8c9cce"
      },
      "execution_count": null,
      "outputs": [
        {
          "output_type": "execute_result",
          "data": {
            "text/plain": [
              "1834"
            ]
          },
          "metadata": {},
          "execution_count": 197
        }
      ]
    },
    {
      "cell_type": "code",
      "source": [
        "# Create labels for rows and columns\n",
        "row_labels = color_codes\n",
        "col_labels = color_codes\n",
        "# Create a heatmap\n",
        "plt.figure(figsize = (12,12))\n",
        "\n",
        "plt.imshow(color_matrix, cmap='hot', interpolation='nearest', origin='upper')\n",
        "\n",
        "# Add labels to nodes\n",
        "n = len(color_matrix)\n",
        "for i in range(n):\n",
        "    for j in range(n):\n",
        "        if color_matrix[i][j]:\n",
        "            plt.text(j, i, str(np.round(color_matrix[i][j]/divide_by, 3)), va='center', ha='center', color='black', fontsize=12)\n",
        "\n",
        "# Add row and column labels\n",
        "plt.xticks(range(n), col_labels)\n",
        "plt.yticks(range(n), row_labels)\n",
        "\n",
        "# Show the heatmap\n",
        "plt.title('Flower Order Color Combinations')\n",
        "\n",
        "plt.show()\n"
      ],
      "metadata": {
        "colab": {
          "base_uri": "https://localhost:8080/",
          "height": 1000
        },
        "id": "QWwHrMWW80TL",
        "outputId": "6e933903-0325-4a7e-ce41-b1f280d223ed"
      },
      "execution_count": null,
      "outputs": [
        {
          "output_type": "display_data",
          "data": {
            "text/plain": [
              "<Figure size 1200x1200 with 1 Axes>"
            ],
            "image/png": "[encoded data removed]"
          },
          "metadata": {}
        }
      ]
    },
    {
      "cell_type": "markdown",
      "source": [
        "## 8. Make 10 business questions related to the questions we asked above.\n",
        "\n",
        "1. What seasonal trends are there tied to the color combinations for flowers?\n",
        "2.  How can we plan for these seasonal trends, and will we have higher engagement if we create more relevant content using these patterns?\n",
        "3. Are there any customer groups that are especially prone to purchasing certain combinations (online, in store, age groups, location, etc.)?\n",
        "4. Is there variation on the trends if you look at revenue instead of counts?\n",
        "5. Are there any combinations of colors which are especially profitable?\n",
        "6. Do these probabilities reflect a distribution of the inventory available, or are there any combinations that are higher than we would expect to see based on inventory? (Run the same analysis on inventory then compare to the probability matrix—to get an idea of any underleveraged combinations).\n",
        "7. Looking at variance between inventory available and the probabilities—are there any seasonal trends that stand out.\n",
        "8. Looking at variance between inventory available and the probabilities—are there any customer segments that stand out.\n",
        "9. Can we create ongoing monitoring to pick up on any trend shifts?\n",
        "10. Are there specific themes associated with the higher probability combinations, and if we look at those themes, is there any opportunity to offer more color combinations within them? (Valentine’s day, mother’s day, etc.)\n"
      ],
      "metadata": {
        "id": "k7-WegGXxvhy"
      }
    },
    {
      "cell_type": "code",
      "source": [
        "dead_men_tell_tales = ['Four score and seven years ago our fathers brought forth on this',\n",
        "'continent a new nation, conceived in liberty and dedicated to the',\n",
        "'proposition that all men are created equal. Now we are engaged in',\n",
        "'a great civil war, testing whether that nation or any nation so',\n",
        "'conceived and so dedicated can long endure. We are met on a great',\n",
        "'battlefield of that war. We have come to dedicate a portion of',\n",
        "'that field as a final resting-place for those who here gave their',\n",
        "'lives that that nation might live. It is altogether fitting and',\n",
        "'proper that we should do this. But in a larger sense, we cannot',\n",
        "'dedicate, we cannot consecrate, we cannot hallow this ground.',\n",
        "'The brave men, living and dead who struggled here have consecrated',\n",
        "'it far above our poor power to add or detract. The world will',\n",
        "'little note nor long remember what we say here, but it can never',\n",
        "'forget what they did here. It is for us the living rather to be',\n",
        "'dedicated here to the unfinished work which they who fought here',\n",
        "'have thus far so nobly advanced. It is rather for us to be here',\n",
        "'dedicated to the great task remaining before us--that from these',\n",
        "'honored dead we take increased devotion to that cause for which',\n",
        "'they gave the last full measure of devotion--that we here highly',\n",
        "'resolve that these dead shall not have died in vain, that this',\n",
        "'nation under God shall have a new birth of freedom, and that',\n",
        "'government of the people, by the people, for the people shall',\n",
        "'not perish from the earth.']\n",
        "dead_men_tell_tales"
      ],
      "metadata": {
        "colab": {
          "base_uri": "https://localhost:8080/"
        },
        "id": "T_T8g9yNCpyx",
        "outputId": "7b9843cf-a1af-4d8b-8ccd-49684072d8af"
      },
      "execution_count": null,
      "outputs": [
        {
          "output_type": "execute_result",
          "data": {
            "text/plain": [
              "['Four score and seven years ago our fathers brought forth on this',\n",
              " 'continent a new nation, conceived in liberty and dedicated to the',\n",
              " 'proposition that all men are created equal. Now we are engaged in',\n",
              " 'a great civil war, testing whether that nation or any nation so',\n",
              " 'conceived and so dedicated can long endure. We are met on a great',\n",
              " 'battlefield of that war. We have come to dedicate a portion of',\n",
              " 'that field as a final resting-place for those who here gave their',\n",
              " 'lives that that nation might live. It is altogether fitting and',\n",
              " 'proper that we should do this. But in a larger sense, we cannot',\n",
              " 'dedicate, we cannot consecrate, we cannot hallow this ground.',\n",
              " 'The brave men, living and dead who struggled here have consecrated',\n",
              " 'it far above our poor power to add or detract. The world will',\n",
              " 'little note nor long remember what we say here, but it can never',\n",
              " 'forget what they did here. It is for us the living rather to be',\n",
              " 'dedicated here to the unfinished work which they who fought here',\n",
              " 'have thus far so nobly advanced. It is rather for us to be here',\n",
              " 'dedicated to the great task remaining before us--that from these',\n",
              " 'honored dead we take increased devotion to that cause for which',\n",
              " 'they gave the last full measure of devotion--that we here highly',\n",
              " 'resolve that these dead shall not have died in vain, that this',\n",
              " 'nation under God shall have a new birth of freedom, and that',\n",
              " 'government of the people, by the people, for the people shall',\n",
              " 'not perish from the earth.']"
            ]
          },
          "metadata": {},
          "execution_count": 156
        }
      ]
    },
    {
      "cell_type": "markdown",
      "source": [
        "1. Join everything\n",
        "2. Remove spaces\n"
      ],
      "metadata": {
        "id": "jkoqtexfCyM6"
      }
    },
    {
      "cell_type": "code",
      "source": [
        "x = []\n",
        "for x in dead_men_tell_tales:\n",
        "  joined_words = \"\".join(dead_men_tell_tales)\n",
        "joined_words = joined_words.replace(\" \",\"\")\n",
        "joined_words = joined_words.replace(\".\",\"\")\n",
        "joined_words = joined_words.replace(\",\",\"\")\n",
        "joined_words = joined_words.replace(\"-\",\"\")\n",
        "joined_words = joined_words.casefold()\n",
        "joined_words"
      ],
      "metadata": {
        "colab": {
          "base_uri": "https://localhost:8080/",
          "height": 144
        },
        "id": "_hH-aNFgMyHv",
        "outputId": "8b18832b-84f2-414d-99ff-895a47d65c03"
      },
      "execution_count": null,
      "outputs": [
        {
          "output_type": "execute_result",
          "data": {
            "text/plain": [
              "'fourscoreandsevenyearsagoourfathersbroughtforthonthiscontinentanewnationconceivedinlibertyanddedicatedtothepropositionthatallmenarecreatedequalnowweareengagedinagreatcivilwartestingwhetherthatnationoranynationsoconceivedandsodedicatedcanlongendurewearemetonagreatbattlefieldofthatwarwehavecometodedicateaportionofthatfieldasafinalrestingplaceforthosewhoheregavetheirlivesthatthatnationmightliveitisaltogetherfittingandproperthatweshoulddothisbutinalargersensewecannotdedicatewecannotconsecratewecannothallowthisgroundthebravemenlivinganddeadwhostruggledherehaveconsecrateditfaraboveourpoorpowertoaddordetracttheworldwilllittlenotenorlongrememberwhatwesayherebutitcanneverforgetwhattheydidhereitisforusthelivingrathertobededicatedheretotheunfinishedworkwhichtheywhofoughtherehavethusfarsonoblyadvanceditisratherforustobeherededicatedtothegreattaskremainingbeforeusthatfromthesehonoreddeadwetakeincreaseddevotiontothatcauseforwhichtheygavethelastfullmeasureofdevotionthatweherehighlyresolvethatthesedeadshallnothavediedinvainthatthisnationundergodshallhaveanewbirthoffreedomandthatgovernmentofthepeoplebythepeopleforthepeopleshallnotperishfromtheearth'"
            ],
            "application/vnd.google.colaboratory.intrinsic+json": {
              "type": "string"
            }
          },
          "metadata": {},
          "execution_count": 157
        }
      ]
    },
    {
      "cell_type": "markdown",
      "source": [
        "3. Occurrence probabilities for letters"
      ],
      "metadata": {
        "id": "cwSORQ8RwWy5"
      }
    },
    {
      "cell_type": "markdown",
      "source": [
        "4. Tell me transition probabilities for every pair of letters\n",
        "5. Make a 26x26 graph of 4.  in numpy\n",
        "6. plot graph of transition probabilities from letter to letter"
      ],
      "metadata": {
        "id": "9v_IxvJdweZw"
      }
    },
    {
      "cell_type": "code",
      "source": [
        "#create letter array\n",
        "chunks, chunk_size = len(joined_words), 1\n",
        "[joined_words[i:i+chunk_size]\n",
        " for i in range(0, chunks, chunk_size)]\n",
        "\n",
        "pairs = list(pairwise(joined_words))\n",
        "print(Counter(pairs))"
      ],
      "metadata": {
        "colab": {
          "base_uri": "https://localhost:8080/"
        },
        "id": "LPQ1_frW_L_9",
        "outputId": "f29f6e08-c5c9-4099-d6f3-e3bd41ec31e5"
      },
      "execution_count": null,
      "outputs": [
        {
          "output_type": "stream",
          "name": "stdout",
          "text": [
            "Counter({('t', 'h'): 47, ('a', 't'): 36, ('h', 'e'): 32, ('r', 'e'): 26, ('e', 'd'): 26, ('h', 'a'): 24, ('e', 'r'): 22, ('o', 'n'): 20, ('t', 'i'): 18, ('o', 'r'): 17, ('v', 'e'): 17, ('e', 'a'): 16, ('i', 'n'): 16, ('a', 'n'): 15, ('d', 'e'): 14, ('d', 'i'): 13, ('o', 't'): 13, ('r', 't'): 12, ('c', 'a'): 12, ('n', 'o'): 12, ('e', 't'): 12, ('t', 'e'): 11, ('t', 'o'): 11, ('w', 'e'): 11, ('f', 'o'): 10, ('s', 'e'): 10, ('e', 'n'): 10, ('a', 'r'): 10, ('n', 'a'): 10, ('n', 'd'): 9, ('i', 's'): 9, ('i', 'o'): 9, ('a', 'l'): 9, ('n', 'g'): 9, ('e', 's'): 9, ('t', 't'): 9, ('h', 'o'): 8, ('n', 't'): 8, ('e', 'w'): 8, ('i', 'c'): 8, ('i', 't'): 8, ('l', 'l'): 8, ('e', 'c'): 8, ('s', 't'): 8, ('w', 'h'): 8, ('r', 'a'): 8, ('a', 'v'): 8, ('o', 'u'): 7, ('c', 'o'): 7, ('h', 'i'): 7, ('i', 'v'): 7, ('m', 'e'): 7, ('e', 'h'): 7, ('r', 'o'): 6, ('e', 'i'): 6, ('l', 'i'): 6, ('d', 'd'): 6, ('g', 'r'): 6, ('l', 'e'): 6, ('o', 'f'): 6, ('s', 'h'): 6, ('u', 'r'): 5, ('r', 's'): 5, ('h', 't'): 5, ('t', 'f'): 5, ('n', 'c'): 5, ('b', 'e'): 5, ('o', 'p'): 5, ('g', 'a'): 5, ('g', 'e'): 5, ('e', 'm'): 5, ('e', 'f'): 5, ('f', 'i'): 5, ('t', 'w'): 5, ('a', 's'): 5, ('p', 'e'): 5, ('a', 'd'): 5, ('e', 'o'): 5, ('u', 's'): 5, ('d', 's'): 4, ('e', 'v'): 4, ('s', 'a'): 4, ('a', 'g'): 4, ('r', 'f'): 4, ('g', 'h'): 4, ('n', 'e'): 4, ('t', 'a'): 4, ('c', 'e'): 4, ('d', 't'): 4, ('e', 'p'): 4, ('p', 'o'): 4, ('c', 'r'): 4, ('t', 'c'): 4, ('n', 's'): 4, ('s', 'o'): 4, ('e', 'l'): 4, ('l', 'd'): 4, ('d', 'o'): 4, ('o', 'm'): 4, ('p', 'l'): 4, ('n', 'n'): 4, ('d', 'w'): 4, ('g', 'o'): 3, ('f', 'a'): 3, ('u', 'g'): 3, ('n', 'l'): 3, ('o', 's'): 3, ('l', 'n'): 3, ('o', 'w'): 3, ('e', 'e'): 3, ('v', 'i'): 3, ('o', 'd'): 3, ('l', 'o'): 3, ('t', 'l'): 3, ('i', 'e'): 3, ('f', 't'): 3, ('r', 'w'): 3, ('l', 'a'): 3, ('r', 'l'): 3, ('r', 'g'): 3, ('u', 'n'): 3, ('e', 'b'): 3, ('r', 'u'): 3, ('d', 'h'): 3, ('e', 'y'): 3, ('o', 'b'): 3, ('f', 'r'): 3, ('s', 'c'): 2, ('n', 'y'): 2, ('o', 'o'): 2, ('s', 'b'): 2, ('b', 'r'): 2, ('y', 'a'): 2, ('p', 'r'): 2, ('l', 'm'): 2, ('i', 'l'): 2, ('w', 'a'): 2, ('t', 'n'): 2, ('d', 'a'): 2, ('a', 'c'): 2, ('e', 'g'): 2, ('i', 'r'): 2, ('n', 'm'): 2, ('i', 'g'): 2, ('u', 'l'): 2, ('b', 'u'): 2, ('u', 't'): 2, ('t', 'r'): 2, ('o', 'v'): 2, ('r', 'p'): 2, ('w', 'o'): 2, ('s', 'f'): 2, ('e', 'u'): 2, ('n', 'i'): 2, ('c', 'h'): 2, ('l', 'y'): 2, ('v', 'a'): 2, ('m', 'a'): 2, ('a', 'i'): 2, ('m', 't'): 2, ('v', 'o'): 2, ('y', 'e'): 1, ('w', 'n'): 1, ('i', 'b'): 1, ('t', 'y'): 1, ('s', 'i'): 1, ('e', 'q'): 1, ('q', 'u'): 1, ('u', 'a'): 1, ('w', 'w'): 1, ('c', 'i'): 1, ('l', 'w'): 1, ('g', 'w'): 1, ('y', 'n'): 1, ('o', 'c'): 1, ('d', 'c'): 1, ('d', 'u'): 1, ('t', 'b'): 1, ('b', 'a'): 1, ('a', 'p'): 1, ('a', 'f'): 1, ('l', 'r'): 1, ('g', 'p'): 1, ('o', 'h'): 1, ('m', 'i'): 1, ('l', 't'): 1, ('o', 'g'): 1, ('d', 'p'): 1, ('t', 'd'): 1, ('w', 't'): 1, ('s', 'g'): 1, ('g', 'g'): 1, ('g', 'l'): 1, ('a', 'b'): 1, ('b', 'o'): 1, ('o', 'a'): 1, ('r', 'd'): 1, ('c', 't'): 1, ('w', 'i'): 1, ('m', 'b'): 1, ('a', 'y'): 1, ('y', 'h'): 1, ('y', 'd'): 1, ('i', 'd'): 1, ('n', 'f'): 1, ('r', 'k'): 1, ('k', 'w'): 1, ('y', 'w'): 1, ('h', 'u'): 1, ('b', 'l'): 1, ('d', 'v'): 1, ('s', 'r'): 1, ('s', 'k'): 1, ('k', 'r'): 1, ('g', 'b'): 1, ('a', 'k'): 1, ('k', 'e'): 1, ('a', 'u'): 1, ('y', 'g'): 1, ('f', 'u'): 1, ('s', 'u'): 1, ('f', 'd'): 1, ('h', 'l'): 1, ('y', 'r'): 1, ('o', 'l'): 1, ('l', 'v'): 1, ('n', 'v'): 1, ('s', 'n'): 1, ('n', 'u'): 1, ('l', 'h'): 1, ('w', 'b'): 1, ('b', 'i'): 1, ('f', 'f'): 1, ('t', 'g'): 1, ('r', 'n'): 1, ('b', 'y'): 1, ('y', 't'): 1, ('t', 'p'): 1, ('r', 'i'): 1, ('h', 'f'): 1})\n"
          ]
        }
      ]
    },
    {
      "cell_type": "code",
      "source": [
        "import numpy as np\n",
        "\n",
        "#unique letters\n",
        "unique_letters = list(set(joined_words))\n",
        "letter_codes = (unique_letters)\n",
        "letter_dict = {letter: set() for letter in unique_letters}\n",
        "\n",
        "\n",
        "# Initialize a square matrix\n",
        "matrix_size = len(unique_letters)\n",
        "letter_matrix = [[0 for _ in range(matrix_size)] for _ in range(matrix_size)]\n",
        "\n",
        "#pair counts\n",
        "pair_count = Counter(pairs)\n",
        "letter_total = sum(pair_count.values())\n",
        "divide_by = letter_total+letter_total\n",
        "\n",
        "\n",
        "# Create a dictionary to map color codes to matrix indices\n",
        "unique_letters_index = {letter: index for index, letter in enumerate(unique_letters)}\n",
        "\n",
        "# Iterate through the flower orders and update the matrix\n",
        "for letter in unique_letters:\n",
        "    pairs = list(pairwise(joined_words))\n",
        "\n",
        "    for pair in pairs:\n",
        "        letter1, letter2 = pair\n",
        "        index1, index2 = unique_letters_index[letter1], unique_letters_index[letter2]\n",
        "        letter_matrix[index1][index2] += 1\n",
        "\n",
        "# Print the color matrix for each combination of colors\n",
        "for i in range(matrix_size):\n",
        "    for j in range(matrix_size):\n",
        "      if letter_matrix[i][j]:\n",
        "        letter_matrix[i][j] =letter_matrix[i][j]\n",
        "        letter_matrix = np.array(letter_matrix)\n",
        "        print(f\"Combination ({letter_codes[i]}, {letter_codes[j]}): {letter_matrix[i][j]}\")"
      ],
      "metadata": {
        "colab": {
          "base_uri": "https://localhost:8080/"
        },
        "id": "dPgRs7Xferx_",
        "outputId": "24ccede5-7c14-4ebd-ccc4-8f2514dac84e"
      },
      "execution_count": null,
      "outputs": [
        {
          "output_type": "stream",
          "name": "stdout",
          "text": [
            "Combination (p, l): 92\n",
            "Combination (p, r): 46\n",
            "Combination (p, o): 92\n",
            "Combination (p, e): 115\n",
            "Combination (q, u): 23\n",
            "Combination (c, a): 276\n",
            "Combination (c, r): 92\n",
            "Combination (c, t): 23\n",
            "Combination (c, h): 46\n",
            "Combination (c, o): 161\n",
            "Combination (c, e): 92\n",
            "Combination (c, i): 23\n",
            "Combination (b, a): 23\n",
            "Combination (b, u): 46\n",
            "Combination (b, l): 23\n",
            "Combination (b, r): 46\n",
            "Combination (b, o): 23\n",
            "Combination (b, y): 23\n",
            "Combination (b, e): 115\n",
            "Combination (b, i): 23\n",
            "Combination (d, p): 23\n",
            "Combination (d, c): 23\n",
            "Combination (d, d): 138\n",
            "Combination (d, a): 46\n",
            "Combination (d, v): 23\n",
            "Combination (d, u): 23\n",
            "Combination (d, w): 92\n",
            "Combination (d, s): 92\n",
            "Combination (d, t): 92\n",
            "Combination (d, h): 69\n",
            "Combination (d, o): 92\n",
            "Combination (d, e): 322\n",
            "Combination (d, i): 299\n",
            "Combination (g, p): 23\n",
            "Combination (g, b): 23\n",
            "Combination (g, g): 23\n",
            "Combination (g, a): 115\n",
            "Combination (g, l): 23\n",
            "Combination (g, w): 23\n",
            "Combination (g, r): 138\n",
            "Combination (g, h): 92\n",
            "Combination (g, o): 69\n",
            "Combination (g, e): 115\n",
            "Combination (a, p): 23\n",
            "Combination (a, c): 46\n",
            "Combination (a, b): 23\n",
            "Combination (a, d): 115\n",
            "Combination (a, g): 92\n",
            "Combination (a, f): 23\n",
            "Combination (a, n): 345\n",
            "Combination (a, v): 184\n",
            "Combination (a, u): 23\n",
            "Combination (a, l): 207\n",
            "Combination (a, r): 230\n",
            "Combination (a, s): 115\n",
            "Combination (a, k): 23\n",
            "Combination (a, t): 828\n",
            "Combination (a, y): 23\n",
            "Combination (a, i): 46\n",
            "Combination (f, d): 23\n",
            "Combination (f, a): 69\n",
            "Combination (f, f): 23\n",
            "Combination (f, u): 23\n",
            "Combination (f, r): 69\n",
            "Combination (f, t): 69\n",
            "Combination (f, o): 230\n",
            "Combination (f, i): 115\n",
            "Combination (n, c): 115\n",
            "Combination (n, d): 207\n",
            "Combination (n, g): 207\n",
            "Combination (n, a): 230\n",
            "Combination (n, f): 23\n",
            "Combination (n, n): 92\n",
            "Combination (n, v): 23\n",
            "Combination (n, u): 23\n",
            "Combination (n, l): 69\n",
            "Combination (n, s): 92\n",
            "Combination (n, t): 184\n",
            "Combination (n, m): 46\n",
            "Combination (n, o): 276\n",
            "Combination (n, y): 46\n",
            "Combination (n, e): 92\n",
            "Combination (n, i): 46\n",
            "Combination (v, a): 46\n",
            "Combination (v, o): 46\n",
            "Combination (v, e): 391\n",
            "Combination (v, i): 69\n",
            "Combination (u, g): 69\n",
            "Combination (u, a): 23\n",
            "Combination (u, n): 69\n",
            "Combination (u, l): 46\n",
            "Combination (u, r): 115\n",
            "Combination (u, s): 115\n",
            "Combination (u, t): 46\n",
            "Combination (l, d): 92\n",
            "Combination (l, a): 69\n",
            "Combination (l, n): 69\n",
            "Combination (l, v): 23\n",
            "Combination (l, l): 184\n",
            "Combination (l, w): 23\n",
            "Combination (l, r): 23\n",
            "Combination (l, t): 23\n",
            "Combination (l, m): 46\n",
            "Combination (l, h): 23\n",
            "Combination (l, o): 69\n",
            "Combination (l, y): 46\n",
            "Combination (l, e): 138\n",
            "Combination (l, i): 138\n",
            "Combination (w, b): 23\n",
            "Combination (w, a): 46\n",
            "Combination (w, n): 23\n",
            "Combination (w, w): 23\n",
            "Combination (w, t): 23\n",
            "Combination (w, h): 184\n",
            "Combination (w, o): 46\n",
            "Combination (w, e): 253\n",
            "Combination (w, i): 23\n",
            "Combination (r, p): 46\n",
            "Combination (r, d): 23\n",
            "Combination (r, g): 69\n",
            "Combination (r, a): 184\n",
            "Combination (r, f): 92\n",
            "Combination (r, n): 23\n",
            "Combination (r, u): 69\n",
            "Combination (r, l): 69\n",
            "Combination (r, w): 69\n",
            "Combination (r, s): 115\n",
            "Combination (r, k): 23\n",
            "Combination (r, t): 276\n",
            "Combination (r, o): 138\n",
            "Combination (r, e): 598\n",
            "Combination (r, i): 23\n",
            "Combination (s, c): 46\n",
            "Combination (s, b): 46\n",
            "Combination (s, g): 23\n",
            "Combination (s, a): 92\n",
            "Combination (s, f): 46\n",
            "Combination (s, n): 23\n",
            "Combination (s, u): 23\n",
            "Combination (s, r): 23\n",
            "Combination (s, k): 23\n",
            "Combination (s, t): 184\n",
            "Combination (s, h): 138\n",
            "Combination (s, o): 92\n",
            "Combination (s, e): 230\n",
            "Combination (s, i): 23\n",
            "Combination (k, w): 23\n",
            "Combination (k, r): 23\n",
            "Combination (k, e): 23\n",
            "Combination (t, p): 23\n",
            "Combination (t, c): 92\n",
            "Combination (t, b): 23\n",
            "Combination (t, d): 23\n",
            "Combination (t, g): 23\n",
            "Combination (t, a): 92\n",
            "Combination (t, f): 115\n",
            "Combination (t, n): 46\n",
            "Combination (t, l): 69\n",
            "Combination (t, w): 115\n",
            "Combination (t, r): 46\n",
            "Combination (t, t): 207\n",
            "Combination (t, h): 1081\n",
            "Combination (t, o): 253\n",
            "Combination (t, y): 23\n",
            "Combination (t, e): 253\n",
            "Combination (t, i): 414\n",
            "Combination (m, b): 23\n",
            "Combination (m, a): 46\n",
            "Combination (m, t): 46\n",
            "Combination (m, e): 161\n",
            "Combination (m, i): 23\n",
            "Combination (h, a): 552\n",
            "Combination (h, f): 23\n",
            "Combination (h, u): 23\n",
            "Combination (h, l): 23\n",
            "Combination (h, t): 115\n",
            "Combination (h, o): 184\n",
            "Combination (h, e): 736\n",
            "Combination (h, i): 161\n",
            "Combination (o, p): 115\n",
            "Combination (o, c): 23\n",
            "Combination (o, b): 69\n",
            "Combination (o, d): 69\n",
            "Combination (o, g): 23\n",
            "Combination (o, a): 23\n",
            "Combination (o, f): 138\n",
            "Combination (o, n): 460\n",
            "Combination (o, v): 46\n",
            "Combination (o, u): 161\n",
            "Combination (o, l): 23\n",
            "Combination (o, w): 69\n",
            "Combination (o, r): 391\n",
            "Combination (o, s): 69\n",
            "Combination (o, t): 299\n",
            "Combination (o, m): 92\n",
            "Combination (o, h): 23\n",
            "Combination (o, o): 46\n",
            "Combination (y, d): 23\n",
            "Combination (y, g): 23\n",
            "Combination (y, a): 46\n",
            "Combination (y, n): 23\n",
            "Combination (y, w): 23\n",
            "Combination (y, r): 23\n",
            "Combination (y, t): 23\n",
            "Combination (y, h): 23\n",
            "Combination (y, e): 23\n",
            "Combination (e, p): 92\n",
            "Combination (e, q): 23\n",
            "Combination (e, c): 184\n",
            "Combination (e, b): 69\n",
            "Combination (e, d): 598\n",
            "Combination (e, g): 46\n",
            "Combination (e, a): 368\n",
            "Combination (e, f): 115\n",
            "Combination (e, n): 230\n",
            "Combination (e, v): 92\n",
            "Combination (e, u): 46\n",
            "Combination (e, l): 92\n",
            "Combination (e, w): 184\n",
            "Combination (e, r): 506\n",
            "Combination (e, s): 207\n",
            "Combination (e, t): 276\n",
            "Combination (e, m): 115\n",
            "Combination (e, h): 161\n",
            "Combination (e, o): 115\n",
            "Combination (e, y): 69\n",
            "Combination (e, e): 69\n",
            "Combination (e, i): 138\n",
            "Combination (i, c): 184\n",
            "Combination (i, b): 23\n",
            "Combination (i, d): 23\n",
            "Combination (i, g): 46\n",
            "Combination (i, n): 368\n",
            "Combination (i, v): 161\n",
            "Combination (i, l): 46\n",
            "Combination (i, r): 46\n",
            "Combination (i, s): 207\n",
            "Combination (i, t): 184\n",
            "Combination (i, o): 207\n",
            "Combination (i, e): 69\n"
          ]
        }
      ]
    },
    {
      "cell_type": "code",
      "source": [
        "sum(sum(letter_matrix))\n",
        "prob_divisor = sum(sum(letter_matrix))"
      ],
      "metadata": {
        "id": "yRFzx5ZqtXvu"
      },
      "execution_count": null,
      "outputs": []
    },
    {
      "cell_type": "code",
      "source": [
        "import matplotlib.pyplot as plt\n",
        "\n",
        "# Create labels for rows and columns\n",
        "row_labels = letter_codes\n",
        "col_labels = letter_codes\n",
        "\n",
        "plt.figure(figsize = (10,10))\n",
        "plt.imshow(letter_matrix, cmap='hot', interpolation='nearest', origin='upper')\n",
        "\n",
        "# Add labels\n",
        "n = len(letter_matrix)\n",
        "for i in range(n):\n",
        "    for j in range(n):\n",
        "        if letter_matrix[i][j]:\n",
        "            plt.text(j, i, str(np.round(letter_matrix[i][j]/prob_divisor, 3)), va='center', ha='center', color='black', fontsize=12)\n",
        "\n",
        "# Add row and column labels\n",
        "plt.xticks(range(n), col_labels)\n",
        "plt.yticks(range(n), row_labels)\n",
        "\n",
        "# Show the heatmap\n",
        "plt.title('Heatmap')\n",
        "plt.show()"
      ],
      "metadata": {
        "colab": {
          "base_uri": "https://localhost:8080/",
          "height": 853
        },
        "id": "PBY2UgYrfJSL",
        "outputId": "c7e66af0-8d1f-45c3-cb55-742216f67aaf"
      },
      "execution_count": null,
      "outputs": [
        {
          "output_type": "display_data",
          "data": {
            "text/plain": [
              "<Figure size 1000x1000 with 1 Axes>"
            ],
            "image/png": "[encoded data removed]"
          },
          "metadata": {}
        }
      ]
    }
  ]
}
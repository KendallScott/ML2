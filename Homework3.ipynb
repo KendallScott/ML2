{
  "nbformat": 4,
  "nbformat_minor": 0,
  "metadata": {
    "colab": {
      "provenance": [],
      "authorship_tag": "ABX9TyMbQmwjMrXvWb0PyhLG45oP",
      "include_colab_link": true
    },
    "kernelspec": {
      "name": "python3",
      "display_name": "Python 3"
    },
    "language_info": {
      "name": "python"
    }
  },
  "cells": [
    {
      "cell_type": "markdown",
      "metadata": {
        "id": "view-in-github",
        "colab_type": "text"
      },
      "source": [
        "<a href=\"https://colab.research.google.com/github/KendallScott/ML2/blob/main/Homework3.ipynb\" target=\"_parent\"><img src=\"https://colab.research.google.com/assets/colab-badge.svg\" alt=\"Open In Colab\"/></a>"
      ]
    },
    {
      "cell_type": "markdown",
      "source": [
        "Task\n",
        "The problem is: you and your work friends are trying to decide where to go for lunch. You have to pick a restaurant that’s best for everyone.  Then you should decide if you should split into two groups so everyone is happier.  \n",
        "\n",
        "Despite the simplicity of the process you will need to make decisions regarding how to process the data.\n",
        "  \n",
        "This process was thoroughly investigated in the operation research community.  This approach can prove helpful on any number of decision making problems that are currently not leveraging machine learning.  \n",
        "\n",
        "You asked your 10 work friends to answer a survey. They gave you back the following dictionary object.  \n",
        "\n",
        "people = {'Jane': {'willingness to travel':\n",
        "                  'desire for new experience':\n",
        "                  'cost':\n",
        "                  'indian food':\n",
        "                  'mexican food':\n",
        "                  'hipster points':\n",
        "                  'vegetarian': }\n",
        "                }          \n",
        "\n",
        "Questions\n",
        "1. Transform the user data into a matrix ( M_people). Keep track of column and row IDs.   \n",
        "\n",
        "\n",
        "\n",
        "\n",
        "\n",
        "\n"
      ],
      "metadata": {
        "id": "pAYZBzepM_TX"
      }
    },
    {
      "cell_type": "code",
      "source": [
        "import itertools\n",
        "import numpy as np\n",
        "\n",
        "people = {'Jane': {'willingness to travel':5, 'desire for new experience':8,'cost':9, 'indian food': 5,'mexican food': 7,'hipster points':8, 'vegetarian': 7},\n",
        "          'Sam': {'willingness to travel':7, 'desire for new experience':9,'cost':8, 'indian food': 7,'mexican food': 8,'hipster points':7, 'vegetarian': 6},\n",
        "          'John': {'willingness to travel':3, 'desire for new experience':5,'cost':7, 'indian food': 4,'mexican food': 9,'hipster points':5, 'vegetarian': 5},\n",
        "          'Thomas': {'willingness to travel':4, 'desire for new experience':6,'cost':5, 'indian food': 3,'mexican food': 5,'hipster points':6, 'vegetarian': 4},\n",
        "          'Harry': {'willingness to travel':5, 'desire for new experience':7,'cost':4, 'indian food': 5,'mexican food': 4,'hipster points':7, 'vegetarian': 6},\n",
        "          'Sarah': {'willingness to travel':7, 'desire for new experience':5,'cost':3, 'indian food': 6,'mexican food': 3,'hipster points':5, 'vegetarian': 5},\n",
        "          'Rebekka': {'willingness to travel':8, 'desire for new experience':4,'cost':5, 'indian food': 7,'mexican food': 3,'hipster points':4, 'vegetarian': 4},\n",
        "          'Esi': {'willingness to travel':9, 'desire for new experience':6,'cost':6, 'indian food': 8,'mexican food': 9,'hipster points':3, 'vegetarian':3},\n",
        "          'Berbel': {'willingness to travel':8, 'desire for new experience':8,'cost':7, 'indian food': 6,'mexican food': 9,'hipster points':2, 'vegetarian': 3},\n",
        "          'Danna': {'willingness to travel':6, 'desire for new experience':9,'cost':8, 'indian food': 4,'mexican food': 9,'hipster points':1, 'vegetarian': 2}\n",
        "          }\n",
        "\n",
        "names = list(people.keys())\n",
        "column_names = list(list(people.values())[0].keys())\n",
        "\n",
        "# Create a matrix\n",
        "M_people = np.zeros((len(names), len(column_names)))\n",
        "\n",
        "for i, (name, column) in enumerate(itertools.product(names, column_names)):\n",
        "    j =column_names.index(column)\n",
        "    i =names.index(name)\n",
        "    M_people[i][j] = people.get(name).get(column)\n",
        "\n",
        "M_people"
      ],
      "metadata": {
        "id": "ynBKGHzpbAru",
        "outputId": "14f6557f-dac3-482b-80f8-ebd37ffc7099",
        "colab": {
          "base_uri": "https://localhost:8080/"
        }
      },
      "execution_count": 243,
      "outputs": [
        {
          "output_type": "execute_result",
          "data": {
            "text/plain": [
              "array([[5., 8., 9., 5., 7., 8., 7.],\n",
              "       [7., 9., 8., 7., 8., 7., 6.],\n",
              "       [3., 5., 7., 4., 9., 5., 5.],\n",
              "       [4., 6., 5., 3., 5., 6., 4.],\n",
              "       [5., 7., 4., 5., 4., 7., 6.],\n",
              "       [7., 5., 3., 6., 3., 5., 5.],\n",
              "       [8., 4., 5., 7., 3., 4., 4.],\n",
              "       [9., 6., 6., 8., 9., 3., 3.],\n",
              "       [8., 8., 7., 6., 9., 2., 3.],\n",
              "       [6., 9., 8., 4., 9., 1., 2.]])"
            ]
          },
          "metadata": {},
          "execution_count": 243
        }
      ]
    },
    {
      "cell_type": "markdown",
      "source": [
        "2.  Next you collected data from an internet website. You got the following information.\n",
        "\n",
        "restaurants  = {'flacos':{'distance' :\n",
        "                        'novelty' :\n",
        "                        'cost':\n",
        "                        'average rating':\n",
        "                        'cuisine':\n",
        "                        'vegetarian':}}"
      ],
      "metadata": {
        "id": "vBYC36qTNY8r"
      }
    },
    {
      "cell_type": "markdown",
      "source": [
        "3. Transform the restaurant data into a matrix (M_resturants) using the same column index.\n",
        "\n"
      ],
      "metadata": {
        "id": "RH4R1gDcNB2C"
      }
    },
    {
      "cell_type": "code",
      "source": [
        "restaurants  = {'flacos':{'distance' : 8, 'novelty' : 9, 'cost': 3, 'indian food':0, 'mexican food':0,'hipster':10, 'vegetarian':3},\n",
        "                'chipotles':{'distance' :10, 'novelty' : 4, 'cost': 9, 'indian food':0, 'mexican food':10,'hipster':10, 'vegetarian':9},\n",
        "                'taco_hut':{'distance' :3, 'novelty' : 1, 'cost': 10, 'indian food':0, 'mexican food':10,'hipster':10, 'vegetarian':1},\n",
        "                'chat_samosa':{'distance' :5, 'novelty' : 10, 'cost': 7, 'indian food':10, 'mexican food':0,'hipster':10, 'vegetarian':2},\n",
        "                'chat_samosas':{'distance' :5, 'novelty' : 10, 'cost': 7, 'indian food':10, 'mexican food':0,'hipster':10, 'vegetarian':9},\n",
        "                'chat_samosar':{'distance' :5, 'novelty' : 10, 'cost': 7, 'indian food':10, 'mexican food':0,'hipster':10, 'vegetarian':8},\n",
        "                'chat_samosav':{'distance' :5, 'novelty' : 10, 'cost': 7, 'indian food':10, 'mexican food':0,'hipster':10, 'vegetarian':7},\n",
        "                'chat_samosab':{'distance' :5, 'novelty' : 10, 'cost': 7, 'indian food':10, 'mexican food':0,'hipster':10, 'vegetarian':6},\n",
        "                'chat_samosast':{'distance' :5, 'novelty' : 10, 'cost': 7, 'indian food':10, 'mexican food':0,'hipster':10, 'vegetarian':5},\n",
        "                'chat_samosaa':{'distance' :5, 'novelty' : 10, 'cost': 7, 'indian food':10, 'mexican food':0,'hipster':10, 'vegetarian':3}\n",
        "                }\n",
        "\n",
        "restaurant_names = list(restaurants.keys())\n",
        "column_names = list(list(restaurants.values())[0].keys())\n",
        "\n",
        "# Create a matrix\n",
        "M_restaurants = np.zeros((len(restaurant_names), len(column_names)))\n",
        "\n",
        "for i, (name, column) in enumerate(itertools.product(restaurant_names, column_names)):\n",
        "    j =column_names.index(column)\n",
        "    i =restaurant_names.index(name)\n",
        "    M_restaurants[i][j] = restaurants.get(name).get(column)\n",
        "\n",
        "M_restaurants"
      ],
      "metadata": {
        "id": "Tv08DUzTPHQZ",
        "outputId": "8e1cd4a9-b592-4ee2-fea1-73533b2fcdae",
        "colab": {
          "base_uri": "https://localhost:8080/"
        }
      },
      "execution_count": 387,
      "outputs": [
        {
          "output_type": "execute_result",
          "data": {
            "text/plain": [
              "array([[ 8.,  9.,  3.,  0.,  0., 10.,  3.],\n",
              "       [10.,  4.,  9.,  0., 10., 10.,  9.],\n",
              "       [ 3.,  1., 10.,  0., 10., 10.,  1.],\n",
              "       [ 5., 10.,  7., 10.,  0., 10.,  2.],\n",
              "       [ 5., 10.,  7., 10.,  0., 10.,  9.],\n",
              "       [ 5., 10.,  7., 10.,  0., 10.,  8.],\n",
              "       [ 5., 10.,  7., 10.,  0., 10.,  7.],\n",
              "       [ 5., 10.,  7., 10.,  0., 10.,  6.],\n",
              "       [ 5., 10.,  7., 10.,  0., 10.,  5.],\n",
              "       [ 5., 10.,  7., 10.,  0., 10.,  3.]])"
            ]
          },
          "metadata": {},
          "execution_count": 387
        }
      ]
    },
    {
      "cell_type": "markdown",
      "source": [
        "4. The most important idea in this project is the idea of a linear combination. Informally describe what a linear combination is  and how it will relate to our restaurant matrix.\n",
        "\n"
      ],
      "metadata": {
        "id": "LF1qCltpNDsq"
      }
    },
    {
      "cell_type": "markdown",
      "source": [
        "5. Choose a person and compute (using a linear combination) the top restaurant for them.  What does each entry in the resulting vector represent?\n",
        "\n"
      ],
      "metadata": {
        "id": "w_wLsHHBNFl4"
      }
    },
    {
      "cell_type": "code",
      "source": [
        "Danna = M_people[name.index('Danna')]\n",
        "Danna_restaurants =Danna*M_restaurants\n",
        "Danna_restaurants"
      ],
      "metadata": {
        "id": "ctCHwEjyllGQ",
        "outputId": "2363399e-4e21-485c-ff31-af90245916c9",
        "colab": {
          "base_uri": "https://localhost:8080/"
        }
      },
      "execution_count": 286,
      "outputs": [
        {
          "output_type": "execute_result",
          "data": {
            "text/plain": [
              "array([[40., 72., 27.,  0.,  0., 80., 21.],\n",
              "       [50., 32., 81.,  0., 70., 80., 63.],\n",
              "       [15.,  8., 90.,  0., 70., 80.,  7.],\n",
              "       [25., 80., 63., 50.,  0., 80., 14.],\n",
              "       [25., 80., 63., 50.,  0., 80., 63.],\n",
              "       [25., 80., 63., 50.,  0., 80., 56.],\n",
              "       [25., 80., 63., 50.,  0., 80., 49.],\n",
              "       [25., 80., 63., 50.,  0., 80., 42.],\n",
              "       [25., 80., 63., 50.,  0., 80., 35.],\n",
              "       [25., 80., 63., 50.,  0., 80., 21.]])"
            ]
          },
          "metadata": {},
          "execution_count": 286
        }
      ]
    },
    {
      "cell_type": "code",
      "source": [
        "Danna_M_restaurants = np.sum(Danna*M_restaurants, axis=1)\n",
        "Danna_max = np.max(Danna_M_restaurants)\n",
        "Danna_max"
      ],
      "metadata": {
        "id": "ThtHrmX7ptRi",
        "outputId": "7267dae4-2060-4b48-a94d-e8077b1ff9ef",
        "colab": {
          "base_uri": "https://localhost:8080/"
        }
      },
      "execution_count": 364,
      "outputs": [
        {
          "output_type": "execute_result",
          "data": {
            "text/plain": [
              "376.0"
            ]
          },
          "metadata": {},
          "execution_count": 364
        }
      ]
    },
    {
      "cell_type": "code",
      "source": [],
      "metadata": {
        "id": "-o6oAOKHzbuP"
      },
      "execution_count": null,
      "outputs": []
    },
    {
      "cell_type": "code",
      "source": [
        "restaurant_list = (Danna_M_restaurants==Danna_max)\n",
        "\n",
        "for idx, val in np.ndenumerate(restaurant_list):\n",
        "        if val == True:\n",
        "          idx_res = idx[0]\n",
        "\n",
        "print('Dannas top pick is ', restaurant_names[idx_res], 'at score: ', Danna_max)"
      ],
      "metadata": {
        "id": "bRmb2tTsuXgx",
        "outputId": "93e64972-1cc4-4962-a5b8-e9b209875b53",
        "colab": {
          "base_uri": "https://localhost:8080/"
        }
      },
      "execution_count": 366,
      "outputs": [
        {
          "output_type": "stream",
          "name": "stdout",
          "text": [
            "Dannas top pick is  chipotles at score:  376.0\n"
          ]
        }
      ]
    },
    {
      "cell_type": "markdown",
      "source": [
        "6. Next, compute a new matrix (M_usr_x_rest  i.e. an user by restaurant) from all people.  What does the a_ij matrix represent?  Sum all columns in M_usr_x_rest to get the optimal restaurant for all users.  What do the entries represent?\n",
        "\n"
      ],
      "metadata": {
        "id": "frAMpcVqNHJ9"
      }
    },
    {
      "cell_type": "code",
      "source": [
        "M_usr_x_rest = np.zeros((len(names), len(restaurant_names)))\n",
        "\n",
        "for i,name in enumerate(names):\n",
        "  for j,restaurant in enumerate(restaurant_names):\n",
        "    M_usr_x_rest[i,j] = (np.sum(M_people[i]*M_restaurants[j]))\n",
        "M_usr_x_rest"
      ],
      "metadata": {
        "id": "-vK7REiyx68u",
        "outputId": "a43643b5-bb7e-4aee-9746-b4a735335921",
        "colab": {
          "base_uri": "https://localhost:8080/"
        }
      },
      "execution_count": 398,
      "outputs": [
        {
          "output_type": "execute_result",
          "data": {
            "text/plain": [
              "array([[240., 376., 270., 312., 361., 354., 347., 340., 333., 319.],\n",
              "       [249., 382., 266., 333., 375., 369., 363., 357., 351., 339.],\n",
              "       [155., 298., 229., 214., 249., 244., 239., 234., 229., 219.],\n",
              "       [173., 255., 182., 213., 241., 237., 233., 229., 225., 217.],\n",
              "       [203., 278., 178., 255., 297., 291., 285., 279., 273., 261.],\n",
              "       [175., 242., 141., 226., 261., 256., 251., 246., 241., 231.],\n",
              "       [167., 247., 152., 233., 261., 257., 253., 249., 245., 237.],\n",
              "       [183., 315., 216., 263., 284., 281., 278., 275., 272., 266.],\n",
              "       [186., 312., 215., 255., 276., 273., 270., 267., 264., 258.],\n",
              "       [169., 286., 209., 230., 244., 242., 240., 238., 236., 232.]])"
            ]
          },
          "metadata": {},
          "execution_count": 398
        }
      ]
    },
    {
      "cell_type": "code",
      "source": [
        "M_usr_x_rest_max = np.max(M_usr_x_rest, axis=1)\n",
        "M_usr_x_rest_max"
      ],
      "metadata": {
        "id": "O4THeY9i0VJW",
        "outputId": "c6066a63-c7b7-45fe-c74a-35157ec511ac",
        "colab": {
          "base_uri": "https://localhost:8080/"
        }
      },
      "execution_count": 404,
      "outputs": [
        {
          "output_type": "execute_result",
          "data": {
            "text/plain": [
              "array([376., 382., 298., 255., 297., 261., 261., 315., 312., 286.])"
            ]
          },
          "metadata": {},
          "execution_count": 404
        }
      ]
    },
    {
      "cell_type": "code",
      "source": [
        "M_people.shape"
      ],
      "metadata": {
        "id": "Pc8yxXby1_jM",
        "outputId": "652de966-e511-4324-93a7-a345854c0718",
        "colab": {
          "base_uri": "https://localhost:8080/"
        }
      },
      "execution_count": 413,
      "outputs": [
        {
          "output_type": "execute_result",
          "data": {
            "text/plain": [
              "(10, 7)"
            ]
          },
          "metadata": {},
          "execution_count": 413
        }
      ]
    },
    {
      "cell_type": "code",
      "source": [
        "M_usr_x_rest_max.Shape"
      ],
      "metadata": {
        "id": "XxvxEjYk2EvV",
        "outputId": "12753835-ec4a-4914-b699-c0535a32f70d",
        "colab": {
          "base_uri": "https://localhost:8080/",
          "height": 175
        }
      },
      "execution_count": 414,
      "outputs": [
        {
          "output_type": "error",
          "ename": "AttributeError",
          "evalue": "ignored",
          "traceback": [
            "\u001b[0;31m---------------------------------------------------------------------------\u001b[0m",
            "\u001b[0;31mAttributeError\u001b[0m                            Traceback (most recent call last)",
            "\u001b[0;32m<ipython-input-414-908db080d2de>\u001b[0m in \u001b[0;36m<cell line: 1>\u001b[0;34m()\u001b[0m\n\u001b[0;32m----> 1\u001b[0;31m \u001b[0mM_usr_x_rest_max\u001b[0m\u001b[0;34m.\u001b[0m\u001b[0mShape\u001b[0m\u001b[0;34m\u001b[0m\u001b[0;34m\u001b[0m\u001b[0m\n\u001b[0m",
            "\u001b[0;31mAttributeError\u001b[0m: 'numpy.ndarray' object has no attribute 'Shape'"
          ]
        }
      ]
    },
    {
      "cell_type": "code",
      "source": [
        "np.hstack((M_people,M_usr_x_rest_max.T))"
      ],
      "metadata": {
        "id": "DBjqRnkd17zQ",
        "outputId": "30dde6c8-eb51-45ed-9895-63d8a49200e7",
        "colab": {
          "base_uri": "https://localhost:8080/",
          "height": 234
        }
      },
      "execution_count": 412,
      "outputs": [
        {
          "output_type": "error",
          "ename": "ValueError",
          "evalue": "ignored",
          "traceback": [
            "\u001b[0;31m---------------------------------------------------------------------------\u001b[0m",
            "\u001b[0;31mValueError\u001b[0m                                Traceback (most recent call last)",
            "\u001b[0;32m<ipython-input-412-e92725638d46>\u001b[0m in \u001b[0;36m<cell line: 1>\u001b[0;34m()\u001b[0m\n\u001b[0;32m----> 1\u001b[0;31m \u001b[0mnp\u001b[0m\u001b[0;34m.\u001b[0m\u001b[0mhstack\u001b[0m\u001b[0;34m(\u001b[0m\u001b[0;34m(\u001b[0m\u001b[0mM_people\u001b[0m\u001b[0;34m,\u001b[0m\u001b[0mM_usr_x_rest_max\u001b[0m\u001b[0;34m.\u001b[0m\u001b[0mT\u001b[0m\u001b[0;34m)\u001b[0m\u001b[0;34m)\u001b[0m\u001b[0;34m\u001b[0m\u001b[0;34m\u001b[0m\u001b[0m\n\u001b[0m",
            "\u001b[0;32m/usr/local/lib/python3.10/dist-packages/numpy/core/overrides.py\u001b[0m in \u001b[0;36mhstack\u001b[0;34m(*args, **kwargs)\u001b[0m\n",
            "\u001b[0;32m/usr/local/lib/python3.10/dist-packages/numpy/core/shape_base.py\u001b[0m in \u001b[0;36mhstack\u001b[0;34m(tup)\u001b[0m\n\u001b[1;32m    343\u001b[0m         \u001b[0;32mreturn\u001b[0m \u001b[0m_nx\u001b[0m\u001b[0;34m.\u001b[0m\u001b[0mconcatenate\u001b[0m\u001b[0;34m(\u001b[0m\u001b[0marrs\u001b[0m\u001b[0;34m,\u001b[0m \u001b[0;36m0\u001b[0m\u001b[0;34m)\u001b[0m\u001b[0;34m\u001b[0m\u001b[0;34m\u001b[0m\u001b[0m\n\u001b[1;32m    344\u001b[0m     \u001b[0;32melse\u001b[0m\u001b[0;34m:\u001b[0m\u001b[0;34m\u001b[0m\u001b[0;34m\u001b[0m\u001b[0m\n\u001b[0;32m--> 345\u001b[0;31m         \u001b[0;32mreturn\u001b[0m \u001b[0m_nx\u001b[0m\u001b[0;34m.\u001b[0m\u001b[0mconcatenate\u001b[0m\u001b[0;34m(\u001b[0m\u001b[0marrs\u001b[0m\u001b[0;34m,\u001b[0m \u001b[0;36m1\u001b[0m\u001b[0;34m)\u001b[0m\u001b[0;34m\u001b[0m\u001b[0;34m\u001b[0m\u001b[0m\n\u001b[0m\u001b[1;32m    346\u001b[0m \u001b[0;34m\u001b[0m\u001b[0m\n\u001b[1;32m    347\u001b[0m \u001b[0;34m\u001b[0m\u001b[0m\n",
            "\u001b[0;32m/usr/local/lib/python3.10/dist-packages/numpy/core/overrides.py\u001b[0m in \u001b[0;36mconcatenate\u001b[0;34m(*args, **kwargs)\u001b[0m\n",
            "\u001b[0;31mValueError\u001b[0m: all the input arrays must have same number of dimensions, but the array at index 0 has 2 dimension(s) and the array at index 1 has 1 dimension(s)"
          ]
        }
      ]
    },
    {
      "cell_type": "code",
      "source": [
        "M_people\n",
        "np.M_people_results[M_people,M_usr_x_rest_max]\n"
      ],
      "metadata": {
        "id": "SvBPLGWf0tmM",
        "outputId": "d56df40d-d83c-4606-a3a2-1afd41bdd81c",
        "colab": {
          "base_uri": "https://localhost:8080/",
          "height": 314
        }
      },
      "execution_count": 409,
      "outputs": [
        {
          "output_type": "error",
          "ename": "AttributeError",
          "evalue": "ignored",
          "traceback": [
            "\u001b[0;31m---------------------------------------------------------------------------\u001b[0m",
            "\u001b[0;31mAttributeError\u001b[0m                            Traceback (most recent call last)",
            "\u001b[0;32m<ipython-input-409-d1b96687b51d>\u001b[0m in \u001b[0;36m<cell line: 2>\u001b[0;34m()\u001b[0m\n\u001b[1;32m      1\u001b[0m \u001b[0mM_people\u001b[0m\u001b[0;34m\u001b[0m\u001b[0;34m\u001b[0m\u001b[0m\n\u001b[0;32m----> 2\u001b[0;31m \u001b[0mnp\u001b[0m\u001b[0;34m.\u001b[0m\u001b[0mM_people_results\u001b[0m\u001b[0;34m[\u001b[0m\u001b[0mM_people\u001b[0m\u001b[0;34m,\u001b[0m\u001b[0mM_usr_x_rest_max\u001b[0m\u001b[0;34m]\u001b[0m\u001b[0;34m\u001b[0m\u001b[0;34m\u001b[0m\u001b[0m\n\u001b[0m",
            "\u001b[0;32m/usr/local/lib/python3.10/dist-packages/numpy/__init__.py\u001b[0m in \u001b[0;36m__getattr__\u001b[0;34m(attr)\u001b[0m\n\u001b[1;32m    309\u001b[0m             \u001b[0;32mreturn\u001b[0m \u001b[0mTester\u001b[0m\u001b[0;34m\u001b[0m\u001b[0;34m\u001b[0m\u001b[0m\n\u001b[1;32m    310\u001b[0m \u001b[0;34m\u001b[0m\u001b[0m\n\u001b[0;32m--> 311\u001b[0;31m         raise AttributeError(\"module {!r} has no attribute \"\n\u001b[0m\u001b[1;32m    312\u001b[0m                              \"{!r}\".format(__name__, attr))\n\u001b[1;32m    313\u001b[0m \u001b[0;34m\u001b[0m\u001b[0m\n",
            "\u001b[0;31mAttributeError\u001b[0m: module 'numpy' has no attribute 'M_people_results'"
          ]
        }
      ]
    },
    {
      "cell_type": "markdown",
      "source": [
        "7. Now convert each row in the M_usr_x_rest into a ranking for each user and call it M_usr_x_rest_rank.   Do the same as above to generate the optimal restaurant choice.  \n",
        "\n"
      ],
      "metadata": {
        "id": "hs5uOw3gNIrQ"
      }
    },
    {
      "cell_type": "markdown",
      "source": [
        "8. Why is there a difference between the two?  What problem arrives?  What does it represent in the real world?\n",
        "\n"
      ],
      "metadata": {
        "id": "Mdn_S6EZNKxN"
      }
    },
    {
      "cell_type": "markdown",
      "source": [
        "9. How should you preprocess your data to remove this problem?\n",
        "\n"
      ],
      "metadata": {
        "id": "o3vxznMXNMaN"
      }
    },
    {
      "cell_type": "markdown",
      "source": [
        "10. Find  user profiles that are problematic, explain why?\n",
        "\n"
      ],
      "metadata": {
        "id": "e07SfgmmNOAo"
      }
    },
    {
      "cell_type": "markdown",
      "source": [
        "11. Think of two metrics to compute the disatistifaction with the group.  \n",
        "\n"
      ],
      "metadata": {
        "id": "h1CeFuMYNPhV"
      }
    },
    {
      "cell_type": "markdown",
      "source": [
        "12. Based on this dissatisfaction metric, should you split into two groups today?\n",
        "\n"
      ],
      "metadata": {
        "id": "zWPvBYhTNRHA"
      }
    },
    {
      "cell_type": "markdown",
      "source": [
        "13. Ok. Now you just found out the boss is paying for the meal. How should you adjust? Now what is the best restaurant?\n",
        "\n"
      ],
      "metadata": {
        "id": "n7e4BAmKNSaG"
      }
    },
    {
      "cell_type": "markdown",
      "source": [
        "14. Tomorrow you visit another team. You have the same restaurants and they told you their optimal ordering for restaurants. Can you find their weight matrix?"
      ],
      "metadata": {
        "id": "ZJ-aJ8SKNUnA"
      }
    },
    {
      "cell_type": "code",
      "execution_count": 7,
      "metadata": {
        "id": "khx8s5v_M-nD"
      },
      "outputs": [],
      "source": []
    }
  ]
}
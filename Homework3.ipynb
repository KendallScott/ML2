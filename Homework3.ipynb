{
  "nbformat": 4,
  "nbformat_minor": 0,
  "metadata": {
    "colab": {
      "provenance": [],
      "authorship_tag": "ABX9TyP3RN9FalB6UT6EsHOtdOOA",
      "include_colab_link": true
    },
    "kernelspec": {
      "name": "python3",
      "display_name": "Python 3"
    },
    "language_info": {
      "name": "python"
    }
  },
  "cells": [
    {
      "cell_type": "markdown",
      "metadata": {
        "id": "view-in-github",
        "colab_type": "text"
      },
      "source": [
        "<a href=\"https://colab.research.google.com/github/KendallScott/ML2/blob/main/Homework3.ipynb\" target=\"_parent\"><img src=\"https://colab.research.google.com/assets/colab-badge.svg\" alt=\"Open In Colab\"/></a>"
      ]
    },
    {
      "cell_type": "markdown",
      "source": [
        "Task\n",
        "The problem is: you and your work friends are trying to decide where to go for lunch. You have to pick a restaurant that’s best for everyone.  Then you should decide if you should split into two groups so everyone is happier.  \n",
        "\n",
        "Despite the simplicity of the process you will need to make decisions regarding how to process the data.\n",
        "  \n",
        "This process was thoroughly investigated in the operation research community.  This approach can prove helpful on any number of decision making problems that are currently not leveraging machine learning.  \n",
        "\n",
        "You asked your 10 work friends to answer a survey. They gave you back the following dictionary object.  \n",
        "\n",
        "people = {'Jane': {'willingness to travel':\n",
        "                  'desire for new experience':\n",
        "                  'cost':\n",
        "                  'indian food':\n",
        "                  'mexican food':\n",
        "                  'hipster points':\n",
        "                  'vegetarian': }\n",
        "                }          \n",
        "\n",
        "Questions\n",
        "1. Transform the user data into a matrix ( M_people). Keep track of column and row IDs.   \n",
        "\n",
        "\n",
        "\n",
        "\n",
        "\n",
        "\n"
      ],
      "metadata": {
        "id": "pAYZBzepM_TX"
      }
    },
    {
      "cell_type": "code",
      "source": [
        "import itertools\n",
        "import numpy as np\n",
        "\n",
        "people = {'Jane': {'willingness to travel':5, 'desire for new experience':8,'cost':9, 'indian food': 5,'mexican food': 7,'hipster points':8, 'vegetarian': 7},\n",
        "          'Sam': {'willingness to travel':7, 'desire for new experience':9,'cost':8, 'indian food': 7,'mexican food': 8,'hipster points':7, 'vegetarian': 6},\n",
        "          'John': {'willingness to travel':3, 'desire for new experience':5,'cost':7, 'indian food': 4,'mexican food': 9,'hipster points':5, 'vegetarian': 5},\n",
        "          'Thomas': {'willingness to travel':4, 'desire for new experience':6,'cost':5, 'indian food': 3,'mexican food': 5,'hipster points':6, 'vegetarian': 4},\n",
        "          'Harry': {'willingness to travel':5, 'desire for new experience':7,'cost':4, 'indian food': 5,'mexican food': 4,'hipster points':7, 'vegetarian': 6},\n",
        "          'Sarah': {'willingness to travel':7, 'desire for new experience':5,'cost':3, 'indian food': 6,'mexican food': 3,'hipster points':5, 'vegetarian': 5},\n",
        "          'Rebekka': {'willingness to travel':8, 'desire for new experience':4,'cost':5, 'indian food': 7,'mexican food': 3,'hipster points':4, 'vegetarian': 4},\n",
        "          'Esi': {'willingness to travel':9, 'desire for new experience':6,'cost':6, 'indian food': 8,'mexican food': 9,'hipster points':3, 'vegetarian':3},\n",
        "          'Berbel': {'willingness to travel':8, 'desire for new experience':8,'cost':7, 'indian food': 6,'mexican food': 9,'hipster points':2, 'vegetarian': 3},\n",
        "          'Danna': {'willingness to travel':6, 'desire for new experience':9,'cost':8, 'indian food': 4,'mexican food': 9,'hipster points':1, 'vegetarian': 2}\n",
        "          }\n",
        "\n",
        "names = list(people.keys())\n",
        "column_names = list(list(people.values())[0].keys())\n",
        "\n",
        "# Create a matrix\n",
        "M_people = np.zeros((len(names), len(column_names)))\n",
        "\n",
        "for i, (name, column) in enumerate(itertools.product(names, column_names)):\n",
        "    j =column_names.index(column)\n",
        "    i =names.index(name)\n",
        "    M_people[i][j] = people.get(name).get(column)\n",
        "\n",
        "M_people"
      ],
      "metadata": {
        "colab": {
          "base_uri": "https://localhost:8080/"
        },
        "id": "ynBKGHzpbAru",
        "outputId": "14f6557f-dac3-482b-80f8-ebd37ffc7099"
      },
      "execution_count": 243,
      "outputs": [
        {
          "output_type": "execute_result",
          "data": {
            "text/plain": [
              "array([[5., 8., 9., 5., 7., 8., 7.],\n",
              "       [7., 9., 8., 7., 8., 7., 6.],\n",
              "       [3., 5., 7., 4., 9., 5., 5.],\n",
              "       [4., 6., 5., 3., 5., 6., 4.],\n",
              "       [5., 7., 4., 5., 4., 7., 6.],\n",
              "       [7., 5., 3., 6., 3., 5., 5.],\n",
              "       [8., 4., 5., 7., 3., 4., 4.],\n",
              "       [9., 6., 6., 8., 9., 3., 3.],\n",
              "       [8., 8., 7., 6., 9., 2., 3.],\n",
              "       [6., 9., 8., 4., 9., 1., 2.]])"
            ]
          },
          "metadata": {},
          "execution_count": 243
        }
      ]
    },
    {
      "cell_type": "markdown",
      "source": [
        "2.  Next you collected data from an internet website. You got the following information.\n",
        "\n",
        "restaurants  = {'flacos':{'distance' :\n",
        "                        'novelty' :\n",
        "                        'cost':\n",
        "                        'average rating':\n",
        "                        'cuisine':\n",
        "                        'vegetarian':}}"
      ],
      "metadata": {
        "id": "vBYC36qTNY8r"
      }
    },
    {
      "cell_type": "markdown",
      "source": [
        "3. Transform the restaurant data into a matrix (M_resturants) using the same column index.\n",
        "\n"
      ],
      "metadata": {
        "id": "RH4R1gDcNB2C"
      }
    },
    {
      "cell_type": "code",
      "source": [
        "restaurants  = {'flacos':{'distance' : 8, 'novelty' : 9, 'cost': 3, 'indian food':0, 'mexican food':0,'hipster':10, 'vegetarian':3},\n",
        "                'chipotles':{'distance' :10, 'novelty' : 4, 'cost': 9, 'indian food':0, 'mexican food':10,'hipster':10, 'vegetarian':9},\n",
        "                'taco_hut':{'distance' :3, 'novelty' : 1, 'cost': 10, 'indian food':0, 'mexican food':10,'hipster':10, 'vegetarian':1},\n",
        "                'chat_samosa':{'distance' :5, 'novelty' : 10, 'cost': 7, 'indian food':10, 'mexican food':0,'hipster':10, 'vegetarian':2},\n",
        "                'chat_samosas':{'distance' :5, 'novelty' : 10, 'cost': 7, 'indian food':10, 'mexican food':0,'hipster':10, 'vegetarian':9},\n",
        "                'chat_samosar':{'distance' :5, 'novelty' : 10, 'cost': 7, 'indian food':10, 'mexican food':0,'hipster':10, 'vegetarian':8},\n",
        "                'chat_samosav':{'distance' :5, 'novelty' : 10, 'cost': 7, 'indian food':10, 'mexican food':0,'hipster':10, 'vegetarian':7},\n",
        "                'chat_samosab':{'distance' :5, 'novelty' : 10, 'cost': 7, 'indian food':10, 'mexican food':0,'hipster':10, 'vegetarian':6},\n",
        "                'chat_samosast':{'distance' :5, 'novelty' : 10, 'cost': 7, 'indian food':10, 'mexican food':0,'hipster':10, 'vegetarian':5},\n",
        "                'chat_samosaa':{'distance' :5, 'novelty' : 10, 'cost': 7, 'indian food':10, 'mexican food':0,'hipster':10, 'vegetarian':3}\n",
        "                }\n",
        "\n",
        "restaurant_names = list(restaurants.keys())\n",
        "column_names = list(list(restaurants.values())[0].keys())\n",
        "\n",
        "# Create a matrix\n",
        "M_restaurants = np.zeros((len(restaurant_names), len(column_names)))\n",
        "\n",
        "for i, (name, column) in enumerate(itertools.product(restaurant_names, column_names)):\n",
        "    j =column_names.index(column)\n",
        "    i =restaurant_names.index(name)\n",
        "    M_restaurants[i][j] = restaurants.get(name).get(column)\n",
        "\n",
        "M_restaurants"
      ],
      "metadata": {
        "id": "Tv08DUzTPHQZ",
        "colab": {
          "base_uri": "https://localhost:8080/"
        },
        "outputId": "8e1cd4a9-b592-4ee2-fea1-73533b2fcdae"
      },
      "execution_count": 387,
      "outputs": [
        {
          "output_type": "execute_result",
          "data": {
            "text/plain": [
              "array([[ 8.,  9.,  3.,  0.,  0., 10.,  3.],\n",
              "       [10.,  4.,  9.,  0., 10., 10.,  9.],\n",
              "       [ 3.,  1., 10.,  0., 10., 10.,  1.],\n",
              "       [ 5., 10.,  7., 10.,  0., 10.,  2.],\n",
              "       [ 5., 10.,  7., 10.,  0., 10.,  9.],\n",
              "       [ 5., 10.,  7., 10.,  0., 10.,  8.],\n",
              "       [ 5., 10.,  7., 10.,  0., 10.,  7.],\n",
              "       [ 5., 10.,  7., 10.,  0., 10.,  6.],\n",
              "       [ 5., 10.,  7., 10.,  0., 10.,  5.],\n",
              "       [ 5., 10.,  7., 10.,  0., 10.,  3.]])"
            ]
          },
          "metadata": {},
          "execution_count": 387
        }
      ]
    },
    {
      "cell_type": "markdown",
      "source": [
        "4. The most important idea in this project is the idea of a linear combination. Informally describe what a linear combination is  and how it will relate to our restaurant matrix.\n",
        "\n"
      ],
      "metadata": {
        "id": "LF1qCltpNDsq"
      }
    },
    {
      "cell_type": "markdown",
      "source": [
        "5. Choose a person and compute (using a linear combination) the top restaurant for them.  What does each entry in the resulting vector represent?\n",
        "\n"
      ],
      "metadata": {
        "id": "w_wLsHHBNFl4"
      }
    },
    {
      "cell_type": "code",
      "source": [
        "Danna = M_people[name.index('Danna')]\n",
        "Danna_restaurants =Danna*M_restaurants\n",
        "Danna_restaurants"
      ],
      "metadata": {
        "colab": {
          "base_uri": "https://localhost:8080/"
        },
        "id": "ctCHwEjyllGQ",
        "outputId": "2363399e-4e21-485c-ff31-af90245916c9"
      },
      "execution_count": 286,
      "outputs": [
        {
          "output_type": "execute_result",
          "data": {
            "text/plain": [
              "array([[40., 72., 27.,  0.,  0., 80., 21.],\n",
              "       [50., 32., 81.,  0., 70., 80., 63.],\n",
              "       [15.,  8., 90.,  0., 70., 80.,  7.],\n",
              "       [25., 80., 63., 50.,  0., 80., 14.],\n",
              "       [25., 80., 63., 50.,  0., 80., 63.],\n",
              "       [25., 80., 63., 50.,  0., 80., 56.],\n",
              "       [25., 80., 63., 50.,  0., 80., 49.],\n",
              "       [25., 80., 63., 50.,  0., 80., 42.],\n",
              "       [25., 80., 63., 50.,  0., 80., 35.],\n",
              "       [25., 80., 63., 50.,  0., 80., 21.]])"
            ]
          },
          "metadata": {},
          "execution_count": 286
        }
      ]
    },
    {
      "cell_type": "code",
      "source": [
        "Danna_M_restaurants = np.sum(Danna*M_restaurants, axis=1)\n",
        "Danna_max = np.max(Danna_M_restaurants)\n",
        "Danna_max"
      ],
      "metadata": {
        "colab": {
          "base_uri": "https://localhost:8080/"
        },
        "id": "ThtHrmX7ptRi",
        "outputId": "7267dae4-2060-4b48-a94d-e8077b1ff9ef"
      },
      "execution_count": 364,
      "outputs": [
        {
          "output_type": "execute_result",
          "data": {
            "text/plain": [
              "376.0"
            ]
          },
          "metadata": {},
          "execution_count": 364
        }
      ]
    },
    {
      "cell_type": "code",
      "source": [],
      "metadata": {
        "id": "-o6oAOKHzbuP"
      },
      "execution_count": null,
      "outputs": []
    },
    {
      "cell_type": "code",
      "source": [
        "restaurant_list = (Danna_M_restaurants==Danna_max)\n",
        "\n",
        "for idx, val in np.ndenumerate(restaurant_list):\n",
        "        if val == True:\n",
        "          idx_res = idx[0]\n",
        "\n",
        "print('Dannas top pick is ', restaurant_names[idx_res], 'at score: ', Danna_max)"
      ],
      "metadata": {
        "colab": {
          "base_uri": "https://localhost:8080/"
        },
        "id": "bRmb2tTsuXgx",
        "outputId": "93e64972-1cc4-4962-a5b8-e9b209875b53"
      },
      "execution_count": 366,
      "outputs": [
        {
          "output_type": "stream",
          "name": "stdout",
          "text": [
            "Dannas top pick is  chipotles at score:  376.0\n"
          ]
        }
      ]
    },
    {
      "cell_type": "markdown",
      "source": [
        "6. Next, compute a new matrix (M_usr_x_rest  i.e. an user by restaurant) from all people.  What does the a_ij matrix represent?  Sum all columns in M_usr_x_rest to get the optimal restaurant for all users.  What do the entries represent?\n",
        "\n"
      ],
      "metadata": {
        "id": "frAMpcVqNHJ9"
      }
    },
    {
      "cell_type": "code",
      "source": [
        "M_usr_x_rest = np.zeros((len(names), len(restaurant_names)))\n",
        "\n",
        "for i,name in enumerate(names):\n",
        "  for j,restaurant in enumerate(restaurant_names):\n",
        "    M_usr_x_rest[i,j] = (np.sum(M_people[i]*M_restaurants[j]))\n",
        "M_usr_x_rest"
      ],
      "metadata": {
        "colab": {
          "base_uri": "https://localhost:8080/"
        },
        "id": "-vK7REiyx68u",
        "outputId": "01b0f1ef-3467-4669-8ce5-6ba36f35dbdb"
      },
      "execution_count": 417,
      "outputs": [
        {
          "output_type": "execute_result",
          "data": {
            "text/plain": [
              "array([[240., 376., 270., 312., 361., 354., 347., 340., 333., 319.],\n",
              "       [249., 382., 266., 333., 375., 369., 363., 357., 351., 339.],\n",
              "       [155., 298., 229., 214., 249., 244., 239., 234., 229., 219.],\n",
              "       [173., 255., 182., 213., 241., 237., 233., 229., 225., 217.],\n",
              "       [203., 278., 178., 255., 297., 291., 285., 279., 273., 261.],\n",
              "       [175., 242., 141., 226., 261., 256., 251., 246., 241., 231.],\n",
              "       [167., 247., 152., 233., 261., 257., 253., 249., 245., 237.],\n",
              "       [183., 315., 216., 263., 284., 281., 278., 275., 272., 266.],\n",
              "       [186., 312., 215., 255., 276., 273., 270., 267., 264., 258.],\n",
              "       [169., 286., 209., 230., 244., 242., 240., 238., 236., 232.]])"
            ]
          },
          "metadata": {},
          "execution_count": 417
        }
      ]
    },
    {
      "cell_type": "code",
      "source": [
        "np.insert(M_results, 0, 376)"
      ],
      "metadata": {
        "id": "KdwWhUKaVi4u",
        "outputId": "7e7073d0-4906-4009-fbc0-1ab6efd96fdd",
        "colab": {
          "base_uri": "https://localhost:8080/"
        }
      },
      "execution_count": 487,
      "outputs": [
        {
          "output_type": "execute_result",
          "data": {
            "text/plain": [
              "array([376.,   0.,   0.,   0.,   0.,   0.,   0.,   0.,   0.,   0.,   0.])"
            ]
          },
          "metadata": {},
          "execution_count": 487
        }
      ]
    },
    {
      "cell_type": "code",
      "source": [
        "M_usr_x_rest_max = np.max(M_usr_x_rest, axis=1)\n",
        "# Create a matrix\n",
        "M_results = np.zeros((len(names)))\n",
        "scores = []\n",
        "\n",
        "for x,i in enumerate(names):\n",
        "  insert_val = np.hstack((names[x], M_usr_x_rest_max[x]))\n",
        "  M_results[x] =  M_usr_x_rest_max[x]\n",
        "\n",
        "M_results"
      ],
      "metadata": {
        "id": "9TOxu_s8PyZ4",
        "outputId": "9cd90b02-f66a-4488-c5a6-f3d573371fc0",
        "colab": {
          "base_uri": "https://localhost:8080/"
        }
      },
      "execution_count": 490,
      "outputs": [
        {
          "output_type": "execute_result",
          "data": {
            "text/plain": [
              "array([376., 382., 298., 255., 297., 261., 261., 315., 312., 286.])"
            ]
          },
          "metadata": {},
          "execution_count": 490
        }
      ]
    },
    {
      "cell_type": "code",
      "source": [
        "for i,idx, in enumerate(names):\n",
        "  restaurant_list_results = M_usr_x_rest[i]==M_results.T[i]\n",
        "  name_current = idx\n",
        "\n",
        "  for idx, val in np.ndenumerate(restaurant_list_results):\n",
        "          if val == True:\n",
        "            idx_res = idx[0]\n",
        "\n",
        "  print(name_current, ' top pick is ', restaurant_names[idx_res], 'at score: ', M_results[i])\n",
        "\n"
      ],
      "metadata": {
        "id": "yLfwBFbSVDPQ",
        "outputId": "ad7d0044-ae60-43df-e7c4-057c8b2682d7",
        "colab": {
          "base_uri": "https://localhost:8080/"
        }
      },
      "execution_count": 519,
      "outputs": [
        {
          "output_type": "stream",
          "name": "stdout",
          "text": [
            "Jane  top pick is  chipotles at score:  376.0\n",
            "Sam  top pick is  chipotles at score:  382.0\n",
            "John  top pick is  chipotles at score:  298.0\n",
            "Thomas  top pick is  chipotles at score:  255.0\n",
            "Harry  top pick is  chat_samosas at score:  297.0\n",
            "Sarah  top pick is  chat_samosas at score:  261.0\n",
            "Rebekka  top pick is  chat_samosas at score:  261.0\n",
            "Esi  top pick is  chipotles at score:  315.0\n",
            "Berbel  top pick is  chipotles at score:  312.0\n",
            "Danna  top pick is  chipotles at score:  286.0\n"
          ]
        }
      ]
    },
    {
      "cell_type": "markdown",
      "source": [
        "7. Now convert each row in the M_usr_x_rest into a ranking for each user and call it M_usr_x_rest_rank.   Do the same as above to generate the optimal restaurant choice.  \n",
        "\n"
      ],
      "metadata": {
        "id": "hs5uOw3gNIrQ"
      }
    },
    {
      "cell_type": "code",
      "source": [],
      "metadata": {
        "id": "g13i3KniZk31"
      },
      "execution_count": null,
      "outputs": []
    },
    {
      "cell_type": "markdown",
      "source": [
        "8. Why is there a difference between the two?  What problem arrives?  What does it represent in the real world?\n",
        "\n"
      ],
      "metadata": {
        "id": "Mdn_S6EZNKxN"
      }
    },
    {
      "cell_type": "markdown",
      "source": [
        "9. How should you preprocess your data to remove this problem?\n",
        "\n"
      ],
      "metadata": {
        "id": "o3vxznMXNMaN"
      }
    },
    {
      "cell_type": "markdown",
      "source": [
        "10. Find  user profiles that are problematic, explain why?\n",
        "\n"
      ],
      "metadata": {
        "id": "e07SfgmmNOAo"
      }
    },
    {
      "cell_type": "markdown",
      "source": [
        "11. Think of two metrics to compute the disatistifaction with the group.  \n",
        "\n"
      ],
      "metadata": {
        "id": "h1CeFuMYNPhV"
      }
    },
    {
      "cell_type": "markdown",
      "source": [
        "12. Based on this dissatisfaction metric, should you split into two groups today?\n",
        "\n"
      ],
      "metadata": {
        "id": "zWPvBYhTNRHA"
      }
    },
    {
      "cell_type": "markdown",
      "source": [
        "13. Ok. Now you just found out the boss is paying for the meal. How should you adjust? Now what is the best restaurant?\n",
        "\n"
      ],
      "metadata": {
        "id": "n7e4BAmKNSaG"
      }
    },
    {
      "cell_type": "markdown",
      "source": [
        "14. Tomorrow you visit another team. You have the same restaurants and they told you their optimal ordering for restaurants. Can you find their weight matrix?"
      ],
      "metadata": {
        "id": "ZJ-aJ8SKNUnA"
      }
    }
  ]
}
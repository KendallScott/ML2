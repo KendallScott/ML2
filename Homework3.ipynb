{
  "nbformat": 4,
  "nbformat_minor": 0,
  "metadata": {
    "colab": {
      "provenance": [],
      "authorship_tag": "ABX9TyMP1pf+F4R3SJftfBZYwQN0",
      "include_colab_link": true
    },
    "kernelspec": {
      "name": "python3",
      "display_name": "Python 3"
    },
    "language_info": {
      "name": "python"
    }
  },
  "cells": [
    {
      "cell_type": "markdown",
      "metadata": {
        "id": "view-in-github",
        "colab_type": "text"
      },
      "source": [
        "<a href=\"https://colab.research.google.com/github/KendallScott/ML2/blob/main/Homework3.ipynb\" target=\"_parent\"><img src=\"https://colab.research.google.com/assets/colab-badge.svg\" alt=\"Open In Colab\"/></a>"
      ]
    },
    {
      "cell_type": "markdown",
      "source": [
        "Task\n",
        "The problem is: you and your work friends are trying to decide where to go for lunch. You have to pick a restaurant that’s best for everyone.  Then you should decide if you should split into two groups so everyone is happier.  \n",
        "\n",
        "Despite the simplicity of the process you will need to make decisions regarding how to process the data.\n",
        "  \n",
        "This process was thoroughly investigated in the operation research community.  This approach can prove helpful on any number of decision making problems that are currently not leveraging machine learning.  \n",
        "\n",
        "You asked your 10 work friends to answer a survey. They gave you back the following dictionary object.  \n",
        "\n",
        "people = {'Jane': {'willingness to travel':\n",
        "                  'desire for new experience':\n",
        "                  'cost':\n",
        "                  'indian food':\n",
        "                  'mexican food':\n",
        "                  'hipster points':\n",
        "                  'vegetarian': }\n",
        "                }          \n",
        "\n",
        "Questions\n",
        "1. Transform the user data into a matrix ( M_people). Keep track of column and row IDs.   \n",
        "\n",
        "\n",
        "\n",
        "\n",
        "\n",
        "\n"
      ],
      "metadata": {
        "id": "pAYZBzepM_TX"
      }
    },
    {
      "cell_type": "code",
      "source": [
        "people = {'Jane': {'willingness to travel':5, 'desire for new experience':8,'cost':9, 'indian food': 5,'mexican food': 7,'hipster points':8, 'vegetarian': 7},\n",
        "          'Sam': {'willingness to travel':7, 'desire for new experience':9,'cost':8, 'indian food': 7,'mexican food': 8,'hipster points':7, 'vegetarian': 6},\n",
        "          'John': {'willingness to travel':3, 'desire for new experience':5,'cost':7, 'indian food': 4,'mexican food': 9,'hipster points':5, 'vegetarian': 5},\n",
        "          'Thomas': {'willingness to travel':4, 'desire for new experience':6,'cost':5, 'indian food': 3,'mexican food': 5,'hipster points':6, 'vegetarian': 4},\n",
        "          'Harry': {'willingness to travel':5, 'desire for new experience':7,'cost':4, 'indian food': 5,'mexican food': 4,'hipster points':7, 'vegetarian': 6},\n",
        "          'Sarah': {'willingness to travel':7, 'desire for new experience':5,'cost':3, 'indian food': 6,'mexican food': 3,'hipster points':5, 'vegetarian': 5},\n",
        "          'Rebekka': {'willingness to travel':8, 'desire for new experience':4,'cost':5, 'indian food': 7,'mexican food': 3,'hipster points':4, 'vegetarian': 4},\n",
        "          'Esi': {'willingness to travel':9, 'desire for new experience':6,'cost':6, 'indian food': 8,'mexican food': 9,'hipster points':3, 'vegetarian':3},\n",
        "          'Berbel': {'willingness to travel':8, 'desire for new experience':8,'cost':7, 'indian food': 6,'mexican food': 9,'hipster points':2, 'vegetarian': 3},\n",
        "          'Danna': {'willingness to travel':6, 'desire for new experience':9,'cost':8, 'indian food': 4,'mexican food': 9,'hipster points':1, 'vegetarian': 2}\n",
        "          }"
      ],
      "metadata": {
        "id": "Up7S-HRGNbYv"
      },
      "execution_count": 14,
      "outputs": []
    },
    {
      "cell_type": "code",
      "source": [
        "import numpy as np\n",
        "result = people.items()\n",
        "\n",
        "# Convert object to a list\n",
        "data = list(result)\n",
        "\n",
        "# Convert list to an array\n",
        "M_people = np.array(data)"
      ],
      "metadata": {
        "id": "yOqON6d-Nudn"
      },
      "execution_count": 20,
      "outputs": []
    },
    {
      "cell_type": "code",
      "source": [
        "M_people"
      ],
      "metadata": {
        "colab": {
          "base_uri": "https://localhost:8080/"
        },
        "id": "eynyvYf7O7J0",
        "outputId": "b0996ee5-ae4e-4b3c-ed46-740620368cb1"
      },
      "execution_count": 21,
      "outputs": [
        {
          "output_type": "execute_result",
          "data": {
            "text/plain": [
              "array([['Jane',\n",
              "        {'willingness to travel': 5, 'desire for new experience': 8, 'cost': 9, 'indian food': 5, 'mexican food': 7, 'hipster points': 8, 'vegetarian': 7}],\n",
              "       ['Sam',\n",
              "        {'willingness to travel': 7, 'desire for new experience': 9, 'cost': 8, 'indian food': 7, 'mexican food': 8, 'hipster points': 7, 'vegetarian': 6}],\n",
              "       ['John',\n",
              "        {'willingness to travel': 3, 'desire for new experience': 5, 'cost': 7, 'indian food': 4, 'mexican food': 9, 'hipster points': 5, 'vegetarian': 5}],\n",
              "       ['Thomas',\n",
              "        {'willingness to travel': 4, 'desire for new experience': 6, 'cost': 5, 'indian food': 3, 'mexican food': 5, 'hipster points': 6, 'vegetarian': 4}],\n",
              "       ['Harry',\n",
              "        {'willingness to travel': 5, 'desire for new experience': 7, 'cost': 4, 'indian food': 5, 'mexican food': 4, 'hipster points': 7, 'vegetarian': 6}],\n",
              "       ['Sarah',\n",
              "        {'willingness to travel': 7, 'desire for new experience': 5, 'cost': 3, 'indian food': 6, 'mexican food': 3, 'hipster points': 5, 'vegetarian': 5}],\n",
              "       ['Rebekka',\n",
              "        {'willingness to travel': 8, 'desire for new experience': 4, 'cost': 5, 'indian food': 7, 'mexican food': 3, 'hipster points': 4, 'vegetarian': 4}],\n",
              "       ['Esi',\n",
              "        {'willingness to travel': 9, 'desire for new experience': 6, 'cost': 6, 'indian food': 8, 'mexican food': 9, 'hipster points': 3, 'vegetarian': 3}],\n",
              "       ['Berbel',\n",
              "        {'willingness to travel': 8, 'desire for new experience': 8, 'cost': 7, 'indian food': 6, 'mexican food': 9, 'hipster points': 2, 'vegetarian': 3}],\n",
              "       ['Danna',\n",
              "        {'willingness to travel': 6, 'desire for new experience': 9, 'cost': 8, 'indian food': 4, 'mexican food': 9, 'hipster points': 1, 'vegetarian': 2}]],\n",
              "      dtype=object)"
            ]
          },
          "metadata": {},
          "execution_count": 21
        }
      ]
    },
    {
      "cell_type": "markdown",
      "source": [
        "2.  Next you collected data from an internet website. You got the following information.\n",
        "\n",
        "restaurants  = {'flacos':{'distance' :\n",
        "                        'novelty' :\n",
        "                        'cost':\n",
        "                        'average rating':\n",
        "                        'cuisine':\n",
        "                        'vegetarian':}}"
      ],
      "metadata": {
        "id": "vBYC36qTNY8r"
      }
    },
    {
      "cell_type": "code",
      "source": [
        "restaurants  = {'flacos':{'distance' : 8, 'novelty' : 9, 'cost': 7, 'average rating':4,  'cuisine':'indian food','vegetarian':3},\n",
        "                'chipotles':{'distance' :10, 'novelty' : 4, 'cost': 3, 'average rating':7,  'cuisine':'mexican food','vegetarian':3},\n",
        "\n",
        "                }"
      ],
      "metadata": {
        "id": "Tv08DUzTPHQZ"
      },
      "execution_count": 25,
      "outputs": []
    },
    {
      "cell_type": "code",
      "source": [
        "result = restaurants.items()\n",
        "\n",
        "# Convert object to a list\n",
        "data = list(result)\n",
        "\n",
        "# Convert list to an array\n",
        "M_resturants = np.array(data)"
      ],
      "metadata": {
        "id": "yicbImyp2MD0"
      },
      "execution_count": 26,
      "outputs": []
    },
    {
      "cell_type": "markdown",
      "source": [
        "3. Transform the restaurant data into a matrix (M_resturants) using the same column index.\n",
        "\n"
      ],
      "metadata": {
        "id": "RH4R1gDcNB2C"
      }
    },
    {
      "cell_type": "code",
      "source": [
        "M_resturants"
      ],
      "metadata": {
        "colab": {
          "base_uri": "https://localhost:8080/"
        },
        "id": "AXZUm6Z02ZFs",
        "outputId": "18ee7da8-4863-4460-e97c-b3969a56cf8b"
      },
      "execution_count": 24,
      "outputs": [
        {
          "output_type": "execute_result",
          "data": {
            "text/plain": [
              "array([['flacos',\n",
              "        {'distance': 8, 'novelty': 9, 'cost': 7, 'average rating': 4, 'cuisine': 8, 'vegetarian': 3}]],\n",
              "      dtype=object)"
            ]
          },
          "metadata": {},
          "execution_count": 24
        }
      ]
    },
    {
      "cell_type": "markdown",
      "source": [
        "4. The most important idea in this project is the idea of a linear combination. Informally describe what a linear combination is  and how it will relate to our restaurant matrix.\n",
        "\n"
      ],
      "metadata": {
        "id": "LF1qCltpNDsq"
      }
    },
    {
      "cell_type": "markdown",
      "source": [
        "5. Choose a person and compute (using a linear combination) the top restaurant for them.  What does each entry in the resulting vector represent?\n",
        "\n"
      ],
      "metadata": {
        "id": "w_wLsHHBNFl4"
      }
    },
    {
      "cell_type": "code",
      "source": [
        "M_people[M_people[:,0]=='Danna']"
      ],
      "metadata": {
        "colab": {
          "base_uri": "https://localhost:8080/"
        },
        "id": "a4hNgcEm8AhR",
        "outputId": "d524ff7a-4ae1-432e-c423-f9a32c0d3fc4"
      },
      "execution_count": 29,
      "outputs": [
        {
          "output_type": "execute_result",
          "data": {
            "text/plain": [
              "array([['Danna',\n",
              "        {'willingness to travel': 6, 'desire for new experience': 9, 'cost': 8, 'indian food': 4, 'mexican food': 9, 'hipster points': 1, 'vegetarian': 2}]],\n",
              "      dtype=object)"
            ]
          },
          "metadata": {},
          "execution_count": 29
        }
      ]
    },
    {
      "cell_type": "markdown",
      "source": [
        "6. Next, compute a new matrix (M_usr_x_rest  i.e. an user by restaurant) from all people.  What does the a_ij matrix represent?  Sum all columns in M_usr_x_rest to get the optimal restaurant for all users.  What do the entries represent?\n",
        "\n"
      ],
      "metadata": {
        "id": "frAMpcVqNHJ9"
      }
    },
    {
      "cell_type": "markdown",
      "source": [
        "7. Now convert each row in the M_usr_x_rest into a ranking for each user and call it M_usr_x_rest_rank.   Do the same as above to generate the optimal restaurant choice.  \n",
        "\n"
      ],
      "metadata": {
        "id": "hs5uOw3gNIrQ"
      }
    },
    {
      "cell_type": "markdown",
      "source": [
        "8. Why is there a difference between the two?  What problem arrives?  What does it represent in the real world?\n",
        "\n"
      ],
      "metadata": {
        "id": "Mdn_S6EZNKxN"
      }
    },
    {
      "cell_type": "markdown",
      "source": [
        "9. How should you preprocess your data to remove this problem?\n",
        "\n"
      ],
      "metadata": {
        "id": "o3vxznMXNMaN"
      }
    },
    {
      "cell_type": "markdown",
      "source": [
        "10. Find  user profiles that are problematic, explain why?\n",
        "\n"
      ],
      "metadata": {
        "id": "e07SfgmmNOAo"
      }
    },
    {
      "cell_type": "markdown",
      "source": [
        "11. Think of two metrics to compute the disatistifaction with the group.  \n",
        "\n"
      ],
      "metadata": {
        "id": "h1CeFuMYNPhV"
      }
    },
    {
      "cell_type": "markdown",
      "source": [
        "12. Based on this dissatisfaction metric, should you split into two groups today?\n",
        "\n"
      ],
      "metadata": {
        "id": "zWPvBYhTNRHA"
      }
    },
    {
      "cell_type": "markdown",
      "source": [
        "13. Ok. Now you just found out the boss is paying for the meal. How should you adjust? Now what is the best restaurant?\n",
        "\n"
      ],
      "metadata": {
        "id": "n7e4BAmKNSaG"
      }
    },
    {
      "cell_type": "markdown",
      "source": [
        "14. Tomorrow you visit another team. You have the same restaurants and they told you their optimal ordering for restaurants. Can you find their weight matrix?"
      ],
      "metadata": {
        "id": "ZJ-aJ8SKNUnA"
      }
    },
    {
      "cell_type": "code",
      "execution_count": null,
      "metadata": {
        "id": "khx8s5v_M-nD"
      },
      "outputs": [],
      "source": []
    }
  ]
}